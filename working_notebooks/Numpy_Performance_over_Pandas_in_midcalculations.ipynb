{
 "cells": [
  {
   "cell_type": "code",
   "execution_count": 1,
   "metadata": {},
   "outputs": [],
   "source": [
    "import segregation"
   ]
  },
  {
   "cell_type": "code",
   "execution_count": 34,
   "metadata": {},
   "outputs": [],
   "source": [
    "import time"
   ]
  },
  {
   "cell_type": "code",
   "execution_count": 4,
   "metadata": {},
   "outputs": [],
   "source": [
    "import geopandas as gpd\n",
    "import libpysal"
   ]
  },
  {
   "cell_type": "markdown",
   "metadata": {},
   "source": [
    "# Comparing the Dissimilarity "
   ]
  },
  {
   "cell_type": "code",
   "execution_count": 5,
   "metadata": {},
   "outputs": [],
   "source": [
    "from segregation.dissimilarity import Dissim"
   ]
  },
  {
   "cell_type": "code",
   "execution_count": 201,
   "metadata": {},
   "outputs": [],
   "source": [
    "\"\"\"\n",
    "Dissimilarity based Segregation Metrics\n",
    "\"\"\"\n",
    "\n",
    "__author__ = \"Renan X. Cortes <renanc@ucr.edu> and Sergio J. Rey <sergio.rey@ucr.edu>\"\n",
    "\n",
    "import numpy as np\n",
    "import pandas as pd\n",
    "\n",
    "__all__ = ['Dissim']\n",
    "\n",
    "\n",
    "def _dissim(data, group_pop_var, total_pop_var):\n",
    "    \"\"\"\n",
    "    Calculation of Dissimilarity index\n",
    "\n",
    "    Parameters\n",
    "    ----------\n",
    "\n",
    "    data          : a pandas DataFrame\n",
    "    \n",
    "    group_pop_var : string\n",
    "                    The name of variable in data that contains the population size of the group of interest\n",
    "                    \n",
    "    total_pop_var : string\n",
    "                    The name of variable in data that contains the total population of the unit\n",
    "\n",
    "    Attributes\n",
    "    ----------\n",
    "\n",
    "    statistic : float\n",
    "                Dissimilarity Index\n",
    "                \n",
    "    core_data : a pandas DataFrame\n",
    "                A pandas DataFrame that contains the columns used to perform the estimate.\n",
    "\n",
    "    Notes\n",
    "    -----\n",
    "    Based on Massey, Douglas S., and Nancy A. Denton. \"The dimensions of residential segregation.\" Social forces 67.2 (1988): 281-315.\n",
    "\n",
    "    \"\"\"\n",
    "    if((type(group_pop_var) is not str) or (type(total_pop_var) is not str)):\n",
    "        raise TypeError('group_pop_var and total_pop_var must be strings')\n",
    "    \n",
    "    if ((group_pop_var not in data.columns) or (total_pop_var not in data.columns)):    \n",
    "        raise ValueError('group_pop_var and total_pop_var must be variables of data')\n",
    "        \n",
    "    data = data.rename(columns={group_pop_var: 'group_pop_var', \n",
    "                                total_pop_var: 'total_pop_var'})\n",
    "    \n",
    "    if any(data.total_pop_var < data.group_pop_var):    \n",
    "        raise ValueError('Group of interest population must equal or lower than the total population of the units.')\n",
    "    \n",
    "    t = np.array(data.total_pop_var)\n",
    "    g = np.array(data.group_pop_var)\n",
    "    \n",
    "    T = t.sum()\n",
    "    P = g.sum() / T\n",
    "    \n",
    "    # If a unit has zero population, the group of interest frequency is zero\n",
    "    pi = np.where(t == 0, 0, g/t)\n",
    "    \n",
    "    D = (((t * abs(pi - P)))/ (2 * T * P * (1 - P))).sum()\n",
    "    \n",
    "    core_data = data[['group_pop_var', 'total_pop_var']]\n",
    "    \n",
    "    return D, core_data\n",
    "\n",
    "\n",
    "class Dissim_Numpy:\n",
    "    \"\"\"\n",
    "    Classic Dissimilarity Index\n",
    "\n",
    "    Parameters\n",
    "    ----------\n",
    "\n",
    "    data          : a pandas DataFrame\n",
    "    \n",
    "    group_pop_var : string\n",
    "                    The name of variable in data that contains the population size of the group of interest\n",
    "                    \n",
    "    total_pop_var : string\n",
    "                    The name of variable in data that contains the total population of the unit\n",
    "\n",
    "    Attributes\n",
    "    ----------\n",
    "\n",
    "    statistic : float\n",
    "                Dissimilarity Index\n",
    "        \n",
    "    core_data : a pandas DataFrame\n",
    "                A pandas DataFrame that contains the columns used to perform the estimate. \n",
    "        \n",
    "    Examples\n",
    "    --------\n",
    "    In this example, we will calculate the degree of dissimilarity (D) for the Riverside County using the census tract data of 2010.\n",
    "    The group of interest is non-hispanic black people which is the variable nhblk10 in the dataset.\n",
    "    \n",
    "    Firstly, we need to read the data:\n",
    "    \n",
    "    >>> This example uses all census data that the user must provide your own copy of the external database.\n",
    "    >>> A step-by-step procedure for downloading the data can be found here: https://github.com/spatialucr/osnap/tree/master/osnap/data.\n",
    "    >>> After the user download the LTDB_Std_All_fullcount.zip and extract the files, the filepath might be something like presented below.\n",
    "    >>> filepath = '~/data/std_2010_fullcount.csv'\n",
    "    >>> census_2010 = pd.read_csv(filepath, encoding = \"ISO-8859-1\", sep = \",\")\n",
    "    \n",
    "    Then, we filter only for the desired county (in this case, Riverside County):\n",
    "    \n",
    "    >>> df = census_2010.loc[census_2010.county == \"Riverside County\"][['pop10','nhblk10']]\n",
    "    \n",
    "    The value is estimated below.\n",
    "    \n",
    "    >>> dissim_index = Dissim(df, 'nhblk10', 'pop10')\n",
    "    >>> dissim_index.statistic\n",
    "    0.31565682496226544\n",
    "    \n",
    "    The interpretation of this value is that 31.57% of the non-hispanic black population would have to move to reach eveness in the Riverside County.\n",
    "        \n",
    "    Notes\n",
    "    -----\n",
    "    Based on Massey, Douglas S., and Nancy A. Denton. \"The dimensions of residential segregation.\" Social forces 67.2 (1988): 281-315.\n",
    "\n",
    "    \"\"\"\n",
    "\n",
    "    def __init__(self, data, group_pop_var, total_pop_var):\n",
    "        \n",
    "        aux = _dissim(data, group_pop_var, total_pop_var)\n",
    "\n",
    "        self.statistic = aux[0]\n",
    "        self.core_data = aux[1]\n",
    "        self._function = _dissim"
   ]
  },
  {
   "cell_type": "code",
   "execution_count": 1095,
   "metadata": {},
   "outputs": [
    {
     "name": "stdout",
     "output_type": "stream",
     "text": [
      "Wall time: 46.9 ms\n"
     ]
    }
   ],
   "source": [
    "%%time\n",
    "s_map = gpd.read_file(libpysal.examples.get_path(\"sacramentot2.shp\"))\n",
    "df = s_map[['geometry', 'HISP_', 'TOT_POP']]\n",
    "index1 = Dissim(df, 'HISP_', 'TOT_POP')"
   ]
  },
  {
   "cell_type": "code",
   "execution_count": 212,
   "metadata": {},
   "outputs": [
    {
     "name": "stdout",
     "output_type": "stream",
     "text": [
      "Wall time: 47.9 ms\n"
     ]
    }
   ],
   "source": [
    "%%time\n",
    "s_map = gpd.read_file(libpysal.examples.get_path(\"sacramentot2.shp\"))\n",
    "df = s_map[['geometry', 'HISP_', 'TOT_POP']]\n",
    "index2 = Dissim_Numpy(df, 'HISP_', 'TOT_POP')"
   ]
  },
  {
   "cell_type": "code",
   "execution_count": 213,
   "metadata": {},
   "outputs": [],
   "source": [
    "s_map = gpd.read_file(libpysal.examples.get_path(\"sacramentot2.shp\"))\n",
    "df = s_map[['geometry', 'HISP_', 'TOT_POP']]"
   ]
  },
  {
   "cell_type": "code",
   "execution_count": 214,
   "metadata": {},
   "outputs": [],
   "source": [
    "aux = np.empty(500)\n",
    "for i in range(500):\n",
    "    t1 = time.time()\n",
    "    index1 = Dissim(df, 'HISP_', 'TOT_POP')\n",
    "    t2 = time.time()\n",
    "    aux[i] = t2-t1"
   ]
  },
  {
   "cell_type": "code",
   "execution_count": 215,
   "metadata": {},
   "outputs": [],
   "source": [
    "aux2 = np.empty(500)\n",
    "for i in range(500):\n",
    "    t1 = time.time()\n",
    "    index1 = Dissim_Numpy(df, 'HISP_', 'TOT_POP')\n",
    "    t2 = time.time()\n",
    "    aux2[i] = t2-t1"
   ]
  },
  {
   "cell_type": "code",
   "execution_count": 216,
   "metadata": {},
   "outputs": [],
   "source": [
    "import matplotlib.pyplot as plt"
   ]
  },
  {
   "cell_type": "code",
   "execution_count": 217,
   "metadata": {},
   "outputs": [
    {
     "data": {
      "text/plain": [
       "0.0020426054000854494"
      ]
     },
     "execution_count": 217,
     "metadata": {},
     "output_type": "execute_result"
    }
   ],
   "source": [
    "aux.mean()"
   ]
  },
  {
   "cell_type": "code",
   "execution_count": 218,
   "metadata": {},
   "outputs": [
    {
     "data": {
      "text/plain": [
       "0.0009714126586914063"
      ]
     },
     "execution_count": 218,
     "metadata": {},
     "output_type": "execute_result"
    }
   ],
   "source": [
    "aux2.mean()"
   ]
  },
  {
   "cell_type": "code",
   "execution_count": 219,
   "metadata": {},
   "outputs": [
    {
     "data": {
      "image/png": "[encoded data removed]",
      "text/plain": [
       "<Figure size 432x288 with 1 Axes>"
      ]
     },
     "metadata": {},
     "output_type": "display_data"
    }
   ],
   "source": [
    "plt.hist(aux, bins='auto')\n",
    "plt.show()"
   ]
  },
  {
   "cell_type": "code",
   "execution_count": 220,
   "metadata": {},
   "outputs": [
    {
     "data": {
      "image/png": "[encoded data removed]",
      "text/plain": [
       "<Figure size 432x288 with 1 Axes>"
      ]
     },
     "metadata": {},
     "output_type": "display_data"
    }
   ],
   "source": [
    "plt.hist(aux2, bins='auto')\n",
    "plt.show()"
   ]
  },
  {
   "cell_type": "code",
   "execution_count": 221,
   "metadata": {},
   "outputs": [
    {
     "data": {
      "text/plain": [
       "0.32184656076566864"
      ]
     },
     "execution_count": 221,
     "metadata": {},
     "output_type": "execute_result"
    }
   ],
   "source": [
    "index1.statistic"
   ]
  },
  {
   "cell_type": "code",
   "execution_count": 222,
   "metadata": {},
   "outputs": [
    {
     "data": {
      "text/plain": [
       "0.32184656076566864"
      ]
     },
     "execution_count": 222,
     "metadata": {},
     "output_type": "execute_result"
    }
   ],
   "source": [
    "index2.statistic"
   ]
  },
  {
   "cell_type": "markdown",
   "metadata": {},
   "source": [
    "# Concentration Profile Numpy Comparison"
   ]
  },
  {
   "cell_type": "code",
   "execution_count": 83,
   "metadata": {},
   "outputs": [],
   "source": [
    "from segregation.conprof import Con_Prof"
   ]
  },
  {
   "cell_type": "code",
   "execution_count": null,
   "metadata": {},
   "outputs": [],
   "source": [
    "\"\"\"\n",
    "Concentration Profile based Segregation Metrics\n",
    "\"\"\"\n",
    "\n",
    "__author__ = \"Renan X. Cortes <renanc@ucr.edu> and Sergio J. Rey <sergio.rey@ucr.edu>\"\n",
    "\n",
    "import numpy as np\n",
    "import pandas as pd\n",
    "import warnings\n",
    "\n",
    "__all__ = ['Con_Prof']\n",
    "\n",
    "\n",
    "def _conprof(data, group_pop_var, total_pop_var, m = 1000):\n",
    "    \"\"\"\n",
    "    Calculation of Concentration Profile\n",
    "\n",
    "    Parameters\n",
    "    ----------\n",
    "\n",
    "    data          : a pandas DataFrame\n",
    "    \n",
    "    group_pop_var : string\n",
    "                    The name of variable in data that contains the population size of the group of interest\n",
    "                    \n",
    "    total_pop_var : string\n",
    "                    The name of variable in data that contains the total population of the unit\n",
    "                    \n",
    "    m             : int\n",
    "                    a numeric value indicating the number of thresholds to be used. Default value is 1000. \n",
    "                    A large value of m creates a smoother-looking graph and a more precise concentration profile value but slows down the calculation speed.\n",
    "\n",
    "    Attributes\n",
    "    ----------\n",
    "\n",
    "    statistic : float\n",
    "                Concentration Profile Index\n",
    "                \n",
    "    core_data : a pandas DataFrame\n",
    "                A pandas DataFrame that contains the columns used to perform the estimate. \n",
    "\n",
    "    Notes\n",
    "    -----\n",
    "    Based on Hong, Seong-Yun, and Yukio Sadahiro. \"Measuring geographic segregation: a graph-based approach.\" Journal of Geographical Systems 16.2 (2014): 211-231.\n",
    "\n",
    "    \"\"\"\n",
    "    if(type(m) is not int):\n",
    "        raise TypeError('m must be a string.')\n",
    "        \n",
    "    if(m < 2):\n",
    "        raise ValueError('m must be greater than 1.')\n",
    "    \n",
    "    if((type(group_pop_var) is not str) or (type(total_pop_var) is not str)):\n",
    "        raise TypeError('group_pop_var and total_pop_var must be strings')\n",
    "    \n",
    "    if ((group_pop_var not in data.columns) or (total_pop_var not in data.columns)):    \n",
    "        raise ValueError('group_pop_var and total_pop_var must be variables of data')\n",
    "\n",
    "    data = data.rename(columns={group_pop_var: 'group_pop_var', \n",
    "                                total_pop_var: 'total_pop_var'})\n",
    "    \n",
    "    g = np.array(data.group_pop_var)\n",
    "    t = np.array(data.total_pop_var)\n",
    "    \n",
    "    if any(t < g):    \n",
    "        raise ValueError('Group of interest population must equal or lower than the total population of the units.')\n",
    "   \n",
    "    def calculate_vt(th):\n",
    "        g_t_i = np.where(g / t >= th, 1, 0)\n",
    "        v_t = (g_t_i * g).sum() / g.sum()\n",
    "        return v_t\n",
    "    \n",
    "    grid = np.linspace(0, 1, m)\n",
    "    curve = np.array(list(map(calculate_vt, grid)))\n",
    "    \n",
    "    threshold = g.sum() / t.sum()\n",
    "    R = ((threshold - ((curve[grid < threshold]).sum() / m - (curve[grid >= threshold]).sum()/ m)) / (1 - threshold))\n",
    "    \n",
    "    core_data = data[['group_pop_var', 'total_pop_var']]\n",
    "    \n",
    "    return R, grid, curve, core_data\n",
    "\n",
    "\n",
    "class Con_Prof_Numpy:\n",
    "    \"\"\"\n",
    "    Concentration Profile Index\n",
    "\n",
    "    Parameters\n",
    "    ----------\n",
    "\n",
    "    data          : a pandas DataFrame\n",
    "    \n",
    "    group_pop_var : string\n",
    "                    The name of variable in data that contains the population size of the group of interest\n",
    "                    \n",
    "    total_pop_var : string\n",
    "                    The name of variable in data that contains the total population of the unit\n",
    "                    \n",
    "    m             : int\n",
    "                    a numeric value indicating the number of thresholds to be used. \n",
    "                    A large value of m creates a smoother-looking graph and a more precise concentration profile value but slows down the calculation speed.\n",
    "\n",
    "    Attributes\n",
    "    ----------\n",
    "\n",
    "    statistic : float\n",
    "                Concentration Profile Index\n",
    "                \n",
    "    core_data : a pandas DataFrame\n",
    "                A pandas DataFrame that contains the columns used to perform the estimate. \n",
    "        \n",
    "    Examples\n",
    "    --------\n",
    "    In this example, we will calculate the concentration profile (R) for the Riverside County using the census tract data of 2010.\n",
    "    The group of interest is non-hispanic black people which is the variable nhblk10 in the dataset.\n",
    "    \n",
    "    Firstly, we need to read the data:\n",
    "    \n",
    "    >>> This example uses all census data that the user must provide your own copy of the external database.\n",
    "    >>> A step-by-step procedure for downloading the data can be found here: https://github.com/spatialucr/osnap/tree/master/osnap/data.\n",
    "    >>> After the user download the LTDB_Std_All_fullcount.zip and extract the files, the filepath might be something like presented below.\n",
    "    >>> filepath = '~/data/std_2010_fullcount.csv'\n",
    "    >>> census_2010 = pd.read_csv(filepath, encoding = \"ISO-8859-1\", sep = \",\")\n",
    "    \n",
    "    Then, we filter only for the desired county (in this case, Riverside County):\n",
    "    \n",
    "    >>> df = census_2010.loc[census_2010.county == \"Riverside County\"][['pop10','nhblk10']]\n",
    "    \n",
    "    The value is estimated below.\n",
    "    \n",
    "    >>> conprof_index = Con_Prof(df, 'nhblk10', 'pop10')\n",
    "    >>> conprof_index.statistic\n",
    "    0.06393365660089256\n",
    "    \n",
    "    You can plot the profile curve with the plot method.\n",
    "    \n",
    "    >>> conprof_index.plot()\n",
    "        \n",
    "    Notes\n",
    "    -----\n",
    "    Based on Hong, Seong-Yun, and Yukio Sadahiro. \"Measuring geographic segregation: a graph-based approach.\" Journal of Geographical Systems 16.2 (2014): 211-231.\n",
    "\n",
    "    \"\"\"\n",
    "\n",
    "    def __init__(self, data, group_pop_var, total_pop_var, m = 1000):\n",
    "        \n",
    "        aux = _conprof(data, group_pop_var, total_pop_var, m)\n",
    "\n",
    "        self.statistic = aux[0]\n",
    "        self.grid      = aux[1]\n",
    "        self.curve     = aux[2]\n",
    "        self.core_data = aux[3]\n",
    "        self._function = _conprof\n",
    "\n",
    "    def plot(self):\n",
    "        \"\"\"\n",
    "        Plot the Concentration Profile\n",
    "        \"\"\"\n",
    "        try:\n",
    "            import matplotlib.pyplot as plt\n",
    "        except ImportError:\n",
    "            warnings.warn('This method relies on importing `matplotlib`')\n",
    "        graph = plt.scatter(self.grid, self.curve, s = 0.1)\n",
    "        return graph"
   ]
  },
  {
   "cell_type": "code",
   "execution_count": 127,
   "metadata": {},
   "outputs": [],
   "source": [
    "aux = np.empty(200)\n",
    "for i in range(200):\n",
    "    t1 = time.time()\n",
    "    index1 = Con_Prof(df, 'HISP_', 'TOT_POP')\n",
    "    t2 = time.time()\n",
    "    aux[i] = t2-t1"
   ]
  },
  {
   "cell_type": "code",
   "execution_count": 128,
   "metadata": {},
   "outputs": [],
   "source": [
    "aux2 = np.empty(200)\n",
    "for i in range(200):\n",
    "    t1 = time.time()\n",
    "    index1 = Con_Prof_Numpy(df, 'HISP_', 'TOT_POP')\n",
    "    t2 = time.time()\n",
    "    aux2[i] = t2-t1"
   ]
  },
  {
   "cell_type": "code",
   "execution_count": 129,
   "metadata": {},
   "outputs": [
    {
     "data": {
      "text/plain": [
       "0.442239727973938"
      ]
     },
     "execution_count": 129,
     "metadata": {},
     "output_type": "execute_result"
    }
   ],
   "source": [
    "aux.mean()"
   ]
  },
  {
   "cell_type": "code",
   "execution_count": 130,
   "metadata": {},
   "outputs": [
    {
     "data": {
      "text/plain": [
       "0.011630864143371581"
      ]
     },
     "execution_count": 130,
     "metadata": {},
     "output_type": "execute_result"
    }
   ],
   "source": [
    "aux2.mean()"
   ]
  },
  {
   "cell_type": "code",
   "execution_count": 131,
   "metadata": {},
   "outputs": [
    {
     "data": {
      "image/png": "[encoded data removed]",
      "text/plain": [
       "<Figure size 432x288 with 1 Axes>"
      ]
     },
     "metadata": {},
     "output_type": "display_data"
    }
   ],
   "source": [
    "plt.hist(aux, bins='auto')\n",
    "plt.show()"
   ]
  },
  {
   "cell_type": "code",
   "execution_count": 132,
   "metadata": {},
   "outputs": [
    {
     "data": {
      "image/png": "[encoded data removed]",
      "text/plain": [
       "<Figure size 432x288 with 1 Axes>"
      ]
     },
     "metadata": {},
     "output_type": "display_data"
    }
   ],
   "source": [
    "plt.hist(aux2, bins='auto')\n",
    "plt.show()"
   ]
  },
  {
   "cell_type": "code",
   "execution_count": 102,
   "metadata": {},
   "outputs": [],
   "source": [
    "index1 = Con_Prof(df, 'HISP_', 'TOT_POP')\n",
    "index2 = Con_Prof_Numpy(df, 'HISP_', 'TOT_POP')"
   ]
  },
  {
   "cell_type": "code",
   "execution_count": 104,
   "metadata": {},
   "outputs": [
    {
     "data": {
      "text/plain": [
       "0.1376874794741899"
      ]
     },
     "execution_count": 104,
     "metadata": {},
     "output_type": "execute_result"
    }
   ],
   "source": [
    "index1.statistic"
   ]
  },
  {
   "cell_type": "code",
   "execution_count": 105,
   "metadata": {},
   "outputs": [
    {
     "data": {
      "text/plain": [
       "0.1376874794741899"
      ]
     },
     "execution_count": 105,
     "metadata": {},
     "output_type": "execute_result"
    }
   ],
   "source": [
    "index2.statistic"
   ]
  },
  {
   "cell_type": "code",
   "execution_count": 117,
   "metadata": {},
   "outputs": [],
   "source": [
    "import scipy"
   ]
  },
  {
   "cell_type": "code",
   "execution_count": 118,
   "metadata": {},
   "outputs": [
    {
     "data": {
      "text/plain": [
       "Ttest_indResult(statistic=41.34479337376691, pvalue=3.9658737394686736e-146)"
      ]
     },
     "execution_count": 118,
     "metadata": {},
     "output_type": "execute_result"
    }
   ],
   "source": [
    "from scipy import stats\n",
    "scipy.stats.ttest_ind(aux, aux2)"
   ]
  },
  {
   "cell_type": "markdown",
   "metadata": {},
   "source": [
    "# Comparing Gini_Seg with Numpy"
   ]
  },
  {
   "cell_type": "code",
   "execution_count": 119,
   "metadata": {},
   "outputs": [],
   "source": [
    "from segregation.gini_seg import Gini_Seg"
   ]
  },
  {
   "cell_type": "code",
   "execution_count": 133,
   "metadata": {},
   "outputs": [],
   "source": [
    "\"\"\"\n",
    "Gini Segregation Metrics\n",
    "\"\"\"\n",
    "\n",
    "__author__ = \"Renan X. Cortes <renanc@ucr.edu> and Sergio J. Rey <sergio.rey@ucr.edu>\"\n",
    "\n",
    "import numpy as np\n",
    "import pandas as pd\n",
    "\n",
    "__all__ = ['Gini_Seg']\n",
    "\n",
    "\n",
    "def _gini_seg(data, group_pop_var, total_pop_var):\n",
    "    \"\"\"\n",
    "    Calculation of Gini Segregation index\n",
    "\n",
    "    Parameters\n",
    "    ----------\n",
    "\n",
    "    data          : a pandas DataFrame\n",
    "    \n",
    "    group_pop_var : string\n",
    "                    The name of variable in data that contains the population size of the group of interest\n",
    "                    \n",
    "    total_pop_var : string\n",
    "                    The name of variable in data that contains the total population of the unit\n",
    "\n",
    "    Attributes\n",
    "    ----------\n",
    "\n",
    "    statistic : float\n",
    "                Gini Segregation Index\n",
    "                \n",
    "    core_data : a pandas DataFrame\n",
    "                A pandas DataFrame that contains the columns used to perform the estimate. \n",
    "                \n",
    "    Notes\n",
    "    -----\n",
    "    Based on Massey, Douglas S., and Nancy A. Denton. \"The dimensions of residential segregation.\" Social forces 67.2 (1988): 281-315.\n",
    "\n",
    "    \"\"\"\n",
    "    if((type(group_pop_var) is not str) or (type(total_pop_var) is not str)):\n",
    "        raise TypeError('group_pop_var and total_pop_var must be strings')\n",
    "    \n",
    "    if ((group_pop_var not in data.columns) or (total_pop_var not in data.columns)):    \n",
    "        raise ValueError('group_pop_var and total_pop_var must be variables of data')\n",
    "    \n",
    "    data = data.rename(columns={group_pop_var: 'group_pop_var', \n",
    "                                total_pop_var: 'total_pop_var'})\n",
    "    \n",
    "    g = np.array(data.group_pop_var)\n",
    "    t = np.array(data.total_pop_var)\n",
    "    \n",
    "    if any(t < g):    \n",
    "        raise ValueError('Group of interest population must equal or lower than the total population of the units.')\n",
    "   \n",
    "    T = t.sum()\n",
    "    P = g.sum() / T\n",
    "    \n",
    "    # If a unit has zero population, the group of interest frequency is zero   \n",
    "    pi = np.where(t == 0, 0, g / t)\n",
    "    \n",
    "    num = (np.matmul(t[np.newaxis].T, t[np.newaxis]) * abs(pi[np.newaxis].T - pi[np.newaxis])).sum()\n",
    "    den = (2 * T**2 * P * (1-P))\n",
    "    G = num / den\n",
    "    \n",
    "    core_data = data[['group_pop_var', 'total_pop_var']]\n",
    "    \n",
    "    return G, core_data\n",
    "\n",
    "\n",
    "class Gini_Seg_Numpy:\n",
    "    \"\"\"\n",
    "    Classic Gini Segregation Index\n",
    "\n",
    "    Parameters\n",
    "    ----------\n",
    "\n",
    "    data          : a pandas DataFrame\n",
    "    \n",
    "    group_pop_var : string\n",
    "                    The name of variable in data that contains the population size of the group of interest\n",
    "                    \n",
    "    total_pop_var : string\n",
    "                    The name of variable in data that contains the total population of the unit\n",
    "\n",
    "    Attributes\n",
    "    ----------\n",
    "\n",
    "    statistic : float\n",
    "                Gini Segregation Index\n",
    "                \n",
    "    core_data : a pandas DataFrame\n",
    "                A pandas DataFrame that contains the columns used to perform the estimate. \n",
    "                \n",
    "    Examples\n",
    "    --------\n",
    "    In this example, we will calculate the Gini Segregation Index (G) for the Riverside County using the census tract data of 2010.\n",
    "    The group of interest is non-hispanic black people which is the variable nhblk10 in the dataset.\n",
    "    \n",
    "    Firstly, we need to read the data:\n",
    "    \n",
    "    >>> This example uses all census data that the user must provide your own copy of the external database.\n",
    "    >>> A step-by-step procedure for downloading the data can be found here: https://github.com/spatialucr/osnap/tree/master/osnap/data.\n",
    "    >>> After the user download the LTDB_Std_All_fullcount.zip and extract the files, the filepath might be something like presented below.\n",
    "    >>> filepath = '~/data/std_2010_fullcount.csv'\n",
    "    >>> census_2010 = pd.read_csv(filepath, encoding = \"ISO-8859-1\", sep = \",\")\n",
    "    \n",
    "    Then, we filter only for the desired county (in this case, Riverside County):\n",
    "    \n",
    "    >>> df = census_2010.loc[census_2010.county == \"Riverside County\"][['pop10','nhblk10']]\n",
    "    \n",
    "    The value is estimated below.\n",
    "    \n",
    "    >>> gini_seg_index = Gini_Seg(df, 'nhblk10', 'pop10')\n",
    "    >>> gini_seg_index.statistic\n",
    "    0.44620350030600087\n",
    "       \n",
    "    Notes\n",
    "    -----\n",
    "    Based on Massey, Douglas S., and Nancy A. Denton. \"The dimensions of residential segregation.\" Social forces 67.2 (1988): 281-315.\n",
    "\n",
    "    \"\"\"\n",
    "\n",
    "    def __init__(self, data, group_pop_var, total_pop_var):\n",
    "        \n",
    "        aux = _gini_seg(data, group_pop_var, total_pop_var)\n",
    "\n",
    "        self.statistic = aux[0]\n",
    "        self.core_data = aux[1]\n",
    "        self._function = _gini_seg\n"
   ]
  },
  {
   "cell_type": "code",
   "execution_count": 145,
   "metadata": {},
   "outputs": [],
   "source": [
    "aux = np.empty(2000)\n",
    "for i in range(2000):\n",
    "    t1 = time.time()\n",
    "    index1 = Gini_Seg(df, 'HISP_', 'TOT_POP')\n",
    "    t2 = time.time()\n",
    "    aux[i] = t2-t1"
   ]
  },
  {
   "cell_type": "code",
   "execution_count": 146,
   "metadata": {},
   "outputs": [],
   "source": [
    "aux2 = np.empty(2000)\n",
    "for i in range(2000):\n",
    "    t1 = time.time()\n",
    "    index1 = Gini_Seg_Numpy(df, 'HISP_', 'TOT_POP')\n",
    "    t2 = time.time()\n",
    "    aux2[i] = t2-t1"
   ]
  },
  {
   "cell_type": "code",
   "execution_count": 147,
   "metadata": {},
   "outputs": [],
   "source": [
    "index1 = Gini_Seg(df, 'HISP_', 'TOT_POP')\n",
    "index2 = Gini_Seg_Numpy(df, 'HISP_', 'TOT_POP')"
   ]
  },
  {
   "cell_type": "code",
   "execution_count": 148,
   "metadata": {},
   "outputs": [
    {
     "data": {
      "text/plain": [
       "0.43506510676886234"
      ]
     },
     "execution_count": 148,
     "metadata": {},
     "output_type": "execute_result"
    }
   ],
   "source": [
    "index1.statistic"
   ]
  },
  {
   "cell_type": "code",
   "execution_count": 149,
   "metadata": {},
   "outputs": [
    {
     "data": {
      "text/plain": [
       "0.43506510676886234"
      ]
     },
     "execution_count": 149,
     "metadata": {},
     "output_type": "execute_result"
    }
   ],
   "source": [
    "index2.statistic"
   ]
  },
  {
   "cell_type": "code",
   "execution_count": 150,
   "metadata": {},
   "outputs": [
    {
     "data": {
      "text/plain": [
       "0.004501140832901001"
      ]
     },
     "execution_count": 150,
     "metadata": {},
     "output_type": "execute_result"
    }
   ],
   "source": [
    "aux.mean()"
   ]
  },
  {
   "cell_type": "code",
   "execution_count": 151,
   "metadata": {},
   "outputs": [
    {
     "data": {
      "text/plain": [
       "0.0030850419998168944"
      ]
     },
     "execution_count": 151,
     "metadata": {},
     "output_type": "execute_result"
    }
   ],
   "source": [
    "aux2.mean()"
   ]
  },
  {
   "cell_type": "code",
   "execution_count": 152,
   "metadata": {},
   "outputs": [
    {
     "data": {
      "image/png": "[encoded data removed]",
      "text/plain": [
       "<Figure size 432x288 with 1 Axes>"
      ]
     },
     "metadata": {},
     "output_type": "display_data"
    }
   ],
   "source": [
    "plt.hist(aux, bins='auto')\n",
    "plt.show()"
   ]
  },
  {
   "cell_type": "code",
   "execution_count": 153,
   "metadata": {},
   "outputs": [
    {
     "data": {
      "image/png": "[encoded data removed]",
      "text/plain": [
       "<Figure size 432x288 with 1 Axes>"
      ]
     },
     "metadata": {},
     "output_type": "display_data"
    }
   ],
   "source": [
    "plt.hist(aux2, bins='auto')\n",
    "plt.show()"
   ]
  },
  {
   "cell_type": "code",
   "execution_count": 154,
   "metadata": {},
   "outputs": [
    {
     "data": {
      "text/plain": [
       "Ttest_indResult(statistic=7.172646158683575, pvalue=8.723146427009791e-13)"
      ]
     },
     "execution_count": 154,
     "metadata": {},
     "output_type": "execute_result"
    }
   ],
   "source": [
    "scipy.stats.ttest_ind(aux, aux2)"
   ]
  },
  {
   "cell_type": "markdown",
   "metadata": {},
   "source": [
    "# Comparing Atkinson"
   ]
  },
  {
   "cell_type": "code",
   "execution_count": 377,
   "metadata": {},
   "outputs": [],
   "source": [
    "from segregation.atkinson import Atkinson"
   ]
  },
  {
   "cell_type": "code",
   "execution_count": 378,
   "metadata": {},
   "outputs": [],
   "source": [
    "\"\"\"\n",
    "Atkinson Segregation Metrics\n",
    "\"\"\"\n",
    "\n",
    "__author__ = \"Renan X. Cortes <renanc@ucr.edu> and Sergio J. Rey <sergio.rey@ucr.edu>\"\n",
    "\n",
    "import numpy as np\n",
    "import pandas as pd\n",
    "\n",
    "__all__ = ['Atkinson']\n",
    "\n",
    "\n",
    "def _atkinson(data, group_pop_var, total_pop_var, b = 0.5):\n",
    "    \"\"\"\n",
    "    Calculation of Entropy index\n",
    "\n",
    "    Parameters\n",
    "    ----------\n",
    "\n",
    "    data          : a pandas DataFrame\n",
    "    \n",
    "    group_pop_var : string\n",
    "                    The name of variable in data that contains the population size of the group of interest\n",
    "                    \n",
    "    total_pop_var : string\n",
    "                    The name of variable in data that contains the total population of the unit\n",
    "                    \n",
    "    b             : float\n",
    "                    The shape parameter, between 0 and 1, that determines how to weight the increments to segregation contributed by different portions of the Lorenz curve.\n",
    "\n",
    "    Attributes\n",
    "    ----------\n",
    "\n",
    "    statistic : float\n",
    "                Atkinson Index\n",
    "    \n",
    "    core_data : a pandas DataFrame\n",
    "                A pandas DataFrame that contains the columns used to perform the estimate.\n",
    "\n",
    "    Notes\n",
    "    -----\n",
    "    Based on Massey, Douglas S., and Nancy A. Denton. \"The dimensions of residential segregation.\" Social forces 67.2 (1988): 281-315.\n",
    "\n",
    "    \"\"\"\n",
    "    if (not isinstance(b, float)):\n",
    "        raise ValueError('The parameter b must be a float.')\n",
    "        \n",
    "    if ((b < 0) or (b > 1)):\n",
    "        raise ValueError('The parameter b must be between 0 and 1.')\n",
    "        \n",
    "    if((type(group_pop_var) is not str) or (type(total_pop_var) is not str)):\n",
    "        raise TypeError('group_pop_var and total_pop_var must be strings')\n",
    "    \n",
    "    if ((group_pop_var not in data.columns) or (total_pop_var not in data.columns)):    \n",
    "        raise ValueError('group_pop_var and total_pop_var must be variables of data')\n",
    "\n",
    "    data = data.rename(columns={group_pop_var: 'group_pop_var', \n",
    "                                total_pop_var: 'total_pop_var'})\n",
    "    \n",
    "    g = np.array(data.group_pop_var)\n",
    "    t = np.array(data.total_pop_var)\n",
    "    \n",
    "    if any(t < g):    \n",
    "        raise ValueError('Group of interest population must equal or lower than the total population of the units.')\n",
    "   \n",
    "    T = t.sum()\n",
    "    P = g.sum() / T\n",
    "    \n",
    "    # If a unit has zero population, the group of interest frequency is zero\n",
    "    pi = np.where(t == 0, 0, g / t)\n",
    "    \n",
    "    A = 1 - (P / (1-P)) * abs((((1 - pi) ** (1-b) * pi ** b * t) / (P * T)).sum()) ** (1 / (1 - b))\n",
    "    \n",
    "    core_data = data[['group_pop_var', 'total_pop_var']]\n",
    "    \n",
    "    return A, core_data\n",
    "\n",
    "\n",
    "class Atkinson_Numpy:\n",
    "    \"\"\"\n",
    "    Classic Atkinson Index\n",
    "\n",
    "    Parameters\n",
    "    ----------\n",
    "\n",
    "    data          : a pandas DataFrame\n",
    "    \n",
    "    group_pop_var : string\n",
    "                    The name of variable in data that contains the population size of the group of interest\n",
    "                    \n",
    "    total_pop_var : string\n",
    "                    The name of variable in data that contains the total population of the unit\n",
    "\n",
    "    b             : float\n",
    "                    The shape parameter, between 0 and 1, that determines how to weight the increments to segregation contributed by different portions of the Lorenz curve.\n",
    "\n",
    "    Attributes\n",
    "    ----------\n",
    "\n",
    "    statistic : float\n",
    "                Atkison Index\n",
    "    \n",
    "    core_data : a pandas DataFrame\n",
    "            A pandas DataFrame that contains the columns used to perform the estimate.\n",
    "        \n",
    "    Examples\n",
    "    --------\n",
    "    In this example, we will calculate the Atkinson Index (A) with the shape parameter (b) equals to 0.5 for the Riverside County using the census tract data of 2010.\n",
    "    The group of interest is non-hispanic black people which is the variable nhblk10 in the dataset.\n",
    "    \n",
    "    Firstly, we need to read the data:\n",
    "    \n",
    "    >>> This example uses all census data that the user must provide your own copy of the external database.\n",
    "    >>> A step-by-step procedure for downloading the data can be found here: https://github.com/spatialucr/osnap/tree/master/osnap/data.\n",
    "    >>> After the user download the LTDB_Std_All_fullcount.zip and extract the files, the filepath might be something like presented below.\n",
    "    >>> filepath = '~/data/std_2010_fullcount.csv'\n",
    "    >>> census_2010 = pd.read_csv(filepath, encoding = \"ISO-8859-1\", sep = \",\")\n",
    "    \n",
    "    Then, we filter only for the desired county (in this case, Riverside County):\n",
    "    \n",
    "    >>> df = census_2010.loc[census_2010.county == \"Riverside County\"][['pop10','nhblk10']]\n",
    "    \n",
    "    The value is estimated below.\n",
    "    \n",
    "    >>> atkinson_index = Atkinson(df, 'nhblk10', 'pop10', b = 0.5)\n",
    "    >>> atkinson_index.statistic\n",
    "    0.16722406110274002\n",
    "       \n",
    "    Notes\n",
    "    -----\n",
    "    Based on Massey, Douglas S., and Nancy A. Denton. \"The dimensions of residential segregation.\" Social forces 67.2 (1988): 281-315.\n",
    "\n",
    "    \"\"\"\n",
    "\n",
    "    def __init__(self, data, group_pop_var, total_pop_var, b = 0.5):\n",
    "        \n",
    "        aux = _atkinson(data, group_pop_var, total_pop_var, b)\n",
    "\n",
    "        self.statistic = aux[0]\n",
    "        self.core_data = aux[1]\n",
    "        self._function = _atkinson\n",
    "\n"
   ]
  },
  {
   "cell_type": "code",
   "execution_count": 388,
   "metadata": {},
   "outputs": [],
   "source": [
    "m = 2000\n",
    "\n",
    "aux = np.empty(m)\n",
    "for i in range(m):\n",
    "    t1 = time.time()\n",
    "    index1 = Atkinson(df, 'HISP_', 'TOT_POP')\n",
    "    t2 = time.time()\n",
    "    aux[i] = t2-t1"
   ]
  },
  {
   "cell_type": "code",
   "execution_count": 389,
   "metadata": {},
   "outputs": [],
   "source": [
    "aux2 = np.empty(m)\n",
    "for i in range(m):\n",
    "    t1 = time.time()\n",
    "    index1 = Atkinson_Numpy(df, 'HISP_', 'TOT_POP')\n",
    "    t2 = time.time()\n",
    "    aux2[i] = t2-t1"
   ]
  },
  {
   "cell_type": "code",
   "execution_count": 390,
   "metadata": {},
   "outputs": [],
   "source": [
    "index1 = Atkinson(df, 'HISP_', 'TOT_POP')\n",
    "index2 = Atkinson_Numpy(df, 'HISP_', 'TOT_POP')"
   ]
  },
  {
   "cell_type": "code",
   "execution_count": 391,
   "metadata": {},
   "outputs": [
    {
     "data": {
      "text/plain": [
       "0.15079259382667654"
      ]
     },
     "execution_count": 391,
     "metadata": {},
     "output_type": "execute_result"
    }
   ],
   "source": [
    "index1.statistic"
   ]
  },
  {
   "cell_type": "code",
   "execution_count": 392,
   "metadata": {},
   "outputs": [
    {
     "data": {
      "text/plain": [
       "0.15079259382667654"
      ]
     },
     "execution_count": 392,
     "metadata": {},
     "output_type": "execute_result"
    }
   ],
   "source": [
    "index2.statistic"
   ]
  },
  {
   "cell_type": "code",
   "execution_count": 393,
   "metadata": {},
   "outputs": [
    {
     "data": {
      "text/plain": [
       "0.00258002233505249"
      ]
     },
     "execution_count": 393,
     "metadata": {},
     "output_type": "execute_result"
    }
   ],
   "source": [
    "aux.mean()"
   ]
  },
  {
   "cell_type": "code",
   "execution_count": 394,
   "metadata": {},
   "outputs": [
    {
     "data": {
      "text/plain": [
       "0.0007901396751403808"
      ]
     },
     "execution_count": 394,
     "metadata": {},
     "output_type": "execute_result"
    }
   ],
   "source": [
    "aux2.mean()"
   ]
  },
  {
   "cell_type": "code",
   "execution_count": 395,
   "metadata": {},
   "outputs": [
    {
     "data": {
      "image/png": "[encoded data removed]",
      "text/plain": [
       "<Figure size 432x288 with 1 Axes>"
      ]
     },
     "metadata": {},
     "output_type": "display_data"
    }
   ],
   "source": [
    "plt.hist(aux, bins='auto')\n",
    "plt.show()"
   ]
  },
  {
   "cell_type": "code",
   "execution_count": 396,
   "metadata": {},
   "outputs": [
    {
     "data": {
      "image/png": "[encoded data removed]",
      "text/plain": [
       "<Figure size 432x288 with 1 Axes>"
      ]
     },
     "metadata": {},
     "output_type": "display_data"
    }
   ],
   "source": [
    "plt.hist(aux2, bins='auto')\n",
    "plt.show()"
   ]
  },
  {
   "cell_type": "markdown",
   "metadata": {},
   "source": [
    "# Entropy"
   ]
  },
  {
   "cell_type": "code",
   "execution_count": 397,
   "metadata": {},
   "outputs": [],
   "source": [
    "from segregation.entropy import Entropy"
   ]
  },
  {
   "cell_type": "code",
   "execution_count": 447,
   "metadata": {},
   "outputs": [],
   "source": [
    "\"\"\"\n",
    "Entropy Segregation Metrics\n",
    "\"\"\"\n",
    "\n",
    "__author__ = \"Renan X. Cortes <renanc@ucr.edu> and Sergio J. Rey <sergio.rey@ucr.edu>\"\n",
    "\n",
    "import numpy as np\n",
    "import pandas as pd\n",
    "\n",
    "__all__ = ['Entropy']\n",
    "\n",
    "\n",
    "def _entropy(data, group_pop_var, total_pop_var):\n",
    "    \"\"\"\n",
    "    Calculation of Entropy index\n",
    "\n",
    "    Parameters\n",
    "    ----------\n",
    "\n",
    "    data          : a pandas DataFrame\n",
    "    \n",
    "    group_pop_var : string\n",
    "                    The name of variable in data that contains the population size of the group of interest\n",
    "                    \n",
    "    total_pop_var : string\n",
    "                    The name of variable in data that contains the total population of the unit\n",
    "\n",
    "    Attributes\n",
    "    ----------\n",
    "\n",
    "    statistic : float\n",
    "                Entropy Index\n",
    "                \n",
    "    core_data : a pandas DataFrame\n",
    "                A pandas DataFrame that contains the columns used to perform the estimate. \n",
    "\n",
    "    Notes\n",
    "    -----\n",
    "    Based on Massey, Douglas S., and Nancy A. Denton. \"The dimensions of residential segregation.\" Social forces 67.2 (1988): 281-315.\n",
    "\n",
    "    \"\"\"\n",
    "    if((type(group_pop_var) is not str) or (type(total_pop_var) is not str)):\n",
    "        raise TypeError('group_pop_var and total_pop_var must be strings')\n",
    "    \n",
    "    if ((group_pop_var not in data.columns) or (total_pop_var not in data.columns)):    \n",
    "        raise ValueError('group_pop_var and total_pop_var must be variables of data')\n",
    "\n",
    "    data = data.rename(columns={group_pop_var: 'group_pop_var', \n",
    "                                total_pop_var: 'total_pop_var'})\n",
    "    \n",
    "    g = np.array(data.group_pop_var)\n",
    "    t = np.array(data.total_pop_var)\n",
    "    \n",
    "    if any(t < g):    \n",
    "        raise ValueError('Group of interest population must equal or lower than the total population of the units.')\n",
    "   \n",
    "    T = t.sum()\n",
    "    P = g.sum() / T\n",
    "    \n",
    "    # If a unit has zero population, the group of interest frequency is zero\n",
    "    pi = np.where(t == 0, 0, g / t)\n",
    "    \n",
    "    E = P * np.log(1 / P) + (1 - P) * np.log(1 / (1 - P))\n",
    "    Ei = pi * np.log(1 / pi) + (1 - pi) * np.log(1 / (1 - pi))\n",
    "    H = np.nansum(t * (E - Ei) / (E * T))\n",
    "    \n",
    "    core_data = data[['group_pop_var', 'total_pop_var']]\n",
    "    \n",
    "    return H, core_data\n",
    "\n",
    "\n",
    "class Entropy_Numpy:\n",
    "    \"\"\"\n",
    "    Classic Entropy Index\n",
    "\n",
    "    Parameters\n",
    "    ----------\n",
    "\n",
    "    data          : a pandas DataFrame\n",
    "    \n",
    "    group_pop_var : string\n",
    "                    The name of variable in data that contains the population size of the group of interest\n",
    "                    \n",
    "    total_pop_var : string\n",
    "                    The name of variable in data that contains the total population of the unit\n",
    "\n",
    "    Attributes\n",
    "    ----------\n",
    "\n",
    "    statistic : float\n",
    "                Entropy Index\n",
    "                \n",
    "    core_data : a pandas DataFrame\n",
    "                A pandas DataFrame that contains the columns used to perform the estimate. \n",
    "        \n",
    "    Examples\n",
    "    --------\n",
    "    In this example, we will calculate the Entropy (H) for the Riverside County using the census tract data of 2010.\n",
    "    The group of interest is non-hispanic black people which is the variable nhblk10 in the dataset.\n",
    "    \n",
    "    Firstly, we need to read the data:\n",
    "    \n",
    "    >>> This example uses all census data that the user must provide your own copy of the external database.\n",
    "    >>> A step-by-step procedure for downloading the data can be found here: https://github.com/spatialucr/osnap/tree/master/osnap/data.\n",
    "    >>> After the user download the LTDB_Std_All_fullcount.zip and extract the files, the filepath might be something like presented below.\n",
    "    >>> filepath = '~/data/std_2010_fullcount.csv'\n",
    "    >>> census_2010 = pd.read_csv(filepath, encoding = \"ISO-8859-1\", sep = \",\")\n",
    "    \n",
    "    Then, we filter only for the desired county (in this case, Riverside County):\n",
    "    \n",
    "    >>> df = census_2010.loc[census_2010.county == \"Riverside County\"][['pop10','nhblk10']]\n",
    "    \n",
    "    The value is estimated below.\n",
    "    \n",
    "    >>> entropy_index = Entropy(df, 'nhblk10', 'pop10')\n",
    "    >>> entropy_index.statistic\n",
    "    0.08636489348167173\n",
    "       \n",
    "    Notes\n",
    "    -----\n",
    "    Based on Massey, Douglas S., and Nancy A. Denton. \"The dimensions of residential segregation.\" Social forces 67.2 (1988): 281-315.\n",
    "\n",
    "    \"\"\"\n",
    "\n",
    "    def __init__(self, data, group_pop_var, total_pop_var):\n",
    "        \n",
    "        aux = _entropy(data, group_pop_var, total_pop_var)\n",
    "\n",
    "        self.statistic = aux[0]\n",
    "        self.core_data = aux[1]\n",
    "        self._function = _entropy\n",
    "\n"
   ]
  },
  {
   "cell_type": "code",
   "execution_count": 451,
   "metadata": {},
   "outputs": [
    {
     "name": "stderr",
     "output_type": "stream",
     "text": [
      "C:\\Users\\renan\\AppData\\Local\\Continuum\\anaconda3\\lib\\site-packages\\ipykernel_launcher.py:64: RuntimeWarning: divide by zero encountered in true_divide\n",
      "C:\\Users\\renan\\AppData\\Local\\Continuum\\anaconda3\\lib\\site-packages\\ipykernel_launcher.py:64: RuntimeWarning: invalid value encountered in multiply\n"
     ]
    }
   ],
   "source": [
    "m = 2000\n",
    "\n",
    "aux = np.empty(m)\n",
    "for i in range(m):\n",
    "    t1 = time.time()\n",
    "    index1 = Entropy(df, 'HISP_', 'TOT_POP')\n",
    "    t2 = time.time()\n",
    "    aux[i] = t2-t1\n",
    "    \n",
    "aux2 = np.empty(m)\n",
    "for i in range(m):\n",
    "    t1 = time.time()\n",
    "    index1 = Entropy_Numpy(df, 'HISP_', 'TOT_POP')\n",
    "    t2 = time.time()\n",
    "    aux2[i] = t2-t1"
   ]
  },
  {
   "cell_type": "code",
   "execution_count": 448,
   "metadata": {},
   "outputs": [
    {
     "name": "stderr",
     "output_type": "stream",
     "text": [
      "C:\\Users\\renan\\AppData\\Local\\Continuum\\anaconda3\\lib\\site-packages\\ipykernel_launcher.py:64: RuntimeWarning: divide by zero encountered in true_divide\n",
      "C:\\Users\\renan\\AppData\\Local\\Continuum\\anaconda3\\lib\\site-packages\\ipykernel_launcher.py:64: RuntimeWarning: invalid value encountered in multiply\n"
     ]
    }
   ],
   "source": [
    "index1 = Entropy(df, 'HISP_', 'TOT_POP')\n",
    "index2 = Entropy_Numpy(df, 'HISP_', 'TOT_POP')"
   ]
  },
  {
   "cell_type": "code",
   "execution_count": 452,
   "metadata": {},
   "outputs": [
    {
     "data": {
      "text/plain": [
       "0.09459760633014454"
      ]
     },
     "execution_count": 452,
     "metadata": {},
     "output_type": "execute_result"
    }
   ],
   "source": [
    "index1.statistic"
   ]
  },
  {
   "cell_type": "code",
   "execution_count": 453,
   "metadata": {},
   "outputs": [
    {
     "data": {
      "text/plain": [
       "0.09459760633014454"
      ]
     },
     "execution_count": 453,
     "metadata": {},
     "output_type": "execute_result"
    }
   ],
   "source": [
    "index2.statistic"
   ]
  },
  {
   "cell_type": "code",
   "execution_count": 455,
   "metadata": {},
   "outputs": [
    {
     "data": {
      "text/plain": [
       "0.002880122184753418"
      ]
     },
     "execution_count": 455,
     "metadata": {},
     "output_type": "execute_result"
    }
   ],
   "source": [
    "aux.mean()"
   ]
  },
  {
   "cell_type": "code",
   "execution_count": 456,
   "metadata": {},
   "outputs": [
    {
     "data": {
      "text/plain": [
       "0.0008177999258041382"
      ]
     },
     "execution_count": 456,
     "metadata": {},
     "output_type": "execute_result"
    }
   ],
   "source": [
    "aux2.mean()"
   ]
  },
  {
   "cell_type": "code",
   "execution_count": 457,
   "metadata": {},
   "outputs": [
    {
     "data": {
      "image/png": "[encoded data removed]",
      "text/plain": [
       "<Figure size 432x288 with 1 Axes>"
      ]
     },
     "metadata": {},
     "output_type": "display_data"
    }
   ],
   "source": [
    "plt.hist(aux, bins='auto')\n",
    "plt.show()"
   ]
  },
  {
   "cell_type": "code",
   "execution_count": 458,
   "metadata": {},
   "outputs": [
    {
     "data": {
      "image/png": "[encoded data removed]",
      "text/plain": [
       "<Figure size 432x288 with 1 Axes>"
      ]
     },
     "metadata": {},
     "output_type": "display_data"
    }
   ],
   "source": [
    "plt.hist(aux2, bins='auto')\n",
    "plt.show()"
   ]
  },
  {
   "cell_type": "markdown",
   "metadata": {},
   "source": [
    "# Correlation Ratio"
   ]
  },
  {
   "cell_type": "code",
   "execution_count": 459,
   "metadata": {},
   "outputs": [],
   "source": [
    "from segregation.correlationr import Correlation_R"
   ]
  },
  {
   "cell_type": "code",
   "execution_count": 476,
   "metadata": {},
   "outputs": [],
   "source": [
    "\"\"\"\n",
    "Correlation Ratio Segregation Metrics\n",
    "\"\"\"\n",
    "\n",
    "__author__ = \"Renan X. Cortes <renanc@ucr.edu> and Sergio J. Rey <sergio.rey@ucr.edu>\"\n",
    "\n",
    "import numpy as np\n",
    "import pandas as pd\n",
    "\n",
    "__all__ = ['Correlation_R']\n",
    "\n",
    "\n",
    "def _correlationr(data, group_pop_var, total_pop_var):\n",
    "    \"\"\"\n",
    "    Calculation of Correlation Ratio index\n",
    "\n",
    "    Parameters\n",
    "    ----------\n",
    "\n",
    "    data          : a pandas DataFrame\n",
    "    \n",
    "    group_pop_var : string\n",
    "                    The name of variable in data that contains the population size of the group of interest (X)\n",
    "                    \n",
    "    total_pop_var : string\n",
    "                    The name of variable in data that contains the total population of the unit\n",
    "\n",
    "    Attributes\n",
    "    ----------\n",
    "\n",
    "    statistic : float\n",
    "                Correlation Ratio Index\n",
    "                \n",
    "    core_data : a pandas DataFrame\n",
    "                A pandas DataFrame that contains the columns used to perform the estimate. \n",
    "\n",
    "    Notes\n",
    "    -----\n",
    "    \n",
    "    Based on Massey, Douglas S., and Nancy A. Denton. \"The dimensions of residential segregation.\" Social forces 67.2 (1988): 281-315.\n",
    "\n",
    "    \"\"\"\n",
    "    if((type(group_pop_var) is not str) or (type(total_pop_var) is not str)):\n",
    "        raise TypeError('group_pop_var and total_pop_var must be strings')\n",
    "    \n",
    "    if ((group_pop_var not in data.columns) or (total_pop_var not in data.columns)):    \n",
    "        raise ValueError('group_pop_var and total_pop_var must be variables of data')\n",
    "\n",
    "    data = data.rename(columns={group_pop_var: 'group_pop_var', \n",
    "                                total_pop_var: 'total_pop_var'})\n",
    "    \n",
    "    g = np.array(data.group_pop_var)\n",
    "    t = np.array(data.total_pop_var)\n",
    "    \n",
    "    if any(t < g):    \n",
    "        raise ValueError('Group of interest population must equal or lower than the total population of the units.')\n",
    "\n",
    "    X = g.sum()\n",
    "    T = t.sum()\n",
    "    P = X / T\n",
    "    \n",
    "    xPx = ((g / X) * (g / t)).sum()\n",
    "\n",
    "    V = (xPx - P) / (1 - P)\n",
    "    \n",
    "    core_data = data[['group_pop_var', 'total_pop_var']]\n",
    "    \n",
    "    return V, core_data\n",
    "\n",
    "\n",
    "class Correlation_R_Numpy:\n",
    "    \"\"\"\n",
    "    Classic Correlation Ratio Index\n",
    "\n",
    "    Parameters\n",
    "    ----------\n",
    "\n",
    "    data          : a pandas DataFrame\n",
    "    \n",
    "    group_pop_var : string\n",
    "                    The name of variable in data that contains the population size of the group of interest (X)\n",
    "                    \n",
    "    total_pop_var : string\n",
    "                    The name of variable in data that contains the total population of the unit\n",
    "\n",
    "    Attributes\n",
    "    ----------\n",
    "\n",
    "    statistic : float\n",
    "                Correlation Ratio Index\n",
    "                \n",
    "    core_data : a pandas DataFrame\n",
    "                A pandas DataFrame that contains the columns used to perform the estimate. \n",
    "        \n",
    "    Examples\n",
    "    --------\n",
    "    In this example, we will calculate the Correlation Ratio Index (V) for the Riverside County using the census tract data of 2010.\n",
    "    The group of interest is non-hispanic black people which is the variable nhblk10 in the dataset.\n",
    "    \n",
    "    Firstly, we need to read the data:\n",
    "    \n",
    "    >>> This example uses all census data that the user must provide your own copy of the external database.\n",
    "    >>> A step-by-step procedure for downloading the data can be found here: https://github.com/spatialucr/osnap/tree/master/osnap/data.\n",
    "    >>> After the user download the LTDB_Std_All_fullcount.zip and extract the files, the filepath might be something like presented below.\n",
    "    >>> filepath = '~/data/std_2010_fullcount.csv'\n",
    "    >>> census_2010 = pd.read_csv(filepath, encoding = \"ISO-8859-1\", sep = \",\")\n",
    "    \n",
    "    Then, we filter only for the desired county (in this case, Riverside County):\n",
    "    \n",
    "    >>> df = census_2010.loc[census_2010.county == \"Riverside County\"][['pop10','nhblk10']]\n",
    "    \n",
    "    The value is estimated below.\n",
    "    \n",
    "    >>> correlationr_index = Correlation_R(df, 'nhblk10', 'pop10')\n",
    "    >>> correlationr_index.statistic\n",
    "    0.048716810856363923\n",
    "    \n",
    "    Notes\n",
    "    -----\n",
    "    \n",
    "    Based on Massey, Douglas S., and Nancy A. Denton. \"The dimensions of residential segregation.\" Social forces 67.2 (1988): 281-315.\n",
    "\n",
    "    \"\"\"\n",
    "\n",
    "    def __init__(self, data, group_pop_var, total_pop_var):\n",
    "        \n",
    "        aux = _correlationr(data, group_pop_var, total_pop_var)\n",
    "\n",
    "        self.statistic = aux[0]\n",
    "        self.core_data = aux[1]\n",
    "        self._function = _correlationr\n",
    "\n"
   ]
  },
  {
   "cell_type": "code",
   "execution_count": 467,
   "metadata": {},
   "outputs": [],
   "source": [
    "m = 2000\n",
    "\n",
    "aux = np.empty(m)\n",
    "for i in range(m):\n",
    "    t1 = time.time()\n",
    "    index1 = Correlation_R(df, 'HISP_', 'TOT_POP')\n",
    "    t2 = time.time()\n",
    "    aux[i] = t2-t1\n",
    "    \n",
    "aux2 = np.empty(m)\n",
    "for i in range(m):\n",
    "    t1 = time.time()\n",
    "    index1 = Correlation_R_Numpy(df, 'HISP_', 'TOT_POP')\n",
    "    t2 = time.time()\n",
    "    aux2[i] = t2-t1"
   ]
  },
  {
   "cell_type": "code",
   "execution_count": 468,
   "metadata": {},
   "outputs": [],
   "source": [
    "index1 = Correlation_R(df, 'HISP_', 'TOT_POP')\n",
    "index2 = Correlation_R_Numpy(df, 'HISP_', 'TOT_POP')"
   ]
  },
  {
   "cell_type": "code",
   "execution_count": 469,
   "metadata": {},
   "outputs": [
    {
     "data": {
      "text/plain": [
       "0.09164042012926693"
      ]
     },
     "execution_count": 469,
     "metadata": {},
     "output_type": "execute_result"
    }
   ],
   "source": [
    "index1.statistic"
   ]
  },
  {
   "cell_type": "code",
   "execution_count": 470,
   "metadata": {},
   "outputs": [
    {
     "data": {
      "text/plain": [
       "0.09164042012926693"
      ]
     },
     "execution_count": 470,
     "metadata": {},
     "output_type": "execute_result"
    }
   ],
   "source": [
    "index2.statistic"
   ]
  },
  {
   "cell_type": "code",
   "execution_count": 471,
   "metadata": {},
   "outputs": [
    {
     "data": {
      "text/plain": [
       "0.0021397008895874025"
      ]
     },
     "execution_count": 471,
     "metadata": {},
     "output_type": "execute_result"
    }
   ],
   "source": [
    "aux.mean()"
   ]
  },
  {
   "cell_type": "code",
   "execution_count": 472,
   "metadata": {},
   "outputs": [
    {
     "data": {
      "text/plain": [
       "0.0007743566036224366"
      ]
     },
     "execution_count": 472,
     "metadata": {},
     "output_type": "execute_result"
    }
   ],
   "source": [
    "aux2.mean()"
   ]
  },
  {
   "cell_type": "code",
   "execution_count": 473,
   "metadata": {},
   "outputs": [
    {
     "data": {
      "image/png": "[encoded data removed]",
      "text/plain": [
       "<Figure size 432x288 with 1 Axes>"
      ]
     },
     "metadata": {},
     "output_type": "display_data"
    }
   ],
   "source": [
    "plt.hist(aux, bins='auto')\n",
    "plt.show()"
   ]
  },
  {
   "cell_type": "code",
   "execution_count": 474,
   "metadata": {},
   "outputs": [
    {
     "data": {
      "image/png": "[encoded data removed]",
      "text/plain": [
       "<Figure size 432x288 with 1 Axes>"
      ]
     },
     "metadata": {},
     "output_type": "display_data"
    }
   ],
   "source": [
    "plt.hist(aux2, bins='auto')\n",
    "plt.show()"
   ]
  },
  {
   "cell_type": "markdown",
   "metadata": {},
   "source": [
    "# Exposure"
   ]
  },
  {
   "cell_type": "code",
   "execution_count": 475,
   "metadata": {},
   "outputs": [],
   "source": [
    "from segregation.exposure import Exposure"
   ]
  },
  {
   "cell_type": "code",
   "execution_count": 477,
   "metadata": {},
   "outputs": [],
   "source": [
    "\"\"\"\n",
    "Exposure Segregation Metrics\n",
    "\"\"\"\n",
    "\n",
    "__author__ = \"Renan X. Cortes <renanc@ucr.edu> and Sergio J. Rey <sergio.rey@ucr.edu>\"\n",
    "\n",
    "import numpy as np\n",
    "import pandas as pd\n",
    "\n",
    "__all__ = ['Exposure']\n",
    "\n",
    "\n",
    "def _exposure(data, group_pop_var, total_pop_var):\n",
    "    \"\"\"\n",
    "    Calculation of Exposure index\n",
    "\n",
    "    Parameters\n",
    "    ----------\n",
    "\n",
    "    data          : a pandas DataFrame\n",
    "    \n",
    "    group_pop_var : string\n",
    "                    The name of variable in data that contains the population size of the group of interest (X)\n",
    "                    \n",
    "    total_pop_var : string\n",
    "                    The name of variable in data that contains the total population of the unit\n",
    "\n",
    "    Attributes\n",
    "    ----------\n",
    "\n",
    "    statistic : float\n",
    "                Exposure Index\n",
    "                \n",
    "    core_data : a pandas DataFrame\n",
    "                A pandas DataFrame that contains the columns used to perform the estimate. \n",
    "\n",
    "    Notes\n",
    "    -----\n",
    "    The group of interest is labelled as group X, whilst Y is the complementary group. Groups X and Y are mutually excludent.\n",
    "    \n",
    "    Based on Massey, Douglas S., and Nancy A. Denton. \"The dimensions of residential segregation.\" Social forces 67.2 (1988): 281-315.\n",
    "\n",
    "    \"\"\"\n",
    "    if((type(group_pop_var) is not str) or (type(total_pop_var) is not str)):\n",
    "        raise TypeError('group_pop_var and total_pop_var must be strings')\n",
    "    \n",
    "    if ((group_pop_var not in data.columns) or (total_pop_var not in data.columns)):    \n",
    "        raise ValueError('group_pop_var and total_pop_var must be variables of data')\n",
    "\n",
    "    data = data.rename(columns={group_pop_var: 'group_pop_var', \n",
    "                                total_pop_var: 'total_pop_var'})\n",
    "    \n",
    "    x = np.array(data.group_pop_var)\n",
    "    t = np.array(data.total_pop_var)\n",
    "    \n",
    "    if any(t < x):    \n",
    "        raise ValueError('Group of interest population must equal or lower than the total population of the units.')\n",
    "   \n",
    "    yi = t - x\n",
    "    \n",
    "    X = x.sum()\n",
    "    xPy = ((x / X) * (yi / t)).sum()\n",
    "    \n",
    "    core_data = data[['group_pop_var', 'total_pop_var']]\n",
    "    \n",
    "    return xPy, core_data\n",
    "\n",
    "\n",
    "class Exposure_Numpy:\n",
    "    \"\"\"\n",
    "    Classic Exposure Index\n",
    "\n",
    "    Parameters\n",
    "    ----------\n",
    "\n",
    "    data          : a pandas DataFrame\n",
    "    \n",
    "    group_pop_var : string\n",
    "                    The name of variable in data that contains the population size of the group of interest (X)\n",
    "                    \n",
    "    total_pop_var : string\n",
    "                    The name of variable in data that contains the total population of the unit\n",
    "\n",
    "    Attributes\n",
    "    ----------\n",
    "\n",
    "    statistic : float\n",
    "                Exposure Index\n",
    "\n",
    "    core_data : a pandas DataFrame\n",
    "                A pandas DataFrame that contains the columns used to perform the estimate. \n",
    "                \n",
    "    Examples\n",
    "    --------\n",
    "    In this example, we will calculate the Exposure Index (xPy) for the Riverside County using the census tract data of 2010.\n",
    "    The group of interest (X) is non-hispanic black people which is the variable nhblk10 in the dataset and the Y group is the other part of the population.\n",
    "    \n",
    "    Firstly, we need to read the data:\n",
    "    \n",
    "    >>> This example uses all census data that the user must provide your own copy of the external database.\n",
    "    >>> A step-by-step procedure for downloading the data can be found here: https://github.com/spatialucr/osnap/tree/master/osnap/data.\n",
    "    >>> After the user download the LTDB_Std_All_fullcount.zip and extract the files, the filepath might be something like presented below.\n",
    "    >>> filepath = '~/data/std_2010_fullcount.csv'\n",
    "    >>> census_2010 = pd.read_csv(filepath, encoding = \"ISO-8859-1\", sep = \",\")\n",
    "    \n",
    "    Then, we filter only for the desired county (in this case, Riverside County):\n",
    "    \n",
    "    >>> df = census_2010.loc[census_2010.county == \"Riverside County\"][['pop10','nhblk10']]\n",
    "    \n",
    "    The value is estimated below.\n",
    "    \n",
    "    >>> exposure_index = Exposure(df, 'nhblk10', 'pop10')\n",
    "    >>> exposure_index.statistic\n",
    "    0.886785172226587\n",
    "    \n",
    "    The interpretation of this number is that if you randomly pick a X member of a specific area, there is 88.68% of probability that this member shares a unit with a Y member.\n",
    "    \n",
    "    Notes\n",
    "    -----\n",
    "    The group of interest is labelled as group X, whilst Y is the complementary group. Groups X and Y are mutually excludent.\n",
    "    \n",
    "    Based on Massey, Douglas S., and Nancy A. Denton. \"The dimensions of residential segregation.\" Social forces 67.2 (1988): 281-315.\n",
    "\n",
    "    \"\"\"\n",
    "\n",
    "    def __init__(self, data, group_pop_var, total_pop_var):\n",
    "        \n",
    "        aux = _exposure(data, group_pop_var, total_pop_var)\n",
    "\n",
    "        self.statistic = aux[0]\n",
    "        self.core_data = aux[1]\n",
    "        self._function = _exposure\n",
    "\n"
   ]
  },
  {
   "cell_type": "code",
   "execution_count": 478,
   "metadata": {},
   "outputs": [],
   "source": [
    "index1 = Exposure(df, 'HISP_', 'TOT_POP')\n",
    "index2 = Exposure_Numpy(df, 'HISP_', 'TOT_POP')"
   ]
  },
  {
   "cell_type": "code",
   "execution_count": 479,
   "metadata": {},
   "outputs": [
    {
     "data": {
      "text/plain": [
       "0.7680384513540848"
      ]
     },
     "execution_count": 479,
     "metadata": {},
     "output_type": "execute_result"
    }
   ],
   "source": [
    "index1.statistic"
   ]
  },
  {
   "cell_type": "code",
   "execution_count": 480,
   "metadata": {},
   "outputs": [
    {
     "data": {
      "text/plain": [
       "0.7680384513540848"
      ]
     },
     "execution_count": 480,
     "metadata": {},
     "output_type": "execute_result"
    }
   ],
   "source": [
    "index2.statistic"
   ]
  },
  {
   "cell_type": "code",
   "execution_count": 481,
   "metadata": {},
   "outputs": [],
   "source": [
    "m = 100\n",
    "\n",
    "aux = np.empty(m)\n",
    "for i in range(m):\n",
    "    t1 = time.time()\n",
    "    index1 = Exposure(df, 'HISP_', 'TOT_POP')\n",
    "    t2 = time.time()\n",
    "    aux[i] = t2-t1\n",
    "    \n",
    "aux2 = np.empty(m)\n",
    "for i in range(m):\n",
    "    t1 = time.time()\n",
    "    index1 = Exposure_Numpy(df, 'HISP_', 'TOT_POP')\n",
    "    t2 = time.time()\n",
    "    aux2[i] = t2-t1"
   ]
  },
  {
   "cell_type": "code",
   "execution_count": 482,
   "metadata": {},
   "outputs": [
    {
     "data": {
      "text/plain": [
       "0.0024338173866271973"
      ]
     },
     "execution_count": 482,
     "metadata": {},
     "output_type": "execute_result"
    }
   ],
   "source": [
    "aux.mean()"
   ]
  },
  {
   "cell_type": "code",
   "execution_count": 483,
   "metadata": {},
   "outputs": [
    {
     "data": {
      "text/plain": [
       "0.0007480120658874511"
      ]
     },
     "execution_count": 483,
     "metadata": {},
     "output_type": "execute_result"
    }
   ],
   "source": [
    "aux2.mean()"
   ]
  },
  {
   "cell_type": "code",
   "execution_count": 484,
   "metadata": {},
   "outputs": [
    {
     "data": {
      "image/png": "[encoded data removed]",
      "text/plain": [
       "<Figure size 432x288 with 1 Axes>"
      ]
     },
     "metadata": {},
     "output_type": "display_data"
    }
   ],
   "source": [
    "plt.hist(aux, bins='auto')\n",
    "plt.show()"
   ]
  },
  {
   "cell_type": "code",
   "execution_count": 485,
   "metadata": {},
   "outputs": [
    {
     "data": {
      "image/png": "[encoded data removed]",
      "text/plain": [
       "<Figure size 432x288 with 1 Axes>"
      ]
     },
     "metadata": {},
     "output_type": "display_data"
    }
   ],
   "source": [
    "plt.hist(aux2, bins='auto')\n",
    "plt.show()"
   ]
  },
  {
   "cell_type": "markdown",
   "metadata": {},
   "source": [
    "# Isolation"
   ]
  },
  {
   "cell_type": "code",
   "execution_count": 486,
   "metadata": {},
   "outputs": [],
   "source": [
    "from segregation.isolation import Isolation"
   ]
  },
  {
   "cell_type": "code",
   "execution_count": 487,
   "metadata": {},
   "outputs": [],
   "source": [
    "\"\"\"\n",
    "Isolation Segregation Metrics\n",
    "\"\"\"\n",
    "\n",
    "__author__ = \"Renan X. Cortes <renanc@ucr.edu> and Sergio J. Rey <sergio.rey@ucr.edu>\"\n",
    "\n",
    "import numpy as np\n",
    "import pandas as pd\n",
    "\n",
    "__all__ = ['Isolation']\n",
    "\n",
    "\n",
    "def _isolation(data, group_pop_var, total_pop_var):\n",
    "    \"\"\"\n",
    "    Calculation of Isolation index\n",
    "\n",
    "    Parameters\n",
    "    ----------\n",
    "\n",
    "    data          : a pandas DataFrame\n",
    "    \n",
    "    group_pop_var : string\n",
    "                    The name of variable in data that contains the population size of the group of interest (X)\n",
    "                    \n",
    "    total_pop_var : string\n",
    "                    The name of variable in data that contains the total population of the unit\n",
    "\n",
    "    Attributes\n",
    "    ----------\n",
    "\n",
    "    statistic : float\n",
    "                Isolation Index\n",
    "                \n",
    "    core_data : a pandas DataFrame\n",
    "                A pandas DataFrame that contains the columns used to perform the estimate. \n",
    "                \n",
    "    Notes\n",
    "    -----\n",
    "    The group of interest is labelled as group X.\n",
    "    \n",
    "    Based on Massey, Douglas S., and Nancy A. Denton. \"The dimensions of residential segregation.\" Social forces 67.2 (1988): 281-315.\n",
    "\n",
    "    \"\"\"\n",
    "    if((type(group_pop_var) is not str) or (type(total_pop_var) is not str)):\n",
    "        raise TypeError('group_pop_var and total_pop_var must be strings')\n",
    "    \n",
    "    if ((group_pop_var not in data.columns) or (total_pop_var not in data.columns)):    \n",
    "        raise ValueError('group_pop_var and total_pop_var must be variables of data')\n",
    "\n",
    "    data = data.rename(columns={group_pop_var: 'group_pop_var', \n",
    "                                total_pop_var: 'total_pop_var'})\n",
    "    \n",
    "    x = np.array(data.group_pop_var)\n",
    "    t = np.array(data.total_pop_var)\n",
    "    \n",
    "    if any(t < x):    \n",
    "        raise ValueError('Group of interest population must equal or lower than the total population of the units.')\n",
    "   \n",
    "    X = x.sum()\n",
    "    xPx = ((x / X) * (x / t)).sum()\n",
    "    \n",
    "    core_data = data[['group_pop_var', 'total_pop_var']]\n",
    "    \n",
    "    return xPx, core_data\n",
    "\n",
    "\n",
    "class Isolation_Numpy:\n",
    "    \"\"\"\n",
    "    Classic Isolation Index\n",
    "\n",
    "    Parameters\n",
    "    ----------\n",
    "\n",
    "    data          : a pandas DataFrame\n",
    "    \n",
    "    group_pop_var : string\n",
    "                    The name of variable in data that contains the population size of the group of interest (X)\n",
    "                    \n",
    "    total_pop_var : string\n",
    "                    The name of variable in data that contains the total population of the unit\n",
    "\n",
    "    Attributes\n",
    "    ----------\n",
    "\n",
    "    statistic : float\n",
    "                Isolation Index\n",
    "                \n",
    "    core_data : a pandas DataFrame\n",
    "                A pandas DataFrame that contains the columns used to perform the estimate.   \n",
    "                \n",
    "    Examples\n",
    "    --------\n",
    "    In this example, we will calculate the Isolation Index (xPx) for the Riverside County using the census tract data of 2010.\n",
    "    The group of interest is non-hispanic black people which is the variable nhblk10 in the dataset.\n",
    "    \n",
    "    Firstly, we need to read the data:\n",
    "    \n",
    "    >>> This example uses all census data that the user must provide your own copy of the external database.\n",
    "    >>> A step-by-step procedure for downloading the data can be found here: https://github.com/spatialucr/osnap/tree/master/osnap/data.\n",
    "    >>> After the user download the LTDB_Std_All_fullcount.zip and extract the files, the filepath might be something like presented below.\n",
    "    >>> filepath = '~/data/std_2010_fullcount.csv'\n",
    "    >>> census_2010 = pd.read_csv(filepath, encoding = \"ISO-8859-1\", sep = \",\")\n",
    "    \n",
    "    Then, we filter only for the desired county (in this case, Riverside County):\n",
    "    \n",
    "    >>> df = census_2010.loc[census_2010.county == \"Riverside County\"][['pop10','nhblk10']]\n",
    "    \n",
    "    The value is estimated below.\n",
    "    \n",
    "    >>> isolation_index = Isolation(df, 'nhblk10', 'pop10')\n",
    "    >>> isolation_index.statistic\n",
    "    0.11321482777341298\n",
    "    \n",
    "    The interpretation of this number is that if you randomly pick a X member of a specific area, there is 11.32% of probability that this member shares a unit with another X member.\n",
    "    \n",
    "    Notes\n",
    "    -----\n",
    "    The group of interest is labelled as group X.\n",
    "    \n",
    "    Based on Massey, Douglas S., and Nancy A. Denton. \"The dimensions of residential segregation.\" Social forces 67.2 (1988): 281-315.\n",
    "\n",
    "    \"\"\"\n",
    "\n",
    "    def __init__(self, data, group_pop_var, total_pop_var):\n",
    "        \n",
    "        aux = _isolation(data, group_pop_var, total_pop_var)\n",
    "\n",
    "        self.statistic = aux[0]\n",
    "        self.core_data = aux[1]\n",
    "        self._function = _isolation\n",
    "\n"
   ]
  },
  {
   "cell_type": "code",
   "execution_count": 489,
   "metadata": {},
   "outputs": [],
   "source": [
    "m = 200\n",
    "\n",
    "aux = np.empty(m)\n",
    "for i in range(m):\n",
    "    t1 = time.time()\n",
    "    index1 = Isolation(df, 'HISP_', 'TOT_POP')\n",
    "    t2 = time.time()\n",
    "    aux[i] = t2-t1\n",
    "    \n",
    "aux2 = np.empty(m)\n",
    "for i in range(m):\n",
    "    t1 = time.time()\n",
    "    index1 = Isolation_Numpy(df, 'HISP_', 'TOT_POP')\n",
    "    t2 = time.time()\n",
    "    aux2[i] = t2-t1\n",
    "    \n",
    "index1 = Isolation(df, 'HISP_', 'TOT_POP')\n",
    "index2 = Isolation_Numpy(df, 'HISP_', 'TOT_POP')"
   ]
  },
  {
   "cell_type": "code",
   "execution_count": 490,
   "metadata": {},
   "outputs": [
    {
     "data": {
      "text/plain": [
       "0.2319615486459151"
      ]
     },
     "execution_count": 490,
     "metadata": {},
     "output_type": "execute_result"
    }
   ],
   "source": [
    "index1.statistic"
   ]
  },
  {
   "cell_type": "code",
   "execution_count": 491,
   "metadata": {},
   "outputs": [
    {
     "data": {
      "text/plain": [
       "0.2319615486459151"
      ]
     },
     "execution_count": 491,
     "metadata": {},
     "output_type": "execute_result"
    }
   ],
   "source": [
    "index2.statistic"
   ]
  },
  {
   "cell_type": "code",
   "execution_count": 492,
   "metadata": {},
   "outputs": [
    {
     "data": {
      "text/plain": [
       "0.0020496761798858643"
      ]
     },
     "execution_count": 492,
     "metadata": {},
     "output_type": "execute_result"
    }
   ],
   "source": [
    "aux.mean()"
   ]
  },
  {
   "cell_type": "code",
   "execution_count": 493,
   "metadata": {},
   "outputs": [
    {
     "data": {
      "text/plain": [
       "0.0007428395748138428"
      ]
     },
     "execution_count": 493,
     "metadata": {},
     "output_type": "execute_result"
    }
   ],
   "source": [
    "aux2.mean()"
   ]
  },
  {
   "cell_type": "code",
   "execution_count": 494,
   "metadata": {},
   "outputs": [
    {
     "data": {
      "image/png": "[encoded data removed]",
      "text/plain": [
       "<Figure size 432x288 with 1 Axes>"
      ]
     },
     "metadata": {},
     "output_type": "display_data"
    }
   ],
   "source": [
    "plt.hist(aux, bins='auto')\n",
    "plt.show()"
   ]
  },
  {
   "cell_type": "code",
   "execution_count": 495,
   "metadata": {},
   "outputs": [
    {
     "data": {
      "image/png": "[encoded data removed]",
      "text/plain": [
       "<Figure size 432x288 with 1 Axes>"
      ]
     },
     "metadata": {},
     "output_type": "display_data"
    }
   ],
   "source": [
    "plt.hist(aux2, bins='auto')\n",
    "plt.show()"
   ]
  },
  {
   "cell_type": "markdown",
   "metadata": {},
   "source": [
    "# Modified Dissimilarity (needed to use the old \\_dissim function to fairly compare the modified one itself)"
   ]
  },
  {
   "cell_type": "code",
   "execution_count": 497,
   "metadata": {},
   "outputs": [],
   "source": [
    "from segregation.modified_dissimilarity import Modified_Dissim"
   ]
  },
  {
   "cell_type": "code",
   "execution_count": 499,
   "metadata": {},
   "outputs": [],
   "source": [
    "def _dissim(data, group_pop_var, total_pop_var):\n",
    "    \"\"\"\n",
    "    Calculation of Dissimilarity index\n",
    "    Parameters\n",
    "    ----------\n",
    "    data          : a pandas DataFrame\n",
    "    \n",
    "    group_pop_var : string\n",
    "                    The name of variable in data that contains the population size of the group of interest\n",
    "                    \n",
    "    total_pop_var : string\n",
    "                    The name of variable in data that contains the total population of the unit\n",
    "    Attributes\n",
    "    ----------\n",
    "    statistic : float\n",
    "                Dissimilarity Index\n",
    "                \n",
    "    core_data : a pandas DataFrame\n",
    "                A pandas DataFrame that contains the columns used to perform the estimate.\n",
    "    Notes\n",
    "    -----\n",
    "    Based on Massey, Douglas S., and Nancy A. Denton. \"The dimensions of residential segregation.\" Social forces 67.2 (1988): 281-315.\n",
    "    \"\"\"\n",
    "    if((type(group_pop_var) is not str) or (type(total_pop_var) is not str)):\n",
    "        raise TypeError('group_pop_var and total_pop_var must be strings')\n",
    "    \n",
    "    if ((group_pop_var not in data.columns) or (total_pop_var not in data.columns)):    \n",
    "        raise ValueError('group_pop_var and total_pop_var must be variables of data')\n",
    "        \n",
    "    data = data.rename(columns={group_pop_var: 'group_pop_var', \n",
    "                                total_pop_var: 'total_pop_var'})\n",
    "    \n",
    "    if any(data.total_pop_var < data.group_pop_var):    \n",
    "        raise ValueError('Group of interest population must equal or lower than the total population of the units.')\n",
    "   \n",
    "    T = data.total_pop_var.sum()\n",
    "    P = data.group_pop_var.sum() / T\n",
    "    \n",
    "    # If a unit has zero population, the group of interest frequency is zero\n",
    "    data = data.assign(pi = np.where(data.total_pop_var == 0, 0, data.group_pop_var/data.total_pop_var))\n",
    "    \n",
    "    D = (((data.total_pop_var * abs(data.pi - P)))/ (2 * T * P * (1 - P))).sum()\n",
    "    \n",
    "    core_data = data[['group_pop_var', 'total_pop_var']]\n",
    "    \n",
    "    return D, core_data"
   ]
  },
  {
   "cell_type": "code",
   "execution_count": 500,
   "metadata": {},
   "outputs": [],
   "source": [
    "\"\"\"\n",
    "Modified Dissimilarity based Segregation Metrics\n",
    "\"\"\"\n",
    "\n",
    "__author__ = \"Renan X. Cortes <renanc@ucr.edu> and Sergio J. Rey <sergio.rey@ucr.edu>\"\n",
    "\n",
    "import numpy as np\n",
    "import pandas as pd\n",
    "#from segregation.dissimilarity import _dissim\n",
    "\n",
    "__all__ = ['Modified_Dissim']\n",
    "\n",
    "\n",
    "def _modified_dissim(data, group_pop_var, total_pop_var, iterations = 500):\n",
    "    \"\"\"\n",
    "    Calculation of Modified Dissimilarity index\n",
    "\n",
    "    Parameters\n",
    "    ----------\n",
    "\n",
    "    data          : a pandas DataFrame\n",
    "    \n",
    "    group_pop_var : string\n",
    "                    The name of variable in data that contains the population size of the group of interest\n",
    "                    \n",
    "    total_pop_var : string\n",
    "                    The name of variable in data that contains the total population of the unit\n",
    "                    \n",
    "    iterations    : int\n",
    "                    The number of iterations the evaluate average classic dissimilarity under eveness. Default value is 500.\n",
    "\n",
    "    Attributes\n",
    "    ----------\n",
    "\n",
    "    statistic : float\n",
    "                Modified Dissimilarity Index (Dissimilarity from Carrington and Troske (1997))\n",
    "                \n",
    "    core_data : a pandas DataFrame\n",
    "                A pandas DataFrame that contains the columns used to perform the estimate. \n",
    "                \n",
    "    Notes\n",
    "    -----\n",
    "    Based on Carrington, William J., and Kenneth R. Troske. \"On measuring segregation in samples with small units.\" Journal of Business & Economic Statistics 15.4 (1997): 402-409.\n",
    "\n",
    "    \"\"\"\n",
    "    if(type(iterations) is not int):\n",
    "        raise TypeError('iterations must be an integer')\n",
    "        \n",
    "    if(iterations < 2):\n",
    "        raise TypeError('iterations must be greater than 1.')\n",
    "   \n",
    "    D = _dissim(data, group_pop_var, total_pop_var)[0]\n",
    "    \n",
    "    data = data.rename(columns={group_pop_var: 'group_pop_var', \n",
    "                                total_pop_var: 'total_pop_var'})\n",
    "    \n",
    "    x = np.array(data.group_pop_var)\n",
    "    t = np.array(data.total_pop_var)\n",
    "    \n",
    "    p_null = x.sum() / t.sum()\n",
    "    \n",
    "    \n",
    "    \n",
    "    Ds = np.empty(iterations)\n",
    "    \n",
    "    for i in np.array(range(iterations)):\n",
    "\n",
    "        freq_sim = np.random.binomial(n = np.array([t.tolist()]), \n",
    "                                      p = np.array([[p_null] * data.shape[0]]), \n",
    "                                      size = (1, data.shape[0])).tolist()[0]\n",
    "        data = data.assign(group_pop_var = freq_sim)\n",
    "        aux = _dissim(data, 'group_pop_var', 'total_pop_var')[0]\n",
    "        Ds[i] = aux\n",
    "        \n",
    "    D_star = Ds.mean()\n",
    "    \n",
    "    if (D >= D_star):\n",
    "        Dct = (D - D_star)/(1 - D_star)\n",
    "    else:\n",
    "        Dct = (D - D_star)/D_star\n",
    "    \n",
    "    core_data = data[['group_pop_var', 'total_pop_var']]\n",
    "    \n",
    "    return Dct, core_data\n",
    "\n",
    "\n",
    "class Modified_Dissim_Numpy:\n",
    "    \"\"\"\n",
    "    Calculation of Modified Dissimilarity index\n",
    "\n",
    "    Parameters\n",
    "    ----------\n",
    "\n",
    "    data          : a pandas DataFrame\n",
    "    \n",
    "    group_pop_var : string\n",
    "                    The name of variable in data that contains the population size of the group of interest\n",
    "                    \n",
    "    total_pop_var : string\n",
    "                    The name of variable in data that contains the total population of the unit\n",
    "                    \n",
    "    iterations    : int\n",
    "                    The number of iterations the evaluate average classic dissimilarity under eveness. Default value is 500.\n",
    "\n",
    "    Attributes\n",
    "    ----------\n",
    "\n",
    "    statistic : float\n",
    "                Modified Dissimilarity Index (Dissimilarity from Carrington and Troske (1997))\n",
    "                \n",
    "    core_data : a pandas DataFrame\n",
    "                A pandas DataFrame that contains the columns used to perform the estimate.    \n",
    "                \n",
    "    Examples\n",
    "    --------\n",
    "    In this example, we will calculate the Modified Dissimilarity Index (Dct) for the Riverside County using the census tract data of 2010.\n",
    "    The group of interest is non-hispanic black people which is the variable nhblk10 in the dataset.\n",
    "    \n",
    "    Firstly, we need to read the data:\n",
    "    \n",
    "    >>> This example uses all census data that the user must provide your own copy of the external database.\n",
    "    >>> A step-by-step procedure for downloading the data can be found here: https://github.com/spatialucr/osnap/tree/master/osnap/data.\n",
    "    >>> After the user download the LTDB_Std_All_fullcount.zip and extract the files, the filepath might be something like presented below.\n",
    "    >>> filepath = '~/data/std_2010_fullcount.csv'\n",
    "    >>> census_2010 = pd.read_csv(filepath, encoding = \"ISO-8859-1\", sep = \",\")\n",
    "    \n",
    "    Then, we filter only for the desired county (in this case, Riverside County):\n",
    "    \n",
    "    >>> df = census_2010.loc[census_2010.county == \"Riverside County\"][['pop10','nhblk10']]\n",
    "    \n",
    "    The value is estimated below.\n",
    "    \n",
    "    >>> np.random.seed(1234)\n",
    "    >>> modified_dissim_index = Modified_Dissim(df, 'nhblk10', 'pop10')\n",
    "    >>> modified_dissim_index.statistic\n",
    "    0.30009504639081996\n",
    "     \n",
    "    Notes\n",
    "    -----\n",
    "    Based on Carrington, William J., and Kenneth R. Troske. \"On measuring segregation in samples with small units.\" Journal of Business & Economic Statistics 15.4 (1997): 402-409.\n",
    "\n",
    "    \"\"\"\n",
    "\n",
    "    def __init__(self, data, group_pop_var, total_pop_var, iterations = 500):\n",
    "        \n",
    "        aux = _modified_dissim(data, group_pop_var, total_pop_var, iterations)\n",
    "\n",
    "        self.statistic = aux[0]\n",
    "        self.core_data = aux[1]\n",
    "        self._function = _modified_dissim\n",
    "        "
   ]
  },
  {
   "cell_type": "code",
   "execution_count": 506,
   "metadata": {},
   "outputs": [],
   "source": [
    "m = 20\n",
    "\n",
    "aux = np.empty(m)\n",
    "for i in range(m):\n",
    "    t1 = time.time()\n",
    "    index1 = Modified_Dissim(df, 'HISP_', 'TOT_POP')\n",
    "    t2 = time.time()\n",
    "    aux[i] = t2-t1\n",
    "    \n",
    "aux2 = np.empty(m)\n",
    "for i in range(m):\n",
    "    t1 = time.time()\n",
    "    index1 = Modified_Dissim_Numpy(df, 'HISP_', 'TOT_POP')\n",
    "    t2 = time.time()\n",
    "    aux2[i] = t2-t1\n",
    "    \n",
    "index1 = Modified_Dissim(df, 'HISP_', 'TOT_POP')\n",
    "index2 = Modified_Dissim_Numpy(df, 'HISP_', 'TOT_POP')"
   ]
  },
  {
   "cell_type": "code",
   "execution_count": 507,
   "metadata": {},
   "outputs": [
    {
     "data": {
      "text/plain": [
       "0.3107301848115828"
      ]
     },
     "execution_count": 507,
     "metadata": {},
     "output_type": "execute_result"
    }
   ],
   "source": [
    "index1.statistic"
   ]
  },
  {
   "cell_type": "code",
   "execution_count": 508,
   "metadata": {},
   "outputs": [
    {
     "data": {
      "text/plain": [
       "0.3107678495699561"
      ]
     },
     "execution_count": 508,
     "metadata": {},
     "output_type": "execute_result"
    }
   ],
   "source": [
    "index2.statistic"
   ]
  },
  {
   "cell_type": "code",
   "execution_count": 509,
   "metadata": {},
   "outputs": [
    {
     "data": {
      "text/plain": [
       "1.2431516647338867"
      ]
     },
     "execution_count": 509,
     "metadata": {},
     "output_type": "execute_result"
    }
   ],
   "source": [
    "aux.mean()"
   ]
  },
  {
   "cell_type": "code",
   "execution_count": 510,
   "metadata": {},
   "outputs": [
    {
     "data": {
      "text/plain": [
       "1.1837249398231506"
      ]
     },
     "execution_count": 510,
     "metadata": {},
     "output_type": "execute_result"
    }
   ],
   "source": [
    "aux2.mean()"
   ]
  },
  {
   "cell_type": "code",
   "execution_count": 511,
   "metadata": {},
   "outputs": [
    {
     "data": {
      "image/png": "[encoded data removed]",
      "text/plain": [
       "<Figure size 432x288 with 1 Axes>"
      ]
     },
     "metadata": {},
     "output_type": "display_data"
    }
   ],
   "source": [
    "plt.hist(aux, bins='auto')\n",
    "plt.show()"
   ]
  },
  {
   "cell_type": "code",
   "execution_count": 512,
   "metadata": {},
   "outputs": [
    {
     "data": {
      "image/png": "[encoded data removed]",
      "text/plain": [
       "<Figure size 432x288 with 1 Axes>"
      ]
     },
     "metadata": {},
     "output_type": "display_data"
    }
   ],
   "source": [
    "plt.hist(aux2, bins='auto')\n",
    "plt.show()"
   ]
  },
  {
   "cell_type": "markdown",
   "metadata": {},
   "source": [
    "# Modified Gini (using old base function a swell)"
   ]
  },
  {
   "cell_type": "code",
   "execution_count": 514,
   "metadata": {},
   "outputs": [],
   "source": [
    "from segregation.modified_gini_seg import Modified_Gini_Seg"
   ]
  },
  {
   "cell_type": "code",
   "execution_count": 515,
   "metadata": {},
   "outputs": [],
   "source": [
    "def _gini_seg(data, group_pop_var, total_pop_var):\n",
    "    \"\"\"\n",
    "    Calculation of Gini Segregation index\n",
    "    Parameters\n",
    "    ----------\n",
    "    data          : a pandas DataFrame\n",
    "    \n",
    "    group_pop_var : string\n",
    "                    The name of variable in data that contains the population size of the group of interest\n",
    "                    \n",
    "    total_pop_var : string\n",
    "                    The name of variable in data that contains the total population of the unit\n",
    "    Attributes\n",
    "    ----------\n",
    "    statistic : float\n",
    "                Gini Segregation Index\n",
    "                \n",
    "    core_data : a pandas DataFrame\n",
    "                A pandas DataFrame that contains the columns used to perform the estimate. \n",
    "                \n",
    "    Notes\n",
    "    -----\n",
    "    Based on Massey, Douglas S., and Nancy A. Denton. \"The dimensions of residential segregation.\" Social forces 67.2 (1988): 281-315.\n",
    "    \"\"\"\n",
    "    if((type(group_pop_var) is not str) or (type(total_pop_var) is not str)):\n",
    "        raise TypeError('group_pop_var and total_pop_var must be strings')\n",
    "    \n",
    "    if ((group_pop_var not in data.columns) or (total_pop_var not in data.columns)):    \n",
    "        raise ValueError('group_pop_var and total_pop_var must be variables of data')\n",
    "\n",
    "    data = data.rename(columns={group_pop_var: 'group_pop_var', \n",
    "                                total_pop_var: 'total_pop_var'})\n",
    "    \n",
    "    if any(data.total_pop_var < data.group_pop_var):    \n",
    "        raise ValueError('Group of interest population must equal or lower than the total population of the units.')\n",
    "   \n",
    "    T = data.total_pop_var.sum()\n",
    "    P = data.group_pop_var.sum() / T\n",
    "    \n",
    "    # If a unit has zero population, the group of interest frequency is zero\n",
    "    data = data.assign(ti = data.total_pop_var,\n",
    "                       pi = np.where(data.total_pop_var == 0, 0, data.group_pop_var/data.total_pop_var))\n",
    "    \n",
    "    num = (np.matmul(np.array(data.ti)[np.newaxis].T, np.array(data.ti)[np.newaxis]) * abs(np.array(data.pi)[np.newaxis].T - np.array(data.pi)[np.newaxis])).sum()\n",
    "    den = (2 * T**2 * P * (1-P))\n",
    "    G = num / den\n",
    "    \n",
    "    core_data = data[['group_pop_var', 'total_pop_var']]\n",
    "    \n",
    "    return G, core_data"
   ]
  },
  {
   "cell_type": "code",
   "execution_count": 516,
   "metadata": {},
   "outputs": [],
   "source": [
    "\"\"\"\n",
    "Modified Gini based Segregation Metrics\n",
    "\"\"\"\n",
    "\n",
    "__author__ = \"Renan X. Cortes <renanc@ucr.edu> and Sergio J. Rey <sergio.rey@ucr.edu>\"\n",
    "\n",
    "import numpy as np\n",
    "import pandas as pd\n",
    "from segregation.gini_seg import _gini_seg\n",
    "\n",
    "__all__ = ['Modified_Gini_Seg']\n",
    "\n",
    "\n",
    "def _modified_gini_seg(data, group_pop_var, total_pop_var, iterations = 500):\n",
    "    \"\"\"\n",
    "    Calculation of Modified Gini Segregation index\n",
    "\n",
    "    Parameters\n",
    "    ----------\n",
    "\n",
    "    data          : a pandas DataFrame\n",
    "    \n",
    "    group_pop_var : string\n",
    "                    The name of variable in data that contains the population size of the group of interest\n",
    "                    \n",
    "    total_pop_var : string\n",
    "                    The name of variable in data that contains the total population of the unit\n",
    "                    \n",
    "    iterations    : int\n",
    "                    The number of iterations the evaluate average classic gini segregation under eveness. Default value is 500.\n",
    "\n",
    "    Attributes\n",
    "    ----------\n",
    "\n",
    "    statistic : float\n",
    "                Modified Gini Segregation Index (Gini from Carrington and Troske (1997))\n",
    "                \n",
    "    core_data : a pandas DataFrame\n",
    "                A pandas DataFrame that contains the columns used to perform the estimate. \n",
    "                \n",
    "    Notes\n",
    "    -----\n",
    "    Based on Carrington, William J., and Kenneth R. Troske. \"On measuring segregation in samples with small units.\" Journal of Business & Economic Statistics 15.4 (1997): 402-409.\n",
    "\n",
    "    \"\"\"\n",
    "    if(type(iterations) is not int):\n",
    "        raise TypeError('iterations must be an integer')\n",
    "        \n",
    "    if(iterations < 2):\n",
    "        raise TypeError('iterations must be greater than 1.')\n",
    "   \n",
    "    G = _gini_seg(data, group_pop_var, total_pop_var)[0]\n",
    "    \n",
    "    data = data.rename(columns={group_pop_var: 'group_pop_var', \n",
    "                                total_pop_var: 'total_pop_var'})\n",
    "    \n",
    "    x = np.array(data.group_pop_var)\n",
    "    t = np.array(data.total_pop_var)\n",
    "    \n",
    "    p_null = x.sum() / t.sum()\n",
    "    \n",
    "    Gs = np.empty(iterations)\n",
    "    \n",
    "    for i in np.array(range(iterations)):\n",
    "\n",
    "        freq_sim = np.random.binomial(n = np.array([t.tolist()]), \n",
    "                                      p = np.array([[p_null] * data.shape[0]]), \n",
    "                                      size = (1, data.shape[0])).tolist()[0]\n",
    "        data = data.assign(group_pop_var = freq_sim)\n",
    "        aux = _gini_seg(data, 'group_pop_var', 'total_pop_var')[0]\n",
    "        Gs[i] = aux\n",
    "        \n",
    "    G_star = Gs.mean()\n",
    "    \n",
    "    if (G >= G_star):\n",
    "        Gct = (G - G_star)/(1 - G_star)\n",
    "    else:\n",
    "        Gct = (G - G_star)/G_star\n",
    "\n",
    "    core_data = data[['group_pop_var', 'total_pop_var']]\n",
    "\n",
    "    return Gct, core_data\n",
    "\n",
    "\n",
    "class Modified_Gini_Seg_Numpy:\n",
    "    \"\"\"\n",
    "    Calculation of Modified Gini Segregation index\n",
    "\n",
    "    Parameters\n",
    "    ----------\n",
    "\n",
    "    data          : a pandas DataFrame\n",
    "    \n",
    "    group_pop_var : string\n",
    "                    The name of variable in data that contains the population size of the group of interest\n",
    "                    \n",
    "    total_pop_var : string\n",
    "                    The name of variable in data that contains the total population of the unit\n",
    "                    \n",
    "    iterations    : int\n",
    "                    The number of iterations the evaluate average classic gini segregation under eveness. Default value is 500.\n",
    "\n",
    "    Attributes\n",
    "    ----------\n",
    "\n",
    "    statistic : float\n",
    "                Modified Gini Segregation Index (Gini from Carrington and Troske (1997))\n",
    "                \n",
    "    core_data : a pandas DataFrame\n",
    "                A pandas DataFrame that contains the columns used to perform the estimate.     \n",
    "                \n",
    "    Examples\n",
    "    --------\n",
    "    In this example, we will calculate the Modified Gini Segregation Index (Gct) for the Riverside County using the census tract data of 2010.\n",
    "    The group of interest is non-hispanic black people which is the variable nhblk10 in the dataset.\n",
    "    \n",
    "    Firstly, we need to read the data:\n",
    "    \n",
    "    >>> This example uses all census data that the user must provide your own copy of the external database.\n",
    "    >>> A step-by-step procedure for downloading the data can be found here: https://github.com/spatialucr/osnap/tree/master/osnap/data.\n",
    "    >>> After the user download the LTDB_Std_All_fullcount.zip and extract the files, the filepath might be something like presented below.\n",
    "    >>> filepath = '~/data/std_2010_fullcount.csv'\n",
    "    >>> census_2010 = pd.read_csv(filepath, encoding = \"ISO-8859-1\", sep = \",\")\n",
    "    \n",
    "    Then, we filter only for the desired county (in this case, Riverside County):\n",
    "    \n",
    "    >>> df = census_2010.loc[census_2010.county == \"Riverside County\"][['pop10','nhblk10']]\n",
    "    \n",
    "    The value is estimated below.\n",
    "    \n",
    "    >>> np.random.seed(1234)\n",
    "    >>> modified_gini_seg_index = Modified_Gini_Seg(df, 'nhblk10', 'pop10')\n",
    "    >>> modified_gini_seg_index.statistic\n",
    "    0.4280279611418648\n",
    "     \n",
    "    Notes\n",
    "    -----\n",
    "    Based on Carrington, William J., and Kenneth R. Troske. \"On measuring segregation in samples with small units.\" Journal of Business & Economic Statistics 15.4 (1997): 402-409.\n",
    "\n",
    "    \"\"\"\n",
    "\n",
    "    def __init__(self, data, group_pop_var, total_pop_var, iterations = 500):\n",
    "        \n",
    "        aux = _modified_gini_seg(data, group_pop_var, total_pop_var, iterations)\n",
    "\n",
    "        self.statistic = aux[0]\n",
    "        self.core_data = aux[1]\n",
    "        self._function = _modified_gini_seg\n",
    "        "
   ]
  },
  {
   "cell_type": "code",
   "execution_count": 529,
   "metadata": {},
   "outputs": [],
   "source": [
    "m = 250\n",
    "\n",
    "aux = np.empty(m)\n",
    "for i in range(m):\n",
    "    t1 = time.time()\n",
    "    index1 = Modified_Gini_Seg(df, 'HISP_', 'TOT_POP', iterations = 10)\n",
    "    t2 = time.time()\n",
    "    aux[i] = t2-t1\n",
    "    \n",
    "aux2 = np.empty(m)\n",
    "for i in range(m):\n",
    "    t1 = time.time()\n",
    "    index1 = Modified_Gini_Seg_Numpy(df, 'HISP_', 'TOT_POP', iterations = 10)\n",
    "    t2 = time.time()\n",
    "    aux2[i] = t2-t1\n",
    "    \n",
    "index1 = Modified_Gini_Seg(df, 'HISP_', 'TOT_POP', iterations = 10)\n",
    "index2 = Modified_Gini_Seg_Numpy(df, 'HISP_', 'TOT_POP', iterations = 10)"
   ]
  },
  {
   "cell_type": "code",
   "execution_count": 530,
   "metadata": {},
   "outputs": [
    {
     "data": {
      "text/plain": [
       "0.4216378441932044"
      ]
     },
     "execution_count": 530,
     "metadata": {},
     "output_type": "execute_result"
    }
   ],
   "source": [
    "index1.statistic"
   ]
  },
  {
   "cell_type": "code",
   "execution_count": 531,
   "metadata": {},
   "outputs": [
    {
     "data": {
      "text/plain": [
       "0.42192193476893425"
      ]
     },
     "execution_count": 531,
     "metadata": {},
     "output_type": "execute_result"
    }
   ],
   "source": [
    "index2.statistic"
   ]
  },
  {
   "cell_type": "code",
   "execution_count": 532,
   "metadata": {},
   "outputs": [
    {
     "data": {
      "text/plain": [
       "0.053652145385742187"
      ]
     },
     "execution_count": 532,
     "metadata": {},
     "output_type": "execute_result"
    }
   ],
   "source": [
    "aux.mean()"
   ]
  },
  {
   "cell_type": "code",
   "execution_count": 533,
   "metadata": {},
   "outputs": [
    {
     "data": {
      "text/plain": [
       "0.05257040214538574"
      ]
     },
     "execution_count": 533,
     "metadata": {},
     "output_type": "execute_result"
    }
   ],
   "source": [
    "aux2.mean()"
   ]
  },
  {
   "cell_type": "code",
   "execution_count": 534,
   "metadata": {},
   "outputs": [
    {
     "data": {
      "image/png": "[encoded data removed]",
      "text/plain": [
       "<Figure size 432x288 with 1 Axes>"
      ]
     },
     "metadata": {},
     "output_type": "display_data"
    }
   ],
   "source": [
    "plt.hist(aux, bins='auto')\n",
    "plt.show()"
   ]
  },
  {
   "cell_type": "code",
   "execution_count": 535,
   "metadata": {},
   "outputs": [
    {
     "data": {
      "image/png": "[encoded data removed]",
      "text/plain": [
       "<Figure size 432x288 with 1 Axes>"
      ]
     },
     "metadata": {},
     "output_type": "display_data"
    }
   ],
   "source": [
    "plt.hist(aux2, bins='auto')\n",
    "plt.show()"
   ]
  },
  {
   "cell_type": "markdown",
   "metadata": {},
   "source": [
    "# Bias Corrected Dissimilarity"
   ]
  },
  {
   "cell_type": "code",
   "execution_count": 536,
   "metadata": {},
   "outputs": [],
   "source": [
    "from segregation.bias_corrected_dissimilarity import Bias_Corrected_Dissim"
   ]
  },
  {
   "cell_type": "code",
   "execution_count": 538,
   "metadata": {},
   "outputs": [],
   "source": [
    "\"\"\"\n",
    "Bias-Corrected Dissimilarity Segregation Index\n",
    "\"\"\"\n",
    "\n",
    "__author__ = \"Renan X. Cortes <renanc@ucr.edu> and Sergio J. Rey <sergio.rey@ucr.edu>\"\n",
    "\n",
    "import numpy as np\n",
    "import pandas as pd\n",
    "from segregation.dissimilarity import _dissim\n",
    "\n",
    "__all__ = ['Bias_Corrected_Dissim']\n",
    "\n",
    "\n",
    "def _bias_corrected_dissim(data, group_pop_var, total_pop_var, B = 500):\n",
    "    \"\"\"\n",
    "    Calculation of Bias Corrected Dissimilarity index\n",
    "\n",
    "    Parameters\n",
    "    ----------\n",
    "\n",
    "    data          : a pandas DataFrame\n",
    "    \n",
    "    group_pop_var : string\n",
    "                    The name of variable in data that contains the population size of the group of interest\n",
    "                    \n",
    "    total_pop_var : string\n",
    "                    The name of variable in data that contains the total population of the unit\n",
    "                    \n",
    "    B             : int\n",
    "                    The number of iterations to calculate Dissimilarity simulating randomness with multinomial distributions. Default value is 500.\n",
    "\n",
    "    Attributes\n",
    "    ----------\n",
    "\n",
    "    statistic : float\n",
    "                Dissimilarity with Bias-Correction (bias correction from Allen, Rebecca et al. (2015))\n",
    "                \n",
    "    core_data : a pandas DataFrame\n",
    "                A pandas DataFrame that contains the columns used to perform the estimate. \n",
    "\n",
    "    Notes\n",
    "    -----\n",
    "    Based on Allen, Rebecca, et al. \"More reliable inference for the dissimilarity index of segregation.\" The econometrics journal 18.1 (2015): 40-66.\n",
    "\n",
    "    \"\"\"\n",
    "    if(type(B) is not int):\n",
    "        raise TypeError('B must be an integer')\n",
    "        \n",
    "    if(B < 2):\n",
    "        raise TypeError('B must be greater than 1.')\n",
    "   \n",
    "    D = _dissim(data, group_pop_var, total_pop_var)[0]\n",
    "    \n",
    "    data = data.rename(columns={group_pop_var: 'group_pop_var', \n",
    "                                total_pop_var: 'total_pop_var'})\n",
    "    \n",
    "    x = np.array(data.group_pop_var)\n",
    "    t = np.array(data.total_pop_var)\n",
    "    \n",
    "    other_group_pop = t - x\n",
    "    \n",
    "    # Group 0: minority group\n",
    "    p0_i = x / x.sum()\n",
    "    n0   = x.sum()\n",
    "    sim0 = np.random.multinomial(n0, p0_i, size = B)\n",
    "    \n",
    "    # Group 1: complement group\n",
    "    p1_i = other_group_pop / other_group_pop.sum()\n",
    "    n1   = other_group_pop.sum()\n",
    "    sim1 = np.random.multinomial(n1, p1_i, size = B)\n",
    "    \n",
    "    \n",
    "    Dbcs = np.empty(B)\n",
    "    for i in np.array(range(B)):\n",
    "        data_aux = {'simul_group': sim0[i].tolist(), 'simul_tot': (sim0[i] + sim1[i]).tolist()}\n",
    "        df_aux = pd.DataFrame.from_dict(data_aux)\n",
    "        Dbcs[i] = _dissim(df_aux, 'simul_group', 'simul_tot')[0]\n",
    "        \n",
    "    Db = Dbcs.mean()\n",
    "    \n",
    "    Dbc = 2 * D - Db\n",
    "    Dbc # It expected to be lower than D, because D is upwarded biased\n",
    "    \n",
    "    core_data = data[['group_pop_var', 'total_pop_var']]\n",
    "        \n",
    "    return Dbc, core_data\n",
    "\n",
    "\n",
    "class Bias_Corrected_Dissim_Numpy:\n",
    "    \"\"\"\n",
    "    Calculation of Bias Corrected Dissimilarity index\n",
    "\n",
    "    Parameters\n",
    "    ----------\n",
    "\n",
    "    data          : a pandas DataFrame\n",
    "    \n",
    "    group_pop_var : string\n",
    "                    The name of variable in data that contains the population size of the group of interest\n",
    "                    \n",
    "    total_pop_var : string\n",
    "                    The name of variable in data that contains the total population of the unit\n",
    "                    \n",
    "    B             : int\n",
    "                    The number of iterations to calculate Dissimilarity simulating randomness with multinomial distributions. Default value is 500.\n",
    "\n",
    "    Attributes\n",
    "    ----------\n",
    "\n",
    "    statistic : float\n",
    "                Dissimilarity with Bias-Correction (bias correction from Allen, Rebecca et al. (2015))\n",
    "                \n",
    "    core_data : a pandas DataFrame\n",
    "                A pandas DataFrame that contains the columns used to perform the estimate. \n",
    "        \n",
    "    Examples\n",
    "    --------\n",
    "    In this example, we will calculate the Dissimilarity with Bias Correction (Dbc) for the Riverside County using the census tract data of 2010.\n",
    "    The group of interest is non-hispanic black people which is the variable nhblk10 in the dataset.\n",
    "    \n",
    "    Firstly, we need to read the data:\n",
    "    \n",
    "    >>> This example uses all census data that the user must provide your own copy of the external database.\n",
    "    >>> A step-by-step procedure for downloading the data can be found here: https://github.com/spatialucr/osnap/tree/master/osnap/data.\n",
    "    >>> After the user download the LTDB_Std_All_fullcount.zip and extract the files, the filepath might be something like presented below.\n",
    "    >>> filepath = '~/data/std_2010_fullcount.csv'\n",
    "    >>> census_2010 = pd.read_csv(filepath, encoding = \"ISO-8859-1\", sep = \",\")\n",
    "    \n",
    "    Then, we filter only for the desired county (in this case, Riverside County):\n",
    "    \n",
    "    >>> df = census_2010.loc[census_2010.county == \"Riverside County\"][['pop10','nhblk10']]\n",
    "    \n",
    "    The value is estimated below.\n",
    "    \n",
    "    >>> np.random.seed(1234)\n",
    "    >>> bias_corrected_dissim_index = Bias_Corrected_Dissim(df, 'nhblk10', 'pop10')\n",
    "    >>> bias_corrected_dissim_index.statistic\n",
    "    0.31484636081876954\n",
    "     \n",
    "    Notes\n",
    "    -----\n",
    "    Based on Allen, Rebecca, et al. \"More reliable inference for the dissimilarity index of segregation.\" The econometrics journal 18.1 (2015): 40-66.\n",
    "\n",
    "    \"\"\"\n",
    "\n",
    "    def __init__(self, data, group_pop_var, total_pop_var, B = 500):\n",
    "        \n",
    "        aux = _bias_corrected_dissim(data, group_pop_var, total_pop_var, B)\n",
    "\n",
    "        self.statistic = aux[0]\n",
    "        self.core_data = aux[1]\n",
    "        self._function = _bias_corrected_dissim\n",
    "        \n",
    "        "
   ]
  },
  {
   "cell_type": "code",
   "execution_count": 546,
   "metadata": {},
   "outputs": [],
   "source": [
    "m = 500\n",
    "\n",
    "aux = np.empty(m)\n",
    "for i in range(m):\n",
    "    t1 = time.time()\n",
    "    index1 = Bias_Corrected_Dissim(df, 'HISP_', 'TOT_POP', B = 10)\n",
    "    t2 = time.time()\n",
    "    aux[i] = t2-t1\n",
    "    \n",
    "aux2 = np.empty(m)\n",
    "for i in range(m):\n",
    "    t1 = time.time()\n",
    "    index1 = Bias_Corrected_Dissim_Numpy(df, 'HISP_', 'TOT_POP', B = 10)\n",
    "    t2 = time.time()\n",
    "    aux2[i] = t2-t1\n",
    "    \n",
    "index1 = Bias_Corrected_Dissim(df, 'HISP_', 'TOT_POP', B = 10)\n",
    "index2 = Bias_Corrected_Dissim_Numpy(df, 'HISP_', 'TOT_POP', B = 10)"
   ]
  },
  {
   "cell_type": "code",
   "execution_count": 547,
   "metadata": {},
   "outputs": [
    {
     "data": {
      "text/plain": [
       "0.3212609677657991"
      ]
     },
     "execution_count": 547,
     "metadata": {},
     "output_type": "execute_result"
    }
   ],
   "source": [
    "index1.statistic"
   ]
  },
  {
   "cell_type": "code",
   "execution_count": 548,
   "metadata": {},
   "outputs": [
    {
     "data": {
      "text/plain": [
       "0.32186229933092286"
      ]
     },
     "execution_count": 548,
     "metadata": {},
     "output_type": "execute_result"
    }
   ],
   "source": [
    "index2.statistic"
   ]
  },
  {
   "cell_type": "code",
   "execution_count": 549,
   "metadata": {},
   "outputs": [
    {
     "data": {
      "text/plain": [
       "0.027360074520111084"
      ]
     },
     "execution_count": 549,
     "metadata": {},
     "output_type": "execute_result"
    }
   ],
   "source": [
    "aux.mean()"
   ]
  },
  {
   "cell_type": "code",
   "execution_count": 550,
   "metadata": {},
   "outputs": [
    {
     "data": {
      "text/plain": [
       "0.026073184967041016"
      ]
     },
     "execution_count": 550,
     "metadata": {},
     "output_type": "execute_result"
    }
   ],
   "source": [
    "aux2.mean()"
   ]
  },
  {
   "cell_type": "code",
   "execution_count": 551,
   "metadata": {},
   "outputs": [
    {
     "data": {
      "image/png": "[encoded data removed]",
      "text/plain": [
       "<Figure size 432x288 with 1 Axes>"
      ]
     },
     "metadata": {},
     "output_type": "display_data"
    }
   ],
   "source": [
    "plt.hist(aux, bins='auto')\n",
    "plt.show()"
   ]
  },
  {
   "cell_type": "code",
   "execution_count": 552,
   "metadata": {},
   "outputs": [
    {
     "data": {
      "image/png": "[encoded data removed]",
      "text/plain": [
       "<Figure size 432x288 with 1 Axes>"
      ]
     },
     "metadata": {},
     "output_type": "display_data"
    }
   ],
   "source": [
    "plt.hist(aux2, bins='auto')\n",
    "plt.show()"
   ]
  },
  {
   "cell_type": "markdown",
   "metadata": {},
   "source": [
    "# Absolute Concentration"
   ]
  },
  {
   "cell_type": "code",
   "execution_count": 557,
   "metadata": {},
   "outputs": [],
   "source": [
    "from segregation.absolute_concentration import Absolute_Concentration"
   ]
  },
  {
   "cell_type": "code",
   "execution_count": 615,
   "metadata": {},
   "outputs": [],
   "source": [
    "\"\"\"\n",
    "Absolute Concentration based Segregation Metrics\n",
    "\"\"\"\n",
    "\n",
    "__author__ = \"Renan X. Cortes <renanc@ucr.edu> and Sergio J. Rey <sergio.rey@ucr.edu>\"\n",
    "\n",
    "import numpy as np\n",
    "import pandas as pd\n",
    "\n",
    "__all__ = ['Absolute_Concentration']\n",
    "\n",
    "\n",
    "def _absolute_concentration(data, group_pop_var, total_pop_var):\n",
    "    \"\"\"\n",
    "    Calculation of Absolute Concentration index\n",
    "\n",
    "    Parameters\n",
    "    ----------\n",
    "\n",
    "    data          : a geopandas DataFrame with a geometry column.\n",
    "    \n",
    "    group_pop_var : string\n",
    "                    The name of variable in data that contains the population size of the group of interest\n",
    "                    \n",
    "    total_pop_var : string\n",
    "                    The name of variable in data that contains the total population of the unit\n",
    "\n",
    "    Attributes\n",
    "    ----------\n",
    "\n",
    "    statistic : float\n",
    "                Absolute Concentration Index\n",
    "                \n",
    "    core_data : a geopandas DataFrame\n",
    "                A geopandas DataFrame that contains the columns used to perform the estimate.\n",
    "                \n",
    "    Notes\n",
    "    -----\n",
    "    Based on Massey, Douglas S., and Nancy A. Denton. \"The dimensions of residential segregation.\" Social forces 67.2 (1988): 281-315.\n",
    "\n",
    "    \"\"\"\n",
    "    if (str(type(data)) != '<class \\'geopandas.geodataframe.GeoDataFrame\\'>'):\n",
    "        raise TypeError('data is not a GeoDataFrame and, therefore, this index cannot be calculated.')\n",
    "        \n",
    "    if ('geometry' not in data.columns):\n",
    "        data['geometry'] = data[data._geometry_column_name]\n",
    "        data = data.drop([data._geometry_column_name], axis = 1)\n",
    "        data = data.set_geometry('geometry')\n",
    "        \n",
    "    if((type(group_pop_var) is not str) or (type(total_pop_var) is not str)):\n",
    "        raise TypeError('group_pop_var and total_pop_var must be strings')\n",
    "    \n",
    "    if ((group_pop_var not in data.columns) or (total_pop_var not in data.columns)):    \n",
    "        raise ValueError('group_pop_var and total_pop_var must be variables of data')\n",
    "    \n",
    "    data = data.rename(columns={group_pop_var: 'group_pop_var', \n",
    "                                total_pop_var: 'total_pop_var'})\n",
    "    \n",
    "    x = np.array(data.group_pop_var)\n",
    "    t = np.array(data.total_pop_var)\n",
    "    \n",
    "    area = np.array(data.area)\n",
    "    \n",
    "    if any(t < x):    \n",
    "        raise ValueError('Group of interest population must equal or lower than the total population of the units.')\n",
    "    \n",
    "    X = x.sum()\n",
    "    T = t.sum()\n",
    "    \n",
    "    des_ind = (-area).argsort()\n",
    "    asc_ind = area.argsort()\n",
    "    \n",
    "    n1 = np.where(((np.cumsum(t[asc_ind]) / T) < X/T) == False)[0][0]\n",
    "    n2 = np.where(((np.cumsum(t[des_ind]) / T) < X/T) == False)[0][0]\n",
    "    \n",
    "    n = data.shape[0]\n",
    "    T1 =  t[asc_ind][0:(n1+1)].sum()\n",
    "    T2 =  t[asc_ind][n2:n].sum()\n",
    "    \n",
    "    ACO = 1- ((((x[asc_ind] * area[asc_ind] / X).sum()) - ((t[asc_ind] * area[asc_ind] / T1)[0:(n1 + 1)].sum())) / \\\n",
    "          (((t[asc_ind] * area[asc_ind] / T2)[n2:n].sum()) - ((t[asc_ind] * area[asc_ind]/T1)[0:(n1 + 1)].sum())))\n",
    "\n",
    "    core_data = data[['group_pop_var', 'total_pop_var', 'geometry']]\n",
    "\n",
    "    return ACO, core_data\n",
    "\n",
    "\n",
    "class Absolute_Concentration_Numpy:\n",
    "    \"\"\"\n",
    "    Calculation of Absolute Concentration index\n",
    "\n",
    "    Parameters\n",
    "    ----------\n",
    "\n",
    "    data          : a geopandas DataFrame with a geometry column.\n",
    "    \n",
    "    group_pop_var : string\n",
    "                    The name of variable in data that contains the population size of the group of interest\n",
    "                    \n",
    "    total_pop_var : string\n",
    "                    The name of variable in data that contains the total population of the unit\n",
    "\n",
    "    Attributes\n",
    "    ----------\n",
    "\n",
    "    statistic : float\n",
    "                Absolute Concentration Index\n",
    "                \n",
    "    core_data : a geopandas DataFrame\n",
    "                A geopandas DataFrame that contains the columns used to perform the estimate.\n",
    "                \n",
    "    Examples\n",
    "    --------\n",
    "    In this example, we will calculate the absolute concentration index (ACO) for the Riverside County using the census tract data of 2010.\n",
    "    The group of interest is non-hispanic black people which is the variable nhblk10 in the dataset.\n",
    "    \n",
    "    Firstly, we need to read the data:\n",
    "    \n",
    "    >>> This example uses all census data that the user must provide your own copy of the external database.\n",
    "    >>> A step-by-step procedure for downloading the data can be found here: https://github.com/spatialucr/osnap/tree/master/osnap/data.\n",
    "    >>> After the user download the LTDB_Std_All_fullcount.zip and extract the files, the filepath might be something like presented below.\n",
    "    >>> filepath = '~/data/std_2010_fullcount.csv'\n",
    "    >>> census_2010 = pd.read_csv(filepath, encoding = \"ISO-8859-1\", sep = \",\")\n",
    "    \n",
    "    Then, we filter only for the desired county (in this case, Riverside County):\n",
    "    \n",
    "    >>> df = census_2010.loc[census_2010.county == \"Riverside County\"][['trtid10', 'pop10','nhblk10']]\n",
    "    \n",
    "    Then, we read the Riverside map data using geopandas (the county id is 06065):\n",
    "    \n",
    "    >>> map_url = 'https://raw.githubusercontent.com/renanxcortes/inequality-segregation-supplementary-files/master/Tracts_grouped_by_County/06065.json'\n",
    "    >>> map_gpd = gpd.read_file(map_url)\n",
    "    \n",
    "    It is necessary to harmonize the data type of the dataset and the geopandas in order to work the merging procedure.\n",
    "    Later, we extract only the columns that will be used.\n",
    "    \n",
    "    >>> map_gpd['INTGEOID10'] = pd.to_numeric(map_gpd[\"GEOID10\"])\n",
    "    >>> gdf_pre = map_gpd.merge(df, left_on = 'INTGEOID10', right_on = 'trtid10')\n",
    "    >>> gdf = gdf_pre[['geometry', 'pop10', 'nhblk10']]\n",
    "    \n",
    "    The value is estimated below.\n",
    "    \n",
    "    >>> absolute_concentration_index = Absolute_Concentration(gdf, 'nhblk10', 'pop10')\n",
    "    >>> absolute_concentration_index.statistic\n",
    "    0.5430616390401855\n",
    "            \n",
    "    Notes\n",
    "    -----\n",
    "    Based on Massey, Douglas S., and Nancy A. Denton. \"The dimensions of residential segregation.\" Social forces 67.2 (1988): 281-315.\n",
    "\n",
    "    \"\"\"\n",
    "\n",
    "    def __init__(self, data, group_pop_var, total_pop_var):\n",
    "        \n",
    "        aux = _absolute_concentration(data, group_pop_var, total_pop_var)\n",
    "\n",
    "        self.statistic = aux[0]\n",
    "        self.core_data = aux[1]\n",
    "        self._function = _absolute_concentration"
   ]
  },
  {
   "cell_type": "code",
   "execution_count": 616,
   "metadata": {},
   "outputs": [],
   "source": [
    "m = 500\n",
    "\n",
    "aux = np.empty(m)\n",
    "for i in range(m):\n",
    "    t1 = time.time()\n",
    "    index1 = Absolute_Concentration(df, 'HISP_', 'TOT_POP')\n",
    "    t2 = time.time()\n",
    "    aux[i] = t2-t1\n",
    "    \n",
    "aux2 = np.empty(m)\n",
    "for i in range(m):\n",
    "    t1 = time.time()\n",
    "    index1 = Absolute_Concentration_Numpy(df, 'HISP_', 'TOT_POP')\n",
    "    t2 = time.time()\n",
    "    aux2[i] = t2-t1\n",
    "    \n",
    "index1 = Absolute_Concentration(df, 'HISP_', 'TOT_POP')\n",
    "index2 = Absolute_Concentration_Numpy(df, 'HISP_', 'TOT_POP')"
   ]
  },
  {
   "cell_type": "code",
   "execution_count": 617,
   "metadata": {},
   "outputs": [
    {
     "data": {
      "text/plain": [
       "0.21496583971774408"
      ]
     },
     "execution_count": 617,
     "metadata": {},
     "output_type": "execute_result"
    }
   ],
   "source": [
    "index1.statistic"
   ]
  },
  {
   "cell_type": "code",
   "execution_count": 618,
   "metadata": {},
   "outputs": [
    {
     "data": {
      "text/plain": [
       "0.21496583971774408"
      ]
     },
     "execution_count": 618,
     "metadata": {},
     "output_type": "execute_result"
    }
   ],
   "source": [
    "index2.statistic"
   ]
  },
  {
   "cell_type": "code",
   "execution_count": 619,
   "metadata": {},
   "outputs": [
    {
     "data": {
      "text/plain": [
       "0.011712728023529052"
      ]
     },
     "execution_count": 619,
     "metadata": {},
     "output_type": "execute_result"
    }
   ],
   "source": [
    "aux.mean()"
   ]
  },
  {
   "cell_type": "code",
   "execution_count": 620,
   "metadata": {},
   "outputs": [
    {
     "data": {
      "text/plain": [
       "0.002318093776702881"
      ]
     },
     "execution_count": 620,
     "metadata": {},
     "output_type": "execute_result"
    }
   ],
   "source": [
    "aux2.mean()"
   ]
  },
  {
   "cell_type": "code",
   "execution_count": 621,
   "metadata": {},
   "outputs": [
    {
     "data": {
      "image/png": "[encoded data removed]",
      "text/plain": [
       "<Figure size 432x288 with 1 Axes>"
      ]
     },
     "metadata": {},
     "output_type": "display_data"
    }
   ],
   "source": [
    "plt.hist(aux, bins='auto')\n",
    "plt.show()"
   ]
  },
  {
   "cell_type": "code",
   "execution_count": 622,
   "metadata": {},
   "outputs": [
    {
     "data": {
      "image/png": "[encoded data removed]",
      "text/plain": [
       "<Figure size 432x288 with 1 Axes>"
      ]
     },
     "metadata": {},
     "output_type": "display_data"
    }
   ],
   "source": [
    "plt.hist(aux2, bins='auto')\n",
    "plt.show()"
   ]
  },
  {
   "cell_type": "markdown",
   "metadata": {},
   "source": [
    "# Relative Concentration"
   ]
  },
  {
   "cell_type": "code",
   "execution_count": 623,
   "metadata": {},
   "outputs": [],
   "source": [
    "from segregation.relative_concentration import Relative_Concentration"
   ]
  },
  {
   "cell_type": "code",
   "execution_count": 624,
   "metadata": {},
   "outputs": [],
   "source": [
    "\"\"\"\n",
    "Relative Concentration based Segregation Metrics\n",
    "\"\"\"\n",
    "\n",
    "__author__ = \"Renan X. Cortes <renanc@ucr.edu> and Sergio J. Rey <sergio.rey@ucr.edu>\"\n",
    "\n",
    "import numpy as np\n",
    "import pandas as pd\n",
    "\n",
    "__all__ = ['Relative_Concentration']\n",
    "\n",
    "\n",
    "def _relative_concentration(data, group_pop_var, total_pop_var):\n",
    "    \"\"\"\n",
    "    Calculation of Relative Concentration index\n",
    "\n",
    "    Parameters\n",
    "    ----------\n",
    "\n",
    "    data          : a geopandas DataFrame with a geometry column.\n",
    "    \n",
    "    group_pop_var : string\n",
    "                    The name of variable in data that contains the population size of the group of interest\n",
    "                    \n",
    "    total_pop_var : string\n",
    "                    The name of variable in data that contains the total population of the unit\n",
    "\n",
    "    Attributes\n",
    "    ----------\n",
    "\n",
    "    statistic : float\n",
    "                Relative Concentration Index\n",
    "                \n",
    "    core_data : a geopandas DataFrame\n",
    "                A geopandas DataFrame that contains the columns used to perform the estimate.\n",
    "\n",
    "    Notes\n",
    "    -----\n",
    "    Based on Massey, Douglas S., and Nancy A. Denton. \"The dimensions of residential segregation.\" Social forces 67.2 (1988): 281-315.\n",
    "\n",
    "    \"\"\"\n",
    "    \n",
    "    if (str(type(data)) != '<class \\'geopandas.geodataframe.GeoDataFrame\\'>'):\n",
    "        raise TypeError('data is not a GeoDataFrame and, therefore, this index cannot be calculated.')\n",
    "        \n",
    "    if ('geometry' not in data.columns):\n",
    "        data['geometry'] = data[data._geometry_column_name]\n",
    "        data = data.drop([data._geometry_column_name], axis = 1)\n",
    "        data = data.set_geometry('geometry')\n",
    "        \n",
    "    if((type(group_pop_var) is not str) or (type(total_pop_var) is not str)):\n",
    "        raise TypeError('group_pop_var and total_pop_var must be strings')\n",
    "    \n",
    "    if ((group_pop_var not in data.columns) or (total_pop_var not in data.columns)):    \n",
    "        raise ValueError('group_pop_var and total_pop_var must be variables of data')\n",
    "    \n",
    "    data = data.rename(columns={group_pop_var: 'group_pop_var', \n",
    "                                total_pop_var: 'total_pop_var'})\n",
    "    \n",
    "    x = np.array(data.group_pop_var)\n",
    "    t = np.array(data.total_pop_var)\n",
    "    \n",
    "    area = np.array(data.area)\n",
    "    \n",
    "    if any(t < x):    \n",
    "        raise ValueError('Group of interest population must equal or lower than the total population of the units.')\n",
    "    \n",
    "    y = t - x\n",
    "    \n",
    "    X = x.sum()\n",
    "    Y = y.sum()\n",
    "    T = t.sum()\n",
    "    \n",
    "    # Create the indexes according to the area ordering\n",
    "    des_ind = (-area).argsort()\n",
    "    asc_ind = area.argsort()\n",
    "    \n",
    "    n1 = np.where(((np.cumsum(t[asc_ind]) / T) < X/T) == False)[0][0]\n",
    "    n2 = np.where(((np.cumsum(t[des_ind]) / T) < X/T) == False)[0][0]\n",
    "    \n",
    "    n  = data.shape[0]\n",
    "    T1 = t[asc_ind][0:(n1+1)].sum()\n",
    "    T2 = t[asc_ind][n2:n].sum()\n",
    "    \n",
    "    RCO = ((((x[asc_ind] * area[asc_ind] / X).sum()) / ((y[asc_ind] * area[asc_ind] / Y).sum())) - 1) / \\\n",
    "          ((((t[asc_ind] * area[asc_ind])[0:(n1+1)].sum() / T1) / ((t[asc_ind] * area[asc_ind])[n2:n].sum() / T2)) - 1)\n",
    "    \n",
    "    core_data = data[['group_pop_var', 'total_pop_var', 'geometry']]\n",
    "    \n",
    "    return RCO, core_data\n",
    "\n",
    "\n",
    "class Relative_Concentration_Numpy:\n",
    "    \"\"\"\n",
    "    Calculation of Relative Concentration index\n",
    "\n",
    "    Parameters\n",
    "    ----------\n",
    "\n",
    "    data          : a geopandas DataFrame with a geometry column.\n",
    "    \n",
    "    group_pop_var : string\n",
    "                    The name of variable in data that contains the population size of the group of interest\n",
    "                    \n",
    "    total_pop_var : string\n",
    "                    The name of variable in data that contains the total population of the unit\n",
    "\n",
    "    Attributes\n",
    "    ----------\n",
    "\n",
    "    statistic : float\n",
    "                Relative Concentration Index\n",
    "                \n",
    "    core_data : a geopandas DataFrame\n",
    "                A geopandas DataFrame that contains the columns used to perform the estimate.\n",
    "       \n",
    "    Examples\n",
    "    --------\n",
    "    In this example, we will calculate the relative concentration index (RCO) for the Riverside County using the census tract data of 2010.\n",
    "    The group of interest is non-hispanic black people which is the variable nhblk10 in the dataset.\n",
    "    \n",
    "    Firstly, we need to read the data:\n",
    "    \n",
    "    >>> This example uses all census data that the user must provide your own copy of the external database.\n",
    "    >>> A step-by-step procedure for downloading the data can be found here: https://github.com/spatialucr/osnap/tree/master/osnap/data.\n",
    "    >>> After the user download the LTDB_Std_All_fullcount.zip and extract the files, the filepath might be something like presented below.\n",
    "    >>> filepath = '~/data/std_2010_fullcount.csv'\n",
    "    >>> census_2010 = pd.read_csv(filepath, encoding = \"ISO-8859-1\", sep = \",\")\n",
    "    \n",
    "    Then, we filter only for the desired county (in this case, Riverside County):\n",
    "    \n",
    "    >>> df = census_2010.loc[census_2010.county == \"Riverside County\"][['trtid10', 'pop10','nhblk10']]\n",
    "    \n",
    "    Then, we read the Riverside map data using geopandas (the county id is 06065):\n",
    "    \n",
    "    >>> map_url = 'https://raw.githubusercontent.com/renanxcortes/inequality-segregation-supplementary-files/master/Tracts_grouped_by_County/06065.json'\n",
    "    >>> map_gpd = gpd.read_file(map_url)\n",
    "    \n",
    "    It is necessary to harmonize the data type of the dataset and the geopandas in order to work the merging procedure.\n",
    "    Later, we extract only the columns that will be used.\n",
    "    \n",
    "    >>> map_gpd['INTGEOID10'] = pd.to_numeric(map_gpd[\"GEOID10\"])\n",
    "    >>> gdf_pre = map_gpd.merge(df, left_on = 'INTGEOID10', right_on = 'trtid10')\n",
    "    >>> gdf = gdf_pre[['geometry', 'pop10', 'nhblk10']]\n",
    "    \n",
    "    The value is estimated below.\n",
    "    \n",
    "    >>> relative_concentration_index = Relative_Concentration(gdf, 'nhblk10', 'pop10')\n",
    "    >>> relative_concentration_index.statistic\n",
    "    0.5364305924831142\n",
    "            \n",
    "    Notes\n",
    "    -----\n",
    "    Based on Massey, Douglas S., and Nancy A. Denton. \"The dimensions of residential segregation.\" Social forces 67.2 (1988): 281-315.\n",
    "\n",
    "    \"\"\"\n",
    "\n",
    "    def __init__(self, data, group_pop_var, total_pop_var):\n",
    "        \n",
    "        aux = _relative_concentration(data, group_pop_var, total_pop_var)\n",
    "\n",
    "        self.statistic = aux[0]\n",
    "        self.core_data = aux[1]\n",
    "        self._function = _relative_concentration"
   ]
  },
  {
   "cell_type": "code",
   "execution_count": 630,
   "metadata": {},
   "outputs": [],
   "source": [
    "m = 500\n",
    "\n",
    "aux = np.empty(m)\n",
    "for i in range(m):\n",
    "    t1 = time.time()\n",
    "    index1 = Relative_Concentration(df, 'HISP_', 'TOT_POP')\n",
    "    t2 = time.time()\n",
    "    aux[i] = t2-t1\n",
    "    \n",
    "aux2 = np.empty(m)\n",
    "for i in range(m):\n",
    "    t1 = time.time()\n",
    "    index1 = Relative_Concentration_Numpy(df, 'HISP_', 'TOT_POP')\n",
    "    t2 = time.time()\n",
    "    aux2[i] = t2-t1\n",
    "    \n",
    "index1 = Relative_Concentration(df, 'HISP_', 'TOT_POP')\n",
    "index2 = Relative_Concentration_Numpy(df, 'HISP_', 'TOT_POP')"
   ]
  },
  {
   "cell_type": "code",
   "execution_count": 631,
   "metadata": {},
   "outputs": [
    {
     "data": {
      "text/plain": [
       "0.13102848628073688"
      ]
     },
     "execution_count": 631,
     "metadata": {},
     "output_type": "execute_result"
    }
   ],
   "source": [
    "index1.statistic"
   ]
  },
  {
   "cell_type": "code",
   "execution_count": 632,
   "metadata": {},
   "outputs": [
    {
     "data": {
      "text/plain": [
       "0.13102848628073688"
      ]
     },
     "execution_count": 632,
     "metadata": {},
     "output_type": "execute_result"
    }
   ],
   "source": [
    "index2.statistic"
   ]
  },
  {
   "cell_type": "code",
   "execution_count": 633,
   "metadata": {},
   "outputs": [
    {
     "data": {
      "text/plain": [
       "0.011829872131347657"
      ]
     },
     "execution_count": 633,
     "metadata": {},
     "output_type": "execute_result"
    }
   ],
   "source": [
    "aux.mean()"
   ]
  },
  {
   "cell_type": "code",
   "execution_count": 634,
   "metadata": {},
   "outputs": [
    {
     "data": {
      "text/plain": [
       "0.0023219566345214844"
      ]
     },
     "execution_count": 634,
     "metadata": {},
     "output_type": "execute_result"
    }
   ],
   "source": [
    "aux2.mean()"
   ]
  },
  {
   "cell_type": "code",
   "execution_count": 635,
   "metadata": {},
   "outputs": [
    {
     "data": {
      "image/png": "[encoded data removed]",
      "text/plain": [
       "<Figure size 432x288 with 1 Axes>"
      ]
     },
     "metadata": {},
     "output_type": "display_data"
    }
   ],
   "source": [
    "plt.hist(aux, bins='auto')\n",
    "plt.show()"
   ]
  },
  {
   "cell_type": "code",
   "execution_count": 636,
   "metadata": {},
   "outputs": [
    {
     "data": {
      "image/png": "[encoded data removed]",
      "text/plain": [
       "<Figure size 432x288 with 1 Axes>"
      ]
     },
     "metadata": {},
     "output_type": "display_data"
    }
   ],
   "source": [
    "plt.hist(aux2, bins='auto')\n",
    "plt.show()"
   ]
  },
  {
   "cell_type": "markdown",
   "metadata": {},
   "source": [
    "# Delta"
   ]
  },
  {
   "cell_type": "code",
   "execution_count": 637,
   "metadata": {},
   "outputs": [],
   "source": [
    "from segregation.delta import Delta"
   ]
  },
  {
   "cell_type": "code",
   "execution_count": 638,
   "metadata": {},
   "outputs": [],
   "source": [
    "\"\"\"\n",
    "Delta based Segregation Metrics\n",
    "\"\"\"\n",
    "\n",
    "__author__ = \"Renan X. Cortes <renanc@ucr.edu> and Sergio J. Rey <sergio.rey@ucr.edu>\"\n",
    "\n",
    "import numpy as np\n",
    "import pandas as pd\n",
    "\n",
    "__all__ = ['Delta']\n",
    "\n",
    "\n",
    "def _delta(data, group_pop_var, total_pop_var):\n",
    "    \"\"\"\n",
    "    Calculation of Delta index\n",
    "\n",
    "    Parameters\n",
    "    ----------\n",
    "\n",
    "    data          : a geopandas DataFrame with a geometry column.\n",
    "    \n",
    "    group_pop_var : string\n",
    "                    The name of variable in data that contains the population size of the group of interest\n",
    "                    \n",
    "    total_pop_var : string\n",
    "                    The name of variable in data that contains the total population of the unit\n",
    "\n",
    "    Attributes\n",
    "    ----------\n",
    "\n",
    "    statistic : float\n",
    "                Delta Index\n",
    "                \n",
    "    core_data : a geopandas DataFrame\n",
    "                A geopandas DataFrame that contains the columns used to perform the estimate.\n",
    "\n",
    "    Notes\n",
    "    -----\n",
    "    Based on Massey, Douglas S., and Nancy A. Denton. \"The dimensions of residential segregation.\" Social forces 67.2 (1988): 281-315.\n",
    "\n",
    "    \"\"\"\n",
    "    \n",
    "    if (str(type(data)) != '<class \\'geopandas.geodataframe.GeoDataFrame\\'>'):\n",
    "        raise TypeError('data is not a GeoDataFrame and, therefore, this index cannot be calculated.')\n",
    "        \n",
    "    if ('geometry' not in data.columns):\n",
    "        data['geometry'] = data[data._geometry_column_name]\n",
    "        data = data.drop([data._geometry_column_name], axis = 1)\n",
    "        data = data.set_geometry('geometry')\n",
    "        \n",
    "    if((type(group_pop_var) is not str) or (type(total_pop_var) is not str)):\n",
    "        raise TypeError('group_pop_var and total_pop_var must be strings')\n",
    "    \n",
    "    if ((group_pop_var not in data.columns) or (total_pop_var not in data.columns)):    \n",
    "        raise ValueError('group_pop_var and total_pop_var must be variables of data')\n",
    "    \n",
    "    data = data.rename(columns={group_pop_var: 'group_pop_var', \n",
    "                                total_pop_var: 'total_pop_var'})\n",
    "    \n",
    "    x = np.array(data.group_pop_var)\n",
    "    t = np.array(data.total_pop_var)\n",
    "    \n",
    "    area = np.array(data.area)\n",
    "    \n",
    "    if any(t < x):    \n",
    "        raise ValueError('Group of interest population must equal or lower than the total population of the units.')\n",
    "    \n",
    "    X = x.sum()\n",
    "    A = area.sum()\n",
    "    \n",
    "    DEL = 1/2 * abs(x / X - area / A).sum()\n",
    "    \n",
    "    core_data = data[['group_pop_var', 'total_pop_var', 'geometry']]\n",
    "    \n",
    "    return DEL, core_data\n",
    "\n",
    "\n",
    "class Delta_Numpy:\n",
    "    \"\"\"\n",
    "    Calculation of Delta index\n",
    "\n",
    "    Parameters\n",
    "    ----------\n",
    "\n",
    "    data          : a geopandas DataFrame with a geometry column.\n",
    "    \n",
    "    group_pop_var : string\n",
    "                    The name of variable in data that contains the population size of the group of interest\n",
    "                    \n",
    "    total_pop_var : string\n",
    "                    The name of variable in data that contains the total population of the unit\n",
    "\n",
    "    Attributes\n",
    "    ----------\n",
    "\n",
    "    statistic : float\n",
    "                Delta Index\n",
    "                \n",
    "    core_data : a geopandas DataFrame\n",
    "                A geopandas DataFrame that contains the columns used to perform the estimate.\n",
    "        \n",
    "    Examples\n",
    "    --------\n",
    "    In this example, we will calculate the delta index (D) for the Riverside County using the census tract data of 2010.\n",
    "    The group of interest is non-hispanic black people which is the variable nhblk10 in the dataset.\n",
    "    \n",
    "    Firstly, we need to read the data:\n",
    "    \n",
    "    >>> This example uses all census data that the user must provide your own copy of the external database.\n",
    "    >>> A step-by-step procedure for downloading the data can be found here: https://github.com/spatialucr/osnap/tree/master/osnap/data.\n",
    "    >>> After the user download the LTDB_Std_All_fullcount.zip and extract the files, the filepath might be something like presented below.\n",
    "    >>> filepath = '~/data/std_2010_fullcount.csv'\n",
    "    >>> census_2010 = pd.read_csv(filepath, encoding = \"ISO-8859-1\", sep = \",\")\n",
    "    \n",
    "    Then, we filter only for the desired county (in this case, Riverside County):\n",
    "    \n",
    "    >>> df = census_2010.loc[census_2010.county == \"Riverside County\"][['trtid10', 'pop10','nhblk10']]\n",
    "    \n",
    "    Then, we read the Riverside map data using geopandas (the county id is 06065):\n",
    "    \n",
    "    >>> map_url = 'https://raw.githubusercontent.com/renanxcortes/inequality-segregation-supplementary-files/master/Tracts_grouped_by_County/06065.json'\n",
    "    >>> map_gpd = gpd.read_file(map_url)\n",
    "    \n",
    "    It is necessary to harmonize the data type of the dataset and the geopandas in order to work the merging procedure.\n",
    "    Later, we extract only the columns that will be used.\n",
    "    \n",
    "    >>> map_gpd['INTGEOID10'] = pd.to_numeric(map_gpd[\"GEOID10\"])\n",
    "    >>> gdf_pre = map_gpd.merge(df, left_on = 'INTGEOID10', right_on = 'trtid10')\n",
    "    >>> gdf = gdf_pre[['geometry', 'pop10', 'nhblk10']]\n",
    "    \n",
    "    The value is estimated below.\n",
    "    \n",
    "    >>> delta_index = Delta(gdf, 'nhblk10', 'pop10')\n",
    "    >>> delta_index.statistic\n",
    "    0.8367330649317353\n",
    "            \n",
    "    Notes\n",
    "    -----\n",
    "    Based on Massey, Douglas S., and Nancy A. Denton. \"The dimensions of residential segregation.\" Social forces 67.2 (1988): 281-315.\n",
    "    \n",
    "    \"\"\"\n",
    "\n",
    "    def __init__(self, data, group_pop_var, total_pop_var):\n",
    "        \n",
    "        aux = _delta(data, group_pop_var, total_pop_var)\n",
    "\n",
    "        self.statistic = aux[0]\n",
    "        self.core_data = aux[1]\n",
    "        self._function = _delta"
   ]
  },
  {
   "cell_type": "code",
   "execution_count": 645,
   "metadata": {},
   "outputs": [],
   "source": [
    "m = 500\n",
    "\n",
    "aux = np.empty(m)\n",
    "for i in range(m):\n",
    "    t1 = time.time()\n",
    "    index1 = Delta(df, 'HISP_', 'TOT_POP')\n",
    "    t2 = time.time()\n",
    "    aux[i] = t2-t1\n",
    "    \n",
    "aux2 = np.empty(m)\n",
    "for i in range(m):\n",
    "    t1 = time.time()\n",
    "    index1 = Delta_Numpy(df, 'HISP_', 'TOT_POP')\n",
    "    t2 = time.time()\n",
    "    aux2[i] = t2-t1\n",
    "    \n",
    "index1 = Delta(df, 'HISP_', 'TOT_POP')\n",
    "index2 = Delta_Numpy(df, 'HISP_', 'TOT_POP')"
   ]
  },
  {
   "cell_type": "code",
   "execution_count": 646,
   "metadata": {},
   "outputs": [
    {
     "data": {
      "text/plain": [
       "0.8044969214141899"
      ]
     },
     "execution_count": 646,
     "metadata": {},
     "output_type": "execute_result"
    }
   ],
   "source": [
    "index1.statistic"
   ]
  },
  {
   "cell_type": "code",
   "execution_count": 647,
   "metadata": {},
   "outputs": [
    {
     "data": {
      "text/plain": [
       "0.8044969214141899"
      ]
     },
     "execution_count": 647,
     "metadata": {},
     "output_type": "execute_result"
    }
   ],
   "source": [
    "index2.statistic"
   ]
  },
  {
   "cell_type": "code",
   "execution_count": 648,
   "metadata": {},
   "outputs": [
    {
     "data": {
      "text/plain": [
       "0.004279277801513672"
      ]
     },
     "execution_count": 648,
     "metadata": {},
     "output_type": "execute_result"
    }
   ],
   "source": [
    "aux.mean()"
   ]
  },
  {
   "cell_type": "code",
   "execution_count": 649,
   "metadata": {},
   "outputs": [
    {
     "data": {
      "text/plain": [
       "0.002245023727416992"
      ]
     },
     "execution_count": 649,
     "metadata": {},
     "output_type": "execute_result"
    }
   ],
   "source": [
    "aux2.mean()"
   ]
  },
  {
   "cell_type": "code",
   "execution_count": 650,
   "metadata": {},
   "outputs": [
    {
     "data": {
      "image/png": "[encoded data removed]",
      "text/plain": [
       "<Figure size 432x288 with 1 Axes>"
      ]
     },
     "metadata": {},
     "output_type": "display_data"
    }
   ],
   "source": [
    "plt.hist(aux, bins='auto')\n",
    "plt.show()"
   ]
  },
  {
   "cell_type": "code",
   "execution_count": 651,
   "metadata": {},
   "outputs": [
    {
     "data": {
      "image/png": "[encoded data removed]",
      "text/plain": [
       "<Figure size 432x288 with 1 Axes>"
      ]
     },
     "metadata": {},
     "output_type": "display_data"
    }
   ],
   "source": [
    "plt.hist(aux2, bins='auto')\n",
    "plt.show()"
   ]
  },
  {
   "cell_type": "markdown",
   "metadata": {},
   "source": [
    "# Absolute Centralization"
   ]
  },
  {
   "cell_type": "code",
   "execution_count": 652,
   "metadata": {},
   "outputs": [],
   "source": [
    "from segregation.absolute_centralization import Absolute_Centralization"
   ]
  },
  {
   "cell_type": "code",
   "execution_count": 672,
   "metadata": {},
   "outputs": [],
   "source": [
    "\"\"\"\n",
    "Absolute Centralization based Segregation Metrics\n",
    "\"\"\"\n",
    "\n",
    "__author__ = \"Renan X. Cortes <renanc@ucr.edu> and Sergio J. Rey <sergio.rey@ucr.edu>\"\n",
    "\n",
    "import numpy as np\n",
    "import pandas as pd\n",
    "from scipy.ndimage.interpolation import shift\n",
    "\n",
    "__all__ = ['Absolute_Centralization']\n",
    "\n",
    "\n",
    "def _absolute_centralization(data, group_pop_var, total_pop_var):\n",
    "    \"\"\"\n",
    "    Calculation of Absolute Centralization index\n",
    "\n",
    "    Parameters\n",
    "    ----------\n",
    "\n",
    "    data          : a geopandas DataFrame with a geometry column.\n",
    "    \n",
    "    group_pop_var : string\n",
    "                    The name of variable in data that contains the population size of the group of interest\n",
    "                    \n",
    "    total_pop_var : string\n",
    "                    The name of variable in data that contains the total population of the unit\n",
    "\n",
    "    Attributes\n",
    "    ----------\n",
    "\n",
    "    statistic : float\n",
    "                Absolute Centralization Index\n",
    "                \n",
    "    core_data : a geopandas DataFrame\n",
    "                A geopandas DataFrame that contains the columns used to perform the estimate.\n",
    "                \n",
    "    Notes\n",
    "    -----\n",
    "    Based on Massey, Douglas S., and Nancy A. Denton. \"The dimensions of residential segregation.\" Social forces 67.2 (1988): 281-315.\n",
    "\n",
    "    \"\"\"\n",
    "    \n",
    "    if (str(type(data)) != '<class \\'geopandas.geodataframe.GeoDataFrame\\'>'):\n",
    "        raise TypeError('data is not a GeoDataFrame and, therefore, this index cannot be calculated.')\n",
    "        \n",
    "    if ('geometry' not in data.columns):\n",
    "        data['geometry'] = data[data._geometry_column_name]\n",
    "        data = data.drop([data._geometry_column_name], axis = 1)\n",
    "        data = data.set_geometry('geometry')\n",
    "        \n",
    "    if((type(group_pop_var) is not str) or (type(total_pop_var) is not str)):\n",
    "        raise TypeError('group_pop_var and total_pop_var must be strings')\n",
    "    \n",
    "    if ((group_pop_var not in data.columns) or (total_pop_var not in data.columns)):    \n",
    "        raise ValueError('group_pop_var and total_pop_var must be variables of data')\n",
    "    \n",
    "    data = data.rename(columns={group_pop_var: 'group_pop_var', \n",
    "                                total_pop_var: 'total_pop_var'})\n",
    "    \n",
    "    x = np.array(data.group_pop_var)\n",
    "    t = np.array(data.total_pop_var)\n",
    "    \n",
    "    if any(t < x):    \n",
    "        raise ValueError('Group of interest population must equal or lower than the total population of the units.')\n",
    "        \n",
    "    y = t - x\n",
    "    \n",
    "    area = np.array(data.area)\n",
    "    \n",
    "    c_lons = np.array(data.centroid.x)\n",
    "    c_lats = np.array(data.centroid.y)\n",
    "    \n",
    "    center_lon = c_lons.mean()\n",
    "    center_lat = c_lats.mean()\n",
    "    \n",
    "    X = x.sum()\n",
    "    Y = y.sum()\n",
    "    A = area.sum()\n",
    "\n",
    "    center_dist = np.sqrt((c_lons - center_lon) ** 2 + (c_lats - center_lat) ** 2)\n",
    "    \n",
    "    asc_ind = center_dist.argsort() \n",
    "    \n",
    "    Xi = np.cumsum(x[asc_ind]) / X\n",
    "    Yi = np.cumsum(y[asc_ind]) / Y\n",
    "    Ai = np.cumsum(area[asc_ind]) / A\n",
    "    \n",
    "    ACE = np.nansum(shift(Xi, 1, cval=np.NaN) * Ai) - \\\n",
    "          np.nansum(Xi * shift(Ai, 1, cval=np.NaN))\n",
    "    \n",
    "    core_data = data[['group_pop_var', 'total_pop_var', 'geometry']]\n",
    "    \n",
    "    return ACE, core_data\n",
    "\n",
    "\n",
    "class Absolute_Centralization_Numpy:\n",
    "    \"\"\"\n",
    "    Calculation of Absolute Centralization index\n",
    "\n",
    "    Parameters\n",
    "    ----------\n",
    "\n",
    "    data          : a geopandas DataFrame with a geometry column.\n",
    "    \n",
    "    group_pop_var : string\n",
    "                    The name of variable in data that contains the population size of the group of interest\n",
    "                    \n",
    "    total_pop_var : string\n",
    "                    The name of variable in data that contains the total population of the unit\n",
    "\n",
    "    Attributes\n",
    "    ----------\n",
    "\n",
    "    statistic : float\n",
    "                Absolute Centralization Index\n",
    "                \n",
    "    core_data : a geopandas DataFrame\n",
    "                A geopandas DataFrame that contains the columns used to perform the estimate.\n",
    "                \n",
    "    Examples\n",
    "    --------\n",
    "    In this example, we will calculate the absolute centralization index (ACE) for the Riverside County using the census tract data of 2010.\n",
    "    The group of interest is non-hispanic black people which is the variable nhblk10 in the dataset.\n",
    "    \n",
    "    Firstly, we need to read the data:\n",
    "    \n",
    "    >>> This example uses all census data that the user must provide your own copy of the external database.\n",
    "    >>> A step-by-step procedure for downloading the data can be found here: https://github.com/spatialucr/osnap/tree/master/osnap/data.\n",
    "    >>> After the user download the LTDB_Std_All_fullcount.zip and extract the files, the filepath might be something like presented below.\n",
    "    >>> filepath = '~/data/std_2010_fullcount.csv'\n",
    "    >>> census_2010 = pd.read_csv(filepath, encoding = \"ISO-8859-1\", sep = \",\")\n",
    "    \n",
    "    Then, we filter only for the desired county (in this case, Riverside County):\n",
    "    \n",
    "    >>> df = census_2010.loc[census_2010.county == \"Riverside County\"][['trtid10', 'pop10','nhblk10']]\n",
    "    \n",
    "    Then, we read the Riverside map data using geopandas (the county id is 06065):\n",
    "    \n",
    "    >>> map_url = 'https://raw.githubusercontent.com/renanxcortes/inequality-segregation-supplementary-files/master/Tracts_grouped_by_County/06065.json'\n",
    "    >>> map_gpd = gpd.read_file(map_url)\n",
    "    \n",
    "    It is necessary to harmonize the data type of the dataset and the geopandas in order to work the merging procedure.\n",
    "    Later, we extract only the columns that will be used.\n",
    "    \n",
    "    >>> map_gpd['INTGEOID10'] = pd.to_numeric(map_gpd[\"GEOID10\"])\n",
    "    >>> gdf_pre = map_gpd.merge(df, left_on = 'INTGEOID10', right_on = 'trtid10')\n",
    "    >>> gdf = gdf_pre[['geometry', 'pop10', 'nhblk10']]\n",
    "    \n",
    "    The value is estimated below.\n",
    "    \n",
    "    >>> absolute_centralization_index = Absolute_Centralization(gdf, 'nhblk10', 'pop10')\n",
    "    >>> absolute_centralization_index.statistic\n",
    "    0.6416113799795511\n",
    "            \n",
    "    Notes\n",
    "    -----\n",
    "    Based on Massey, Douglas S., and Nancy A. Denton. \"The dimensions of residential segregation.\" Social forces 67.2 (1988): 281-315.\n",
    "\n",
    "    \"\"\"\n",
    "\n",
    "    def __init__(self, data, group_pop_var, total_pop_var):\n",
    "        \n",
    "        aux = _absolute_centralization(data, group_pop_var, total_pop_var)\n",
    "\n",
    "        self.statistic = aux[0]\n",
    "        self.core_data = aux[1]\n",
    "        self._function = _absolute_centralization"
   ]
  },
  {
   "cell_type": "code",
   "execution_count": 692,
   "metadata": {},
   "outputs": [],
   "source": [
    "m = 1000\n",
    "\n",
    "aux = np.empty(m)\n",
    "for i in range(m):\n",
    "    t1 = time.time()\n",
    "    index1 = Absolute_Centralization(df, 'HISP_', 'TOT_POP')\n",
    "    t2 = time.time()\n",
    "    aux[i] = t2-t1\n",
    "    \n",
    "aux2 = np.empty(m)\n",
    "for i in range(m):\n",
    "    t1 = time.time()\n",
    "    index1 = Absolute_Centralization_Numpy(df, 'HISP_', 'TOT_POP')\n",
    "    t2 = time.time()\n",
    "    aux2[i] = t2-t1\n",
    "    \n",
    "index1 = Absolute_Centralization(df, 'HISP_', 'TOT_POP')\n",
    "index2 = Absolute_Centralization_Numpy(df, 'HISP_', 'TOT_POP')"
   ]
  },
  {
   "cell_type": "code",
   "execution_count": 693,
   "metadata": {},
   "outputs": [
    {
     "data": {
      "text/plain": [
       "0.6891422368736286"
      ]
     },
     "execution_count": 693,
     "metadata": {},
     "output_type": "execute_result"
    }
   ],
   "source": [
    "index1.statistic"
   ]
  },
  {
   "cell_type": "code",
   "execution_count": 694,
   "metadata": {},
   "outputs": [
    {
     "data": {
      "text/plain": [
       "0.6891422368736286"
      ]
     },
     "execution_count": 694,
     "metadata": {},
     "output_type": "execute_result"
    }
   ],
   "source": [
    "index2.statistic"
   ]
  },
  {
   "cell_type": "code",
   "execution_count": 695,
   "metadata": {},
   "outputs": [
    {
     "data": {
      "text/plain": [
       "0.026677662134170534"
      ]
     },
     "execution_count": 695,
     "metadata": {},
     "output_type": "execute_result"
    }
   ],
   "source": [
    "aux.mean()"
   ]
  },
  {
   "cell_type": "code",
   "execution_count": 696,
   "metadata": {},
   "outputs": [
    {
     "data": {
      "text/plain": [
       "0.019124469995498657"
      ]
     },
     "execution_count": 696,
     "metadata": {},
     "output_type": "execute_result"
    }
   ],
   "source": [
    "aux2.mean()"
   ]
  },
  {
   "cell_type": "code",
   "execution_count": 697,
   "metadata": {},
   "outputs": [
    {
     "data": {
      "image/png": "[encoded data removed]",
      "text/plain": [
       "<Figure size 432x288 with 1 Axes>"
      ]
     },
     "metadata": {},
     "output_type": "display_data"
    }
   ],
   "source": [
    "plt.hist(aux, bins='auto')\n",
    "plt.show()"
   ]
  },
  {
   "cell_type": "code",
   "execution_count": 698,
   "metadata": {},
   "outputs": [
    {
     "data": {
      "image/png": "[encoded data removed]",
      "text/plain": [
       "<Figure size 432x288 with 1 Axes>"
      ]
     },
     "metadata": {},
     "output_type": "display_data"
    }
   ],
   "source": [
    "plt.hist(aux2, bins='auto')\n",
    "plt.show()"
   ]
  },
  {
   "cell_type": "markdown",
   "metadata": {},
   "source": [
    "# Relative Centralization"
   ]
  },
  {
   "cell_type": "code",
   "execution_count": 699,
   "metadata": {},
   "outputs": [],
   "source": [
    "from segregation.relative_centralization import Relative_Centralization"
   ]
  },
  {
   "cell_type": "code",
   "execution_count": 801,
   "metadata": {},
   "outputs": [],
   "source": [
    "\"\"\"\n",
    "Relative Centralization based Segregation Metrics\n",
    "\"\"\"\n",
    "\n",
    "__author__ = \"Renan X. Cortes <renanc@ucr.edu> and Sergio J. Rey <sergio.rey@ucr.edu>\"\n",
    "\n",
    "import numpy as np\n",
    "import pandas as pd\n",
    "from scipy.ndimage.interpolation import shift\n",
    "\n",
    "__all__ = ['Relative_Centralization']\n",
    "\n",
    "\n",
    "def _relative_centralization(data, group_pop_var, total_pop_var):\n",
    "    \"\"\"\n",
    "    Calculation of Relative Centralization index\n",
    "\n",
    "    Parameters\n",
    "    ----------\n",
    "\n",
    "    data          : a geopandas DataFrame with a geometry column.\n",
    "    \n",
    "    group_pop_var : string\n",
    "                    The name of variable in data that contains the population size of the group of interest\n",
    "                    \n",
    "    total_pop_var : string\n",
    "                    The name of variable in data that contains the total population of the unit\n",
    "\n",
    "    Attributes\n",
    "    ----------\n",
    "\n",
    "    statistic : float\n",
    "                Relative Centralization Index\n",
    "                \n",
    "    core_data : a geopandas DataFrame\n",
    "                A geopandas DataFrame that contains the columns used to perform the estimate.\n",
    "\n",
    "    Notes\n",
    "    -----\n",
    "    Based on Massey, Douglas S., and Nancy A. Denton. \"The dimensions of residential segregation.\" Social forces 67.2 (1988): 281-315.\n",
    "\n",
    "    \"\"\"\n",
    "    \n",
    "    if (str(type(data)) != '<class \\'geopandas.geodataframe.GeoDataFrame\\'>'):\n",
    "        raise TypeError('data is not a GeoDataFrame and, therefore, this index cannot be calculated.')\n",
    "        \n",
    "    if ('geometry' not in data.columns):\n",
    "        data['geometry'] = data[data._geometry_column_name]\n",
    "        data = data.drop([data._geometry_column_name], axis = 1)\n",
    "        data = data.set_geometry('geometry')\n",
    "        \n",
    "    if((type(group_pop_var) is not str) or (type(total_pop_var) is not str)):\n",
    "        raise TypeError('group_pop_var and total_pop_var must be strings')\n",
    "    \n",
    "    if ((group_pop_var not in data.columns) or (total_pop_var not in data.columns)):    \n",
    "        raise ValueError('group_pop_var and total_pop_var must be variables of data')\n",
    "    \n",
    "    data = data.rename(columns={group_pop_var: 'group_pop_var', \n",
    "                                total_pop_var: 'total_pop_var'})\n",
    "\n",
    "    x = np.array(data.group_pop_var)\n",
    "    t = np.array(data.total_pop_var)\n",
    "    \n",
    "    if any(t < x):    \n",
    "        raise ValueError('Group of interest population must equal or lower than the total population of the units.')\n",
    "\n",
    "    y = t - x\n",
    "    area = np.array(data.area)\n",
    "    \n",
    "    c_lons = np.array(data.centroid.x)\n",
    "    c_lats = np.array(data.centroid.y)\n",
    "    \n",
    "    center_lon = c_lons.mean()\n",
    "    center_lat = c_lats.mean()\n",
    "    \n",
    "    X = x.sum()\n",
    "    Y = y.sum()\n",
    "    A = area.sum()\n",
    "\n",
    "    center_dist = np.sqrt((c_lons - center_lon) ** 2 + (c_lats - center_lat) ** 2)\n",
    "    \n",
    "    asc_ind = center_dist.argsort() \n",
    "    \n",
    "    Xi = np.cumsum(x[asc_ind]) / X\n",
    "    Yi = np.cumsum(y[asc_ind]) / Y\n",
    "    Ai = np.cumsum(area[asc_ind]) / A\n",
    "    \n",
    "    RCE = np.nansum(shift(Xi, 1, cval=np.NaN) * Yi) - \\\n",
    "          np.nansum(Xi * shift(Yi, 1, cval=np.NaN))\n",
    "\n",
    "    core_data = data[['group_pop_var', 'total_pop_var', 'geometry']]\n",
    "\n",
    "    return RCE, core_data\n",
    "\n",
    "\n",
    "class Relative_Centralization_Numpy:\n",
    "\n",
    "    def __init__(self, data, group_pop_var, total_pop_var):\n",
    "        \n",
    "        aux = _relative_centralization(data, group_pop_var, total_pop_var)\n",
    "\n",
    "        self.statistic = aux[0]\n",
    "        self.core_data = aux[1]\n",
    "        self._function = _relative_centralization"
   ]
  },
  {
   "cell_type": "code",
   "execution_count": 807,
   "metadata": {},
   "outputs": [],
   "source": [
    "m = 1000\n",
    "\n",
    "aux = np.empty(m)\n",
    "for i in range(m):\n",
    "    t1 = time.time()\n",
    "    index1 = Relative_Centralization(df, 'HISP_', 'TOT_POP')\n",
    "    t2 = time.time()\n",
    "    aux[i] = t2-t1\n",
    "    \n",
    "aux2 = np.empty(m)\n",
    "for i in range(m):\n",
    "    t1 = time.time()\n",
    "    index1 = Relative_Centralization_Numpy(df, 'HISP_', 'TOT_POP')\n",
    "    t2 = time.time()\n",
    "    aux2[i] = t2-t1\n",
    "    \n",
    "index1 = Relative_Centralization(df, 'HISP_', 'TOT_POP')\n",
    "index2 = Relative_Centralization_Numpy(df, 'HISP_', 'TOT_POP')"
   ]
  },
  {
   "cell_type": "code",
   "execution_count": 808,
   "metadata": {},
   "outputs": [
    {
     "data": {
      "text/plain": [
       "-0.11194177550430595"
      ]
     },
     "execution_count": 808,
     "metadata": {},
     "output_type": "execute_result"
    }
   ],
   "source": [
    "index1.statistic"
   ]
  },
  {
   "cell_type": "code",
   "execution_count": 809,
   "metadata": {},
   "outputs": [
    {
     "data": {
      "text/plain": [
       "-0.11194177550430595"
      ]
     },
     "execution_count": 809,
     "metadata": {},
     "output_type": "execute_result"
    }
   ],
   "source": [
    "index2.statistic"
   ]
  },
  {
   "cell_type": "code",
   "execution_count": 810,
   "metadata": {},
   "outputs": [
    {
     "data": {
      "text/plain": [
       "0.026999698638916016"
      ]
     },
     "execution_count": 810,
     "metadata": {},
     "output_type": "execute_result"
    }
   ],
   "source": [
    "aux.mean()"
   ]
  },
  {
   "cell_type": "code",
   "execution_count": 811,
   "metadata": {},
   "outputs": [
    {
     "data": {
      "text/plain": [
       "0.020220618724823"
      ]
     },
     "execution_count": 811,
     "metadata": {},
     "output_type": "execute_result"
    }
   ],
   "source": [
    "aux2.mean()"
   ]
  },
  {
   "cell_type": "code",
   "execution_count": 812,
   "metadata": {},
   "outputs": [
    {
     "data": {
      "image/png": "[encoded data removed]",
      "text/plain": [
       "<Figure size 432x288 with 1 Axes>"
      ]
     },
     "metadata": {},
     "output_type": "display_data"
    }
   ],
   "source": [
    "plt.hist(aux, bins='auto')\n",
    "plt.show()"
   ]
  },
  {
   "cell_type": "code",
   "execution_count": 813,
   "metadata": {},
   "outputs": [
    {
     "data": {
      "image/png": "[encoded data removed]",
      "text/plain": [
       "<Figure size 432x288 with 1 Axes>"
      ]
     },
     "metadata": {},
     "output_type": "display_data"
    }
   ],
   "source": [
    "plt.hist(aux2, bins='auto')\n",
    "plt.show()"
   ]
  },
  {
   "cell_type": "code",
   "execution_count": 814,
   "metadata": {},
   "outputs": [],
   "source": [
    "from sklearn.metrics.pairwise import euclidean_distances"
   ]
  },
  {
   "cell_type": "code",
   "execution_count": 819,
   "metadata": {},
   "outputs": [
    {
     "ename": "TypeError",
     "evalue": "data type not understood",
     "output_type": "error",
     "traceback": [
      "\u001b[1;31m---------------------------------------------------------------------------\u001b[0m",
      "\u001b[1;31mTypeError\u001b[0m                                 Traceback (most recent call last)",
      "\u001b[1;32m<ipython-input-819-0f0547b30443>\u001b[0m in \u001b[0;36m<module>\u001b[1;34m()\u001b[0m\n\u001b[1;32m----> 1\u001b[1;33m \u001b[0meuclidean_distances\u001b[0m\u001b[1;33m(\u001b[0m\u001b[0mnp\u001b[0m\u001b[1;33m.\u001b[0m\u001b[0marray\u001b[0m\u001b[1;33m(\u001b[0m\u001b[1;33m[\u001b[0m\u001b[1;36m2\u001b[0m\u001b[1;33m,\u001b[0m\u001b[1;36m3\u001b[0m\u001b[1;33m,\u001b[0m\u001b[1;36m43\u001b[0m\u001b[1;33m]\u001b[0m\u001b[1;33m,\u001b[0m \u001b[1;33m[\u001b[0m\u001b[1;36m2\u001b[0m\u001b[1;33m,\u001b[0m\u001b[1;36m3\u001b[0m\u001b[1;33m,\u001b[0m\u001b[1;36m43\u001b[0m\u001b[1;33m]\u001b[0m\u001b[1;33m)\u001b[0m\u001b[1;33m)\u001b[0m\u001b[1;33m\u001b[0m\u001b[0m\n\u001b[0m",
      "\u001b[1;31mTypeError\u001b[0m: data type not understood"
     ]
    }
   ],
   "source": [
    "euclidean_distances(np.array([2,3,43], [2,3,43]))"
   ]
  },
  {
   "cell_type": "code",
   "execution_count": 820,
   "metadata": {},
   "outputs": [
    {
     "name": "stdout",
     "output_type": "stream",
     "text": [
      "Help on function euclidean_distances in module sklearn.metrics.pairwise:\n",
      "\n",
      "euclidean_distances(X, Y=None, Y_norm_squared=None, squared=False, X_norm_squared=None)\n",
      "    Considering the rows of X (and Y=X) as vectors, compute the\n",
      "    distance matrix between each pair of vectors.\n",
      "    \n",
      "    For efficiency reasons, the euclidean distance between a pair of row\n",
      "    vector x and y is computed as::\n",
      "    \n",
      "        dist(x, y) = sqrt(dot(x, x) - 2 * dot(x, y) + dot(y, y))\n",
      "    \n",
      "    This formulation has two advantages over other ways of computing distances.\n",
      "    First, it is computationally efficient when dealing with sparse data.\n",
      "    Second, if one argument varies but the other remains unchanged, then\n",
      "    `dot(x, x)` and/or `dot(y, y)` can be pre-computed.\n",
      "    \n",
      "    However, this is not the most precise way of doing this computation, and\n",
      "    the distance matrix returned by this function may not be exactly\n",
      "    symmetric as required by, e.g., ``scipy.spatial.distance`` functions.\n",
      "    \n",
      "    Read more in the :ref:`User Guide <metrics>`.\n",
      "    \n",
      "    Parameters\n",
      "    ----------\n",
      "    X : {array-like, sparse matrix}, shape (n_samples_1, n_features)\n",
      "    \n",
      "    Y : {array-like, sparse matrix}, shape (n_samples_2, n_features)\n",
      "    \n",
      "    Y_norm_squared : array-like, shape (n_samples_2, ), optional\n",
      "        Pre-computed dot-products of vectors in Y (e.g.,\n",
      "        ``(Y**2).sum(axis=1)``)\n",
      "    \n",
      "    squared : boolean, optional\n",
      "        Return squared Euclidean distances.\n",
      "    \n",
      "    X_norm_squared : array-like, shape = [n_samples_1], optional\n",
      "        Pre-computed dot-products of vectors in X (e.g.,\n",
      "        ``(X**2).sum(axis=1)``)\n",
      "    \n",
      "    Returns\n",
      "    -------\n",
      "    distances : {array, sparse matrix}, shape (n_samples_1, n_samples_2)\n",
      "    \n",
      "    Examples\n",
      "    --------\n",
      "    >>> from sklearn.metrics.pairwise import euclidean_distances\n",
      "    >>> X = [[0, 1], [1, 1]]\n",
      "    >>> # distance between rows of X\n",
      "    >>> euclidean_distances(X, X)\n",
      "    array([[ 0.,  1.],\n",
      "           [ 1.,  0.]])\n",
      "    >>> # get distance to origin\n",
      "    >>> euclidean_distances(X, [[0, 0]])\n",
      "    array([[ 1.        ],\n",
      "           [ 1.41421356]])\n",
      "    \n",
      "    See also\n",
      "    --------\n",
      "    paired_distances : distances betweens pairs of elements of X and Y.\n",
      "\n"
     ]
    }
   ],
   "source": [
    "help(euclidean_distances)"
   ]
  },
  {
   "cell_type": "code",
   "execution_count": 823,
   "metadata": {},
   "outputs": [],
   "source": [
    "# Inspired in: https://stackoverflow.com/questions/22720864/efficiently-calculating-a-euclidean-distance-matrix-using-numpy\n",
    "z = np.array([2,3,8,-1])\n",
    "m, n = np.meshgrid(z, z)\n",
    "out = abs(m-n)"
   ]
  },
  {
   "cell_type": "code",
   "execution_count": 824,
   "metadata": {},
   "outputs": [
    {
     "data": {
      "text/plain": [
       "array([[0, 1, 6, 3],\n",
       "       [1, 0, 5, 4],\n",
       "       [6, 5, 0, 9],\n",
       "       [3, 4, 9, 0]])"
      ]
     },
     "execution_count": 824,
     "metadata": {},
     "output_type": "execute_result"
    }
   ],
   "source": [
    "out"
   ]
  },
  {
   "cell_type": "code",
   "execution_count": 825,
   "metadata": {},
   "outputs": [
    {
     "data": {
      "text/html": [
       "<div>\n",
       "<style scoped>\n",
       "    .dataframe tbody tr th:only-of-type {\n",
       "        vertical-align: middle;\n",
       "    }\n",
       "\n",
       "    .dataframe tbody tr th {\n",
       "        vertical-align: top;\n",
       "    }\n",
       "\n",
       "    .dataframe thead th {\n",
       "        text-align: right;\n",
       "    }\n",
       "</style>\n",
       "<table border=\"1\" class=\"dataframe\">\n",
       "  <thead>\n",
       "    <tr style=\"text-align: right;\">\n",
       "      <th></th>\n",
       "      <th>geometry</th>\n",
       "      <th>group_pop_var</th>\n",
       "      <th>total_pop_var</th>\n",
       "      <th>xi</th>\n",
       "      <th>yi</th>\n",
       "      <th>ti</th>\n",
       "      <th>area</th>\n",
       "      <th>c_lons</th>\n",
       "      <th>c_lats</th>\n",
       "      <th>center_lon</th>\n",
       "      <th>center_lat</th>\n",
       "      <th>center_dist</th>\n",
       "    </tr>\n",
       "  </thead>\n",
       "  <tbody>\n",
       "    <tr>\n",
       "      <th>0</th>\n",
       "      <td>POLYGON ((-120.217504 39.162085, -120.220064 3...</td>\n",
       "      <td>336</td>\n",
       "      <td>5501</td>\n",
       "      <td>336</td>\n",
       "      <td>5165</td>\n",
       "      <td>5501</td>\n",
       "      <td>0.081153</td>\n",
       "      <td>-120.474460</td>\n",
       "      <td>39.248381</td>\n",
       "      <td>-121.301818</td>\n",
       "      <td>38.633839</td>\n",
       "      <td>1.030622</td>\n",
       "    </tr>\n",
       "    <tr>\n",
       "      <th>1</th>\n",
       "      <td>POLYGON ((-120.064072 39.236687, -120.064115 3...</td>\n",
       "      <td>391</td>\n",
       "      <td>2072</td>\n",
       "      <td>391</td>\n",
       "      <td>1681</td>\n",
       "      <td>2072</td>\n",
       "      <td>0.002289</td>\n",
       "      <td>-120.039825</td>\n",
       "      <td>39.263190</td>\n",
       "      <td>-121.301818</td>\n",
       "      <td>38.633839</td>\n",
       "      <td>1.410216</td>\n",
       "    </tr>\n",
       "    <tr>\n",
       "      <th>2</th>\n",
       "      <td>POLYGON ((-120.00526 39.279982, -120.005266 39...</td>\n",
       "      <td>1918</td>\n",
       "      <td>3633</td>\n",
       "      <td>1918</td>\n",
       "      <td>1715</td>\n",
       "      <td>3633</td>\n",
       "      <td>0.000794</td>\n",
       "      <td>-120.013842</td>\n",
       "      <td>39.251425</td>\n",
       "      <td>-121.301818</td>\n",
       "      <td>38.633839</td>\n",
       "      <td>1.428388</td>\n",
       "    </tr>\n",
       "    <tr>\n",
       "      <th>3</th>\n",
       "      <td>POLYGON ((-120.095366 39.197183, -120.095761 3...</td>\n",
       "      <td>60</td>\n",
       "      <td>1683</td>\n",
       "      <td>60</td>\n",
       "      <td>1623</td>\n",
       "      <td>1683</td>\n",
       "      <td>0.002881</td>\n",
       "      <td>-120.103726</td>\n",
       "      <td>39.232051</td>\n",
       "      <td>-121.301818</td>\n",
       "      <td>38.633839</td>\n",
       "      <td>1.339135</td>\n",
       "    </tr>\n",
       "    <tr>\n",
       "      <th>4</th>\n",
       "      <td>POLYGON ((-121.038014 38.931727, -121.037162 3...</td>\n",
       "      <td>251</td>\n",
       "      <td>5794</td>\n",
       "      <td>251</td>\n",
       "      <td>5543</td>\n",
       "      <td>5794</td>\n",
       "      <td>0.152799</td>\n",
       "      <td>-120.575665</td>\n",
       "      <td>39.086643</td>\n",
       "      <td>-121.301818</td>\n",
       "      <td>38.633839</td>\n",
       "      <td>0.855763</td>\n",
       "    </tr>\n",
       "  </tbody>\n",
       "</table>\n",
       "</div>"
      ],
      "text/plain": [
       "                                            geometry  group_pop_var  \\\n",
       "0  POLYGON ((-120.217504 39.162085, -120.220064 3...            336   \n",
       "1  POLYGON ((-120.064072 39.236687, -120.064115 3...            391   \n",
       "2  POLYGON ((-120.00526 39.279982, -120.005266 39...           1918   \n",
       "3  POLYGON ((-120.095366 39.197183, -120.095761 3...             60   \n",
       "4  POLYGON ((-121.038014 38.931727, -121.037162 3...            251   \n",
       "\n",
       "   total_pop_var    xi    yi    ti      area      c_lons     c_lats  \\\n",
       "0           5501   336  5165  5501  0.081153 -120.474460  39.248381   \n",
       "1           2072   391  1681  2072  0.002289 -120.039825  39.263190   \n",
       "2           3633  1918  1715  3633  0.000794 -120.013842  39.251425   \n",
       "3           1683    60  1623  1683  0.002881 -120.103726  39.232051   \n",
       "4           5794   251  5543  5794  0.152799 -120.575665  39.086643   \n",
       "\n",
       "   center_lon  center_lat  center_dist  \n",
       "0 -121.301818   38.633839     1.030622  \n",
       "1 -121.301818   38.633839     1.410216  \n",
       "2 -121.301818   38.633839     1.428388  \n",
       "3 -121.301818   38.633839     1.339135  \n",
       "4 -121.301818   38.633839     0.855763  "
      ]
     },
     "execution_count": 825,
     "metadata": {},
     "output_type": "execute_result"
    }
   ],
   "source": [
    "data.head()"
   ]
  },
  {
   "cell_type": "code",
   "execution_count": 826,
   "metadata": {},
   "outputs": [
    {
     "data": {
      "text/plain": [
       "array([[   0.,   55., 1582., ..., 1671.,  232.,   47.],\n",
       "       [  55.,    0., 1527., ..., 1616.,  177.,    8.],\n",
       "       [1582., 1527.,    0., ...,   89., 1350., 1535.],\n",
       "       ...,\n",
       "       [1671., 1616.,   89., ...,    0., 1439., 1624.],\n",
       "       [ 232.,  177., 1350., ..., 1439.,    0.,  185.],\n",
       "       [  47.,    8., 1535., ..., 1624.,  185.,    0.]])"
      ]
     },
     "execution_count": 826,
     "metadata": {},
     "output_type": "execute_result"
    }
   ],
   "source": [
    "euclidean_distances(data[['xi']])"
   ]
  },
  {
   "cell_type": "markdown",
   "metadata": {},
   "source": [
    "# Spatial Dissimilarity"
   ]
  },
  {
   "cell_type": "code",
   "execution_count": 827,
   "metadata": {},
   "outputs": [],
   "source": [
    "from segregation.spatial_dissimilarity import Spatial_Dissim"
   ]
  },
  {
   "cell_type": "code",
   "execution_count": 845,
   "metadata": {},
   "outputs": [],
   "source": [
    "\"\"\"\n",
    "Spatial Dissimilarity based Segregation Metrics\n",
    "\"\"\"\n",
    "\n",
    "__author__ = \"Renan X. Cortes <renanc@ucr.edu> and Sergio J. Rey <sergio.rey@ucr.edu>\"\n",
    "\n",
    "import numpy as np\n",
    "import pandas as pd\n",
    "import libpysal\n",
    "from segregation.dissimilarity import _dissim\n",
    "from libpysal.weights import Queen\n",
    "from sklearn.metrics.pairwise import manhattan_distances\n",
    "\n",
    "__all__ = ['Spatial_Dissim']\n",
    "\n",
    "\n",
    "def _spatial_dissim(data, group_pop_var, total_pop_var, w = None, standardize = False):\n",
    "    \"\"\"\n",
    "    Calculation of Spatial Dissimilarity index\n",
    "\n",
    "    Parameters\n",
    "    ----------\n",
    "\n",
    "    data          : a geopandas DataFrame with a geometry column.\n",
    "    \n",
    "    group_pop_var : string\n",
    "                    The name of variable in data that contains the population size of the group of interest\n",
    "                    \n",
    "    total_pop_var : string\n",
    "                    The name of variable in data that contains the total population of the unit\n",
    "                    \n",
    "    w             : W\n",
    "                    A PySAL weights object. If not provided, Queen contiguity matrix is used.\n",
    "                    \n",
    "    standardize   : boolean\n",
    "                    A condition for row standardisation of the weights matrices. If True, the values of cij in the formulas gets row standardized.\n",
    "                    For the sake of comparison, the seg R package of Hong, Seong-Yun, David O'Sullivan, and Yukio Sadahiro. \"Implementing spatial segregation measures in R.\" PloS one 9.11 (2014): e113767.\n",
    "                    works by default with row standardization.\n",
    "        \n",
    "\n",
    "    Attributes\n",
    "    ----------\n",
    "\n",
    "    statistic : float\n",
    "                Spatial Dissimilarity Index\n",
    "                \n",
    "    core_data : a geopandas DataFrame\n",
    "                A geopandas DataFrame that contains the columns used to perform the estimate.\n",
    "                \n",
    "    Notes\n",
    "    -----\n",
    "    Based on Morrill, R. L. (1991) \"On the Measure of Geographic Segregation\". Geography Research Forum.\n",
    "\n",
    "    \"\"\"\n",
    "    \n",
    "    if (str(type(data)) != '<class \\'geopandas.geodataframe.GeoDataFrame\\'>'):\n",
    "        raise TypeError('data is not a GeoDataFrame and, therefore, this index cannot be calculated.')\n",
    "        \n",
    "    if ('geometry' not in data.columns):\n",
    "        data['geometry'] = data[data._geometry_column_name]\n",
    "        data = data.drop([data._geometry_column_name], axis = 1)\n",
    "        data = data.set_geometry('geometry')\n",
    "        \n",
    "    if (type(standardize) is not bool):\n",
    "        raise TypeError('std is not a boolean object')\n",
    "        \n",
    "    if w is None:    \n",
    "        w_object = Queen.from_dataframe(data)\n",
    "    else:\n",
    "        w_object = w\n",
    "    \n",
    "    if (not issubclass(type(w_object), libpysal.weights.W)):\n",
    "        raise TypeError('w is not a PySAL weights object')\n",
    "    \n",
    "    D = _dissim(data, group_pop_var, total_pop_var)[0]\n",
    "    \n",
    "    data = data.rename(columns={group_pop_var: 'group_pop_var', \n",
    "                                total_pop_var: 'total_pop_var'})\n",
    "    \n",
    "    x = np.array(data.group_pop_var)\n",
    "    t = np.array(data.total_pop_var)\n",
    "    \n",
    "    # If a unit has zero population, the group of interest frequency is zero\n",
    "    pi = np.where(t == 0, 0, x / t)\n",
    "    \n",
    "    if not standardize:\n",
    "        cij = w_object.full()[0]\n",
    "    else:\n",
    "        cij = w_object.full()[0]\n",
    "        cij = cij / cij.sum(axis = 1).reshape((cij.shape[0], 1))\n",
    "\n",
    "    # Inspired in (second solution): https://stackoverflow.com/questions/22720864/efficiently-calculating-a-euclidean-distance-matrix-using-numpy\n",
    "    # Distance Matrix\n",
    "    abs_dist = abs(pi[..., np.newaxis] - pi)\n",
    "        \n",
    "    # manhattan_distances used to compute absolute distances\n",
    "    num = np.multiply(abs_dist, cij).sum()\n",
    "    den = cij.sum()\n",
    "    SD = D - num / den\n",
    "    SD\n",
    "    \n",
    "    core_data = data[['group_pop_var', 'total_pop_var', 'geometry']]\n",
    "    \n",
    "    return SD, core_data\n",
    "\n",
    "\n",
    "class Spatial_Dissim_Numpy:\n",
    "\n",
    "    def __init__(self, data, group_pop_var, total_pop_var, w = None, standardize = False):\n",
    "        \n",
    "        aux = _spatial_dissim(data, group_pop_var, total_pop_var, w, standardize)\n",
    "\n",
    "        self.statistic = aux[0]\n",
    "        self.core_data = aux[1]\n",
    "        self._function = _spatial_dissim"
   ]
  },
  {
   "cell_type": "code",
   "execution_count": 853,
   "metadata": {},
   "outputs": [],
   "source": [
    "m = 100\n",
    "\n",
    "aux = np.empty(m)\n",
    "for i in range(m):\n",
    "    t1 = time.time()\n",
    "    index1 = Spatial_Dissim(df, 'HISP_', 'TOT_POP')\n",
    "    t2 = time.time()\n",
    "    aux[i] = t2-t1\n",
    "    \n",
    "aux2 = np.empty(m)\n",
    "for i in range(m):\n",
    "    t1 = time.time()\n",
    "    index1 = Spatial_Dissim_Numpy(df, 'HISP_', 'TOT_POP')\n",
    "    t2 = time.time()\n",
    "    aux2[i] = t2-t1\n",
    "    \n",
    "index1 = Spatial_Dissim(df, 'HISP_', 'TOT_POP')\n",
    "index2 = Spatial_Dissim_Numpy(df, 'HISP_', 'TOT_POP')"
   ]
  },
  {
   "cell_type": "code",
   "execution_count": 854,
   "metadata": {},
   "outputs": [
    {
     "data": {
      "text/plain": [
       "0.2611974332919437"
      ]
     },
     "execution_count": 854,
     "metadata": {},
     "output_type": "execute_result"
    }
   ],
   "source": [
    "index1.statistic"
   ]
  },
  {
   "cell_type": "code",
   "execution_count": 855,
   "metadata": {},
   "outputs": [
    {
     "data": {
      "text/plain": [
       "0.2611974332919437"
      ]
     },
     "execution_count": 855,
     "metadata": {},
     "output_type": "execute_result"
    }
   ],
   "source": [
    "index2.statistic"
   ]
  },
  {
   "cell_type": "code",
   "execution_count": 856,
   "metadata": {},
   "outputs": [
    {
     "data": {
      "text/plain": [
       "0.3786319756507874"
      ]
     },
     "execution_count": 856,
     "metadata": {},
     "output_type": "execute_result"
    }
   ],
   "source": [
    "aux.mean()"
   ]
  },
  {
   "cell_type": "code",
   "execution_count": 857,
   "metadata": {},
   "outputs": [
    {
     "data": {
      "text/plain": [
       "0.3710501766204834"
      ]
     },
     "execution_count": 857,
     "metadata": {},
     "output_type": "execute_result"
    }
   ],
   "source": [
    "aux2.mean()"
   ]
  },
  {
   "cell_type": "code",
   "execution_count": 860,
   "metadata": {},
   "outputs": [
    {
     "data": {
      "text/plain": [
       "0.9799758089176899"
      ]
     },
     "execution_count": 860,
     "metadata": {},
     "output_type": "execute_result"
    }
   ],
   "source": [
    "0.3710501766204834/0.3786319756507874"
   ]
  },
  {
   "cell_type": "code",
   "execution_count": 858,
   "metadata": {},
   "outputs": [
    {
     "data": {
      "image/png": "[encoded data removed]",
      "text/plain": [
       "<Figure size 432x288 with 1 Axes>"
      ]
     },
     "metadata": {},
     "output_type": "display_data"
    }
   ],
   "source": [
    "plt.hist(aux, bins='auto')\n",
    "plt.show()"
   ]
  },
  {
   "cell_type": "code",
   "execution_count": 859,
   "metadata": {},
   "outputs": [
    {
     "data": {
      "image/png": "[encoded data removed]",
      "text/plain": [
       "<Figure size 432x288 with 1 Axes>"
      ]
     },
     "metadata": {},
     "output_type": "display_data"
    }
   ],
   "source": [
    "plt.hist(aux2, bins='auto')\n",
    "plt.show()"
   ]
  },
  {
   "cell_type": "markdown",
   "metadata": {},
   "source": [
    "# Boundary Spatial Dissimilarity (old code is more efficient!)"
   ]
  },
  {
   "cell_type": "code",
   "execution_count": 861,
   "metadata": {},
   "outputs": [],
   "source": [
    "from segregation.boundary_spatial_dissimilarity import Boundary_Spatial_Dissim"
   ]
  },
  {
   "cell_type": "code",
   "execution_count": 864,
   "metadata": {},
   "outputs": [],
   "source": [
    "\"\"\"\n",
    "Boundary Spatial Dissimilarity based Segregation Metrics\n",
    "\"\"\"\n",
    "\n",
    "__author__ = \"Renan X. Cortes <renanc@ucr.edu> and Sergio J. Rey <sergio.rey@ucr.edu>\"\n",
    "\n",
    "import numpy as np\n",
    "import pandas as pd\n",
    "#import libpysal\n",
    "from segregation.util import _return_length_weighted_w\n",
    "from segregation.dissimilarity import _dissim\n",
    "from sklearn.metrics.pairwise import manhattan_distances\n",
    "\n",
    "__all__ = ['Boundary_Spatial_Dissim']\n",
    "\n",
    "\n",
    "def _boundary_spatial_dissim(data, group_pop_var, total_pop_var, standardize = False):\n",
    "    \n",
    "    if (str(type(data)) != '<class \\'geopandas.geodataframe.GeoDataFrame\\'>'):\n",
    "        raise TypeError('data is not a GeoDataFrame and, therefore, this index cannot be calculated.')\n",
    "        \n",
    "    if ('geometry' not in data.columns):\n",
    "        data['geometry'] = data[data._geometry_column_name]\n",
    "        data = data.drop([data._geometry_column_name], axis = 1)\n",
    "        data = data.set_geometry('geometry')\n",
    "        \n",
    "    if (type(standardize) is not bool):\n",
    "        raise TypeError('std is not a boolean object')\n",
    "    \n",
    "    D = _dissim(data, group_pop_var, total_pop_var)[0]\n",
    "    \n",
    "    data = data.rename(columns={group_pop_var: 'group_pop_var', \n",
    "                                total_pop_var: 'total_pop_var'})\n",
    "    \n",
    "    x = np.array(data.group_pop_var)\n",
    "    t = np.array(data.total_pop_var)\n",
    "    \n",
    "    # If a unit has zero population, the group of interest frequency is zero\n",
    "    pi = np.where(t == 0, 0, x / t)\n",
    "\n",
    "    if not standardize:\n",
    "        cij = _return_length_weighted_w(data).full()[0]\n",
    "    else:\n",
    "        cij = _return_length_weighted_w(data).full()[0]\n",
    "        cij = cij / cij.sum(axis = 1).reshape((cij.shape[0], 1))\n",
    "\n",
    "    \n",
    "    # Inspired in (second solution): https://stackoverflow.com/questions/22720864/efficiently-calculating-a-euclidean-distance-matrix-using-numpy\n",
    "    # Distance Matrix\n",
    "    abs_dist = abs(pi[..., np.newaxis] - pi)\n",
    "    \n",
    "    # manhattan_distances used to compute absolute distances\n",
    "    num = np.multiply(abs_dist, cij).sum()\n",
    "    den = cij.sum()\n",
    "    BSD = D - num / den\n",
    "    BSD\n",
    "    \n",
    "    core_data = data[['group_pop_var', 'total_pop_var', 'geometry']]\n",
    "    \n",
    "    return BSD, core_data\n",
    "\n",
    "\n",
    "class Boundary_Spatial_Dissim_Numpy:\n",
    "\n",
    "    def __init__(self, data, group_pop_var, total_pop_var, standardize = False):\n",
    "        \n",
    "        aux = _boundary_spatial_dissim(data, group_pop_var, total_pop_var, standardize)\n",
    "\n",
    "        self.statistic = aux[0]\n",
    "        self.core_data = aux[1]\n",
    "        self._function = _boundary_spatial_dissim"
   ]
  },
  {
   "cell_type": "code",
   "execution_count": 872,
   "metadata": {},
   "outputs": [],
   "source": [
    "m = 25\n",
    "\n",
    "aux = np.empty(m)\n",
    "for i in range(m):\n",
    "    t1 = time.time()\n",
    "    index1 = Boundary_Spatial_Dissim(df, 'HISP_', 'TOT_POP')\n",
    "    t2 = time.time()\n",
    "    aux[i] = t2-t1\n",
    "    \n",
    "aux2 = np.empty(m)\n",
    "for i in range(m):\n",
    "    t1 = time.time()\n",
    "    index1 = Boundary_Spatial_Dissim_Numpy(df, 'HISP_', 'TOT_POP')\n",
    "    t2 = time.time()\n",
    "    aux2[i] = t2-t1\n",
    "    \n",
    "index1 = Boundary_Spatial_Dissim(df, 'HISP_', 'TOT_POP')\n",
    "index2 = Boundary_Spatial_Dissim_Numpy(df, 'HISP_', 'TOT_POP')"
   ]
  },
  {
   "cell_type": "code",
   "execution_count": 873,
   "metadata": {},
   "outputs": [
    {
     "data": {
      "text/plain": [
       "0.2667626367289605"
      ]
     },
     "execution_count": 873,
     "metadata": {},
     "output_type": "execute_result"
    }
   ],
   "source": [
    "index1.statistic"
   ]
  },
  {
   "cell_type": "code",
   "execution_count": 874,
   "metadata": {},
   "outputs": [
    {
     "data": {
      "text/plain": [
       "0.2667626367289605"
      ]
     },
     "execution_count": 874,
     "metadata": {},
     "output_type": "execute_result"
    }
   ],
   "source": [
    "index2.statistic"
   ]
  },
  {
   "cell_type": "code",
   "execution_count": 875,
   "metadata": {},
   "outputs": [
    {
     "data": {
      "text/plain": [
       "1.934177770614624"
      ]
     },
     "execution_count": 875,
     "metadata": {},
     "output_type": "execute_result"
    }
   ],
   "source": [
    "aux.mean()"
   ]
  },
  {
   "cell_type": "code",
   "execution_count": 876,
   "metadata": {},
   "outputs": [
    {
     "data": {
      "text/plain": [
       "1.991007318496704"
      ]
     },
     "execution_count": 876,
     "metadata": {},
     "output_type": "execute_result"
    }
   ],
   "source": [
    "aux2.mean()"
   ]
  },
  {
   "cell_type": "code",
   "execution_count": 877,
   "metadata": {},
   "outputs": [
    {
     "data": {
      "image/png": "[encoded data removed]",
      "text/plain": [
       "<Figure size 432x288 with 1 Axes>"
      ]
     },
     "metadata": {},
     "output_type": "display_data"
    }
   ],
   "source": [
    "plt.hist(aux, bins='auto')\n",
    "plt.show()"
   ]
  },
  {
   "cell_type": "code",
   "execution_count": 878,
   "metadata": {},
   "outputs": [
    {
     "data": {
      "image/png": "[encoded data removed]",
      "text/plain": [
       "<Figure size 432x288 with 1 Axes>"
      ]
     },
     "metadata": {},
     "output_type": "display_data"
    }
   ],
   "source": [
    "plt.hist(aux2, bins='auto')\n",
    "plt.show()"
   ]
  },
  {
   "cell_type": "markdown",
   "metadata": {},
   "source": [
    "# Spatial Proximity Profile (old code is faster!)"
   ]
  },
  {
   "cell_type": "code",
   "execution_count": 880,
   "metadata": {},
   "outputs": [],
   "source": [
    "from segregation.spatial_prox_profile import Spatial_Prox_Prof"
   ]
  },
  {
   "cell_type": "code",
   "execution_count": 896,
   "metadata": {},
   "outputs": [],
   "source": [
    "\"\"\"\n",
    "Spatial Proximity Profile based Segregation Metrics\n",
    "\"\"\"\n",
    "\n",
    "__author__ = \"Renan X. Cortes <renanc@ucr.edu> and Sergio J. Rey <sergio.rey@ucr.edu>\"\n",
    "\n",
    "import numpy as np\n",
    "import pandas as pd\n",
    "import warnings\n",
    "from libpysal.weights import Queen\n",
    "from numpy import inf\n",
    "from sklearn.metrics.pairwise import manhattan_distances\n",
    "\n",
    "__all__ = ['Spatial_Prox_Prof']\n",
    "\n",
    "\n",
    "def _spatial_prox_profile(data, group_pop_var, total_pop_var, m = 1000):\n",
    "    \n",
    "    if (str(type(data)) != '<class \\'geopandas.geodataframe.GeoDataFrame\\'>'):\n",
    "        raise TypeError('data is not a GeoDataFrame and, therefore, this index cannot be calculated.')\n",
    "        \n",
    "    if ('geometry' not in data.columns):\n",
    "        data['geometry'] = data[data._geometry_column_name]\n",
    "        data = data.drop([data._geometry_column_name], axis = 1)\n",
    "        data = data.set_geometry('geometry')\n",
    "        \n",
    "    if(type(m) is not int):\n",
    "        raise TypeError('m must be a string.')\n",
    "        \n",
    "    if(m < 2):\n",
    "        raise ValueError('m must be greater than 1.')\n",
    "    \n",
    "    if((type(group_pop_var) is not str) or (type(total_pop_var) is not str)):\n",
    "        raise TypeError('group_pop_var and total_pop_var must be strings')\n",
    "    \n",
    "    if ((group_pop_var not in data.columns) or (total_pop_var not in data.columns)):    \n",
    "        raise ValueError('group_pop_var and total_pop_var must be variables of data')\n",
    "\n",
    "    data = data.rename(columns={group_pop_var: 'group_pop_var', \n",
    "                                total_pop_var: 'total_pop_var'})\n",
    "    \n",
    "    x = np.array(data.group_pop_var)\n",
    "    t = np.array(data.total_pop_var)\n",
    "    \n",
    "    if any(t < x):    \n",
    "        raise ValueError('Group of interest population must equal or lower than the total population of the units.')\n",
    "        \n",
    "    wij = Queen.from_dataframe(data).full()[0]\n",
    "    \n",
    "    # Inspired in (second solution): https://stackoverflow.com/questions/22720864/efficiently-calculating-a-euclidean-distance-matrix-using-numpy\n",
    "    # Distance Matrix\n",
    "    #delta = abs(wij[..., np.newaxis] - wij)\n",
    "    delta = manhattan_distances(wij)\n",
    "    \n",
    "    def calculate_etat(t):\n",
    "        g_t_i = np.where(x / t >= t, True, False)\n",
    "        k = g_t_i.sum()\n",
    "        sub_delta_ij = delta[g_t_i,:][:,g_t_i]\n",
    "        den = sub_delta_ij.sum()\n",
    "        eta_t = (k**2 - k) / den\n",
    "        return eta_t\n",
    "    \n",
    "    grid = np.linspace(0, 1, m)\n",
    "    aux = np.array(list(map(calculate_etat, grid)))\n",
    "    aux[aux == inf] = 0\n",
    "    aux[aux == -inf] = 0\n",
    "    curve = np.nan_to_num(aux, 0)\n",
    "    \n",
    "    threshold = x.sum() / t.sum()\n",
    "    SPP = ((threshold - ((curve[grid < threshold]).sum() / m - (curve[grid >= threshold]).sum()/ m)) / (1 - threshold))\n",
    "    \n",
    "    core_data = data[['group_pop_var', 'total_pop_var', 'geometry']]\n",
    "    \n",
    "    return SPP, grid, curve, core_data\n",
    "\n",
    "\n",
    "class Spatial_Prox_Prof_Numpy:\n",
    "\n",
    "    def __init__(self, data, group_pop_var, total_pop_var, m = 1000):\n",
    "        \n",
    "        aux = _spatial_prox_profile(data, group_pop_var, total_pop_var, m)\n",
    "\n",
    "        self.statistic = aux[0]\n",
    "        self.grid      = aux[1]\n",
    "        self.curve     = aux[2]\n",
    "        self.core_data = aux[3]\n",
    "        self._function = _spatial_prox_profile\n",
    "\n",
    "    def plot(self):\n",
    "        \"\"\"\n",
    "        Plot the Spatial Proximity Profile\n",
    "        \"\"\"\n",
    "        try:\n",
    "            import matplotlib.pyplot as plt\n",
    "        except ImportError:\n",
    "            warnings.warn('This method relies on importing `matplotlib`')\n",
    "        graph = plt.scatter(self.grid, self.curve, s = 0.1)\n",
    "        return graph\n"
   ]
  },
  {
   "cell_type": "code",
   "execution_count": 892,
   "metadata": {},
   "outputs": [],
   "source": [
    "wij = Queen.from_dataframe(data).full()[0]"
   ]
  },
  {
   "cell_type": "code",
   "execution_count": 907,
   "metadata": {},
   "outputs": [
    {
     "data": {
      "text/plain": [
       "2522.0"
      ]
     },
     "execution_count": 907,
     "metadata": {},
     "output_type": "execute_result"
    }
   ],
   "source": [
    "wij.sum()"
   ]
  },
  {
   "cell_type": "code",
   "execution_count": 895,
   "metadata": {},
   "outputs": [
    {
     "data": {
      "text/plain": [
       "array([[ 0.,  8.,  9., ..., 11., 12.,  9.],\n",
       "       [ 8.,  0.,  3., ...,  7.,  8.,  5.],\n",
       "       [ 9.,  3.,  0., ...,  6.,  7.,  4.],\n",
       "       ...,\n",
       "       [11.,  7.,  6., ...,  0.,  3.,  4.],\n",
       "       [12.,  8.,  7., ...,  3.,  0.,  5.],\n",
       "       [ 9.,  5.,  4., ...,  4.,  5.,  0.]])"
      ]
     },
     "execution_count": 895,
     "metadata": {},
     "output_type": "execute_result"
    }
   ],
   "source": [
    "manhattan_distances(wij)"
   ]
  },
  {
   "cell_type": "code",
   "execution_count": 897,
   "metadata": {},
   "outputs": [
    {
     "name": "stdout",
     "output_type": "stream",
     "text": [
      "Wall time: 412 ms\n"
     ]
    },
    {
     "name": "stderr",
     "output_type": "stream",
     "text": [
      "c:\\users\\renan\\desktop\\inequality\\segregation\\spatial_prox_profile.py:85: RuntimeWarning: invalid value encountered in true_divide\n",
      "  eta_t = (k**2 - k) / den\n"
     ]
    }
   ],
   "source": [
    "%%time\n",
    "index1 = Spatial_Prox_Prof(df, 'HISP_', 'TOT_POP', m = 20)"
   ]
  },
  {
   "cell_type": "code",
   "execution_count": 898,
   "metadata": {},
   "outputs": [
    {
     "name": "stdout",
     "output_type": "stream",
     "text": [
      "Wall time: 464 ms\n"
     ]
    },
    {
     "name": "stderr",
     "output_type": "stream",
     "text": [
      "C:\\Users\\renan\\AppData\\Local\\Continuum\\anaconda3\\lib\\site-packages\\ipykernel_launcher.py:56: RuntimeWarning: divide by zero encountered in true_divide\n",
      "C:\\Users\\renan\\AppData\\Local\\Continuum\\anaconda3\\lib\\site-packages\\ipykernel_launcher.py:56: RuntimeWarning: invalid value encountered in true_divide\n",
      "C:\\Users\\renan\\AppData\\Local\\Continuum\\anaconda3\\lib\\site-packages\\ipykernel_launcher.py:56: RuntimeWarning: invalid value encountered in greater_equal\n"
     ]
    }
   ],
   "source": [
    "%%time\n",
    "index2 = Spatial_Prox_Prof_Numpy(df, 'HISP_', 'TOT_POP', m = 20)"
   ]
  },
  {
   "cell_type": "code",
   "execution_count": 900,
   "metadata": {},
   "outputs": [
    {
     "name": "stderr",
     "output_type": "stream",
     "text": [
      "c:\\users\\renan\\desktop\\inequality\\segregation\\spatial_prox_profile.py:85: RuntimeWarning: invalid value encountered in true_divide\n",
      "  eta_t = (k**2 - k) / den\n",
      "C:\\Users\\renan\\AppData\\Local\\Continuum\\anaconda3\\lib\\site-packages\\ipykernel_launcher.py:56: RuntimeWarning: divide by zero encountered in true_divide\n",
      "C:\\Users\\renan\\AppData\\Local\\Continuum\\anaconda3\\lib\\site-packages\\ipykernel_launcher.py:56: RuntimeWarning: invalid value encountered in true_divide\n",
      "C:\\Users\\renan\\AppData\\Local\\Continuum\\anaconda3\\lib\\site-packages\\ipykernel_launcher.py:56: RuntimeWarning: invalid value encountered in greater_equal\n"
     ]
    }
   ],
   "source": [
    "m = 10\n",
    "\n",
    "aux = np.empty(m)\n",
    "for i in range(m):\n",
    "    t1 = time.time()\n",
    "    index1 = Spatial_Prox_Prof(df, 'HISP_', 'TOT_POP', m = 20)\n",
    "    t2 = time.time()\n",
    "    aux[i] = t2-t1\n",
    "    \n",
    "aux2 = np.empty(m)\n",
    "for i in range(m):\n",
    "    t1 = time.time()\n",
    "    index1 = Spatial_Prox_Prof_Numpy(df, 'HISP_', 'TOT_POP', m = 20)\n",
    "    t2 = time.time()\n",
    "    aux2[i] = t2-t1\n",
    "    \n",
    "index1 = Spatial_Prox_Prof(df, 'HISP_', 'TOT_POP')\n",
    "index2 = Spatial_Prox_Prof_Numpy(df, 'HISP_', 'TOT_POP')"
   ]
  },
  {
   "cell_type": "code",
   "execution_count": 901,
   "metadata": {},
   "outputs": [
    {
     "data": {
      "text/plain": [
       "0.20876837685147084"
      ]
     },
     "execution_count": 901,
     "metadata": {},
     "output_type": "execute_result"
    }
   ],
   "source": [
    "index1.statistic"
   ]
  },
  {
   "cell_type": "code",
   "execution_count": 902,
   "metadata": {},
   "outputs": [
    {
     "data": {
      "text/plain": [
       "0.24888277168518919"
      ]
     },
     "execution_count": 902,
     "metadata": {},
     "output_type": "execute_result"
    }
   ],
   "source": [
    "index2.statistic"
   ]
  },
  {
   "cell_type": "code",
   "execution_count": 903,
   "metadata": {},
   "outputs": [
    {
     "data": {
      "text/plain": [
       "0.44795353412628175"
      ]
     },
     "execution_count": 903,
     "metadata": {},
     "output_type": "execute_result"
    }
   ],
   "source": [
    "aux.mean()"
   ]
  },
  {
   "cell_type": "code",
   "execution_count": 904,
   "metadata": {},
   "outputs": [
    {
     "data": {
      "text/plain": [
       "0.4655726909637451"
      ]
     },
     "execution_count": 904,
     "metadata": {},
     "output_type": "execute_result"
    }
   ],
   "source": [
    "aux2.mean()"
   ]
  },
  {
   "cell_type": "code",
   "execution_count": 905,
   "metadata": {},
   "outputs": [
    {
     "data": {
      "image/png": "[encoded data removed]",
      "text/plain": [
       "<Figure size 432x288 with 1 Axes>"
      ]
     },
     "metadata": {},
     "output_type": "display_data"
    }
   ],
   "source": [
    "plt.hist(aux, bins='auto')\n",
    "plt.show()"
   ]
  },
  {
   "cell_type": "code",
   "execution_count": 906,
   "metadata": {},
   "outputs": [
    {
     "data": {
      "image/png": "[encoded data removed]",
      "text/plain": [
       "<Figure size 432x288 with 1 Axes>"
      ]
     },
     "metadata": {},
     "output_type": "display_data"
    }
   ],
   "source": [
    "plt.hist(aux2, bins='auto')\n",
    "plt.show()"
   ]
  },
  {
   "cell_type": "markdown",
   "metadata": {},
   "source": [
    "# Perimiter Area (old code is faster)"
   ]
  },
  {
   "cell_type": "code",
   "execution_count": 908,
   "metadata": {},
   "outputs": [],
   "source": [
    "from segregation.perimeter_area_ratio_spatial_dissimilarity import Perimeter_Area_Ratio_Spatial_Dissim"
   ]
  },
  {
   "cell_type": "code",
   "execution_count": 912,
   "metadata": {},
   "outputs": [],
   "source": [
    "\"\"\"\n",
    "Perimeter/Area Ratio Spatial Dissimilarity based Segregation Metrics\n",
    "\"\"\"\n",
    "\n",
    "__author__ = \"Renan X. Cortes <renanc@ucr.edu> and Sergio J. Rey <sergio.rey@ucr.edu>\"\n",
    "\n",
    "import numpy as np\n",
    "import pandas as pd\n",
    "#import libpysal\n",
    "from segregation.util import _return_length_weighted_w\n",
    "from segregation.dissimilarity import _dissim\n",
    "from sklearn.metrics.pairwise import manhattan_distances\n",
    "\n",
    "__all__ = ['Perimeter_Area_Ratio_Spatial_Dissim']\n",
    "\n",
    "\n",
    "def _perimeter_area_ratio_spatial_dissim(data, group_pop_var, total_pop_var, standardize = True):\n",
    "    \n",
    "    if (str(type(data)) != '<class \\'geopandas.geodataframe.GeoDataFrame\\'>'):\n",
    "        raise TypeError('data is not a GeoDataFrame and, therefore, this index cannot be calculated.')\n",
    "        \n",
    "    if ('geometry' not in data.columns):\n",
    "        data['geometry'] = data[data._geometry_column_name]\n",
    "        data = data.drop([data._geometry_column_name], axis = 1)\n",
    "        data = data.set_geometry('geometry')\n",
    "        \n",
    "    if (type(standardize) is not bool):\n",
    "        raise TypeError('std is not a boolean object')\n",
    "    \n",
    "    D = _dissim(data, group_pop_var, total_pop_var)[0]\n",
    "    \n",
    "    data = data.rename(columns={group_pop_var: 'group_pop_var', \n",
    "                                total_pop_var: 'total_pop_var'})\n",
    "    \n",
    "    x = np.array(data.group_pop_var)\n",
    "    t = np.array(data.total_pop_var)\n",
    "    \n",
    "    # If a unit has zero population, the group of interest frequency is zero\n",
    "    pi = np.where(t == 0, 0, x / t)\n",
    "\n",
    "    if not standardize:\n",
    "        cij = _return_length_weighted_w(data).full()[0]\n",
    "    else:\n",
    "        cij = _return_length_weighted_w(data).full()[0]\n",
    "        cij = cij / cij.sum()\n",
    "   \n",
    "    peri = np.array(data.length)\n",
    "    ai   = np.array(data.area)\n",
    "    \n",
    "    aux_sum = np.add(peri / ai, (peri / ai).reshape((len(list(peri / ai)),1)))\n",
    "    \n",
    "    max_pa = max(peri / ai)\n",
    "    \n",
    "    # Inspired in (second solution): https://stackoverflow.com/questions/22720864/efficiently-calculating-a-euclidean-distance-matrix-using-numpy\n",
    "    # Distance Matrix\n",
    "    abs_dist = abs(pi[..., np.newaxis] - pi)\n",
    "    \n",
    "    num = np.multiply(np.multiply(abs_dist, cij), aux_sum).sum()\n",
    "    den = 4 * max_pa\n",
    "    \n",
    "    PARD = D - (num / den)\n",
    "    PARD\n",
    "    \n",
    "    core_data = data[['group_pop_var', 'total_pop_var', 'geometry']]\n",
    "    \n",
    "    return PARD, core_data\n",
    "\n",
    "\n",
    "class Perimeter_Area_Ratio_Spatial_Dissim_Numpy:\n",
    "\n",
    "    def __init__(self, data, group_pop_var, total_pop_var, standardize = True):\n",
    "        \n",
    "        aux = _perimeter_area_ratio_spatial_dissim(data, group_pop_var, total_pop_var, standardize)\n",
    "\n",
    "        self.statistic = aux[0]\n",
    "        self.core_data = aux[1]\n",
    "        self._function = _perimeter_area_ratio_spatial_dissim"
   ]
  },
  {
   "cell_type": "code",
   "execution_count": 924,
   "metadata": {},
   "outputs": [],
   "source": [
    "m = 25\n",
    "\n",
    "aux = np.empty(m)\n",
    "for i in range(m):\n",
    "    t1 = time.time()\n",
    "    index1 = Perimeter_Area_Ratio_Spatial_Dissim(df, 'HISP_', 'TOT_POP')\n",
    "    t2 = time.time()\n",
    "    aux[i] = t2-t1\n",
    "    \n",
    "aux2 = np.empty(m)\n",
    "for i in range(m):\n",
    "    t1 = time.time()\n",
    "    index1 = Perimeter_Area_Ratio_Spatial_Dissim_Numpy(df, 'HISP_', 'TOT_POP')\n",
    "    t2 = time.time()\n",
    "    aux2[i] = t2-t1"
   ]
  },
  {
   "cell_type": "code",
   "execution_count": 925,
   "metadata": {},
   "outputs": [
    {
     "data": {
      "text/plain": [
       "1.9037964344024658"
      ]
     },
     "execution_count": 925,
     "metadata": {},
     "output_type": "execute_result"
    }
   ],
   "source": [
    "aux.mean()"
   ]
  },
  {
   "cell_type": "code",
   "execution_count": 926,
   "metadata": {},
   "outputs": [
    {
     "data": {
      "text/plain": [
       "1.9543843936920167"
      ]
     },
     "execution_count": 926,
     "metadata": {},
     "output_type": "execute_result"
    }
   ],
   "source": [
    "aux2.mean()"
   ]
  },
  {
   "cell_type": "code",
   "execution_count": 927,
   "metadata": {},
   "outputs": [
    {
     "data": {
      "image/png": "[encoded data removed]",
      "text/plain": [
       "<Figure size 432x288 with 1 Axes>"
      ]
     },
     "metadata": {},
     "output_type": "display_data"
    }
   ],
   "source": [
    "plt.hist(aux, bins='auto')\n",
    "plt.show()"
   ]
  },
  {
   "cell_type": "code",
   "execution_count": 928,
   "metadata": {},
   "outputs": [
    {
     "data": {
      "image/png": "[encoded data removed]",
      "text/plain": [
       "<Figure size 432x288 with 1 Axes>"
      ]
     },
     "metadata": {},
     "output_type": "display_data"
    }
   ],
   "source": [
    "plt.hist(aux2, bins='auto')\n",
    "plt.show()"
   ]
  },
  {
   "cell_type": "markdown",
   "metadata": {},
   "source": [
    "# Relative Clustering"
   ]
  },
  {
   "cell_type": "code",
   "execution_count": 948,
   "metadata": {},
   "outputs": [],
   "source": [
    "from segregation.relative_clustering import Relative_Clustering"
   ]
  },
  {
   "cell_type": "code",
   "execution_count": 946,
   "metadata": {},
   "outputs": [],
   "source": [
    "\"\"\"\n",
    "Relative Clustering based Segregation Metrics\n",
    "\"\"\"\n",
    "\n",
    "__author__ = \"Renan X. Cortes <renanc@ucr.edu> and Sergio J. Rey <sergio.rey@ucr.edu>\"\n",
    "\n",
    "import numpy as np\n",
    "import pandas as pd\n",
    "from sklearn.metrics.pairwise import euclidean_distances\n",
    "\n",
    "__all__ = ['Relative_Clustering']\n",
    "\n",
    "\n",
    "def _relative_clustering(data, group_pop_var, total_pop_var, alpha = 0.6, beta = 0.5):\n",
    "    \n",
    "    if (str(type(data)) != '<class \\'geopandas.geodataframe.GeoDataFrame\\'>'):\n",
    "        raise TypeError('data is not a GeoDataFrame and, therefore, this index cannot be calculated.')\n",
    "        \n",
    "    if ('geometry' not in data.columns):\n",
    "        data['geometry'] = data[data._geometry_column_name]\n",
    "        data = data.drop([data._geometry_column_name], axis = 1)\n",
    "        data = data.set_geometry('geometry')\n",
    "        \n",
    "    if((type(group_pop_var) is not str) or (type(total_pop_var) is not str)):\n",
    "        raise TypeError('group_pop_var and total_pop_var must be strings')\n",
    "    \n",
    "    if ((group_pop_var not in data.columns) or (total_pop_var not in data.columns)):    \n",
    "        raise ValueError('group_pop_var and total_pop_var must be variables of data')\n",
    "        \n",
    "    if (alpha < 0):\n",
    "        raise ValueError('alpha must be greater than zero.')\n",
    "    \n",
    "    if (beta < 0):\n",
    "        raise ValueError('beta must be greater than zero.')\n",
    "    \n",
    "    data = data.rename(columns={group_pop_var: 'group_pop_var', \n",
    "                                total_pop_var: 'total_pop_var'})\n",
    "    \n",
    "    x = np.array(data.group_pop_var)\n",
    "    t = np.array(data.total_pop_var)\n",
    "    \n",
    "    if any(t < x):    \n",
    "        raise ValueError('Group of interest population must equal or lower than the total population of the units.')\n",
    "    \n",
    "    area = np.array(data.area)\n",
    "    \n",
    "    y = t - x\n",
    "\n",
    "    c_lons = np.array(data.centroid.x)\n",
    "    c_lats = np.array(data.centroid.y)\n",
    "    \n",
    "    X = x.sum()\n",
    "    Y = y.sum()\n",
    "    \n",
    "    dist = euclidean_distances(pd.DataFrame({'c_lons': c_lons, 'c_lats': c_lats}))\n",
    "    np.fill_diagonal(dist, val = (alpha * area) ** (beta))\n",
    "    c = np.exp(-dist)\n",
    "    \n",
    "    Pxx = ((x * c).T * x).sum() / X**2\n",
    "    Pyy = ((y * c).T * y).sum() / Y**2\n",
    "    RCL = Pxx / Pyy - 1\n",
    "    \n",
    "    core_data = data[['group_pop_var', 'total_pop_var', 'geometry']]\n",
    "    \n",
    "    return RCL, core_data\n",
    "\n",
    "\n",
    "class Relative_Clustering_Numpy:\n",
    "\n",
    "    def __init__(self, data, group_pop_var, total_pop_var, alpha = 0.6, beta = 0.5):\n",
    "        \n",
    "        aux = _relative_clustering(data, group_pop_var, total_pop_var, alpha, beta)\n",
    "\n",
    "        self.statistic = aux[0]\n",
    "        self.core_data = aux[1]\n",
    "        self._function = _relative_clustering"
   ]
  },
  {
   "cell_type": "code",
   "execution_count": 955,
   "metadata": {},
   "outputs": [],
   "source": [
    "m = 1000\n",
    "\n",
    "aux = np.empty(m)\n",
    "for i in range(m):\n",
    "    t1 = time.time()\n",
    "    index1 = Relative_Clustering(df, 'HISP_', 'TOT_POP')\n",
    "    t2 = time.time()\n",
    "    aux[i] = t2-t1\n",
    "    \n",
    "aux2 = np.empty(m)\n",
    "for i in range(m):\n",
    "    t1 = time.time()\n",
    "    index1 = Relative_Clustering_Numpy(df, 'HISP_', 'TOT_POP')\n",
    "    t2 = time.time()\n",
    "    aux2[i] = t2-t1"
   ]
  },
  {
   "cell_type": "code",
   "execution_count": 956,
   "metadata": {},
   "outputs": [],
   "source": [
    "index1 = Relative_Clustering(df, 'HISP_', 'TOT_POP')\n",
    "index2 = Relative_Clustering_Numpy(df, 'HISP_', 'TOT_POP')"
   ]
  },
  {
   "cell_type": "code",
   "execution_count": 957,
   "metadata": {},
   "outputs": [
    {
     "data": {
      "text/plain": [
       "0.009095632468738568"
      ]
     },
     "execution_count": 957,
     "metadata": {},
     "output_type": "execute_result"
    }
   ],
   "source": [
    "index1.statistic"
   ]
  },
  {
   "cell_type": "code",
   "execution_count": 958,
   "metadata": {},
   "outputs": [
    {
     "data": {
      "text/plain": [
       "0.009095632468738568"
      ]
     },
     "execution_count": 958,
     "metadata": {},
     "output_type": "execute_result"
    }
   ],
   "source": [
    "index2.statistic"
   ]
  },
  {
   "cell_type": "code",
   "execution_count": 959,
   "metadata": {},
   "outputs": [
    {
     "data": {
      "text/plain": [
       "0.02711879539489746"
      ]
     },
     "execution_count": 959,
     "metadata": {},
     "output_type": "execute_result"
    }
   ],
   "source": [
    "aux.mean()"
   ]
  },
  {
   "cell_type": "code",
   "execution_count": 960,
   "metadata": {},
   "outputs": [
    {
     "data": {
      "text/plain": [
       "0.02657820963859558"
      ]
     },
     "execution_count": 960,
     "metadata": {},
     "output_type": "execute_result"
    }
   ],
   "source": [
    "aux2.mean()"
   ]
  },
  {
   "cell_type": "code",
   "execution_count": 961,
   "metadata": {},
   "outputs": [
    {
     "data": {
      "image/png": "[encoded data removed]",
      "text/plain": [
       "<Figure size 432x288 with 1 Axes>"
      ]
     },
     "metadata": {},
     "output_type": "display_data"
    }
   ],
   "source": [
    "plt.hist(aux, bins='auto')\n",
    "plt.show()"
   ]
  },
  {
   "cell_type": "code",
   "execution_count": 962,
   "metadata": {},
   "outputs": [
    {
     "data": {
      "image/png": "[encoded data removed]",
      "text/plain": [
       "<Figure size 432x288 with 1 Axes>"
      ]
     },
     "metadata": {},
     "output_type": "display_data"
    }
   ],
   "source": [
    "plt.hist(aux2, bins='auto')\n",
    "plt.show()"
   ]
  },
  {
   "cell_type": "markdown",
   "metadata": {},
   "source": [
    "# Spatial Exposure"
   ]
  },
  {
   "cell_type": "code",
   "execution_count": 964,
   "metadata": {},
   "outputs": [],
   "source": [
    "from segregation.spatial_exposure import Spatial_Exposure"
   ]
  },
  {
   "cell_type": "code",
   "execution_count": 965,
   "metadata": {},
   "outputs": [],
   "source": [
    "\"\"\"\n",
    "Spatial Exposure based Segregation Metrics\n",
    "\"\"\"\n",
    "\n",
    "__author__ = \"Renan X. Cortes <renanc@ucr.edu> and Sergio J. Rey <sergio.rey@ucr.edu>\"\n",
    "\n",
    "import numpy as np\n",
    "import pandas as pd\n",
    "from sklearn.metrics.pairwise import euclidean_distances\n",
    "\n",
    "__all__ = ['Spatial_Exposure']\n",
    "\n",
    "\n",
    "def _spatial_exposure(data, group_pop_var, total_pop_var, alpha = 0.6, beta = 0.5):\n",
    "    \n",
    "    if (str(type(data)) != '<class \\'geopandas.geodataframe.GeoDataFrame\\'>'):\n",
    "        raise TypeError('data is not a GeoDataFrame and, therefore, this index cannot be calculated.')\n",
    "        \n",
    "    if ('geometry' not in data.columns):\n",
    "        data['geometry'] = data[data._geometry_column_name]\n",
    "        data = data.drop([data._geometry_column_name], axis = 1)\n",
    "        data = data.set_geometry('geometry')\n",
    "        \n",
    "    if((type(group_pop_var) is not str) or (type(total_pop_var) is not str)):\n",
    "        raise TypeError('group_pop_var and total_pop_var must be strings')\n",
    "    \n",
    "    if ((group_pop_var not in data.columns) or (total_pop_var not in data.columns)):    \n",
    "        raise ValueError('group_pop_var and total_pop_var must be variables of data')\n",
    "        \n",
    "    if (alpha < 0):\n",
    "        raise ValueError('alpha must be greater than zero.')\n",
    "    \n",
    "    if (beta < 0):\n",
    "        raise ValueError('beta must be greater than zero.')\n",
    "    \n",
    "    data = data.rename(columns={group_pop_var: 'group_pop_var', \n",
    "                                total_pop_var: 'total_pop_var'})\n",
    "\n",
    "    x = np.array(data.group_pop_var)\n",
    "    t = np.array(data.total_pop_var)\n",
    "    \n",
    "    if any(t < x):    \n",
    "        raise ValueError('Group of interest population must equal or lower than the total population of the units.')\n",
    "    \n",
    "    y = t - x\n",
    "    \n",
    "    c_lons = np.array(data.centroid.x)\n",
    "    c_lats = np.array(data.centroid.y)\n",
    "    \n",
    "    X = x.sum()\n",
    "    \n",
    "    dist = euclidean_distances(pd.DataFrame({'c_lons': c_lons, 'c_lats': c_lats}))\n",
    "    np.fill_diagonal(dist, val = (alpha * data.area) ** (beta))\n",
    "    c = np.exp(-dist)\n",
    "    \n",
    "    Pij  = np.multiply(c, t) / np.sum(np.multiply(c, t), axis = 1)\n",
    "    SxPy = (x / X * np.nansum(np.multiply(Pij, y / t), axis = 1)).sum()\n",
    "    \n",
    "    core_data = data[['group_pop_var', 'total_pop_var', 'geometry']]\n",
    "    \n",
    "    return SxPy, core_data\n",
    "\n",
    "\n",
    "class Spatial_Exposure_Numpy:\n",
    "\n",
    "    def __init__(self, data, group_pop_var, total_pop_var, alpha = 0.6, beta = 0.5):\n",
    "        \n",
    "        aux = _spatial_exposure(data, group_pop_var, total_pop_var, alpha, beta)\n",
    "\n",
    "        self.statistic = aux[0]\n",
    "        self.core_data = aux[1]\n",
    "        self._function = _spatial_exposure"
   ]
  },
  {
   "cell_type": "code",
   "execution_count": 966,
   "metadata": {},
   "outputs": [],
   "source": [
    "index1 = Spatial_Exposure(df, 'HISP_', 'TOT_POP')\n",
    "index2 = Spatial_Exposure_Numpy(df, 'HISP_', 'TOT_POP')"
   ]
  },
  {
   "cell_type": "code",
   "execution_count": 967,
   "metadata": {},
   "outputs": [
    {
     "data": {
      "text/plain": [
       "0.8396583368412371"
      ]
     },
     "execution_count": 967,
     "metadata": {},
     "output_type": "execute_result"
    }
   ],
   "source": [
    "index1.statistic"
   ]
  },
  {
   "cell_type": "code",
   "execution_count": 968,
   "metadata": {},
   "outputs": [
    {
     "data": {
      "text/plain": [
       "0.8396583368412371"
      ]
     },
     "execution_count": 968,
     "metadata": {},
     "output_type": "execute_result"
    }
   ],
   "source": [
    "index2.statistic"
   ]
  },
  {
   "cell_type": "code",
   "execution_count": 969,
   "metadata": {},
   "outputs": [],
   "source": [
    "m = 1000\n",
    "\n",
    "aux = np.empty(m)\n",
    "for i in range(m):\n",
    "    t1 = time.time()\n",
    "    index1 = Spatial_Exposure(df, 'HISP_', 'TOT_POP')\n",
    "    t2 = time.time()\n",
    "    aux[i] = t2-t1\n",
    "    \n",
    "aux2 = np.empty(m)\n",
    "for i in range(m):\n",
    "    t1 = time.time()\n",
    "    index1 = Spatial_Exposure_Numpy(df, 'HISP_', 'TOT_POP')\n",
    "    t2 = time.time()\n",
    "    aux2[i] = t2-t1"
   ]
  },
  {
   "cell_type": "code",
   "execution_count": 970,
   "metadata": {},
   "outputs": [
    {
     "data": {
      "text/plain": [
       "0.02769722127914429"
      ]
     },
     "execution_count": 970,
     "metadata": {},
     "output_type": "execute_result"
    }
   ],
   "source": [
    "aux.mean()"
   ]
  },
  {
   "cell_type": "code",
   "execution_count": 971,
   "metadata": {},
   "outputs": [
    {
     "data": {
      "text/plain": [
       "0.02527258777618408"
      ]
     },
     "execution_count": 971,
     "metadata": {},
     "output_type": "execute_result"
    }
   ],
   "source": [
    "aux2.mean()"
   ]
  },
  {
   "cell_type": "code",
   "execution_count": 972,
   "metadata": {},
   "outputs": [
    {
     "data": {
      "image/png": "[encoded data removed]",
      "text/plain": [
       "<Figure size 432x288 with 1 Axes>"
      ]
     },
     "metadata": {},
     "output_type": "display_data"
    }
   ],
   "source": [
    "plt.hist(aux, bins='auto')\n",
    "plt.show()"
   ]
  },
  {
   "cell_type": "code",
   "execution_count": 973,
   "metadata": {},
   "outputs": [
    {
     "data": {
      "image/png": "[encoded data removed]",
      "text/plain": [
       "<Figure size 432x288 with 1 Axes>"
      ]
     },
     "metadata": {},
     "output_type": "display_data"
    }
   ],
   "source": [
    "plt.hist(aux2, bins='auto')\n",
    "plt.show()"
   ]
  },
  {
   "cell_type": "markdown",
   "metadata": {},
   "source": [
    "# Spatial Proximity"
   ]
  },
  {
   "cell_type": "code",
   "execution_count": 980,
   "metadata": {},
   "outputs": [],
   "source": [
    "from segregation.spatial_proximity import Spatial_Proximity"
   ]
  },
  {
   "cell_type": "code",
   "execution_count": 985,
   "metadata": {},
   "outputs": [],
   "source": [
    "\"\"\"\n",
    "Spatial Proximity based Segregation Metrics\n",
    "\"\"\"\n",
    "\n",
    "__author__ = \"Renan X. Cortes <renanc@ucr.edu> and Sergio J. Rey <sergio.rey@ucr.edu>\"\n",
    "\n",
    "import numpy as np\n",
    "import pandas as pd\n",
    "from sklearn.metrics.pairwise import euclidean_distances\n",
    "\n",
    "__all__ = ['Spatial_Proximity']\n",
    "\n",
    "\n",
    "def _spatial_proximity(data, group_pop_var, total_pop_var, alpha = 0.6, beta = 0.5):\n",
    "    \n",
    "    if (str(type(data)) != '<class \\'geopandas.geodataframe.GeoDataFrame\\'>'):\n",
    "        raise TypeError('data is not a GeoDataFrame and, therefore, this index cannot be calculated.')\n",
    "        \n",
    "    if ('geometry' not in data.columns):\n",
    "        data['geometry'] = data[data._geometry_column_name]\n",
    "        data = data.drop([data._geometry_column_name], axis = 1)\n",
    "        data = data.set_geometry('geometry')\n",
    "        \n",
    "    if((type(group_pop_var) is not str) or (type(total_pop_var) is not str)):\n",
    "        raise TypeError('group_pop_var and total_pop_var must be strings')\n",
    "    \n",
    "    if ((group_pop_var not in data.columns) or (total_pop_var not in data.columns)):    \n",
    "        raise ValueError('group_pop_var and total_pop_var must be variables of data')\n",
    "        \n",
    "    if (alpha < 0):\n",
    "        raise ValueError('alpha must be greater than zero.')\n",
    "    \n",
    "    if (beta < 0):\n",
    "        raise ValueError('beta must be greater than zero.')\n",
    "    \n",
    "    data = data.rename(columns={group_pop_var: 'group_pop_var', \n",
    "                                total_pop_var: 'total_pop_var'})\n",
    "    \n",
    "    x = np.array(data.group_pop_var)\n",
    "    t = np.array(data.total_pop_var)\n",
    "    \n",
    "    if any(t < x):    \n",
    "        raise ValueError('Group of interest population must equal or lower than the total population of the units.')\n",
    "   \n",
    "    T = t.sum()\n",
    "    \n",
    "    y = t - x\n",
    "    c_lons = np.array(data.centroid.x)\n",
    "    c_lats = np.array(data.centroid.y)\n",
    "    \n",
    "    X = x.sum()\n",
    "    Y = y.sum()\n",
    "    \n",
    "    dist = euclidean_distances(pd.DataFrame({'c_lons': c_lons, 'c_lats': c_lats}))\n",
    "    np.fill_diagonal(dist, val = (alpha * data.area) ** (beta))\n",
    "    c = np.exp(-dist)\n",
    "    \n",
    "    Pxx = ((x * c).T * x).sum() / X**2\n",
    "    Pyy = ((y * c).T * y).sum() / Y**2\n",
    "    Ptt = ((t * c).T * t).sum() / T**2\n",
    "    SP = (X * Pxx + Y * Pyy) / (T * Ptt)\n",
    "    \n",
    "    core_data = data[['group_pop_var', 'total_pop_var', 'geometry']]   \n",
    "    \n",
    "    return SP, core_data\n",
    "\n",
    "\n",
    "class Spatial_Proximity_Numpy:\n",
    "\n",
    "    def __init__(self, data, group_pop_var, total_pop_var, alpha = 0.6, beta = 0.5):\n",
    "        \n",
    "        aux = _spatial_proximity(data, group_pop_var, total_pop_var, alpha, beta)\n",
    "\n",
    "        self.statistic = aux[0]\n",
    "        self.core_data = aux[1]\n",
    "        self._function = _spatial_proximity"
   ]
  },
  {
   "cell_type": "code",
   "execution_count": 986,
   "metadata": {},
   "outputs": [],
   "source": [
    "index1 = Spatial_Proximity(df, 'HISP_', 'TOT_POP')\n",
    "index2 = Spatial_Proximity_Numpy(df, 'HISP_', 'TOT_POP')"
   ]
  },
  {
   "cell_type": "code",
   "execution_count": 987,
   "metadata": {},
   "outputs": [
    {
     "data": {
      "text/plain": [
       "1.0026623464135092"
      ]
     },
     "execution_count": 987,
     "metadata": {},
     "output_type": "execute_result"
    }
   ],
   "source": [
    "index1.statistic"
   ]
  },
  {
   "cell_type": "code",
   "execution_count": 988,
   "metadata": {},
   "outputs": [
    {
     "data": {
      "text/plain": [
       "1.0026623464135092"
      ]
     },
     "execution_count": 988,
     "metadata": {},
     "output_type": "execute_result"
    }
   ],
   "source": [
    "index2.statistic"
   ]
  },
  {
   "cell_type": "code",
   "execution_count": 992,
   "metadata": {},
   "outputs": [],
   "source": [
    "m = 500\n",
    "\n",
    "aux = np.empty(m)\n",
    "for i in range(m):\n",
    "    t1 = time.time()\n",
    "    index1 = Spatial_Proximity(df, 'HISP_', 'TOT_POP')\n",
    "    t2 = time.time()\n",
    "    aux[i] = t2-t1\n",
    "    \n",
    "aux2 = np.empty(m)\n",
    "for i in range(m):\n",
    "    t1 = time.time()\n",
    "    index1 = Spatial_Proximity_Numpy(df, 'HISP_', 'TOT_POP')\n",
    "    t2 = time.time()\n",
    "    aux2[i] = t2-t1"
   ]
  },
  {
   "cell_type": "code",
   "execution_count": 993,
   "metadata": {},
   "outputs": [
    {
     "data": {
      "text/plain": [
       "0.02883445167541504"
      ]
     },
     "execution_count": 993,
     "metadata": {},
     "output_type": "execute_result"
    }
   ],
   "source": [
    "aux.mean()"
   ]
  },
  {
   "cell_type": "code",
   "execution_count": 994,
   "metadata": {},
   "outputs": [
    {
     "data": {
      "text/plain": [
       "0.025969193935394288"
      ]
     },
     "execution_count": 994,
     "metadata": {},
     "output_type": "execute_result"
    }
   ],
   "source": [
    "aux2.mean()"
   ]
  },
  {
   "cell_type": "code",
   "execution_count": 995,
   "metadata": {},
   "outputs": [
    {
     "data": {
      "image/png": "[encoded data removed]",
      "text/plain": [
       "<Figure size 432x288 with 1 Axes>"
      ]
     },
     "metadata": {},
     "output_type": "display_data"
    }
   ],
   "source": [
    "plt.hist(aux, bins='auto')\n",
    "plt.show()"
   ]
  },
  {
   "cell_type": "code",
   "execution_count": 996,
   "metadata": {},
   "outputs": [
    {
     "data": {
      "image/png": "[encoded data removed]",
      "text/plain": [
       "<Figure size 432x288 with 1 Axes>"
      ]
     },
     "metadata": {},
     "output_type": "display_data"
    }
   ],
   "source": [
    "plt.hist(aux2, bins='auto')\n",
    "plt.show()"
   ]
  },
  {
   "cell_type": "markdown",
   "metadata": {},
   "source": [
    "# Spatial Isolation"
   ]
  },
  {
   "cell_type": "code",
   "execution_count": 997,
   "metadata": {},
   "outputs": [],
   "source": [
    "from segregation.spatial_isolation import Spatial_Isolation"
   ]
  },
  {
   "cell_type": "code",
   "execution_count": 998,
   "metadata": {},
   "outputs": [],
   "source": [
    "\"\"\"\n",
    "Spatial Isolation based Segregation Metrics\n",
    "\"\"\"\n",
    "\n",
    "__author__ = \"Renan X. Cortes <renanc@ucr.edu> and Sergio J. Rey <sergio.rey@ucr.edu>\"\n",
    "\n",
    "import numpy as np\n",
    "import pandas as pd\n",
    "from sklearn.metrics.pairwise import euclidean_distances\n",
    "\n",
    "__all__ = ['Spatial_Isolation']\n",
    "\n",
    "\n",
    "def _spatial_isolation(data, group_pop_var, total_pop_var, alpha = 0.6, beta = 0.5):\n",
    "    \n",
    "    if (str(type(data)) != '<class \\'geopandas.geodataframe.GeoDataFrame\\'>'):\n",
    "        raise TypeError('data is not a GeoDataFrame and, therefore, this index cannot be calculated.')\n",
    "        \n",
    "    if ('geometry' not in data.columns):\n",
    "        data['geometry'] = data[data._geometry_column_name]\n",
    "        data = data.drop([data._geometry_column_name], axis = 1)\n",
    "        data = data.set_geometry('geometry')\n",
    "        \n",
    "    if((type(group_pop_var) is not str) or (type(total_pop_var) is not str)):\n",
    "        raise TypeError('group_pop_var and total_pop_var must be strings')\n",
    "    \n",
    "    if ((group_pop_var not in data.columns) or (total_pop_var not in data.columns)):    \n",
    "        raise ValueError('group_pop_var and total_pop_var must be variables of data')\n",
    "        \n",
    "    if (alpha < 0):\n",
    "        raise ValueError('alpha must be greater than zero.')\n",
    "    \n",
    "    if (beta < 0):\n",
    "        raise ValueError('beta must be greater than zero.')\n",
    "    \n",
    "    data = data.rename(columns={group_pop_var: 'group_pop_var', \n",
    "                                total_pop_var: 'total_pop_var'})\n",
    "    \n",
    "    x = np.array(data.group_pop_var)\n",
    "    t = np.array(data.total_pop_var)\n",
    "    \n",
    "    if any(t < x):    \n",
    "        raise ValueError('Group of interest population must equal or lower than the total population of the units.')\n",
    "    \n",
    "    c_lons = np.array(data.centroid.x)\n",
    "    c_lats = np.array(data.centroid.y)\n",
    "    \n",
    "    X = x.sum()\n",
    "    \n",
    "    dist = euclidean_distances(pd.DataFrame({'c_lons': c_lons, 'c_lats': c_lats}))\n",
    "    np.fill_diagonal(dist, val = (alpha * data.area) ** (beta))\n",
    "    c = np.exp(-dist)\n",
    "    \n",
    "    Pij  = np.multiply(c, t) / np.sum(np.multiply(c, t), axis = 1)\n",
    "    SxPx = (np.array(x / X) * np.nansum(np.multiply(Pij, np.array(x / t)), axis = 1)).sum()\n",
    "    \n",
    "    core_data = data[['group_pop_var', 'total_pop_var', 'geometry']]\n",
    "    \n",
    "    return SxPx, core_data\n",
    "\n",
    "\n",
    "class Spatial_Isolation_Numpy:\n",
    "\n",
    "    def __init__(self, data, group_pop_var, total_pop_var, alpha = 0.6, beta = 0.5):\n",
    "        \n",
    "        aux = _spatial_isolation(data, group_pop_var, total_pop_var, alpha, beta)\n",
    "\n",
    "        self.statistic = aux[0]\n",
    "        self.core_data = aux[1]\n",
    "        self._function = _spatial_isolation"
   ]
  },
  {
   "cell_type": "code",
   "execution_count": 999,
   "metadata": {},
   "outputs": [],
   "source": [
    "index1 = Spatial_Isolation(df, 'HISP_', 'TOT_POP')\n",
    "index2 = Spatial_Isolation_Numpy(df, 'HISP_', 'TOT_POP')"
   ]
  },
  {
   "cell_type": "code",
   "execution_count": 1000,
   "metadata": {},
   "outputs": [
    {
     "data": {
      "text/plain": [
       "0.1562162475606278"
      ]
     },
     "execution_count": 1000,
     "metadata": {},
     "output_type": "execute_result"
    }
   ],
   "source": [
    "index1.statistic"
   ]
  },
  {
   "cell_type": "code",
   "execution_count": 1001,
   "metadata": {},
   "outputs": [
    {
     "data": {
      "text/plain": [
       "0.1562162475606278"
      ]
     },
     "execution_count": 1001,
     "metadata": {},
     "output_type": "execute_result"
    }
   ],
   "source": [
    "index2.statistic"
   ]
  },
  {
   "cell_type": "code",
   "execution_count": 1002,
   "metadata": {},
   "outputs": [],
   "source": [
    "m = 500\n",
    "\n",
    "aux = np.empty(m)\n",
    "for i in range(m):\n",
    "    t1 = time.time()\n",
    "    index1 = Spatial_Isolation(df, 'HISP_', 'TOT_POP')\n",
    "    t2 = time.time()\n",
    "    aux[i] = t2-t1\n",
    "    \n",
    "aux2 = np.empty(m)\n",
    "for i in range(m):\n",
    "    t1 = time.time()\n",
    "    index1 = Spatial_Isolation_Numpy(df, 'HISP_', 'TOT_POP')\n",
    "    t2 = time.time()\n",
    "    aux2[i] = t2-t1"
   ]
  },
  {
   "cell_type": "code",
   "execution_count": 1003,
   "metadata": {},
   "outputs": [
    {
     "data": {
      "text/plain": [
       "0.027136649131774902"
      ]
     },
     "execution_count": 1003,
     "metadata": {},
     "output_type": "execute_result"
    }
   ],
   "source": [
    "aux.mean()"
   ]
  },
  {
   "cell_type": "code",
   "execution_count": 1004,
   "metadata": {},
   "outputs": [
    {
     "data": {
      "text/plain": [
       "0.02661361026763916"
      ]
     },
     "execution_count": 1004,
     "metadata": {},
     "output_type": "execute_result"
    }
   ],
   "source": [
    "aux2.mean()"
   ]
  },
  {
   "cell_type": "code",
   "execution_count": 1005,
   "metadata": {},
   "outputs": [
    {
     "data": {
      "image/png": "[encoded data removed]",
      "text/plain": [
       "<Figure size 432x288 with 1 Axes>"
      ]
     },
     "metadata": {},
     "output_type": "display_data"
    }
   ],
   "source": [
    "plt.hist(aux, bins='auto')\n",
    "plt.show()"
   ]
  },
  {
   "cell_type": "code",
   "execution_count": 1006,
   "metadata": {},
   "outputs": [
    {
     "data": {
      "image/png": "[encoded data removed]",
      "text/plain": [
       "<Figure size 432x288 with 1 Axes>"
      ]
     },
     "metadata": {},
     "output_type": "display_data"
    }
   ],
   "source": [
    "plt.hist(aux2, bins='auto')\n",
    "plt.show()"
   ]
  },
  {
   "cell_type": "code",
   "execution_count": null,
   "metadata": {},
   "outputs": [],
   "source": []
  },
  {
   "cell_type": "code",
   "execution_count": null,
   "metadata": {},
   "outputs": [],
   "source": []
  },
  {
   "cell_type": "code",
   "execution_count": null,
   "metadata": {},
   "outputs": [],
   "source": []
  },
  {
   "cell_type": "code",
   "execution_count": null,
   "metadata": {},
   "outputs": [],
   "source": []
  },
  {
   "cell_type": "code",
   "execution_count": null,
   "metadata": {},
   "outputs": [],
   "source": []
  },
  {
   "cell_type": "code",
   "execution_count": null,
   "metadata": {},
   "outputs": [],
   "source": []
  },
  {
   "cell_type": "code",
   "execution_count": null,
   "metadata": {},
   "outputs": [],
   "source": []
  },
  {
   "cell_type": "code",
   "execution_count": null,
   "metadata": {},
   "outputs": [],
   "source": []
  },
  {
   "cell_type": "code",
   "execution_count": null,
   "metadata": {},
   "outputs": [],
   "source": []
  },
  {
   "cell_type": "code",
   "execution_count": null,
   "metadata": {},
   "outputs": [],
   "source": []
  },
  {
   "cell_type": "code",
   "execution_count": null,
   "metadata": {},
   "outputs": [],
   "source": []
  },
  {
   "cell_type": "code",
   "execution_count": null,
   "metadata": {},
   "outputs": [],
   "source": []
  },
  {
   "cell_type": "code",
   "execution_count": null,
   "metadata": {},
   "outputs": [],
   "source": []
  },
  {
   "cell_type": "code",
   "execution_count": null,
   "metadata": {},
   "outputs": [],
   "source": []
  },
  {
   "cell_type": "code",
   "execution_count": null,
   "metadata": {},
   "outputs": [],
   "source": []
  },
  {
   "cell_type": "code",
   "execution_count": null,
   "metadata": {},
   "outputs": [],
   "source": []
  },
  {
   "cell_type": "code",
   "execution_count": null,
   "metadata": {},
   "outputs": [],
   "source": []
  },
  {
   "cell_type": "markdown",
   "metadata": {},
   "source": [
    "# Comparing Density Corrected Dissimilarity"
   ]
  },
  {
   "cell_type": "code",
   "execution_count": 1007,
   "metadata": {},
   "outputs": [],
   "source": [
    "from segregation.density_corrected_dissimilarity import Density_Corrected_Dissim"
   ]
  },
  {
   "cell_type": "code",
   "execution_count": 1090,
   "metadata": {},
   "outputs": [],
   "source": [
    "\"\"\"\n",
    "Density-Corrected Dissimilarity Segregation Index\n",
    "\"\"\"\n",
    "\n",
    "__author__ = \"Renan X. Cortes <renanc@ucr.edu> and Sergio J. Rey <sergio.rey@ucr.edu>\"\n",
    "\n",
    "import numpy as np\n",
    "import pandas as pd\n",
    "from scipy.stats import norm\n",
    "from scipy.optimize import minimize\n",
    "\n",
    "__all__ = ['Density_Corrected_Dissim']\n",
    "\n",
    "\n",
    "def _density_corrected_dissim(data, group_pop_var, total_pop_var, xtol = 1e-4):\n",
    "    if((type(group_pop_var) is not str) or (type(total_pop_var) is not str)):\n",
    "        raise TypeError('group_pop_var and total_pop_var must be strings')\n",
    "    \n",
    "    if ((group_pop_var not in data.columns) or (total_pop_var not in data.columns)):    \n",
    "        raise ValueError('group_pop_var and total_pop_var must be variables of data')\n",
    "        \n",
    "    data = data.rename(columns={group_pop_var: 'group_pop_var', \n",
    "                                total_pop_var: 'total_pop_var'})\n",
    "    \n",
    "    g = np.array(data.group_pop_var)\n",
    "    t = np.array(data.total_pop_var)\n",
    "    \n",
    "    if any(t < g):    \n",
    "        raise ValueError('Group of interest population must equal or lower than the total population of the units.')\n",
    "    \n",
    "    other_group_pop = t - g\n",
    "    \n",
    "    # Group 0: minority group\n",
    "    p0_i = g / g.sum()\n",
    "    n0 = g.sum()\n",
    "    \n",
    "    # Group 1: complement group\n",
    "    p1_i = other_group_pop / other_group_pop.sum()\n",
    "    n1 = other_group_pop.sum()\n",
    "    \n",
    "    sigma_hat_j = np.sqrt(((p1_i * (1 - p1_i)) / n1) + ((p0_i * (1 - p0_i)) / n0))\n",
    "    theta_hat_j = abs(p1_i - p0_i) / sigma_hat_j\n",
    "    \n",
    "    # Constructing function that returns $n(\\hat{\\theta}_j)$\n",
    "    def return_optimal_theta(theta_j):\n",
    "        \n",
    "        def fold_norm(x):\n",
    "            y = (-1) * (norm.pdf(x - theta_j) + norm.pdf(x + theta_j))\n",
    "            return y\n",
    "        \n",
    "        initial_guesses = np.array(0)\n",
    "        #initial_guesses = theta_hat_j.mean()\n",
    "        res = minimize(fold_norm, \n",
    "                       initial_guesses, \n",
    "                       method='nelder-mead',\n",
    "                       options = {'xtol': xtol})\n",
    "        return res.final_simplex[0][1][0]\n",
    "        \n",
    "    optimal_thetas = pd.Series(data = theta_hat_j).apply(return_optimal_theta)\n",
    "    #optimal_thetas = return_optimal_theta(theta_hat_j)\n",
    "    #optimal_thetas = np.array(list(map(return_optimal_theta, theta_hat_j)))\n",
    "    \n",
    "    \n",
    "    #Ddc = (sigma_hat_j * optimal_thetas).sum() / 2\n",
    "    Ddc = np.multiply(sigma_hat_j, optimal_thetas).sum() / 2\n",
    "    \n",
    "    core_data = data[['group_pop_var', 'total_pop_var']]\n",
    "    \n",
    "    return Ddc, core_data\n",
    "\n",
    "\n",
    "class Density_Corrected_Dissim_Numpy:\n",
    "\n",
    "    def __init__(self, data, group_pop_var, total_pop_var):\n",
    "        \n",
    "        aux = _density_corrected_dissim(data, group_pop_var, total_pop_var)\n",
    "\n",
    "        self.statistic = aux[0]\n",
    "        self.core_data = aux[1]\n",
    "        self._function = _density_corrected_dissim"
   ]
  },
  {
   "cell_type": "code",
   "execution_count": 1082,
   "metadata": {},
   "outputs": [],
   "source": [
    "s_map = gpd.read_file(libpysal.examples.get_path(\"sacramentot2.shp\"))\n",
    "df = s_map[['geometry', 'HISP_', 'TOT_POP']]\n",
    "index = Density_Corrected_Dissim_Numpy(df, 'HISP_', 'TOT_POP')"
   ]
  },
  {
   "cell_type": "code",
   "execution_count": 1083,
   "metadata": {},
   "outputs": [
    {
     "data": {
      "text/plain": [
       "0.295205155464069"
      ]
     },
     "execution_count": 1083,
     "metadata": {},
     "output_type": "execute_result"
    }
   ],
   "source": [
    "index.statistic"
   ]
  },
  {
   "cell_type": "code",
   "execution_count": 1086,
   "metadata": {},
   "outputs": [],
   "source": [
    "import os\n",
    "os.chdir('C:\\\\Users\\\\renan\\\\Desktop\\\\full_count_2010')"
   ]
  },
  {
   "cell_type": "code",
   "execution_count": 1089,
   "metadata": {},
   "outputs": [
    {
     "data": {
      "text/plain": [
       "0.29350643204887517"
      ]
     },
     "execution_count": 1089,
     "metadata": {},
     "output_type": "execute_result"
    }
   ],
   "source": [
    "filepath = 'std_2010_fullcount.csv'\n",
    "census_2010 = pd.read_csv(filepath, encoding = \"ISO-8859-1\", sep = \",\")\n",
    "df = census_2010.loc[census_2010.county == \"Riverside County\"][['pop10','nhblk10']]\n",
    "density_corrected_dissim_index = Density_Corrected_Dissim_Numpy(df, 'nhblk10', 'pop10')\n",
    "density_corrected_dissim_index.statistic"
   ]
  },
  {
   "cell_type": "code",
   "execution_count": 1096,
   "metadata": {},
   "outputs": [],
   "source": [
    "index1 = Density_Corrected_Dissim(df, 'HISP_', 'TOT_POP')\n",
    "index2 = Density_Corrected_Dissim_Numpy(df, 'HISP_', 'TOT_POP')"
   ]
  },
  {
   "cell_type": "code",
   "execution_count": 1097,
   "metadata": {},
   "outputs": [
    {
     "data": {
      "text/plain": [
       "0.2952051469981647"
      ]
     },
     "execution_count": 1097,
     "metadata": {},
     "output_type": "execute_result"
    }
   ],
   "source": [
    "index1.statistic"
   ]
  },
  {
   "cell_type": "code",
   "execution_count": 1098,
   "metadata": {},
   "outputs": [
    {
     "data": {
      "text/plain": [
       "0.29520521387730086"
      ]
     },
     "execution_count": 1098,
     "metadata": {},
     "output_type": "execute_result"
    }
   ],
   "source": [
    "index2.statistic"
   ]
  },
  {
   "cell_type": "code",
   "execution_count": 1099,
   "metadata": {},
   "outputs": [],
   "source": [
    "m = 5\n",
    "\n",
    "aux = np.empty(m)\n",
    "for i in range(m):\n",
    "    t1 = time.time()\n",
    "    index1 = Density_Corrected_Dissim(df, 'HISP_', 'TOT_POP')\n",
    "    t2 = time.time()\n",
    "    aux[i] = t2-t1\n",
    "    \n",
    "aux2 = np.empty(m)\n",
    "for i in range(m):\n",
    "    t1 = time.time()\n",
    "    index1 = Density_Corrected_Dissim_Numpy(df, 'HISP_', 'TOT_POP')\n",
    "    t2 = time.time()\n",
    "    aux2[i] = t2-t1"
   ]
  },
  {
   "cell_type": "code",
   "execution_count": 1105,
   "metadata": {},
   "outputs": [
    {
     "data": {
      "text/plain": [
       "0.6909225664101956"
      ]
     },
     "execution_count": 1105,
     "metadata": {},
     "output_type": "execute_result"
    }
   ],
   "source": [
    "3.557942581176758/5.149553298950195"
   ]
  },
  {
   "cell_type": "code",
   "execution_count": 1101,
   "metadata": {},
   "outputs": [
    {
     "data": {
      "text/plain": [
       "5.149553298950195"
      ]
     },
     "execution_count": 1101,
     "metadata": {},
     "output_type": "execute_result"
    }
   ],
   "source": [
    "aux.mean()"
   ]
  },
  {
   "cell_type": "code",
   "execution_count": 1102,
   "metadata": {},
   "outputs": [
    {
     "data": {
      "text/plain": [
       "3.557942581176758"
      ]
     },
     "execution_count": 1102,
     "metadata": {},
     "output_type": "execute_result"
    }
   ],
   "source": [
    "aux2.mean()"
   ]
  },
  {
   "cell_type": "code",
   "execution_count": 1103,
   "metadata": {},
   "outputs": [
    {
     "data": {
      "image/png": "[encoded data removed]",
      "text/plain": [
       "<Figure size 432x288 with 1 Axes>"
      ]
     },
     "metadata": {},
     "output_type": "display_data"
    }
   ],
   "source": [
    "plt.hist(aux, bins='auto')\n",
    "plt.show()"
   ]
  },
  {
   "cell_type": "code",
   "execution_count": 1104,
   "metadata": {},
   "outputs": [
    {
     "data": {
      "image/png": "[encoded data removed]",
      "text/plain": [
       "<Figure size 432x288 with 1 Axes>"
      ]
     },
     "metadata": {},
     "output_type": "display_data"
    }
   ],
   "source": [
    "plt.hist(aux2, bins='auto')\n",
    "plt.show()"
   ]
  },
  {
   "cell_type": "code",
   "execution_count": 273,
   "metadata": {},
   "outputs": [
    {
     "data": {
      "text/plain": [
       "Ttest_indResult(statistic=-1.4759709187181538, pvalue=0.1415402301591242)"
      ]
     },
     "execution_count": 273,
     "metadata": {},
     "output_type": "execute_result"
    }
   ],
   "source": [
    "scipy.stats.ttest_ind(aux, aux2)"
   ]
  },
  {
   "cell_type": "markdown",
   "metadata": {},
   "source": [
    "# Spatial Dissimilarity"
   ]
  },
  {
   "cell_type": "code",
   "execution_count": 282,
   "metadata": {},
   "outputs": [],
   "source": [
    "from segregation.spatial_dissimilarity import Spatial_Dissim"
   ]
  },
  {
   "cell_type": "code",
   "execution_count": 346,
   "metadata": {},
   "outputs": [],
   "source": [
    "def _dissim(data, group_pop_var, total_pop_var):\n",
    "    \"\"\"\n",
    "    Calculation of Dissimilarity index\n",
    "\n",
    "    Parameters\n",
    "    ----------\n",
    "\n",
    "    data          : a pandas DataFrame\n",
    "    \n",
    "    group_pop_var : string\n",
    "                    The name of variable in data that contains the population size of the group of interest\n",
    "                    \n",
    "    total_pop_var : string\n",
    "                    The name of variable in data that contains the total population of the unit\n",
    "\n",
    "    Attributes\n",
    "    ----------\n",
    "\n",
    "    statistic : float\n",
    "                Dissimilarity Index\n",
    "                \n",
    "    core_data : a pandas DataFrame\n",
    "                A pandas DataFrame that contains the columns used to perform the estimate.\n",
    "\n",
    "    Notes\n",
    "    -----\n",
    "    Based on Massey, Douglas S., and Nancy A. Denton. \"The dimensions of residential segregation.\" Social forces 67.2 (1988): 281-315.\n",
    "\n",
    "    \"\"\"\n",
    "    if((type(group_pop_var) is not str) or (type(total_pop_var) is not str)):\n",
    "        raise TypeError('group_pop_var and total_pop_var must be strings')\n",
    "    \n",
    "    if ((group_pop_var not in data.columns) or (total_pop_var not in data.columns)):    \n",
    "        raise ValueError('group_pop_var and total_pop_var must be variables of data')\n",
    "        \n",
    "    data = data.rename(columns={group_pop_var: 'group_pop_var', \n",
    "                                total_pop_var: 'total_pop_var'})\n",
    "    \n",
    "    if any(data.total_pop_var < data.group_pop_var):    \n",
    "        raise ValueError('Group of interest population must equal or lower than the total population of the units.')\n",
    "    \n",
    "    t = np.array(data.total_pop_var)\n",
    "    g = np.array(data.group_pop_var)\n",
    "    \n",
    "    T = t.sum()\n",
    "    P = g.sum() / T\n",
    "    \n",
    "    # If a unit has zero population, the group of interest frequency is zero\n",
    "    pi = np.where(t == 0, 0, g/t)\n",
    "    \n",
    "    D = (((t * abs(pi - P)))/ (2 * T * P * (1 - P))).sum()\n",
    "    \n",
    "    core_data = data[['group_pop_var', 'total_pop_var']]\n",
    "    \n",
    "    return D, core_data"
   ]
  },
  {
   "cell_type": "code",
   "execution_count": 348,
   "metadata": {},
   "outputs": [],
   "source": [
    "\n",
    "\"\"\"\n",
    "Spatial Dissimilarity based Segregation Metrics\n",
    "\"\"\"\n",
    "\n",
    "__author__ = \"Renan X. Cortes <renanc@ucr.edu> and Sergio J. Rey <sergio.rey@ucr.edu>\"\n",
    "\n",
    "import numpy as np\n",
    "import pandas as pd\n",
    "import libpysal\n",
    "#from segregation.dissimilarity import _dissim\n",
    "from libpysal.weights import Queen\n",
    "from sklearn.metrics.pairwise import manhattan_distances\n",
    "\n",
    "__all__ = ['Spatial_Dissim']\n",
    "\n",
    "\n",
    "def _spatial_dissim(data, group_pop_var, total_pop_var, w = None, standardize = False):\n",
    "    \"\"\"\n",
    "    Calculation of Spatial Dissimilarity index\n",
    "\n",
    "    Parameters\n",
    "    ----------\n",
    "\n",
    "    data          : a geopandas DataFrame with a geometry column.\n",
    "    \n",
    "    group_pop_var : string\n",
    "                    The name of variable in data that contains the population size of the group of interest\n",
    "                    \n",
    "    total_pop_var : string\n",
    "                    The name of variable in data that contains the total population of the unit\n",
    "                    \n",
    "    w             : W\n",
    "                    A PySAL weights object. If not provided, Queen contiguity matrix is used.\n",
    "                    \n",
    "    standardize   : boolean\n",
    "                    A condition for row standardisation of the weights matrices. If True, the values of cij in the formulas gets row standardized.\n",
    "                    For the sake of comparison, the seg R package of Hong, Seong-Yun, David O'Sullivan, and Yukio Sadahiro. \"Implementing spatial segregation measures in R.\" PloS one 9.11 (2014): e113767.\n",
    "                    works by default with row standardization.\n",
    "        \n",
    "\n",
    "    Attributes\n",
    "    ----------\n",
    "\n",
    "    statistic : float\n",
    "                Spatial Dissimilarity Index\n",
    "                \n",
    "    core_data : a geopandas DataFrame\n",
    "                A geopandas DataFrame that contains the columns used to perform the estimate.\n",
    "                \n",
    "    Notes\n",
    "    -----\n",
    "    Based on Morrill, R. L. (1991) \"On the Measure of Geographic Segregation\". Geography Research Forum.\n",
    "\n",
    "    \"\"\"\n",
    "    \n",
    "    if (str(type(data)) != '<class \\'geopandas.geodataframe.GeoDataFrame\\'>'):\n",
    "        raise TypeError('data is not a GeoDataFrame and, therefore, this index cannot be calculated.')\n",
    "        \n",
    "    if ('geometry' not in data.columns):\n",
    "        data['geometry'] = data[data._geometry_column_name]\n",
    "        data = data.drop([data._geometry_column_name], axis = 1)\n",
    "        data = data.set_geometry('geometry')\n",
    "        \n",
    "    if (type(standardize) is not bool):\n",
    "        raise TypeError('std is not a boolean object')\n",
    "        \n",
    "    if w is None:    \n",
    "        w_object = Queen.from_dataframe(data)\n",
    "    else:\n",
    "        w_object = w\n",
    "    \n",
    "    if (not issubclass(type(w_object), libpysal.weights.W)):\n",
    "        raise TypeError('w is not a PySAL weights object')\n",
    "    \n",
    "    D = _dissim(data, group_pop_var, total_pop_var)[0]\n",
    "    \n",
    "    data = data.rename(columns={group_pop_var: 'group_pop_var', \n",
    "                                total_pop_var: 'total_pop_var'})\n",
    "    \n",
    "    t = np.array(data.total_pop_var)\n",
    "    g = np.array(data.group_pop_var)\n",
    "    \n",
    "    # If a unit has zero population, the group of interest frequency is zero\n",
    "    pi = np.where(t == 0, 0, g / t)\n",
    "    \n",
    "    if not standardize:\n",
    "        cij = w_object.full()[0]\n",
    "    else:\n",
    "        cij = w_object.full()[0]\n",
    "        cij = cij / cij.sum(axis = 1).reshape((cij.shape[0], 1))\n",
    "\n",
    "    data['pi'] = np.where(t == 0, 0, g/t)\n",
    "    num = np.multiply(manhattan_distances(data[['pi']]), cij).sum()\n",
    "    \n",
    "    den = cij.sum()\n",
    "    SD = D - num / den\n",
    "    SD\n",
    "    \n",
    "    core_data = data[['group_pop_var', 'total_pop_var', 'geometry']]\n",
    "    \n",
    "    return SD, core_data\n",
    "\n",
    "\n",
    "class Spatial_Dissim_Numpy:\n",
    "    \"\"\"\n",
    "    Calculation of Spatial Dissimilarity index\n",
    "\n",
    "    Parameters\n",
    "    ----------\n",
    "\n",
    "    data          : a geopandas DataFrame with a geometry column.\n",
    "    \n",
    "    group_pop_var : string\n",
    "                    The name of variable in data that contains the population size of the group of interest\n",
    "                    \n",
    "    total_pop_var : string\n",
    "                    The name of variable in data that contains the total population of the unit\n",
    "                    \n",
    "    w             : W\n",
    "                    A PySAL weights object. If not provided, Queen contiguity matrix is used.\n",
    "    \n",
    "    standardize   : boolean\n",
    "                    A condition for row standardisation of the weights matrices. If True, the values of cij in the formulas gets row standardized.\n",
    "                    For the sake of comparison, the seg R package of Hong, Seong-Yun, David O'Sullivan, and Yukio Sadahiro. \"Implementing spatial segregation measures in R.\" PloS one 9.11 (2014): e113767.\n",
    "                    works by default with row standardization.\n",
    "\n",
    "    Attributes\n",
    "    ----------\n",
    "\n",
    "    statistic : float\n",
    "                Spatial Dissimilarity Index\n",
    "                \n",
    "    core_data : a geopandas DataFrame\n",
    "                A geopandas DataFrame that contains the columns used to perform the estimate.   \n",
    "                \n",
    "    Examples\n",
    "    --------\n",
    "    In this example, we will calculate the degree of spatial dissimilarity (D) for the Riverside County using the census tract data of 2010.\n",
    "    The group of interest is non-hispanic black people which is the variable nhblk10 in the dataset. The neighborhood contiguity matrix is used.\n",
    "    \n",
    "    Firstly, we need to read the data:\n",
    "    \n",
    "    >>> This example uses all census data that the user must provide your own copy of the external database.\n",
    "    >>> A step-by-step procedure for downloading the data can be found here: https://github.com/spatialucr/osnap/tree/master/osnap/data.\n",
    "    >>> After the user download the LTDB_Std_All_fullcount.zip and extract the files, the filepath might be something like presented below.\n",
    "    >>> filepath = '~/data/std_2010_fullcount.csv'\n",
    "    >>> census_2010 = pd.read_csv(filepath, encoding = \"ISO-8859-1\", sep = \",\")\n",
    "    \n",
    "    Then, we filter only for the desired county (in this case, Riverside County):\n",
    "    \n",
    "    >>> df = census_2010.loc[census_2010.county == \"Riverside County\"][['trtid10', 'pop10','nhblk10']]\n",
    "    \n",
    "    Then, we read the Riverside map data using geopandas (the county id is 06065):\n",
    "    \n",
    "    >>> map_url = 'https://raw.githubusercontent.com/renanxcortes/inequality-segregation-supplementary-files/master/Tracts_grouped_by_County/06065.json'\n",
    "    >>> map_gpd = gpd.read_file(map_url)\n",
    "    \n",
    "    It is necessary to harmonize the data type of the dataset and the geopandas in order to work the merging procedure.\n",
    "    Later, we extract only the columns that will be used.\n",
    "    \n",
    "    >>> map_gpd['INTGEOID10'] = pd.to_numeric(map_gpd[\"GEOID10\"])\n",
    "    >>> gdf_pre = map_gpd.merge(df, left_on = 'INTGEOID10', right_on = 'trtid10')\n",
    "    >>> gdf = gdf_pre[['geometry', 'pop10', 'nhblk10']]\n",
    "    \n",
    "    The value is estimated below.\n",
    "    \n",
    "    >>> spatial_dissim_index = Spatial_Dissim(gdf, 'nhblk10', 'pop10')\n",
    "    >>> spatial_dissim_index.statistic\n",
    "    0.2864885055405311\n",
    "        \n",
    "    To use different neighborhood matrices:\n",
    "        \n",
    "    >>> from libpysal.weights import Rook, KNN\n",
    "    \n",
    "    Assuming K-nearest neighbors with k = 4\n",
    "    \n",
    "    >>> knn = KNN.from_dataframe(gdf, k=4)\n",
    "    >>> spatial_dissim_index = Spatial_Dissim(gdf, 'nhblk10', 'pop10', w = knn)\n",
    "    >>> spatial_dissim_index.statistic\n",
    "    0.28544347200877285\n",
    "    \n",
    "    Assuming Rook contiguity neighborhood\n",
    "    \n",
    "    >>> roo = Rook.from_dataframe(gdf)\n",
    "    >>> spatial_dissim_index = Spatial_Dissim(gdf, 'nhblk10', 'pop10', w = roo)\n",
    "    >>> spatial_dissim_index.statistic\n",
    "    0.2866269198707091\n",
    "            \n",
    "    Notes\n",
    "    -----\n",
    "    Based on Morrill, R. L. (1991) \"On the Measure of Geographic Segregation\". Geography Research Forum.\n",
    "    \n",
    "    \"\"\"\n",
    "\n",
    "    def __init__(self, data, group_pop_var, total_pop_var, w = None, standardize = False):\n",
    "        \n",
    "        aux = _spatial_dissim(data, group_pop_var, total_pop_var, w, standardize)\n",
    "\n",
    "        self.statistic = aux[0]\n",
    "        self.core_data = aux[1]\n",
    "        self._function = _spatial_dissim"
   ]
  },
  {
   "cell_type": "code",
   "execution_count": 349,
   "metadata": {},
   "outputs": [],
   "source": [
    "aux = np.empty(10)\n",
    "for i in range(10):\n",
    "    t1 = time.time()\n",
    "    index1 = Spatial_Dissim(df, 'HISP_', 'TOT_POP')\n",
    "    t2 = time.time()\n",
    "    aux[i] = t2-t1"
   ]
  },
  {
   "cell_type": "code",
   "execution_count": 350,
   "metadata": {},
   "outputs": [],
   "source": [
    "aux2 = np.empty(10)\n",
    "for i in range(10):\n",
    "    t1 = time.time()\n",
    "    index1 = Spatial_Dissim_Numpy(df, 'HISP_', 'TOT_POP')\n",
    "    t2 = time.time()\n",
    "    aux2[i] = t2-t1"
   ]
  },
  {
   "cell_type": "code",
   "execution_count": 351,
   "metadata": {},
   "outputs": [],
   "source": [
    "index1 = Spatial_Dissim(df, 'HISP_', 'TOT_POP')\n",
    "index2 = Spatial_Dissim_Numpy(df, 'HISP_', 'TOT_POP')"
   ]
  },
  {
   "cell_type": "code",
   "execution_count": 352,
   "metadata": {},
   "outputs": [
    {
     "data": {
      "text/plain": [
       "0.2611974332919437"
      ]
     },
     "execution_count": 352,
     "metadata": {},
     "output_type": "execute_result"
    }
   ],
   "source": [
    "index1.statistic"
   ]
  },
  {
   "cell_type": "code",
   "execution_count": 353,
   "metadata": {},
   "outputs": [
    {
     "data": {
      "text/plain": [
       "0.2611974332919437"
      ]
     },
     "execution_count": 353,
     "metadata": {},
     "output_type": "execute_result"
    }
   ],
   "source": [
    "index2.statistic"
   ]
  },
  {
   "cell_type": "code",
   "execution_count": 354,
   "metadata": {},
   "outputs": [
    {
     "data": {
      "text/plain": [
       "0.3676570177078247"
      ]
     },
     "execution_count": 354,
     "metadata": {},
     "output_type": "execute_result"
    }
   ],
   "source": [
    "aux.mean()"
   ]
  },
  {
   "cell_type": "code",
   "execution_count": 355,
   "metadata": {},
   "outputs": [
    {
     "data": {
      "text/plain": [
       "0.3687541961669922"
      ]
     },
     "execution_count": 355,
     "metadata": {},
     "output_type": "execute_result"
    }
   ],
   "source": [
    "aux2.mean()"
   ]
  },
  {
   "cell_type": "code",
   "execution_count": 356,
   "metadata": {},
   "outputs": [],
   "source": [
    "pi= np.where(t == 0, 0, g/t)"
   ]
  },
  {
   "cell_type": "code",
   "execution_count": 361,
   "metadata": {},
   "outputs": [
    {
     "data": {
      "text/plain": [
       "array([[0.]])"
      ]
     },
     "execution_count": 361,
     "metadata": {},
     "output_type": "execute_result"
    }
   ],
   "source": [
    "manhattan_distances(np.array([pi]))"
   ]
  },
  {
   "cell_type": "code",
   "execution_count": 364,
   "metadata": {},
   "outputs": [
    {
     "data": {
      "text/plain": [
       "array([[   0.,   55., 1582., ..., 1671.,  232.,   47.],\n",
       "       [  55.,    0., 1527., ..., 1616.,  177.,    8.],\n",
       "       [1582., 1527.,    0., ...,   89., 1350., 1535.],\n",
       "       ...,\n",
       "       [1671., 1616.,   89., ...,    0., 1439., 1624.],\n",
       "       [ 232.,  177., 1350., ..., 1439.,    0.,  185.],\n",
       "       [  47.,    8., 1535., ..., 1624.,  185.,    0.]])"
      ]
     },
     "execution_count": 364,
     "metadata": {},
     "output_type": "execute_result"
    }
   ],
   "source": [
    "manhattan_distances(df[['HISP_']])"
   ]
  },
  {
   "cell_type": "code",
   "execution_count": 370,
   "metadata": {},
   "outputs": [
    {
     "data": {
      "text/plain": [
       "pandas.core.frame.DataFrame"
      ]
     },
     "execution_count": 370,
     "metadata": {},
     "output_type": "execute_result"
    }
   ],
   "source": [
    "type(df[['HISP_']])"
   ]
  },
  {
   "cell_type": "code",
   "execution_count": 372,
   "metadata": {},
   "outputs": [
    {
     "data": {
      "text/plain": [
       "array([[ 1.        ,  1.41421356, 11.        ],\n",
       "       [ 1.41421356,  1.        , 12.        ],\n",
       "       [ 7.07106781,  6.08276253, 18.        ]])"
      ]
     },
     "execution_count": 372,
     "metadata": {},
     "output_type": "execute_result"
    }
   ],
   "source": [
    "distance_matrix([[0,0],[0,1],[0,7]], [[1,0],[1,1],[0,-11]])"
   ]
  },
  {
   "cell_type": "code",
   "execution_count": 376,
   "metadata": {},
   "outputs": [
    {
     "ename": "ValueError",
     "evalue": "not enough values to unpack (expected 2, got 1)",
     "output_type": "error",
     "traceback": [
      "\u001b[1;31m---------------------------------------------------------------------------\u001b[0m",
      "\u001b[1;31mValueError\u001b[0m                                Traceback (most recent call last)",
      "\u001b[1;32m<ipython-input-376-b17b5392c926>\u001b[0m in \u001b[0;36m<module>\u001b[1;34m()\u001b[0m\n\u001b[1;32m----> 1\u001b[1;33m \u001b[0mdistance_matrix\u001b[0m\u001b[1;33m(\u001b[0m\u001b[0mnp\u001b[0m\u001b[1;33m.\u001b[0m\u001b[0marray\u001b[0m\u001b[1;33m(\u001b[0m\u001b[0mpi\u001b[0m\u001b[1;33m)\u001b[0m\u001b[1;33m,\u001b[0m \u001b[0mnp\u001b[0m\u001b[1;33m.\u001b[0m\u001b[0marray\u001b[0m\u001b[1;33m(\u001b[0m\u001b[0mpi\u001b[0m\u001b[1;33m)\u001b[0m\u001b[1;33m)\u001b[0m\u001b[1;33m\u001b[0m\u001b[0m\n\u001b[0m",
      "\u001b[1;32m~\\AppData\\Local\\Continuum\\anaconda3\\lib\\site-packages\\scipy\\spatial\\kdtree.py\u001b[0m in \u001b[0;36mdistance_matrix\u001b[1;34m(x, y, p, threshold)\u001b[0m\n\u001b[0;32m    968\u001b[0m \u001b[1;33m\u001b[0m\u001b[0m\n\u001b[0;32m    969\u001b[0m     \u001b[0mx\u001b[0m \u001b[1;33m=\u001b[0m \u001b[0mnp\u001b[0m\u001b[1;33m.\u001b[0m\u001b[0masarray\u001b[0m\u001b[1;33m(\u001b[0m\u001b[0mx\u001b[0m\u001b[1;33m)\u001b[0m\u001b[1;33m\u001b[0m\u001b[0m\n\u001b[1;32m--> 970\u001b[1;33m     \u001b[0mm\u001b[0m\u001b[1;33m,\u001b[0m \u001b[0mk\u001b[0m \u001b[1;33m=\u001b[0m \u001b[0mx\u001b[0m\u001b[1;33m.\u001b[0m\u001b[0mshape\u001b[0m\u001b[1;33m\u001b[0m\u001b[0m\n\u001b[0m\u001b[0;32m    971\u001b[0m     \u001b[0my\u001b[0m \u001b[1;33m=\u001b[0m \u001b[0mnp\u001b[0m\u001b[1;33m.\u001b[0m\u001b[0masarray\u001b[0m\u001b[1;33m(\u001b[0m\u001b[0my\u001b[0m\u001b[1;33m)\u001b[0m\u001b[1;33m\u001b[0m\u001b[0m\n\u001b[0;32m    972\u001b[0m     \u001b[0mn\u001b[0m\u001b[1;33m,\u001b[0m \u001b[0mkk\u001b[0m \u001b[1;33m=\u001b[0m \u001b[0my\u001b[0m\u001b[1;33m.\u001b[0m\u001b[0mshape\u001b[0m\u001b[1;33m\u001b[0m\u001b[0m\n",
      "\u001b[1;31mValueError\u001b[0m: not enough values to unpack (expected 2, got 1)"
     ]
    }
   ],
   "source": [
    "distance_matrix(np.array(pi), np.array(pi))"
   ]
  },
  {
   "cell_type": "code",
   "execution_count": null,
   "metadata": {},
   "outputs": [],
   "source": []
  }
 ],
 "metadata": {
  "kernelspec": {
   "display_name": "Python 3",
   "language": "python",
   "name": "python3"
  },
  "language_info": {
   "codemirror_mode": {
    "name": "ipython",
    "version": 3
   },
   "file_extension": ".py",
   "mimetype": "text/x-python",
   "name": "python",
   "nbconvert_exporter": "python",
   "pygments_lexer": "ipython3",
   "version": "3.6.5"
  }
 },
 "nbformat": 4,
 "nbformat_minor": 2
}
