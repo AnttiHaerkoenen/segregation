{
 "cells": [
  {
   "cell_type": "code",
   "execution_count": 1,
   "metadata": {},
   "outputs": [],
   "source": [
    "import segregation"
   ]
  },
  {
   "cell_type": "code",
   "execution_count": 2,
   "metadata": {},
   "outputs": [],
   "source": [
    "from segregation.density_corrected_dissimilarity import Density_Corrected_Dissim"
   ]
  },
  {
   "cell_type": "code",
   "execution_count": 3,
   "metadata": {},
   "outputs": [
    {
     "name": "stdout",
     "output_type": "stream",
     "text": [
      "Help on class Density_Corrected_Dissim in module segregation.density_corrected_dissimilarity:\n",
      "\n",
      "class Density_Corrected_Dissim(builtins.object)\n",
      " |  Calculation of Density Corrected Dissimilarity index\n",
      " |  \n",
      " |  Parameters\n",
      " |  ----------\n",
      " |  \n",
      " |  data          : a pandas DataFrame\n",
      " |  \n",
      " |  group_pop_var : string\n",
      " |                  The name of variable in data that contains the population size of the group of interest\n",
      " |                  \n",
      " |  total_pop_var : string\n",
      " |                  The name of variable in data that contains the total population of the unit\n",
      " |                  \n",
      " |  xtol          : float\n",
      " |                  The degree of tolerance in the optimization process of returning optimal theta_j\n",
      " |                                \n",
      " |  Attributes\n",
      " |  ----------\n",
      " |  \n",
      " |  statistic : float\n",
      " |              Dissimilarity with Density-Correction (density correction from Allen, Rebecca et al. (2015))\n",
      " |              \n",
      " |  core_data : a pandas DataFrame\n",
      " |              A pandas DataFrame that contains the columns used to perform the estimate. \n",
      " |      \n",
      " |  Examples\n",
      " |  --------\n",
      " |  In this example, we will calculate the Dissimilarity with Density Correction (Ddc) for the Riverside County using the census tract data of 2010.\n",
      " |  The group of interest is non-hispanic black people which is the variable nhblk10 in the dataset.\n",
      " |  \n",
      " |  Firstly, we need to read the data:\n",
      " |  \n",
      " |  >>> This example uses all census data that the user must provide your own copy of the external database.\n",
      " |  >>> A step-by-step procedure for downloading the data can be found here: https://github.com/spatialucr/osnap/tree/master/osnap/data.\n",
      " |  >>> After the user download the LTDB_Std_All_fullcount.zip and extract the files, the filepath might be something like presented below.\n",
      " |  >>> filepath = '~/data/std_2010_fullcount.csv'\n",
      " |  >>> census_2010 = pd.read_csv(filepath, encoding = \"ISO-8859-1\", sep = \",\")\n",
      " |  \n",
      " |  Then, we filter only for the desired county (in this case, Riverside County):\n",
      " |  \n",
      " |  >>> df = census_2010.loc[census_2010.county == \"Riverside County\"][['pop10','nhblk10']]\n",
      " |  \n",
      " |  The value is estimated below.\n",
      " |  \n",
      " |  >>> density_corrected_dissim_index = Density_Corrected_Dissim(df, 'nhblk10', 'pop10')\n",
      " |  >>> density_corrected_dissim_index.statistic\n",
      " |  0.29350643204887517\n",
      " |   \n",
      " |  Notes\n",
      " |  -----\n",
      " |  Based on Allen, Rebecca, et al. \"More reliable inference for the dissimilarity index of segregation.\" The econometrics journal 18.1 (2015): 40-66.\n",
      " |  \n",
      " |  Methods defined here:\n",
      " |  \n",
      " |  __init__(self, data, group_pop_var, total_pop_var)\n",
      " |      Initialize self.  See help(type(self)) for accurate signature.\n",
      " |  \n",
      " |  ----------------------------------------------------------------------\n",
      " |  Data descriptors defined here:\n",
      " |  \n",
      " |  __dict__\n",
      " |      dictionary for instance variables (if defined)\n",
      " |  \n",
      " |  __weakref__\n",
      " |      list of weak references to the object (if defined)\n",
      "\n"
     ]
    }
   ],
   "source": [
    "help(Density_Corrected_Dissim)"
   ]
  },
  {
   "cell_type": "code",
   "execution_count": null,
   "metadata": {},
   "outputs": [],
   "source": []
  }
 ],
 "metadata": {
  "kernelspec": {
   "display_name": "Python 3",
   "language": "python",
   "name": "python3"
  },
  "language_info": {
   "codemirror_mode": {
    "name": "ipython",
    "version": 3
   },
   "file_extension": ".py",
   "mimetype": "text/x-python",
   "name": "python",
   "nbconvert_exporter": "python",
   "pygments_lexer": "ipython3",
   "version": "3.6.5"
  }
 },
 "nbformat": 4,
 "nbformat_minor": 2
}
