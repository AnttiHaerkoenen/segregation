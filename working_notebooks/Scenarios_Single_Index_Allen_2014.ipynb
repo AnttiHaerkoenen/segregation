{
 "cells": [
  {
   "cell_type": "markdown",
   "metadata": {},
   "source": [
    "# Constructing scenarios according to the guidelines described in Allen (2014)"
   ]
  },
  {
   "cell_type": "code",
   "execution_count": 367,
   "metadata": {},
   "outputs": [],
   "source": [
    "import numpy as np\n",
    "import pandas as pd\n",
    "import os\n",
    "import time\n",
    "\n",
    "os.chdir('C:\\\\Users\\\\renan\\\\Desktop\\\\inequality')\n",
    "from segregation.dissimilarity import Dissim\n",
    "from segregation.spatial_dissimilarity import Spatial_Dissim\n",
    "from segregation.entropy import Entropy\n",
    "from segregation.perimeter_area_ratio_spatial_dissimilarity import Perimeter_Area_Ratio_Spatial_Dissim\n",
    "from segregation.absolute_centralization import Absolute_Centralization\n",
    "from segregation.absolute_concentration import Absolute_Concentration\n",
    "from segregation.atkinson import Atkinson\n",
    "from segregation.bias_corrected_dissimilarity import Bias_Corrected_Dissim\n",
    "from segregation.boundary_spatial_dissimilarity import Boundary_Spatial_Dissim\n",
    "from segregation.conprof import Con_Prof\n",
    "from segregation.correlationr import Correlation_R\n",
    "from segregation.delta import Delta\n",
    "from segregation.density_corrected_dissimilarity import Density_Corrected_Dissim\n",
    "from segregation.exposure import Exposure\n",
    "from segregation.gini_seg import Gini_Seg\n",
    "from segregation.isolation import Isolation\n",
    "from segregation.modified_dissimilarity import Modified_Dissim\n",
    "from segregation.modified_gini_seg import Modified_Gini_Seg\n",
    "from segregation.relative_centralization import Relative_Centralization\n",
    "from segregation.relative_clustering import Relative_Clustering\n",
    "from segregation.relative_concentration import Relative_Concentration\n",
    "from segregation.spatial_exposure import Spatial_Exposure\n",
    "from segregation.spatial_isolation import Spatial_Isolation\n",
    "from segregation.spatial_prox_profile import Spatial_Prox_Prof\n",
    "from segregation.spatial_proximity import Spatial_Proximity\n",
    "\n",
    "from segregation.infer_segregation import Infer_Segregation"
   ]
  },
  {
   "cell_type": "code",
   "execution_count": 232,
   "metadata": {},
   "outputs": [],
   "source": [
    "J = 50\n",
    "a =  0.6 # 1, 0.8, 0.6, 0.4, 0.2, 0.05  # (1 - D) ** 2 / (1 + D) ** 2\n",
    "q = 1 - a\n",
    "D = (1 - np.sqrt(a))/(1 + np.sqrt(a))"
   ]
  },
  {
   "cell_type": "code",
   "execution_count": 233,
   "metadata": {},
   "outputs": [
    {
     "data": {
      "text/plain": [
       "0.1270166537925831"
      ]
     },
     "execution_count": 233,
     "metadata": {},
     "output_type": "execute_result"
    }
   ],
   "source": [
    "D"
   ]
  },
  {
   "cell_type": "code",
   "execution_count": 234,
   "metadata": {},
   "outputs": [],
   "source": [
    "def relation_formula(cum_c1, q):\n",
    "    cum_c0 = cum_c1 / (1 - q + q * cum_c1)\n",
    "    return cum_c0"
   ]
  },
  {
   "cell_type": "code",
   "execution_count": 235,
   "metadata": {},
   "outputs": [],
   "source": [
    "# Building point estimations\n",
    "init_1 = 1/J\n",
    "\n",
    "cum_1 = np.zeros(J)\n",
    "cum_0 = np.zeros(J)"
   ]
  },
  {
   "cell_type": "code",
   "execution_count": 236,
   "metadata": {},
   "outputs": [],
   "source": [
    "cum_1[0] = init_1\n",
    "cum_0[0] = relation_formula(cum_1[0], q)\n",
    "\n",
    "for i in list(range(1,J)):\n",
    "    cum_1[i] = init_1 * (i+1)\n",
    "    cum_0[i] = relation_formula(cum_1[i], q)"
   ]
  },
  {
   "cell_type": "code",
   "execution_count": 237,
   "metadata": {},
   "outputs": [],
   "source": [
    "point_prob_1 = np.concatenate((cum_1[0], np.diff(cum_1)), axis = None)\n",
    "point_prob_0 = np.concatenate((cum_0[0], np.diff(cum_0)), axis = None)"
   ]
  },
  {
   "cell_type": "code",
   "execution_count": 238,
   "metadata": {},
   "outputs": [
    {
     "data": {
      "text/plain": [
       "array([0.02, 0.02, 0.02, 0.02, 0.02, 0.02, 0.02, 0.02, 0.02, 0.02, 0.02,\n",
       "       0.02, 0.02, 0.02, 0.02, 0.02, 0.02, 0.02, 0.02, 0.02, 0.02, 0.02,\n",
       "       0.02, 0.02, 0.02, 0.02, 0.02, 0.02, 0.02, 0.02, 0.02, 0.02, 0.02,\n",
       "       0.02, 0.02, 0.02, 0.02, 0.02, 0.02, 0.02, 0.02, 0.02, 0.02, 0.02,\n",
       "       0.02, 0.02, 0.02, 0.02, 0.02, 0.02])"
      ]
     },
     "execution_count": 238,
     "metadata": {},
     "output_type": "execute_result"
    }
   ],
   "source": [
    "point_prob_1"
   ]
  },
  {
   "cell_type": "code",
   "execution_count": 239,
   "metadata": {},
   "outputs": [
    {
     "data": {
      "text/plain": [
       "array([0.03289474, 0.03204033, 0.03121878, 0.03042843, 0.02966772,\n",
       "       0.02893519, 0.02822945, 0.02754922, 0.02689329, 0.0262605 ,\n",
       "       0.02564979, 0.02506014, 0.0244906 , 0.02394025, 0.02340824,\n",
       "       0.02289377, 0.02239608, 0.02191445, 0.02144818, 0.02099664,\n",
       "       0.02055921, 0.02013531, 0.01972438, 0.01932591, 0.01893939,\n",
       "       0.01856436, 0.01820035, 0.01784694, 0.01750373, 0.01717033,\n",
       "       0.01684636, 0.01653148, 0.01622534, 0.01592762, 0.01563803,\n",
       "       0.01535627, 0.01508205, 0.01481511, 0.01455519, 0.01430206,\n",
       "       0.01405547, 0.01381521, 0.01358105, 0.0133528 , 0.01313025,\n",
       "       0.01291322, 0.01270153, 0.012495  , 0.01229347, 0.01209677])"
      ]
     },
     "execution_count": 239,
     "metadata": {},
     "output_type": "execute_result"
    }
   ],
   "source": [
    "point_prob_0"
   ]
  },
  {
   "cell_type": "code",
   "execution_count": 240,
   "metadata": {},
   "outputs": [],
   "source": [
    "E_nj = 10\n",
    "p = 0.20 # Global minority proportion\n",
    "\n",
    "n = J * E_nj\n",
    "n1 = n * p\n",
    "n0 = n * (1 - p)"
   ]
  },
  {
   "cell_type": "code",
   "execution_count": 241,
   "metadata": {},
   "outputs": [],
   "source": [
    "sim1 = np.random.multinomial(n1, point_prob_1, size = 1)\n",
    "sim0 = np.random.multinomial(n0, point_prob_0, size = 1)"
   ]
  },
  {
   "cell_type": "code",
   "execution_count": 242,
   "metadata": {},
   "outputs": [
    {
     "data": {
      "text/plain": [
       "array([[0, 2, 5, 2, 2, 1, 5, 4, 0, 5, 1, 1, 0, 3, 2, 0, 4, 2, 1, 1, 3, 1,\n",
       "        3, 4, 4, 2, 1, 1, 0, 0, 2, 1, 2, 6, 2, 2, 1, 3, 1, 0, 0, 2, 3, 2,\n",
       "        2, 2, 1, 3, 2, 3]])"
      ]
     },
     "execution_count": 242,
     "metadata": {},
     "output_type": "execute_result"
    }
   ],
   "source": [
    "sim1"
   ]
  },
  {
   "cell_type": "code",
   "execution_count": 243,
   "metadata": {},
   "outputs": [
    {
     "data": {
      "text/plain": [
       "array([[19, 12, 12, 12, 17, 12, 16,  8,  8, 12, 11, 10,  7,  9, 10,  5,\n",
       "        10,  7,  8,  5,  3, 14,  5, 10, 10,  4,  6, 14,  7,  6,  6,  4,\n",
       "         5,  6,  7,  8,  8,  4,  5,  5,  4,  1,  6,  5,  7,  4,  7,  7,\n",
       "         6,  6]])"
      ]
     },
     "execution_count": 243,
     "metadata": {},
     "output_type": "execute_result"
    }
   ],
   "source": [
    "sim0"
   ]
  },
  {
   "cell_type": "code",
   "execution_count": 244,
   "metadata": {},
   "outputs": [
    {
     "data": {
      "text/plain": [
       "array([19, 14, 17, 14, 19, 13, 21, 12,  8, 17, 12, 11,  7, 12, 12,  5, 14,\n",
       "        9,  9,  6,  6, 15,  8, 14, 14,  6,  7, 15,  7,  6,  8,  5,  7, 12,\n",
       "        9, 10,  9,  7,  6,  5,  4,  3,  9,  7,  9,  6,  8, 10,  8,  9])"
      ]
     },
     "execution_count": 244,
     "metadata": {},
     "output_type": "execute_result"
    }
   ],
   "source": [
    "sim1[0] + sim0[0]"
   ]
  },
  {
   "cell_type": "code",
   "execution_count": 245,
   "metadata": {},
   "outputs": [],
   "source": [
    "df = pd.DataFrame({'group_pop_var': sim1[0], 'total_pop_var': sim1[0] + sim0[0]})"
   ]
  },
  {
   "cell_type": "code",
   "execution_count": 246,
   "metadata": {},
   "outputs": [],
   "source": [
    "index = Dissim(df, 'group_pop_var', 'total_pop_var')"
   ]
  },
  {
   "cell_type": "code",
   "execution_count": 247,
   "metadata": {},
   "outputs": [
    {
     "data": {
      "text/plain": [
       "0.33999999999999997"
      ]
     },
     "execution_count": 247,
     "metadata": {},
     "output_type": "execute_result"
    }
   ],
   "source": [
    "index.statistic"
   ]
  },
  {
   "cell_type": "code",
   "execution_count": 248,
   "metadata": {},
   "outputs": [
    {
     "data": {
      "text/plain": [
       "0.21298334620741688"
      ]
     },
     "execution_count": 248,
     "metadata": {},
     "output_type": "execute_result"
    }
   ],
   "source": [
    "index.statistic - D # Bias"
   ]
  },
  {
   "cell_type": "markdown",
   "metadata": {},
   "source": [
    "# Building generic function that builds data frame according to different hyperparameters"
   ]
  },
  {
   "cell_type": "code",
   "execution_count": 380,
   "metadata": {},
   "outputs": [],
   "source": [
    "def create_data_frame(q, E_nj, p, J = 50):\n",
    "    \n",
    "    def relation_formula(cum_c1, q):\n",
    "        cum_c0 = cum_c1 / (1 - q + q * cum_c1)\n",
    "        return cum_c0\n",
    "    \n",
    "    # Building point estimations\n",
    "    init_1 = 1/J\n",
    "\n",
    "    cum_1 = np.zeros(J)\n",
    "    cum_0 = np.zeros(J)\n",
    "    \n",
    "    cum_1[0] = init_1\n",
    "    cum_0[0] = relation_formula(cum_1[0], q)\n",
    "\n",
    "    for i in list(range(1,J)):\n",
    "        cum_1[i] = init_1 * (i+1)\n",
    "        cum_0[i] = relation_formula(cum_1[i], q)\n",
    "    \n",
    "    point_prob_1 = np.concatenate((cum_1[0], np.diff(cum_1)), axis = None)\n",
    "    point_prob_0 = np.concatenate((cum_0[0], np.diff(cum_0)), axis = None)\n",
    "    \n",
    "    n = J * E_nj\n",
    "    n1 = n * p\n",
    "    n0 = n * (1 - p)\n",
    "    \n",
    "    sim1 = np.random.multinomial(n1, point_prob_1, size = 1)\n",
    "    sim0 = np.random.multinomial(n0, point_prob_0, size = 1)\n",
    "    \n",
    "    df = pd.DataFrame({'group_pop_var': sim1[0], 'total_pop_var': sim1[0] + sim0[0]})\n",
    "    \n",
    "    return df"
   ]
  },
  {
   "cell_type": "code",
   "execution_count": 381,
   "metadata": {},
   "outputs": [],
   "source": [
    "# q = 0, 0.2, 0.4, 0.6, 0.8, 0.95"
   ]
  },
  {
   "cell_type": "code",
   "execution_count": 382,
   "metadata": {},
   "outputs": [],
   "source": [
    "q = 0.4"
   ]
  },
  {
   "cell_type": "code",
   "execution_count": 383,
   "metadata": {},
   "outputs": [],
   "source": [
    "df = create_data_frame(q = q, E_nj = 10, p = 0.35, J = 50)"
   ]
  },
  {
   "cell_type": "code",
   "execution_count": 384,
   "metadata": {},
   "outputs": [],
   "source": [
    "a = 1 - q\n",
    "D = (1 - np.sqrt(a))/(1 + np.sqrt(a))"
   ]
  },
  {
   "cell_type": "code",
   "execution_count": 385,
   "metadata": {},
   "outputs": [
    {
     "data": {
      "text/plain": [
       "0.1270166537925831"
      ]
     },
     "execution_count": 385,
     "metadata": {},
     "output_type": "execute_result"
    }
   ],
   "source": [
    "D"
   ]
  },
  {
   "cell_type": "code",
   "execution_count": 386,
   "metadata": {},
   "outputs": [],
   "source": [
    "index_D = Dissim(df, 'group_pop_var', 'total_pop_var')\n",
    "index_BC = Bias_Corrected_Dissim(df, 'group_pop_var', 'total_pop_var', B = 250)\n",
    "index_DC = Density_Corrected_Dissim(df, 'group_pop_var', 'total_pop_var')"
   ]
  },
  {
   "cell_type": "code",
   "execution_count": 387,
   "metadata": {},
   "outputs": [
    {
     "data": {
      "text/plain": [
       "0.19606026928434"
      ]
     },
     "execution_count": 387,
     "metadata": {},
     "output_type": "execute_result"
    }
   ],
   "source": [
    "index_D.statistic - D"
   ]
  },
  {
   "cell_type": "code",
   "execution_count": 388,
   "metadata": {},
   "outputs": [
    {
     "data": {
      "text/plain": [
       "0.10725323631730704"
      ]
     },
     "execution_count": 388,
     "metadata": {},
     "output_type": "execute_result"
    }
   ],
   "source": [
    "index_BC.statistic - D"
   ]
  },
  {
   "cell_type": "code",
   "execution_count": 389,
   "metadata": {},
   "outputs": [
    {
     "data": {
      "text/plain": [
       "0.09448538898288122"
      ]
     },
     "execution_count": 389,
     "metadata": {},
     "output_type": "execute_result"
    }
   ],
   "source": [
    "index_DC.statistic - D"
   ]
  },
  {
   "cell_type": "markdown",
   "metadata": {},
   "source": [
    "---\n",
    "---\n",
    "---\n",
    "\n",
    "# Building the single inference framework"
   ]
  },
  {
   "cell_type": "code",
   "execution_count": 372,
   "metadata": {},
   "outputs": [],
   "source": [
    "# = [50]\n",
    "q = [0, 0.2, 0.4, 0.6, 0.8, 0.95]\n",
    "E_nj = [10, 30, 50]\n",
    "p = [0.05, 0.10, 0.20, 0.35]"
   ]
  },
  {
   "cell_type": "code",
   "execution_count": 373,
   "metadata": {},
   "outputs": [],
   "source": [
    "# Specific Function that perform simulation study:\n",
    "def very_specific_segregation_single_profile(q,\n",
    "                                             E_nj,\n",
    "                                             p,\n",
    "                                             \n",
    "                                             index_name,\n",
    "                                             \n",
    "                                             iterations = 2, \n",
    "                                             null_approach = \"systematic\"):\n",
    "    \n",
    "    gdf_1 = create_data_frame(q, E_nj, p, J = 50)\n",
    "    \n",
    "    if index_name == \"Dissim\":\n",
    "        I_1 = Dissim(gdf_1, 'group_pop_var', 'total_pop_var')\n",
    "\n",
    "    if index_name == \"Gini_Seg\":\n",
    "        I_1 = Gini_Seg(gdf_1, 'group_pop_var', 'total_pop_var')\n",
    "        \n",
    "    if index_name == \"Entropy\":\n",
    "        I_1 = Entropy(gdf_1, 'group_pop_var', 'total_pop_var')\n",
    "    \n",
    "    if index_name == \"Atkinson\":\n",
    "        I_1 = Atkinson(gdf_1, 'group_pop_var', 'total_pop_var')\n",
    "        \n",
    "    if index_name == \"Exposure\":\n",
    "        I_1 = Exposure(gdf_1, 'group_pop_var', 'total_pop_var')\n",
    "        \n",
    "    if index_name == \"Isolation\":\n",
    "        I_1 = Isolation(gdf_1, 'group_pop_var', 'total_pop_var')\n",
    "\n",
    "    if index_name == \"Con_Prof\":\n",
    "        I_1 = Con_Prof(gdf_1, 'group_pop_var', 'total_pop_var')\n",
    "\n",
    "    if index_name == \"Bias_Corrected_Dissim\":\n",
    "        I_1 = Bias_Corrected_Dissim(gdf_1, 'group_pop_var', 'total_pop_var')\n",
    "\n",
    "    if index_name == \"Density_Corrected_Dissim\":\n",
    "        I_1 = Density_Corrected_Dissim(gdf_1, 'group_pop_var', 'total_pop_var')\n",
    "\n",
    "    if index_name == \"Correlation_R\":\n",
    "        I_1 = Correlation_R(gdf_1, 'group_pop_var', 'total_pop_var')\n",
    "\n",
    "    if index_name == \"Modified_Dissim\":\n",
    "        I_1 = Modified_Dissim(gdf_1, 'group_pop_var', 'total_pop_var')\n",
    "        \n",
    "    if index_name == \"Modified_Gini_Seg\":\n",
    "        I_1 = Modified_Gini_Seg(gdf_1, 'group_pop_var', 'total_pop_var')\n",
    "        \n",
    "    if index_name == \"Spatial_Dissim\":\n",
    "        I_1 = Spatial_Dissim(gdf_1, 'group_pop_var', 'total_pop_var')\n",
    "\n",
    "    if index_name == \"Perimeter_Area_Ratio_Spatial_Dissim\":\n",
    "        I_1 = Perimeter_Area_Ratio_Spatial_Dissim(gdf_1, 'group_pop_var', 'total_pop_var')\n",
    "\n",
    "    if index_name == \"Boundary_Spatial_Dissim\":\n",
    "        I_1 = Boundary_Spatial_Dissim(gdf_1, 'group_pop_var', 'total_pop_var')\n",
    "\n",
    "    if index_name == \"Absolute_Centralization\":\n",
    "        I_1 = Absolute_Centralization(gdf_1, 'group_pop_var', 'total_pop_var')\n",
    "\n",
    "    if index_name == \"Absolute_Concentration\":\n",
    "        I_1 = Absolute_Concentration(gdf_1, 'group_pop_var', 'total_pop_var')\n",
    "\n",
    "    if index_name == \"Delta\":\n",
    "        I_1 = Delta(gdf_1, 'group_pop_var', 'total_pop_var')\n",
    "    \n",
    "    if index_name == \"Relative_Centralization\":\n",
    "        I_1 = Relative_Centralization(gdf_1, 'group_pop_var', 'total_pop_var')\n",
    "\n",
    "    if index_name == \"Relative_Clustering\":\n",
    "        I_1 = Relative_Clustering(gdf_1, 'group_pop_var', 'total_pop_var')\n",
    "\n",
    "    if index_name == \"Relative_Concentration\":\n",
    "        I_1 = Relative_Concentration(gdf_1, 'group_pop_var', 'total_pop_var')\n",
    "\n",
    "    if index_name == \"Spatial_Exposure\":\n",
    "        I_1 = Spatial_Exposure(gdf_1, 'group_pop_var', 'total_pop_var')\n",
    "\n",
    "    if index_name == \"Spatial_Isolation\":\n",
    "        I_1 = Spatial_Isolation(gdf_1, 'group_pop_var', 'total_pop_var')\n",
    "\n",
    "    if index_name == \"Spatial_Prox_Prof\":\n",
    "        I_1 = Spatial_Prox_Prof(gdf_1, 'group_pop_var', 'total_pop_var')\n",
    "\n",
    "    if index_name == \"Spatial_Proximity\":\n",
    "        I_1 = Spatial_Proximity(gdf_1, 'group_pop_var', 'total_pop_var')\n",
    "\n",
    "    t0 = time.time()\n",
    "\n",
    "    aux = Infer_Segregation(I_1,\n",
    "                            null_approach = null_approach, \n",
    "                            iterations = iterations)\n",
    "    t1 = time.time()\n",
    "    total = t1 - t0\n",
    "    print('Total Time of {} = {}'.format(index_name, total))\n",
    "    \n",
    "    return aux, total"
   ]
  },
  {
   "cell_type": "code",
   "execution_count": 379,
   "metadata": {},
   "outputs": [],
   "source": [
    "list_of_index_name = ['Dissim', \n",
    "                      'Gini_Seg', \n",
    "                      'Entropy', \n",
    "                      'Atkinson', \n",
    "                      'Exposure', \n",
    "                      'Isolation', \n",
    "                      'Con_Prof', \n",
    "                      'Bias_Corrected_Dissim', \n",
    "                      'Density_Corrected_Dissim', \n",
    "                      'Correlation_R', \n",
    "                      'Modified_Dissim', \n",
    "                      'Modified_Gini_Seg',\n",
    "                      'Spatial_Dissim',\n",
    "                      'Perimeter_Area_Ratio_Spatial_Dissim',\n",
    "                      'Boundary_Spatial_Dissim',\n",
    "                      'Absolute_Centralization',\n",
    "                      #'Absolute_Concentration',\n",
    "                      'Delta',\n",
    "                      'Relative_Centralization',\n",
    "                      'Relative_Clustering',\n",
    "                      #'Relative_Concentration',\n",
    "                      'Spatial_Exposure',\n",
    "                      'Spatial_Isolation',\n",
    "                      'Spatial_Prox_Prof',\n",
    "                      'Spatial_Proximity']"
   ]
  },
  {
   "cell_type": "code",
   "execution_count": 376,
   "metadata": {},
   "outputs": [
    {
     "name": "stdout",
     "output_type": "stream",
     "text": [
      "Total Time of Dissim = 0.03388833999633789\n",
      "Total Time of Gini_Seg = 0.03390836715698242\n",
      "Total Time of Entropy = 0.025754451751708984\n"
     ]
    }
   ],
   "source": [
    "result = list(map(very_specific_segregation_single_profile, \n",
    "                  #J,\n",
    "                  q,\n",
    "                  E_nj,\n",
    "                  p,\n",
    "               \n",
    "                  list_of_index_name))"
   ]
  },
  {
   "cell_type": "code",
   "execution_count": 378,
   "metadata": {},
   "outputs": [],
   "source": [
    "?map"
   ]
  },
  {
   "cell_type": "code",
   "execution_count": null,
   "metadata": {},
   "outputs": [],
   "source": []
  }
 ],
 "metadata": {
  "kernelspec": {
   "display_name": "Python 3",
   "language": "python",
   "name": "python3"
  },
  "language_info": {
   "codemirror_mode": {
    "name": "ipython",
    "version": 3
   },
   "file_extension": ".py",
   "mimetype": "text/x-python",
   "name": "python",
   "nbconvert_exporter": "python",
   "pygments_lexer": "ipython3",
   "version": "3.6.5"
  }
 },
 "nbformat": 4,
 "nbformat_minor": 2
}
