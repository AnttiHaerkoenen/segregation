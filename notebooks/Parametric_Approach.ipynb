{
 "cells": [
  {
   "cell_type": "code",
   "execution_count": 218,
   "metadata": {},
   "outputs": [],
   "source": [
    "import pandas as pd\n",
    "import numpy as np\n",
    "#from scipy.stats import beta # Beta probability function\n",
    "from scipy.special import beta # Beta raw function\n",
    "import os\n",
    "import math"
   ]
  },
  {
   "cell_type": "code",
   "execution_count": 159,
   "metadata": {},
   "outputs": [],
   "source": [
    "os.chdir('C:/Users/renan/Desktop/inequality-segregation-supplementary-files/')"
   ]
  },
  {
   "cell_type": "code",
   "execution_count": 160,
   "metadata": {},
   "outputs": [
    {
     "data": {
      "text/html": [
       "<div>\n",
       "<style scoped>\n",
       "    .dataframe tbody tr th:only-of-type {\n",
       "        vertical-align: middle;\n",
       "    }\n",
       "\n",
       "    .dataframe tbody tr th {\n",
       "        vertical-align: top;\n",
       "    }\n",
       "\n",
       "    .dataframe thead th {\n",
       "        text-align: right;\n",
       "    }\n",
       "</style>\n",
       "<table border=\"1\" class=\"dataframe\">\n",
       "  <thead>\n",
       "    <tr style=\"text-align: right;\">\n",
       "      <th></th>\n",
       "      <th>trtid10</th>\n",
       "      <th>tract</th>\n",
       "      <th>pop10</th>\n",
       "      <th>nhblk10</th>\n",
       "    </tr>\n",
       "  </thead>\n",
       "  <tbody>\n",
       "    <tr>\n",
       "      <th>6073</th>\n",
       "      <td>6065980004</td>\n",
       "      <td>Census Tract 9800.04</td>\n",
       "      <td>9</td>\n",
       "      <td>0</td>\n",
       "    </tr>\n",
       "    <tr>\n",
       "      <th>12813</th>\n",
       "      <td>6065940100</td>\n",
       "      <td>Census Tract 9401</td>\n",
       "      <td>166</td>\n",
       "      <td>3</td>\n",
       "    </tr>\n",
       "    <tr>\n",
       "      <th>12741</th>\n",
       "      <td>6065045704</td>\n",
       "      <td>Census Tract 457.04</td>\n",
       "      <td>2804</td>\n",
       "      <td>4</td>\n",
       "    </tr>\n",
       "    <tr>\n",
       "      <th>12689</th>\n",
       "      <td>6065045124</td>\n",
       "      <td>Census Tract 451.24</td>\n",
       "      <td>1505</td>\n",
       "      <td>9</td>\n",
       "    </tr>\n",
       "    <tr>\n",
       "      <th>6061</th>\n",
       "      <td>6065041410</td>\n",
       "      <td>Census Tract 414.10</td>\n",
       "      <td>3288</td>\n",
       "      <td>9</td>\n",
       "    </tr>\n",
       "  </tbody>\n",
       "</table>\n",
       "</div>"
      ],
      "text/plain": [
       "          trtid10                 tract  pop10  nhblk10\n",
       "6073   6065980004  Census Tract 9800.04      9        0\n",
       "12813  6065940100     Census Tract 9401    166        3\n",
       "12741  6065045704   Census Tract 457.04   2804        4\n",
       "12689  6065045124   Census Tract 451.24   1505        9\n",
       "6061   6065041410   Census Tract 414.10   3288        9"
      ]
     },
     "execution_count": 160,
     "metadata": {},
     "output_type": "execute_result"
    }
   ],
   "source": [
    "census_2010 = pd.read_csv('data/std_2010_fullcount.csv', encoding = \"ISO-8859-1\", sep = \",\")\n",
    "df = census_2010.loc[census_2010.county == \"Riverside County\"][['trtid10','tract','pop10','nhblk10']]\n",
    "df.sort_values('nhblk10').head()"
   ]
  },
  {
   "cell_type": "code",
   "execution_count": 161,
   "metadata": {},
   "outputs": [],
   "source": [
    "# M_set = {m_1, ..., m_r} \n",
    "M_set = [1, 2, 3, 4, 5, 6, 6242]\n",
    "\n",
    "# Assuming c Beta distributions\n",
    "c = 2"
   ]
  },
  {
   "cell_type": "code",
   "execution_count": 177,
   "metadata": {},
   "outputs": [
    {
     "data": {
      "text/plain": [
       "-2.520981363054838"
      ]
     },
     "execution_count": 177,
     "metadata": {},
     "output_type": "execute_result"
    }
   ],
   "source": [
    "n =  0 # 3 #677\n",
    "m =  9 # 166 #M_set[6]\n",
    "\n",
    "# Count the number of units of size m with n minority individuals\n",
    "A_n_m = len(np.where((df['pop10'] == m) & (df['nhblk10'] == n))[0].tolist())\n",
    "\n",
    "def internal_likelihood_evaluator(lambda_j, alpha_j, beta_j):\n",
    "    result = lambda_j * beta(alpha_j + n, beta_j + m - n) / beta(alpha_j, beta_j)\n",
    "    return result\n",
    "\n",
    "lambdas = [0.1, 0.9]\n",
    "alphas  = [0.5, 0.45]\n",
    "betas   = [0.7, 0.1]\n",
    "\n",
    "inner_sum = np.array(list(map(lambda x, y, z: internal_likelihood_evaluator(x, y, z), lambdas, alphas, betas))).sum()\n",
    "\n",
    "A_n_m * np.log(inner_sum)"
   ]
  },
  {
   "cell_type": "code",
   "execution_count": 178,
   "metadata": {},
   "outputs": [
    {
     "data": {
      "text/plain": [
       "[0.023005810535624515, 0.05737487486002151]"
      ]
     },
     "execution_count": 178,
     "metadata": {},
     "output_type": "execute_result"
    }
   ],
   "source": [
    "list(map(lambda x, y, z: internal_likelihood_evaluator(x, y, z), lambdas, alphas, betas))"
   ]
  },
  {
   "cell_type": "code",
   "execution_count": 164,
   "metadata": {},
   "outputs": [],
   "source": [
    "#for m in M_set:\n",
    "\n",
    "def evaluate_likelihood_for_n(n):\n",
    "    A_n_m = len(np.where((df['pop10'] == m) & (df['nhblk10'] == n))[0].tolist())\n",
    "\n",
    "    def internal_likelihood_evaluator(lambda_j, alpha_j, beta_j):\n",
    "        result = lambda_j * beta(alpha_j + n, beta_j + m - n) / beta(alpha_j, beta_j)\n",
    "        return result\n",
    "\n",
    "    inner_sum = np.array(list(map(lambda x, y, z: internal_likelihood_evaluator(x, y, z), lambdas, alphas, betas))).sum()\n",
    "\n",
    "    return A_n_m * np.log(inner_sum)"
   ]
  },
  {
   "cell_type": "code",
   "execution_count": 165,
   "metadata": {},
   "outputs": [
    {
     "data": {
      "text/plain": [
       "[-2.520981363054838, -0.0, -0.0, -0.0, -0.0]"
      ]
     },
     "execution_count": 165,
     "metadata": {},
     "output_type": "execute_result"
    }
   ],
   "source": [
    "m1 = 5\n",
    "\n",
    "range(m1)\n",
    "\n",
    "list(map(lambda x: evaluate_likelihood_for_n(x), range(m1)))"
   ]
  },
  {
   "cell_type": "code",
   "execution_count": 246,
   "metadata": {},
   "outputs": [],
   "source": [
    "lambdas = [0.1, 0.9]\n",
    "alphas  = [0.5, 0.45]\n",
    "betas   = [0.7, 0.1]\n",
    "\n",
    "def evaluate_likelihood_for_m(m):\n",
    "    \n",
    "    def evaluate_likelihood_for_n(n):\n",
    "\n",
    "        def internal_likelihood_evaluator(lambda_j, alpha_j, beta_j):\n",
    "            result = lambda_j * beta(alpha_j + n, beta_j + m - n) / beta(alpha_j, beta_j)\n",
    "            return result\n",
    "\n",
    "        A_n_m = len(np.where((df['pop10'] == m) & (df['nhblk10'] == n))[0].tolist())\n",
    "        #inner_sum = np.array(list(map(lambda x, y, z: internal_likelihood_evaluator(x, y, z), lambdas, alphas, betas))).sum()\n",
    "        inner_sum = np.nansum(np.array(list(map(lambda x, y, z: internal_likelihood_evaluator(x, y, z), lambdas, alphas, betas))))\n",
    "        \n",
    "        #if np.isnan(np.log(inner_sum)):\n",
    "        #    return 0\n",
    "        #else:\n",
    "        #    return A_n_m * np.log(inner_sum) # Add some noise + 0.001 to avoid 0 evaluation in the log\n",
    "        try:\n",
    "            return A_n_m * np.log(inner_sum)\n",
    "        except:\n",
    "            return 0\n",
    "    \n",
    "    aux = range(m)\n",
    "    #outer_sum = np.array(list(map(lambda x: evaluate_likelihood_for_n(x), aux))).sum()\n",
    "    outer_sum = np.nansum(np.array(list(map(lambda x: evaluate_likelihood_for_n(x), aux))))\n",
    "    return outer_sum"
   ]
  },
  {
   "cell_type": "code",
   "execution_count": 222,
   "metadata": {},
   "outputs": [
    {
     "data": {
      "text/plain": [
       "-2.520981363054838"
      ]
     },
     "execution_count": 222,
     "metadata": {},
     "output_type": "execute_result"
    }
   ],
   "source": [
    "evaluate_likelihood_for_m(9)"
   ]
  },
  {
   "cell_type": "code",
   "execution_count": 223,
   "metadata": {},
   "outputs": [
    {
     "data": {
      "text/plain": [
       "-18.663144501908384"
      ]
     },
     "execution_count": 223,
     "metadata": {},
     "output_type": "execute_result"
    }
   ],
   "source": [
    "evaluate_likelihood_for_m(166)"
   ]
  },
  {
   "cell_type": "code",
   "execution_count": 236,
   "metadata": {},
   "outputs": [
    {
     "data": {
      "text/plain": [
       "True"
      ]
     },
     "execution_count": 236,
     "metadata": {},
     "output_type": "execute_result"
    }
   ],
   "source": [
    "np.isnan(na)"
   ]
  },
  {
   "cell_type": "code",
   "execution_count": 249,
   "metadata": {},
   "outputs": [
    {
     "name": "stderr",
     "output_type": "stream",
     "text": [
      "C:\\Users\\renan\\AppData\\Local\\Continuum\\anaconda3\\lib\\site-packages\\ipykernel_launcher.py:22: RuntimeWarning: divide by zero encountered in log\n",
      "C:\\Users\\renan\\AppData\\Local\\Continuum\\anaconda3\\lib\\site-packages\\ipykernel_launcher.py:22: RuntimeWarning: invalid value encountered in double_scalars\n"
     ]
    },
    {
     "data": {
      "text/plain": [
       "-21.18412586496322"
      ]
     },
     "execution_count": 249,
     "metadata": {},
     "output_type": "execute_result"
    }
   ],
   "source": [
    "M_set = [9, 166, 1100, 2500, 10000]\n",
    "\n",
    "np.array(list(map(lambda x: evaluate_likelihood_for_m(x), M_set))).sum()"
   ]
  },
  {
   "cell_type": "code",
   "execution_count": 252,
   "metadata": {},
   "outputs": [],
   "source": [
    "def evaluate_likelihood_for_M_set(m_set):\n",
    "    # m_set is a list of m's\n",
    "    return np.array(list(map(lambda x: evaluate_likelihood_for_m(x), M_set))).sum()"
   ]
  },
  {
   "cell_type": "code",
   "execution_count": 253,
   "metadata": {},
   "outputs": [
    {
     "name": "stderr",
     "output_type": "stream",
     "text": [
      "C:\\Users\\renan\\AppData\\Local\\Continuum\\anaconda3\\lib\\site-packages\\ipykernel_launcher.py:22: RuntimeWarning: divide by zero encountered in log\n",
      "C:\\Users\\renan\\AppData\\Local\\Continuum\\anaconda3\\lib\\site-packages\\ipykernel_launcher.py:22: RuntimeWarning: invalid value encountered in double_scalars\n"
     ]
    },
    {
     "data": {
      "text/plain": [
       "-21.18412586496322"
      ]
     },
     "execution_count": 253,
     "metadata": {},
     "output_type": "execute_result"
    }
   ],
   "source": [
    "evaluate_likelihood_for_M_set(M_set)"
   ]
  },
  {
   "cell_type": "code",
   "execution_count": 143,
   "metadata": {},
   "outputs": [],
   "source": [
    "lambdas = [0.1, 0.9]\n",
    "alphas  = [0.5, 0.45]\n",
    "betas   = [0.7, 0.1]\n",
    "\n",
    "def evaluate_likelihood_for_n_and_m(n, m):\n",
    "    \n",
    "    A_n_m = len(np.where((df['pop10'] == m) & (df['nhblk10'] == n))[0].tolist())\n",
    "\n",
    "    def internal_likelihood_evaluator(lambda_j, alpha_j, beta_j):\n",
    "        result = lambda_j * beta(alpha_j + n, beta_j + m - n) / beta(alpha_j, beta_j)\n",
    "        return result\n",
    "\n",
    "    inner_sum = np.array(list(map(lambda x, y, z: internal_likelihood_evaluator(x, y, z), lambdas, alphas, betas))).sum()\n",
    "    return A_n_m * np.log(inner_sum)\n",
    "    \n",
    "#    aux = range(m)\n",
    "#    outer_sum = np.array(list(map(lambda x: evaluate_likelihood_for_n(x), aux))).sum()\n",
    "#    return outer_sum"
   ]
  },
  {
   "cell_type": "code",
   "execution_count": 216,
   "metadata": {},
   "outputs": [
    {
     "name": "stderr",
     "output_type": "stream",
     "text": [
      "C:\\Users\\renan\\AppData\\Local\\Continuum\\anaconda3\\lib\\site-packages\\ipykernel_launcher.py:14: RuntimeWarning: invalid value encountered in log\n",
      "  \n"
     ]
    },
    {
     "data": {
      "text/plain": [
       "nan"
      ]
     },
     "execution_count": 216,
     "metadata": {},
     "output_type": "execute_result"
    }
   ],
   "source": [
    "na = evaluate_likelihood_for_n_and_m(9, 0)\n",
    "na"
   ]
  }
 ],
 "metadata": {
  "kernelspec": {
   "display_name": "Python 3",
   "language": "python",
   "name": "python3"
  },
  "language_info": {
   "codemirror_mode": {
    "name": "ipython",
    "version": 3
   },
   "file_extension": ".py",
   "mimetype": "text/x-python",
   "name": "python",
   "nbconvert_exporter": "python",
   "pygments_lexer": "ipython3",
   "version": "3.6.5"
  }
 },
 "nbformat": 4,
 "nbformat_minor": 2
}
