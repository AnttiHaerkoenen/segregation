{
 "cells": [
  {
   "cell_type": "code",
   "execution_count": 108,
   "metadata": {},
   "outputs": [],
   "source": [
    "import pandas as pd\n",
    "import pysal as ps\n",
    "import geopandas as gpd\n",
    "import scipy\n",
    "import numpy as np\n",
    "from sklearn.metrics.pairwise import euclidean_distances\n",
    "from scipy.ndimage.interpolation import shift\n",
    "\n",
    "import seaborn as sns\n",
    "import matplotlib.pyplot as plt\n",
    "\n",
    "def calculate_segregation(data, group_pop_var, total_pop_var):\n",
    "    '''\n",
    "    data: a geopandas DataFrame that contains a geometry column\n",
    "    group_pop_var: the name of variable that contains the population size of the group of interest\n",
    "    total_pop_var: the name of variable that contains the total population of the unit\n",
    "    '''\n",
    "    \n",
    "    # Uneveness\n",
    "    data = data.rename(columns={group_pop_var: 'group_pop_var', total_pop_var: 'total_pop_var'})\n",
    "    data = data[['geometry', 'group_pop_var', 'total_pop_var']]\n",
    "    T = data.total_pop_var.sum()\n",
    "    P = data.group_pop_var.sum() / T\n",
    "    data['ti'] = data.total_pop_var\n",
    "    data['pi'] = data.group_pop_var / data.total_pop_var\n",
    "    D = (((data.total_pop_var * abs(data.pi - P)))/ (2 * T * P * (1 - P))).sum()\n",
    "    \n",
    "    # Isolation\n",
    "    data['xi'] = data.group_pop_var\n",
    "    X = data['xi'].sum()\n",
    "    data['yi'] = data.total_pop_var - data.group_pop_var\n",
    "    xPx = ((data.xi / X) * (data.xi / data.ti)).sum()\n",
    "    xPy = ((data.xi / X) * (data.yi / data.ti)).sum()\n",
    "    \n",
    "    CISO = xPx - X/T\n",
    "    \n",
    "    # Clustering\n",
    "    Y = data.yi.sum()\n",
    "    data['c_lons'] = data.centroid.map(lambda p: p.x)\n",
    "    data['c_lats'] = data.centroid.map(lambda p: p.y)\n",
    "    dist = euclidean_distances(data[['c_lons','c_lats']])\n",
    "    np.fill_diagonal(dist, val = (0.6*data.area)**(1/2))\n",
    "    c = np.exp(-dist)\n",
    "    Pxx = ((np.array(data.xi) * c).T * np.array(data.xi)).sum() / X**2\n",
    "    Pyy = ((np.array(data.yi) * c).T * np.array(data.yi)).sum() / Y**2\n",
    "    Ptt = ((np.array(data.ti) * c).T * np.array(data.ti)).sum() / T**2\n",
    "    \n",
    "    SP = (X*Pxx + Y*Pyy)/(T*Ptt)\n",
    "    RCL = Pxx / Pyy - 1\n",
    "\n",
    "    # Concentration\n",
    "    A = data.area.sum()\n",
    "    DEL = 1/2 * abs(data.xi / X - data.area / A).sum()\n",
    "    \n",
    "    df_mp_sort_area = data\n",
    "    df_mp_sort_area['area'] = df_mp_sort_area.area\n",
    "    df_mp_sort_area_asc = df_mp_sort_area.sort_values('area')\n",
    "    n1 = np.where(((np.cumsum(df_mp_sort_area_asc.ti) / T) < X/T) == False)[0][0]\n",
    "    \n",
    "    df_mp_sort_area_des = df_mp_sort_area.sort_values('area', ascending=False)\n",
    "    n2 = np.where(((np.cumsum(df_mp_sort_area_des.ti) / T) < X/T) == False)[0][0]\n",
    "    \n",
    "    n = df_mp_sort_area_asc.shape[0]\n",
    "    T1 =  df_mp_sort_area_asc.ti[0:(n1+1)].sum()\n",
    "    T2 =  df_mp_sort_area_asc.ti[n2:n].sum()\n",
    "\n",
    "    RCO = ((((df_mp_sort_area_asc.xi*df_mp_sort_area_asc.area/X).sum()) / ((df_mp_sort_area_asc.yi*df_mp_sort_area_asc.area/Y).sum())) - 1) / \\\n",
    "          ((((df_mp_sort_area_asc.ti*df_mp_sort_area_asc.area)[0:(n1+1)].sum() / T1) / ((df_mp_sort_area_asc.ti*df_mp_sort_area_asc.area)[n2:n].sum() / T2)) - 1)\n",
    "\n",
    "\n",
    "    \n",
    "    # Centralization\n",
    "    data['center_lon']  = data.c_lons.mean()\n",
    "    data['center_lat']  = data.c_lats.mean()\n",
    "    data['center_dist'] = np.sqrt((data.c_lons - data.center_lon)**2 + (data.c_lats - data.center_lat)**2)\n",
    "    data_sort_cent = data.sort_values('center_dist')\n",
    "    \n",
    "    data_sort_cent['Xi'] = np.cumsum(data_sort_cent.xi) / X\n",
    "    data_sort_cent['Yi'] = np.cumsum(data_sort_cent.yi) / Y\n",
    "    data_sort_cent['Ai'] = np.cumsum(data_sort_cent.area) / A\n",
    "    \n",
    "    ACE = (shift(data_sort_cent.Xi, 1, cval=np.NaN) * data_sort_cent.Ai).sum() - \\\n",
    "          (data_sort_cent.Xi * shift(data_sort_cent.Ai, 1, cval=np.NaN)).sum()\n",
    "    \n",
    "    RCE = (shift(data_sort_cent.Xi, 1, cval=np.NaN) * data_sort_cent.Yi).sum() - \\\n",
    "          (data_sort_cent.Xi * shift(data_sort_cent.Yi, 1, cval=np.NaN)).sum()\n",
    "    \n",
    "    # Aggregating\n",
    "    SM = np.mean([D, CISO, RCL, RCO, RCE])\n",
    "    \n",
    "    return SM\n",
    "\n",
    "census_2010 = pd.read_csv(\"data/std_2010_fullcount.csv\", encoding = \"ISO-8859-1\", sep = \",\")\n",
    "df = census_2010.loc[census_2010.county == \"Riverside County\"][['trtid10','tract','pop10','nhblk10']]\n",
    "map_gpd = gpd.read_file(\"shapefiles/06065_Riverside_County.shp\")\n",
    "map_gpd['INTGEOID10'] = pd.to_numeric(map_gpd[\"GEOID10\"])\n",
    "df_map = map_gpd.merge(df, left_on = 'INTGEOID10', right_on = 'trtid10')\n",
    "df_mp = df_map[['geometry', 'pop10', 'nhblk10']]"
   ]
  },
  {
   "cell_type": "code",
   "execution_count": 109,
   "metadata": {},
   "outputs": [
    {
     "data": {
      "text/html": [
       "<div>\n",
       "<style scoped>\n",
       "    .dataframe tbody tr th:only-of-type {\n",
       "        vertical-align: middle;\n",
       "    }\n",
       "\n",
       "    .dataframe tbody tr th {\n",
       "        vertical-align: top;\n",
       "    }\n",
       "\n",
       "    .dataframe thead th {\n",
       "        text-align: right;\n",
       "    }\n",
       "</style>\n",
       "<table border=\"1\" class=\"dataframe\">\n",
       "  <thead>\n",
       "    <tr style=\"text-align: right;\">\n",
       "      <th></th>\n",
       "      <th>geometry</th>\n",
       "      <th>pop10</th>\n",
       "      <th>nhblk10</th>\n",
       "    </tr>\n",
       "  </thead>\n",
       "  <tbody>\n",
       "    <tr>\n",
       "      <th>0</th>\n",
       "      <td>POLYGON ((-117.319414 33.902109, -117.322528 3...</td>\n",
       "      <td>6242</td>\n",
       "      <td>677</td>\n",
       "    </tr>\n",
       "    <tr>\n",
       "      <th>1</th>\n",
       "      <td>POLYGON ((-117.504056 33.800257, -117.502758 3...</td>\n",
       "      <td>10258</td>\n",
       "      <td>844</td>\n",
       "    </tr>\n",
       "    <tr>\n",
       "      <th>2</th>\n",
       "      <td>POLYGON ((-117.472451 33.762031, -117.475661 3...</td>\n",
       "      <td>6342</td>\n",
       "      <td>405</td>\n",
       "    </tr>\n",
       "    <tr>\n",
       "      <th>3</th>\n",
       "      <td>POLYGON ((-117.5285 33.89736, -117.529425 33.8...</td>\n",
       "      <td>2594</td>\n",
       "      <td>346</td>\n",
       "    </tr>\n",
       "    <tr>\n",
       "      <th>4</th>\n",
       "      <td>POLYGON ((-117.501299 33.89424899999999, -117....</td>\n",
       "      <td>3586</td>\n",
       "      <td>429</td>\n",
       "    </tr>\n",
       "  </tbody>\n",
       "</table>\n",
       "</div>"
      ],
      "text/plain": [
       "                                            geometry  pop10  nhblk10\n",
       "0  POLYGON ((-117.319414 33.902109, -117.322528 3...   6242      677\n",
       "1  POLYGON ((-117.504056 33.800257, -117.502758 3...  10258      844\n",
       "2  POLYGON ((-117.472451 33.762031, -117.475661 3...   6342      405\n",
       "3  POLYGON ((-117.5285 33.89736, -117.529425 33.8...   2594      346\n",
       "4  POLYGON ((-117.501299 33.89424899999999, -117....   3586      429"
      ]
     },
     "execution_count": 109,
     "metadata": {},
     "output_type": "execute_result"
    }
   ],
   "source": [
    "df_mp.head()"
   ]
  },
  {
   "cell_type": "code",
   "execution_count": 107,
   "metadata": {},
   "outputs": [],
   "source": [
    "p_null = df_mp.nhblk10.sum() / df_mp.pop10.sum()"
   ]
  },
  {
   "cell_type": "code",
   "execution_count": 95,
   "metadata": {},
   "outputs": [],
   "source": [
    "def infer_segregation(data, group_pop_var, total_pop_var, permutations = 1000):\n",
    "    '''\n",
    "    data: a geopandas DataFrame that contains a geometry column\n",
    "    group_pop_var: the name of variable that contains the population size of the group of interest\n",
    "    total_pop_var: the name of variable that contains the total population of the unit\n",
    "    permutations: number of permutation to compute inference on pseudo p-values\n",
    "    '''\n",
    "    \n",
    "    data = data.rename(columns={group_pop_var: 'group_pop_var', total_pop_var: 'total_pop_var'})\n",
    "    p_null = data.group_pop_var.sum() / data.total_pop_var.sum()\n",
    "    \n",
    "    result_t = []\n",
    "    for i in range(permutations):\n",
    "        freq_sim = np.random.binomial(n = np.array([data.total_pop_var.tolist()]), \n",
    "                                      p = np.array([[p_null]*data.shape[0]]), \n",
    "                                      size = (1, data.shape[0])).tolist()[0]\n",
    "        data['group_pop_var'] = freq_sim\n",
    "        val = calculate_segregation(data, 'group_pop_var', 'total_pop_var')\n",
    "        result_t.append(val)\n",
    "    \n",
    "    return result_t\n",
    "    "
   ]
  },
  {
   "cell_type": "code",
   "execution_count": 96,
   "metadata": {},
   "outputs": [],
   "source": [
    "actual_value = calculate_segregation(df_mp, 'nhblk10', 'pop10')\n",
    "simulations =  infer_segregation(df_mp, 'nhblk10', 'pop10', permutations = 1000)"
   ]
  },
  {
   "cell_type": "code",
   "execution_count": 104,
   "metadata": {},
   "outputs": [
    {
     "name": "stderr",
     "output_type": "stream",
     "text": [
      "C:\\Users\\renan\\AppData\\Local\\Continuum\\anaconda3\\lib\\site-packages\\matplotlib\\axes\\_axes.py:6462: UserWarning: The 'normed' kwarg is deprecated, and has been replaced by the 'density' kwarg.\n",
      "  warnings.warn(\"The 'normed' kwarg is deprecated, and has been \"\n"
     ]
    },
    {
     "data": {
      "text/plain": [
       "<matplotlib.lines.Line2D at 0x13ee092b3c8>"
      ]
     },
     "execution_count": 104,
     "metadata": {},
     "output_type": "execute_result"
    },
    {
     "data": {
      "image/png": "[encoded data removed]",
      "text/plain": [
       "<Figure size 432x288 with 1 Axes>"
      ]
     },
     "metadata": {},
     "output_type": "display_data"
    }
   ],
   "source": [
    "sns.distplot(simulations, \n",
    "             hist=True, \n",
    "             kde=True, \n",
    "             color = 'darkblue', \n",
    "             hist_kws={'edgecolor':'black'},\n",
    "             kde_kws={'linewidth': 2})\n",
    "plt.axvline(actual_value, color = 'red')"
   ]
  },
  {
   "cell_type": "code",
   "execution_count": 90,
   "metadata": {},
   "outputs": [
    {
     "data": {
      "text/plain": [
       "0.24143727444765"
      ]
     },
     "execution_count": 90,
     "metadata": {},
     "output_type": "execute_result"
    }
   ],
   "source": [
    "actual_value"
   ]
  },
  {
   "cell_type": "code",
   "execution_count": null,
   "metadata": {},
   "outputs": [],
   "source": []
  }
 ],
 "metadata": {
  "kernelspec": {
   "display_name": "Python 3",
   "language": "python",
   "name": "python3"
  },
  "language_info": {
   "codemirror_mode": {
    "name": "ipython",
    "version": 3
   },
   "file_extension": ".py",
   "mimetype": "text/x-python",
   "name": "python",
   "nbconvert_exporter": "python",
   "pygments_lexer": "ipython3",
   "version": "3.6.5"
  }
 },
 "nbformat": 4,
 "nbformat_minor": 2
}
