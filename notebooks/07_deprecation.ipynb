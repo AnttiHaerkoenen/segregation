{
 "cells": [
  {
   "cell_type": "markdown",
   "id": "wrapped-little",
   "metadata": {},
   "source": [
    "# Single-group Segregation Indices"
   ]
  },
  {
   "cell_type": "code",
   "execution_count": 1,
   "id": "cloudy-printing",
   "metadata": {},
   "outputs": [
    {
     "name": "stdout",
     "output_type": "stream",
     "text": [
      "Author: eli knaap\n",
      "\n",
      "Last updated: 2021-06-06\n",
      "\n",
      "Python implementation: CPython\n",
      "Python version       : 3.8.10\n",
      "IPython version      : 7.23.1\n",
      "\n",
      "segregation: 2.0.0\n",
      "geopandas  : 0.9.0\n",
      "libpysal   : 4.4.0\n",
      "pandana    : not installed\n",
      "\n"
     ]
    }
   ],
   "source": [
    "%load_ext watermark\n",
    "%watermark -a 'eli knaap' -v -d -u -p segregation,geopandas,libpysal,pandana"
   ]
  },
  {
   "cell_type": "markdown",
   "id": "sixth-civilization",
   "metadata": {},
   "source": [
    "Single-group indices are calculated using the `singlegroup` module"
   ]
  },
  {
   "cell_type": "markdown",
   "id": "disciplinary-colon",
   "metadata": {},
   "source": [
    "### Data Prep"
   ]
  },
  {
   "cell_type": "code",
   "execution_count": 2,
   "id": "identical-authentication",
   "metadata": {},
   "outputs": [],
   "source": [
    "import geopandas as gpd\n",
    "import matplotlib.pyplot as plt\n",
    "from libpysal.examples import load_example"
   ]
  },
  {
   "cell_type": "code",
   "execution_count": 3,
   "id": "actual-valley",
   "metadata": {},
   "outputs": [],
   "source": [
    "# read in sacramento data from libpysal and reproject into an appropriate CRS\n",
    "sacramento = gpd.read_file(load_example(\"Sacramento1\").get_path(\"sacramentot2.shp\"))\n",
    "sacramento = sacramento.to_crs(sacramento.estimate_utm_crs())"
   ]
  },
  {
   "cell_type": "code",
   "execution_count": 4,
   "id": "grand-manitoba",
   "metadata": {},
   "outputs": [
    {
     "data": {
      "text/html": [
       "<div>\n",
       "<style scoped>\n",
       "    .dataframe tbody tr th:only-of-type {\n",
       "        vertical-align: middle;\n",
       "    }\n",
       "\n",
       "    .dataframe tbody tr th {\n",
       "        vertical-align: top;\n",
       "    }\n",
       "\n",
       "    .dataframe thead th {\n",
       "        text-align: right;\n",
       "    }\n",
       "</style>\n",
       "<table border=\"1\" class=\"dataframe\">\n",
       "  <thead>\n",
       "    <tr style=\"text-align: right;\">\n",
       "      <th></th>\n",
       "      <th>FIPS</th>\n",
       "      <th>MSA</th>\n",
       "      <th>TOT_POP</th>\n",
       "      <th>POP_16</th>\n",
       "      <th>POP_65</th>\n",
       "      <th>WHITE</th>\n",
       "      <th>BLACK</th>\n",
       "      <th>ASIAN</th>\n",
       "      <th>HISP</th>\n",
       "      <th>MULTI_RA</th>\n",
       "      <th>...</th>\n",
       "      <th>EMP_FEM</th>\n",
       "      <th>OCC_MAN</th>\n",
       "      <th>OCC_OFF1</th>\n",
       "      <th>OCC_INFO</th>\n",
       "      <th>HH_INC</th>\n",
       "      <th>POV_POP</th>\n",
       "      <th>POV_TOT</th>\n",
       "      <th>HSG_VAL</th>\n",
       "      <th>POLYID</th>\n",
       "      <th>geometry</th>\n",
       "    </tr>\n",
       "  </thead>\n",
       "  <tbody>\n",
       "    <tr>\n",
       "      <th>0</th>\n",
       "      <td>06061022001</td>\n",
       "      <td>Sacramento</td>\n",
       "      <td>5501</td>\n",
       "      <td>1077</td>\n",
       "      <td>518</td>\n",
       "      <td>4961</td>\n",
       "      <td>29</td>\n",
       "      <td>82</td>\n",
       "      <td>336</td>\n",
       "      <td>31</td>\n",
       "      <td>...</td>\n",
       "      <td>1187</td>\n",
       "      <td>117</td>\n",
       "      <td>663.0</td>\n",
       "      <td>42</td>\n",
       "      <td>52941</td>\n",
       "      <td>5461</td>\n",
       "      <td>470</td>\n",
       "      <td>225900</td>\n",
       "      <td>1</td>\n",
       "      <td>POLYGON ((740409.853 4338451.728, 740199.864 4...</td>\n",
       "    </tr>\n",
       "    <tr>\n",
       "      <th>1</th>\n",
       "      <td>06061020106</td>\n",
       "      <td>Sacramento</td>\n",
       "      <td>2072</td>\n",
       "      <td>396</td>\n",
       "      <td>109</td>\n",
       "      <td>1603</td>\n",
       "      <td>0</td>\n",
       "      <td>28</td>\n",
       "      <td>391</td>\n",
       "      <td>41</td>\n",
       "      <td>...</td>\n",
       "      <td>522</td>\n",
       "      <td>38</td>\n",
       "      <td>229.0</td>\n",
       "      <td>19</td>\n",
       "      <td>51958</td>\n",
       "      <td>2052</td>\n",
       "      <td>160</td>\n",
       "      <td>249300</td>\n",
       "      <td>2</td>\n",
       "      <td>POLYGON ((753400.378 4347151.080, 753395.816 4...</td>\n",
       "    </tr>\n",
       "    <tr>\n",
       "      <th>2</th>\n",
       "      <td>06061020107</td>\n",
       "      <td>Sacramento</td>\n",
       "      <td>3633</td>\n",
       "      <td>911</td>\n",
       "      <td>126</td>\n",
       "      <td>1624</td>\n",
       "      <td>9</td>\n",
       "      <td>0</td>\n",
       "      <td>1918</td>\n",
       "      <td>41</td>\n",
       "      <td>...</td>\n",
       "      <td>698</td>\n",
       "      <td>86</td>\n",
       "      <td>197.0</td>\n",
       "      <td>0</td>\n",
       "      <td>32992</td>\n",
       "      <td>3604</td>\n",
       "      <td>668</td>\n",
       "      <td>175900</td>\n",
       "      <td>3</td>\n",
       "      <td>POLYGON ((758318.262 4352123.456, 758319.774 4...</td>\n",
       "    </tr>\n",
       "    <tr>\n",
       "      <th>3</th>\n",
       "      <td>06061020105</td>\n",
       "      <td>Sacramento</td>\n",
       "      <td>1683</td>\n",
       "      <td>281</td>\n",
       "      <td>154</td>\n",
       "      <td>1564</td>\n",
       "      <td>0</td>\n",
       "      <td>55</td>\n",
       "      <td>60</td>\n",
       "      <td>4</td>\n",
       "      <td>...</td>\n",
       "      <td>519</td>\n",
       "      <td>5</td>\n",
       "      <td>256.0</td>\n",
       "      <td>6</td>\n",
       "      <td>54556</td>\n",
       "      <td>1683</td>\n",
       "      <td>116</td>\n",
       "      <td>302300</td>\n",
       "      <td>4</td>\n",
       "      <td>POLYGON ((750839.595 4342678.807, 750805.840 4...</td>\n",
       "    </tr>\n",
       "    <tr>\n",
       "      <th>4</th>\n",
       "      <td>06061020200</td>\n",
       "      <td>Sacramento</td>\n",
       "      <td>5794</td>\n",
       "      <td>1278</td>\n",
       "      <td>830</td>\n",
       "      <td>5185</td>\n",
       "      <td>17</td>\n",
       "      <td>13</td>\n",
       "      <td>251</td>\n",
       "      <td>229</td>\n",
       "      <td>...</td>\n",
       "      <td>1260</td>\n",
       "      <td>155</td>\n",
       "      <td>506.0</td>\n",
       "      <td>59</td>\n",
       "      <td>50815</td>\n",
       "      <td>5771</td>\n",
       "      <td>342</td>\n",
       "      <td>167300</td>\n",
       "      <td>5</td>\n",
       "      <td>POLYGON ((670062.020 4311030.409, 670133.819 4...</td>\n",
       "    </tr>\n",
       "  </tbody>\n",
       "</table>\n",
       "<p>5 rows × 31 columns</p>\n",
       "</div>"
      ],
      "text/plain": [
       "          FIPS         MSA  TOT_POP  POP_16  POP_65  WHITE  BLACK  ASIAN  \\\n",
       "0  06061022001  Sacramento     5501    1077     518   4961     29     82   \n",
       "1  06061020106  Sacramento     2072     396     109   1603      0     28   \n",
       "2  06061020107  Sacramento     3633     911     126   1624      9      0   \n",
       "3  06061020105  Sacramento     1683     281     154   1564      0     55   \n",
       "4  06061020200  Sacramento     5794    1278     830   5185     17     13   \n",
       "\n",
       "   HISP  MULTI_RA  ...  EMP_FEM  OCC_MAN  OCC_OFF1  OCC_INFO  HH_INC  POV_POP  \\\n",
       "0   336        31  ...     1187      117     663.0        42   52941     5461   \n",
       "1   391        41  ...      522       38     229.0        19   51958     2052   \n",
       "2  1918        41  ...      698       86     197.0         0   32992     3604   \n",
       "3    60         4  ...      519        5     256.0         6   54556     1683   \n",
       "4   251       229  ...     1260      155     506.0        59   50815     5771   \n",
       "\n",
       "   POV_TOT  HSG_VAL  POLYID                                           geometry  \n",
       "0      470   225900       1  POLYGON ((740409.853 4338451.728, 740199.864 4...  \n",
       "1      160   249300       2  POLYGON ((753400.378 4347151.080, 753395.816 4...  \n",
       "2      668   175900       3  POLYGON ((758318.262 4352123.456, 758319.774 4...  \n",
       "3      116   302300       4  POLYGON ((750839.595 4342678.807, 750805.840 4...  \n",
       "4      342   167300       5  POLYGON ((670062.020 4311030.409, 670133.819 4...  \n",
       "\n",
       "[5 rows x 31 columns]"
      ]
     },
     "execution_count": 4,
     "metadata": {},
     "output_type": "execute_result"
    }
   ],
   "source": [
    "sacramento.head()"
   ]
  },
  {
   "cell_type": "code",
   "execution_count": 5,
   "id": "assumed-hearing",
   "metadata": {},
   "outputs": [
    {
     "data": {
      "text/plain": [
       "<AxesSubplot:>"
      ]
     },
     "execution_count": 5,
     "metadata": {},
     "output_type": "execute_result"
    },
    {
     "data": {
      "image/png": "[encoded data removed]",
      "text/plain": [
       "<Figure size 432x288 with 1 Axes>"
      ]
     },
     "metadata": {
      "needs_background": "light"
     },
     "output_type": "display_data"
    }
   ],
   "source": [
    "sacramento.plot('BLACK')"
   ]
  },
  {
   "cell_type": "markdown",
   "id": "historical-authentication",
   "metadata": {},
   "source": [
    "## Aspatial Segregation Indices"
   ]
  },
  {
   "cell_type": "markdown",
   "id": "excellent-scanner",
   "metadata": {},
   "source": [
    "To compute an aspatial segregation index, pass a dataframe, a group population variable, and total population variable to the index's class"
   ]
  },
  {
   "cell_type": "code",
   "execution_count": 6,
   "id": "continent-situation",
   "metadata": {},
   "outputs": [],
   "source": [
    "from segregation.singlegroup import Dissim"
   ]
  },
  {
   "cell_type": "code",
   "execution_count": 7,
   "id": "norwegian-academy",
   "metadata": {},
   "outputs": [],
   "source": [
    "dissim = Dissim(sacramento, group_pop_var='BLACK', \n",
    "                total_pop_var='TOT_POP')"
   ]
  },
  {
   "cell_type": "markdown",
   "id": "statistical-playlist",
   "metadata": {},
   "source": [
    "The `statistic` attribute holds the value of the segregation index, and the `data` attribute holds the data used to calculate the index"
   ]
  },
  {
   "cell_type": "code",
   "execution_count": 8,
   "id": "manual-roberts",
   "metadata": {},
   "outputs": [
    {
     "data": {
      "text/plain": [
       "0.4883394024705785"
      ]
     },
     "execution_count": 8,
     "metadata": {},
     "output_type": "execute_result"
    }
   ],
   "source": [
    "dissim.statistic"
   ]
  },
  {
   "cell_type": "code",
   "execution_count": 9,
   "id": "peaceful-policy",
   "metadata": {},
   "outputs": [
    {
     "data": {
      "text/html": [
       "<div>\n",
       "<style scoped>\n",
       "    .dataframe tbody tr th:only-of-type {\n",
       "        vertical-align: middle;\n",
       "    }\n",
       "\n",
       "    .dataframe tbody tr th {\n",
       "        vertical-align: top;\n",
       "    }\n",
       "\n",
       "    .dataframe thead th {\n",
       "        text-align: right;\n",
       "    }\n",
       "</style>\n",
       "<table border=\"1\" class=\"dataframe\">\n",
       "  <thead>\n",
       "    <tr style=\"text-align: right;\">\n",
       "      <th></th>\n",
       "      <th>BLACK</th>\n",
       "      <th>TOT_POP</th>\n",
       "      <th>geometry</th>\n",
       "    </tr>\n",
       "  </thead>\n",
       "  <tbody>\n",
       "    <tr>\n",
       "      <th>0</th>\n",
       "      <td>29</td>\n",
       "      <td>5501</td>\n",
       "      <td>POLYGON ((740409.853 4338451.728, 740199.864 4...</td>\n",
       "    </tr>\n",
       "    <tr>\n",
       "      <th>1</th>\n",
       "      <td>0</td>\n",
       "      <td>2072</td>\n",
       "      <td>POLYGON ((753400.378 4347151.080, 753395.816 4...</td>\n",
       "    </tr>\n",
       "    <tr>\n",
       "      <th>2</th>\n",
       "      <td>9</td>\n",
       "      <td>3633</td>\n",
       "      <td>POLYGON ((758318.262 4352123.456, 758319.774 4...</td>\n",
       "    </tr>\n",
       "    <tr>\n",
       "      <th>3</th>\n",
       "      <td>0</td>\n",
       "      <td>1683</td>\n",
       "      <td>POLYGON ((750839.595 4342678.807, 750805.840 4...</td>\n",
       "    </tr>\n",
       "    <tr>\n",
       "      <th>4</th>\n",
       "      <td>17</td>\n",
       "      <td>5794</td>\n",
       "      <td>POLYGON ((670062.020 4311030.409, 670133.819 4...</td>\n",
       "    </tr>\n",
       "  </tbody>\n",
       "</table>\n",
       "</div>"
      ],
      "text/plain": [
       "   BLACK  TOT_POP                                           geometry\n",
       "0     29     5501  POLYGON ((740409.853 4338451.728, 740199.864 4...\n",
       "1      0     2072  POLYGON ((753400.378 4347151.080, 753395.816 4...\n",
       "2      9     3633  POLYGON ((758318.262 4352123.456, 758319.774 4...\n",
       "3      0     1683  POLYGON ((750839.595 4342678.807, 750805.840 4...\n",
       "4     17     5794  POLYGON ((670062.020 4311030.409, 670133.819 4..."
      ]
     },
     "execution_count": 9,
     "metadata": {},
     "output_type": "execute_result"
    }
   ],
   "source": [
    "dissim.data.head()"
   ]
  },
  {
   "cell_type": "markdown",
   "id": "a5fe0054-a616-4ac8-b925-b670cb6b05d1",
   "metadata": {},
   "source": [
    "### Depreciation for 2.0"
   ]
  },
  {
   "cell_type": "code",
   "execution_count": 10,
   "id": "00d9c31e-b937-47fd-afac-487f8023d8fa",
   "metadata": {},
   "outputs": [],
   "source": [
    "from segregation.aspatial import Dissim "
   ]
  },
  {
   "cell_type": "code",
   "execution_count": 11,
   "id": "0261bfda-0061-4ea5-a84f-f5a9392fdb39",
   "metadata": {},
   "outputs": [
    {
     "name": "stderr",
     "output_type": "stream",
     "text": [
      "<ipython-input-11-33d3b5bf446c>:1: DeprecatedWarning: Dissim is deprecated as of 2.0 and will be removed in 2.2. singlegroup.Dissim or multigroup.MultiDissim\n",
      "  res = Dissim(sacramento, group_pop_var='BLACK',\n"
     ]
    }
   ],
   "source": [
    "res = Dissim(sacramento, group_pop_var='BLACK', \n",
    "                total_pop_var='TOT_POP')"
   ]
  },
  {
   "cell_type": "code",
   "execution_count": 12,
   "id": "2f1a9083-283a-4916-95fd-ce7f97f4a941",
   "metadata": {},
   "outputs": [
    {
     "data": {
      "text/plain": [
       "True"
      ]
     },
     "execution_count": 12,
     "metadata": {},
     "output_type": "execute_result"
    }
   ],
   "source": [
    "res.statistic == dissim.statistic"
   ]
  },
  {
   "cell_type": "markdown",
   "id": "fewer-southeast",
   "metadata": {},
   "source": [
    "## Spatial Segregation Indices"
   ]
  },
  {
   "cell_type": "markdown",
   "id": "confidential-corpus",
   "metadata": {},
   "source": [
    "For calculating spatial segregation indices, the package implements two classes of indices: spatially-explicit and spatially-implicit. \n",
    "\n",
    "Spatially-explicit indices are those for which space was a formal consideration in the index's original formulation, whereas spatially-implicit indices are developed using the logic of [Reardon and O'Sulivan](http://doi.wiley.com/10.1111/j.0081-1750.2004.00150.x). \n",
    "\n",
    "For the latter,(otherwise called *generalized* spatial segregation indices) the package can incorporate spatial relationships represented by either a [`libpysal.W`](https://pysal.org/libpysal/api.html) weights object or a [`pandana.Network`](http://udst.github.io/pandana/network.html) network object, which means generalized spatial segregation indices can be computed according to many different spatial relationships which could include contiguity, distance, or network connectivity. This flexibility is particularly useful for specifying appropriate \"neighborhood\" definitions for different types of input data (which could be, e.g. housing units, census tracts, or counties)"
   ]
  },
  {
   "cell_type": "markdown",
   "id": "exterior-louisiana",
   "metadata": {},
   "source": [
    "For spatially-explicit indices, they can be called like any other, though some may have additional arguments:"
   ]
  },
  {
   "cell_type": "code",
   "execution_count": 13,
   "id": "congressional-likelihood",
   "metadata": {},
   "outputs": [],
   "source": [
    "from segregation.singlegroup import AbsoluteCentralization, Gini"
   ]
  },
  {
   "cell_type": "code",
   "execution_count": 14,
   "id": "cloudy-disabled",
   "metadata": {},
   "outputs": [],
   "source": [
    "cent = AbsoluteCentralization(sacramento, group_pop_var='BLACK', \n",
    "                              total_pop_var='TOT_POP')"
   ]
  },
  {
   "cell_type": "code",
   "execution_count": 15,
   "id": "decreased-possession",
   "metadata": {},
   "outputs": [
    {
     "data": {
      "text/plain": [
       "0.8491771822066525"
      ]
     },
     "execution_count": 15,
     "metadata": {},
     "output_type": "execute_result"
    }
   ],
   "source": [
    "cent.statistic"
   ]
  },
  {
   "cell_type": "markdown",
   "id": "usual-garden",
   "metadata": {},
   "source": [
    "### Euclidian distance based measures"
   ]
  },
  {
   "cell_type": "markdown",
   "id": "appreciated-honolulu",
   "metadata": {},
   "source": [
    "For generalized spatial indices, a `distance` parameter can be passed to the index of choice. Under the hood, the input data will be passed through a kernel function with the distance parameter as the kernel bandwidth.\n",
    "\n",
    "(note in this case because the CRS of the sacramento dataframe is UTM, the units are in meters)"
   ]
  },
  {
   "cell_type": "code",
   "execution_count": 16,
   "id": "attempted-question",
   "metadata": {},
   "outputs": [],
   "source": [
    "# aspatial gini index\n",
    "aspatial_gini = Gini(sacramento, group_pop_var='BLACK', \n",
    "                     total_pop_var='TOT_POP')"
   ]
  },
  {
   "cell_type": "code",
   "execution_count": 17,
   "id": "handled-paint",
   "metadata": {},
   "outputs": [],
   "source": [
    "# generalized spatial gini index\n",
    "gen_spatialgini = Gini(sacramento, group_pop_var='BLACK', \n",
    "                       total_pop_var='TOT_POP', distance=2000)"
   ]
  },
  {
   "cell_type": "code",
   "execution_count": 18,
   "id": "incoming-decision",
   "metadata": {},
   "outputs": [
    {
     "data": {
      "text/plain": [
       "0.5368102768280613"
      ]
     },
     "execution_count": 18,
     "metadata": {},
     "output_type": "execute_result"
    }
   ],
   "source": [
    "gen_spatialgini.statistic"
   ]
  },
  {
   "cell_type": "code",
   "execution_count": 19,
   "id": "seven-manufacturer",
   "metadata": {},
   "outputs": [
    {
     "data": {
      "text/plain": [
       "0.6361755332635235"
      ]
     },
     "execution_count": 19,
     "metadata": {},
     "output_type": "execute_result"
    }
   ],
   "source": [
    "aspatial_gini.statistic"
   ]
  },
  {
   "cell_type": "markdown",
   "id": "varied-desert",
   "metadata": {},
   "source": [
    "Examining the `data` attribute of the fitted index shows how the input data are transformed"
   ]
  },
  {
   "cell_type": "code",
   "execution_count": 20,
   "id": "foreign-ozone",
   "metadata": {},
   "outputs": [
    {
     "data": {
      "text/plain": [
       "<AxesSubplot:>"
      ]
     },
     "execution_count": 20,
     "metadata": {},
     "output_type": "execute_result"
    },
    {
     "data": {
      "image/png": "[encoded data removed]",
      "text/plain": [
       "<Figure size 432x288 with 1 Axes>"
      ]
     },
     "metadata": {
      "needs_background": "light"
     },
     "output_type": "display_data"
    }
   ],
   "source": [
    "# kernelized data\n",
    "gen_spatialgini.data.plot('BLACK')"
   ]
  },
  {
   "cell_type": "code",
   "execution_count": 21,
   "id": "vietnamese-appraisal",
   "metadata": {},
   "outputs": [
    {
     "data": {
      "text/plain": [
       "<AxesSubplot:>"
      ]
     },
     "execution_count": 21,
     "metadata": {},
     "output_type": "execute_result"
    },
    {
     "data": {
      "image/png": "[encoded data removed]",
      "text/plain": [
       "<Figure size 432x288 with 1 Axes>"
      ]
     },
     "metadata": {
      "needs_background": "light"
     },
     "output_type": "display_data"
    }
   ],
   "source": [
    "# original data\n",
    "sacramento.plot('BLACK')"
   ]
  },
  {
   "cell_type": "markdown",
   "id": "da4eaa9d-38cd-41b8-9c83-3f1dcfd56571",
   "metadata": {},
   "source": [
    "## Deprecation"
   ]
  },
  {
   "cell_type": "code",
   "execution_count": 22,
   "id": "04b2f3c1-2b81-4c83-aab8-28e2c3b9a7bf",
   "metadata": {},
   "outputs": [],
   "source": [
    "from segregation.aspatial import  GiniSeg"
   ]
  },
  {
   "cell_type": "code",
   "execution_count": 23,
   "id": "5707a635-49bf-4418-8c76-e268883d484b",
   "metadata": {},
   "outputs": [
    {
     "name": "stderr",
     "output_type": "stream",
     "text": [
      "<ipython-input-23-212071080814>:1: DeprecatedWarning: GiniSeg is deprecated as of 2.0 and will be removed in 2.2. singlegroup.GiniSeg or multigroup.GiniSeg\n",
      "  GiniSeg(sacramento, group_pop_var='BLACK',\n"
     ]
    },
    {
     "data": {
      "text/plain": [
       "<segregation.aspatial.aspatial_indexes.GiniSeg at 0x7f855c550610>"
      ]
     },
     "execution_count": 23,
     "metadata": {},
     "output_type": "execute_result"
    }
   ],
   "source": [
    "GiniSeg(sacramento, group_pop_var='BLACK', \n",
    "                     total_pop_var='TOT_POP')"
   ]
  },
  {
   "cell_type": "code",
   "execution_count": 24,
   "id": "1a916f7a-fcf2-42f2-a60a-2bce556f6776",
   "metadata": {},
   "outputs": [
    {
     "name": "stderr",
     "output_type": "stream",
     "text": [
      "<ipython-input-24-d66bdb35a872>:1: DeprecatedWarning: GiniSeg is deprecated as of 2.0 and will be removed in 2.2. singlegroup.GiniSeg or multigroup.GiniSeg\n",
      "  dep_res = GiniSeg(sacramento, group_pop_var='BLACK',\n"
     ]
    }
   ],
   "source": [
    "dep_res = GiniSeg(sacramento, group_pop_var='BLACK', \n",
    "                     total_pop_var='TOT_POP')"
   ]
  },
  {
   "cell_type": "code",
   "execution_count": 25,
   "id": "15477500-825a-4caa-93f5-3379da42bdf6",
   "metadata": {},
   "outputs": [
    {
     "data": {
      "text/plain": [
       "array([ True])"
      ]
     },
     "execution_count": 25,
     "metadata": {},
     "output_type": "execute_result"
    }
   ],
   "source": [
    "dep_res.statistic == aspatial_gini.statistic"
   ]
  },
  {
   "cell_type": "code",
   "execution_count": null,
   "id": "1edb10ce-9bb0-458e-9ae8-cd9d32202353",
   "metadata": {},
   "outputs": [],
   "source": []
  }
 ],
 "metadata": {
  "kernelspec": {
   "display_name": "Python 3",
   "language": "python",
   "name": "python3"
  },
  "language_info": {
   "codemirror_mode": {
    "name": "ipython",
    "version": 3
   },
   "file_extension": ".py",
   "mimetype": "text/x-python",
   "name": "python",
   "nbconvert_exporter": "python",
   "pygments_lexer": "ipython3",
   "version": "3.8.10"
  },
  "widgets": {
   "application/vnd.jupyter.widget-state+json": {
    "state": {},
    "version_major": 2,
    "version_minor": 0
   }
  }
 },
 "nbformat": 4,
 "nbformat_minor": 5
}
