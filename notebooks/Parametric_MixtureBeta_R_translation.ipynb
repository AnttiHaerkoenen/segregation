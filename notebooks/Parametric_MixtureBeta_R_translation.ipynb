{
 "cells": [
  {
   "cell_type": "code",
   "execution_count": 634,
   "metadata": {},
   "outputs": [
    {
     "data": {
      "text/html": [
       "<div>\n",
       "<style scoped>\n",
       "    .dataframe tbody tr th:only-of-type {\n",
       "        vertical-align: middle;\n",
       "    }\n",
       "\n",
       "    .dataframe tbody tr th {\n",
       "        vertical-align: top;\n",
       "    }\n",
       "\n",
       "    .dataframe thead th {\n",
       "        text-align: right;\n",
       "    }\n",
       "</style>\n",
       "<table border=\"1\" class=\"dataframe\">\n",
       "  <thead>\n",
       "    <tr style=\"text-align: right;\">\n",
       "      <th></th>\n",
       "      <th>trtid10</th>\n",
       "      <th>state</th>\n",
       "      <th>county</th>\n",
       "      <th>tract</th>\n",
       "      <th>pop10</th>\n",
       "      <th>nhwht10</th>\n",
       "      <th>nhblk10</th>\n",
       "      <th>ntv10</th>\n",
       "      <th>asian10</th>\n",
       "      <th>hisp10</th>\n",
       "      <th>...</th>\n",
       "      <th>a15hsp10</th>\n",
       "      <th>a60hsp10</th>\n",
       "      <th>ageasn10</th>\n",
       "      <th>a15asn10</th>\n",
       "      <th>a60asn10</th>\n",
       "      <th>agentv10</th>\n",
       "      <th>a15ntv10</th>\n",
       "      <th>a60ntv10</th>\n",
       "      <th>globd10</th>\n",
       "      <th>globg10</th>\n",
       "    </tr>\n",
       "  </thead>\n",
       "  <tbody>\n",
       "    <tr>\n",
       "      <th>0</th>\n",
       "      <td>1001020100</td>\n",
       "      <td>AL</td>\n",
       "      <td>Autauga County</td>\n",
       "      <td>Census Tract 201</td>\n",
       "      <td>1912</td>\n",
       "      <td>1601</td>\n",
       "      <td>228</td>\n",
       "      <td>21</td>\n",
       "      <td>16</td>\n",
       "      <td>44</td>\n",
       "      <td>...</td>\n",
       "      <td>14</td>\n",
       "      <td>2</td>\n",
       "      <td>14</td>\n",
       "      <td>4</td>\n",
       "      <td>1</td>\n",
       "      <td>13</td>\n",
       "      <td>1</td>\n",
       "      <td>3</td>\n",
       "      <td>bw</td>\n",
       "      <td>White Black</td>\n",
       "    </tr>\n",
       "    <tr>\n",
       "      <th>1</th>\n",
       "      <td>6083002402</td>\n",
       "      <td>CA</td>\n",
       "      <td>Santa Barbara County</td>\n",
       "      <td>Census Tract 24.02</td>\n",
       "      <td>11406</td>\n",
       "      <td>1980</td>\n",
       "      <td>207</td>\n",
       "      <td>54</td>\n",
       "      <td>703</td>\n",
       "      <td>8439</td>\n",
       "      <td>...</td>\n",
       "      <td>2972</td>\n",
       "      <td>414</td>\n",
       "      <td>624</td>\n",
       "      <td>119</td>\n",
       "      <td>75</td>\n",
       "      <td>26</td>\n",
       "      <td>4</td>\n",
       "      <td>3</td>\n",
       "      <td>wha</td>\n",
       "      <td>Dual immig</td>\n",
       "    </tr>\n",
       "    <tr>\n",
       "      <th>2</th>\n",
       "      <td>1001020200</td>\n",
       "      <td>AL</td>\n",
       "      <td>Autauga County</td>\n",
       "      <td>Census Tract 202</td>\n",
       "      <td>2170</td>\n",
       "      <td>844</td>\n",
       "      <td>1226</td>\n",
       "      <td>9</td>\n",
       "      <td>13</td>\n",
       "      <td>75</td>\n",
       "      <td>...</td>\n",
       "      <td>14</td>\n",
       "      <td>1</td>\n",
       "      <td>5</td>\n",
       "      <td>0</td>\n",
       "      <td>0</td>\n",
       "      <td>5</td>\n",
       "      <td>3</td>\n",
       "      <td>1</td>\n",
       "      <td>bw</td>\n",
       "      <td>White Black</td>\n",
       "    </tr>\n",
       "    <tr>\n",
       "      <th>3</th>\n",
       "      <td>6083002102</td>\n",
       "      <td>CA</td>\n",
       "      <td>Santa Barbara County</td>\n",
       "      <td>Census Tract 21.02</td>\n",
       "      <td>2084</td>\n",
       "      <td>853</td>\n",
       "      <td>24</td>\n",
       "      <td>24</td>\n",
       "      <td>88</td>\n",
       "      <td>1088</td>\n",
       "      <td>...</td>\n",
       "      <td>342</td>\n",
       "      <td>84</td>\n",
       "      <td>61</td>\n",
       "      <td>4</td>\n",
       "      <td>16</td>\n",
       "      <td>11</td>\n",
       "      <td>0</td>\n",
       "      <td>4</td>\n",
       "      <td>wha</td>\n",
       "      <td>Dual immig</td>\n",
       "    </tr>\n",
       "    <tr>\n",
       "      <th>4</th>\n",
       "      <td>1001020300</td>\n",
       "      <td>AL</td>\n",
       "      <td>Autauga County</td>\n",
       "      <td>Census Tract 203</td>\n",
       "      <td>3373</td>\n",
       "      <td>2538</td>\n",
       "      <td>668</td>\n",
       "      <td>30</td>\n",
       "      <td>42</td>\n",
       "      <td>87</td>\n",
       "      <td>...</td>\n",
       "      <td>34</td>\n",
       "      <td>9</td>\n",
       "      <td>22</td>\n",
       "      <td>2</td>\n",
       "      <td>7</td>\n",
       "      <td>9</td>\n",
       "      <td>1</td>\n",
       "      <td>3</td>\n",
       "      <td>bw</td>\n",
       "      <td>White Black</td>\n",
       "    </tr>\n",
       "  </tbody>\n",
       "</table>\n",
       "<p>5 rows × 47 columns</p>\n",
       "</div>"
      ],
      "text/plain": [
       "      trtid10 state                county               tract  pop10  nhwht10  \\\n",
       "0  1001020100    AL        Autauga County    Census Tract 201   1912     1601   \n",
       "1  6083002402    CA  Santa Barbara County  Census Tract 24.02  11406     1980   \n",
       "2  1001020200    AL        Autauga County    Census Tract 202   2170      844   \n",
       "3  6083002102    CA  Santa Barbara County  Census Tract 21.02   2084      853   \n",
       "4  1001020300    AL        Autauga County    Census Tract 203   3373     2538   \n",
       "\n",
       "   nhblk10  ntv10  asian10  hisp10     ...       a15hsp10  a60hsp10  ageasn10  \\\n",
       "0      228     21       16      44     ...             14         2        14   \n",
       "1      207     54      703    8439     ...           2972       414       624   \n",
       "2     1226      9       13      75     ...             14         1         5   \n",
       "3       24     24       88    1088     ...            342        84        61   \n",
       "4      668     30       42      87     ...             34         9        22   \n",
       "\n",
       "   a15asn10  a60asn10  agentv10  a15ntv10  a60ntv10  globd10      globg10  \n",
       "0         4         1        13         1         3       bw  White Black  \n",
       "1       119        75        26         4         3      wha   Dual immig  \n",
       "2         0         0         5         3         1       bw  White Black  \n",
       "3         4        16        11         0         4      wha   Dual immig  \n",
       "4         2         7         9         1         3       bw  White Black  \n",
       "\n",
       "[5 rows x 47 columns]"
      ]
     },
     "execution_count": 634,
     "metadata": {},
     "output_type": "execute_result"
    }
   ],
   "source": [
    "# !IPython.load_extensions('calico-document-tools') To construct notebook Table of Contents\n",
    "import numpy as np\n",
    "import pandas as pd\n",
    "import pysal as ps\n",
    "import scipy\n",
    "from scipy.integrate import quad\n",
    "from scipy.stats import norm\n",
    "from collections import Counter\n",
    "\n",
    "from scipy.stats import beta # Beta probability function\n",
    "from scipy.special import digamma\n",
    "from scipy.special import beta as f_beta # Beta raw function\n",
    "\n",
    "import os\n",
    "\n",
    "os.chdir('C:/Users/renan/Desktop/inequality-segregation-supplementary-files/')\n",
    "census_2010 = pd.read_csv('data/std_2010_fullcount.csv', encoding = \"ISO-8859-1\", sep = \",\")\n",
    "census_2010.head()"
   ]
  },
  {
   "cell_type": "code",
   "execution_count": 2,
   "metadata": {},
   "outputs": [],
   "source": [
    "def duncan_betamix(v):\n",
    "    v = np.array(v)              # Has to be np.array for future calculations\n",
    "    Cmix = int((1 + len(v)) / 3) # Has to be integer for future slices\n",
    "    a = v[0:Cmix]      \n",
    "    b = v[(Cmix):(2 * Cmix)]\n",
    "\n",
    "    if (Cmix == 1):\n",
    "        lam = 1 \n",
    "    else: \n",
    "        lam = np.append(v[(2 * Cmix):(3 * Cmix - 1)], 1 - sum(v[(2 * Cmix):(3 * Cmix - 1)]))\n",
    "        \n",
    "    mu = sum(lam * a / (a + b))\n",
    "\n",
    "    value = sum(lam * (b * beta.cdf(mu, a, b + 1)/(1 - mu) - a * beta.cdf(mu, a + 1, b) / mu) / (a + b))\n",
    "    return value"
   ]
  },
  {
   "cell_type": "code",
   "execution_count": 3,
   "metadata": {},
   "outputs": [
    {
     "data": {
      "text/plain": [
       "0.6657228773303705"
      ]
     },
     "execution_count": 3,
     "metadata": {},
     "output_type": "execute_result"
    }
   ],
   "source": [
    "duncan_betamix([0.3, 0.7])"
   ]
  },
  {
   "cell_type": "code",
   "execution_count": 4,
   "metadata": {},
   "outputs": [
    {
     "data": {
      "text/plain": [
       "0.8075080072970819"
      ]
     },
     "execution_count": 4,
     "metadata": {},
     "output_type": "execute_result"
    }
   ],
   "source": [
    "duncan_betamix([0.3, 0.7, 0.04, 0.65, 0.7])"
   ]
  },
  {
   "cell_type": "code",
   "execution_count": 5,
   "metadata": {},
   "outputs": [
    {
     "data": {
      "text/plain": [
       "0.7403564967329468"
      ]
     },
     "execution_count": 5,
     "metadata": {},
     "output_type": "execute_result"
    }
   ],
   "source": [
    "duncan_betamix([0.3, 0.7, 0.04, 0.65, 0.7, 0.9, 0.12, 0.43])"
   ]
  },
  {
   "cell_type": "code",
   "execution_count": 138,
   "metadata": {},
   "outputs": [],
   "source": [
    "def theil_betamix_2017(v):\n",
    "    v = np.array(v)              # Has to be np.array for future calculations\n",
    "    Cmix = int((1 + len(v)) / 3) # Has to be integer for future slices\n",
    "    a = v[0:Cmix]      \n",
    "    b = v[(Cmix):(2 * Cmix)]\n",
    "    \n",
    "    if (Cmix == 1):\n",
    "        lam = 1 \n",
    "    else:\n",
    "        lam = np.append(v[(2 * Cmix):(3 * Cmix - 1)], 1 - sum(v[(2 * Cmix):(3 * Cmix - 1)]))\n",
    "        \n",
    "    mu = sum(lam * a / (a + b))\n",
    "\n",
    "    value = 1 - sum(lam * (a / (a + b) * digamma(a + 1) - a / (a + b) * digamma(a + b + 1))) / (mu * np.log(mu))\n",
    "    return value"
   ]
  },
  {
   "cell_type": "code",
   "execution_count": 139,
   "metadata": {},
   "outputs": [
    {
     "data": {
      "text/plain": [
       "0.5083151198778997"
      ]
     },
     "execution_count": 139,
     "metadata": {},
     "output_type": "execute_result"
    }
   ],
   "source": [
    "theil_betamix_2017([0.3, 0.7])"
   ]
  },
  {
   "cell_type": "code",
   "execution_count": 140,
   "metadata": {},
   "outputs": [
    {
     "data": {
      "text/plain": [
       "0.5348452644472066"
      ]
     },
     "execution_count": 140,
     "metadata": {},
     "output_type": "execute_result"
    }
   ],
   "source": [
    "theil_betamix_2017([0.3, 0.7, 0.04, 0.65, 0.7])"
   ]
  },
  {
   "cell_type": "code",
   "execution_count": 141,
   "metadata": {},
   "outputs": [
    {
     "data": {
      "text/plain": [
       "0.6219157169201162"
      ]
     },
     "execution_count": 141,
     "metadata": {},
     "output_type": "execute_result"
    }
   ],
   "source": [
    "theil_betamix_2017([0.3, 0.7, 0.04, 0.65, 0.7, 0.9, 0.12, 0.43])"
   ]
  },
  {
   "cell_type": "code",
   "execution_count": 149,
   "metadata": {},
   "outputs": [],
   "source": [
    "def theil_betamix_2012(v):\n",
    "    v = np.array(v)              # Has to be np.array for future calculations\n",
    "    Cmix = int((1 + len(v)) / 3) # Has to be integer for future slices\n",
    "    a = v[0:Cmix]      \n",
    "    b = v[(Cmix):(2 * Cmix)]\n",
    "    \n",
    "    if (Cmix == 1):\n",
    "        lam = 1 \n",
    "    else:\n",
    "        lam = np.append(v[(2 * Cmix):(3 * Cmix - 1)], 1 - sum(v[(2 * Cmix):(3 * Cmix - 1)]))\n",
    "        \n",
    "    mu = sum(lam * a / (a + b))\n",
    "\n",
    "    value = 1 - sum(lam * (a / (a + b) * digamma(a + 1) + b / (a + b) * digamma(b + 1) - digamma(a + b + 1))) / (mu * np.log(mu) + (1 - mu) * np.log(1 - mu))\n",
    "    return value"
   ]
  },
  {
   "cell_type": "code",
   "execution_count": 150,
   "metadata": {},
   "outputs": [
    {
     "data": {
      "text/plain": [
       "0.46377929067849466"
      ]
     },
     "execution_count": 150,
     "metadata": {},
     "output_type": "execute_result"
    }
   ],
   "source": [
    "theil_betamix_2012([0.3, 0.7])"
   ]
  },
  {
   "cell_type": "code",
   "execution_count": 151,
   "metadata": {},
   "outputs": [
    {
     "data": {
      "text/plain": [
       "0.6436871528489695"
      ]
     },
     "execution_count": 151,
     "metadata": {},
     "output_type": "execute_result"
    }
   ],
   "source": [
    "theil_betamix_2012([0.3, 0.7, 0.04, 0.65, 0.7])"
   ]
  },
  {
   "cell_type": "code",
   "execution_count": 152,
   "metadata": {},
   "outputs": [
    {
     "data": {
      "text/plain": [
       "0.5568732745587515"
      ]
     },
     "execution_count": 152,
     "metadata": {},
     "output_type": "execute_result"
    }
   ],
   "source": [
    "theil_betamix_2012([0.3, 0.7, 0.04, 0.65, 0.7, 0.9, 0.12, 0.43])"
   ]
  },
  {
   "cell_type": "code",
   "execution_count": 10,
   "metadata": {},
   "outputs": [],
   "source": [
    "def gini_betamix(v):\n",
    "    v = np.array(v)              # Has to be np.array for future calculations\n",
    "    Cmix = int((1 + len(v)) / 3) # Has to be integer for future slices\n",
    "    a = v[0:Cmix]      \n",
    "    b = v[(Cmix):(2 * Cmix)]\n",
    "    \n",
    "    if (Cmix == 1):\n",
    "        lam = np.array([1]) \n",
    "    else:\n",
    "        lam = np.append(v[(2 * Cmix):(3 * Cmix - 1)], 1 - sum(v[(2 * Cmix):(3 * Cmix - 1)]))\n",
    "        \n",
    "    mu = sum(lam * a / (a + b))\n",
    "    \n",
    "\n",
    "    def ff(x):\n",
    "        res = np.empty(shape = (Cmix, 2))\n",
    "        for ii in range(Cmix):\n",
    "            res[ii,0] = lam[ii] * b[ii] * beta.pdf(x, a[ii], b[ii] + 1) / (a[ii] + b[ii])\n",
    "            res[ii,1] = lam[ii] * a[ii] * beta.cdf(x, a[ii] + 1, b[ii]) / (a[ii] + b[ii])\n",
    "        res = np.sum(res, axis = 0) # apply(res, c(2, 3), sum)\n",
    "        \n",
    "        return (res[0] * res[1])\n",
    "\n",
    "    value = 1-(2/(mu*(1-mu)))*(quad(ff,0,.5,limit=100)[0]+quad(ff,.5,1,limit=100)[0])\n",
    "    return value\n"
   ]
  },
  {
   "cell_type": "code",
   "execution_count": 11,
   "metadata": {},
   "outputs": [
    {
     "data": {
      "text/plain": [
       "0.834506614191632"
      ]
     },
     "execution_count": 11,
     "metadata": {},
     "output_type": "execute_result"
    }
   ],
   "source": [
    "gini_betamix([0.3, 0.7])"
   ]
  },
  {
   "cell_type": "code",
   "execution_count": 12,
   "metadata": {},
   "outputs": [
    {
     "data": {
      "text/plain": [
       "0.9342811402444533"
      ]
     },
     "execution_count": 12,
     "metadata": {},
     "output_type": "execute_result"
    }
   ],
   "source": [
    "gini_betamix([0.3, 0.7, 0.04, 0.65, 0.7])"
   ]
  },
  {
   "cell_type": "code",
   "execution_count": 13,
   "metadata": {},
   "outputs": [
    {
     "data": {
      "text/plain": [
       "0.891209223701447"
      ]
     },
     "execution_count": 13,
     "metadata": {},
     "output_type": "execute_result"
    }
   ],
   "source": [
    "gini_betamix([0.3, 0.7, 0.04, 0.65, 0.7, 0.9, 0.12, 0.43])"
   ]
  },
  {
   "cell_type": "code",
   "execution_count": 216,
   "metadata": {},
   "outputs": [],
   "source": [
    "def fmn(a,b,m,n):\n",
    "    value = f_beta(a + n, b + m - n) / f_beta(a, b)\n",
    "    return value"
   ]
  },
  {
   "cell_type": "code",
   "execution_count": 273,
   "metadata": {},
   "outputs": [
    {
     "data": {
      "text/plain": [
       "0.0019209261240983927"
      ]
     },
     "execution_count": 273,
     "metadata": {},
     "output_type": "execute_result"
    }
   ],
   "source": [
    "fmn(0.3, 0.4, 7, 3)"
   ]
  },
  {
   "cell_type": "code",
   "execution_count": 277,
   "metadata": {},
   "outputs": [],
   "source": [
    "def llik_cnt(a, b, lam, K, X):\n",
    "    # a = vector of size C (number of components of the mixture)\n",
    "    # b = vector of size C (number of components of the mixture)\n",
    "    # lam = vector of size C (number of components of the mixture)\n",
    "    # K = scalar; number of indiv by unit\n",
    "    # X = vector of size K+1; number of units with (j-1) minorities\n",
    "    \n",
    "    L = np.array(np.repeat(lam, K+1)).reshape((len(lam), K+1)) # Repeat each element of the list K+1 times, since Python fills rowwisely\n",
    "    A = np.array(np.repeat(a,   K+1)).reshape((len(lam), K+1))\n",
    "    B = np.array(np.repeat(b,   K+1)).reshape((len(lam), K+1))\n",
    "    \n",
    "    Kmat = np.array(list(range(K + 1)) * len(lam)).reshape((len(lam), K + 1))\n",
    "\n",
    "    value = -sum(X * np.log(np.sum(np.multiply(L, fmn(A, B, K, Kmat)), axis = 0))) # multiply element wisely\n",
    "    return value"
   ]
  },
  {
   "cell_type": "code",
   "execution_count": 279,
   "metadata": {},
   "outputs": [
    {
     "data": {
      "text/plain": [
       "142.61710934389515"
      ]
     },
     "execution_count": 279,
     "metadata": {},
     "output_type": "execute_result"
    }
   ],
   "source": [
    "a = [0.3, 0.6]\n",
    "b = [0.44, 0.9]\n",
    "lam = [0.45, 0.55]\n",
    "K = 5\n",
    "X = [6, 9, 10, 4, 8, 7]\n",
    "llik_cnt(a, b, lam, K, X)"
   ]
  },
  {
   "cell_type": "code",
   "execution_count": 338,
   "metadata": {},
   "outputs": [],
   "source": [
    "def llik_Kvec(a, b, lam, Xmat, Kvec):\n",
    "    cumsum = 0\n",
    "    \n",
    "    for j in list(range(len(Kvec))):\n",
    "        cumsum += llik_cnt(a, b, lam, Kvec[j], Xmat[0:(Kvec[j]+1), j])\n",
    "    \n",
    "    return cumsum\n"
   ]
  },
  {
   "cell_type": "code",
   "execution_count": 339,
   "metadata": {},
   "outputs": [
    {
     "data": {
      "text/plain": [
       "array([[ 1.,  2.],\n",
       "       [ 3.,  4.],\n",
       "       [ 5.,  6.],\n",
       "       [ 7.,  8.],\n",
       "       [ 9., 10.],\n",
       "       [11., 12.],\n",
       "       [13., 14.],\n",
       "       [15., 16.],\n",
       "       [17., 18.],\n",
       "       [19., 20.]])"
      ]
     },
     "execution_count": 339,
     "metadata": {},
     "output_type": "execute_result"
    }
   ],
   "source": [
    "Kvec = [3, 2]\n",
    "\n",
    "values = np.linspace(1, 20, num = 20)\n",
    "Xmat = np.array(values).reshape((int(len(values) / len(Kvec)), len(Kvec)))\n",
    "Xmat"
   ]
  },
  {
   "cell_type": "code",
   "execution_count": 342,
   "metadata": {},
   "outputs": [
    {
     "data": {
      "text/plain": [
       "51.36943404147456"
      ]
     },
     "execution_count": 342,
     "metadata": {},
     "output_type": "execute_result"
    }
   ],
   "source": [
    "llik_Kvec(a,b,lam,Xmat,Kvec)"
   ]
  },
  {
   "cell_type": "code",
   "execution_count": 463,
   "metadata": {},
   "outputs": [],
   "source": [
    "def moments_beta(a, b, lam, K):\n",
    "    C = len(a)\n",
    "    A = np.matmul(np.array([1] * (K + 1)).reshape(K+1,1), np.array(a).reshape(1,len(a)))\n",
    "    B = np.matmul(np.array([1] * (K + 1)).reshape(K+1,1), np.array(b).reshape(1,len(b)))\n",
    "    # np.repeat: repeat each element\n",
    "    # np.tile: repeat entire np.array\n",
    "    mm = f_beta(np.add(A, np.repeat(np.linspace(0, K, K + 1), C).reshape(K+1, C)), B) / f_beta(A, B)\n",
    "    L = np.matmul(np.array([1] * (K + 1)).reshape(K+1,1), np.array(lam).reshape(1, len(lam)))\n",
    "    value = np.sum(np.multiply(mm, L), axis = 1)[1:]\n",
    "    return value"
   ]
  },
  {
   "cell_type": "code",
   "execution_count": 464,
   "metadata": {},
   "outputs": [
    {
     "data": {
      "text/plain": [
       "array([0.40243243, 0.27710009, 0.21900677, 0.18462762, 0.16156419])"
      ]
     },
     "execution_count": 464,
     "metadata": {},
     "output_type": "execute_result"
    }
   ],
   "source": [
    "moments_beta(a, b, lam, K)"
   ]
  },
  {
   "cell_type": "code",
   "execution_count": 490,
   "metadata": {},
   "outputs": [
    {
     "data": {
      "text/plain": [
       "8103.083927575384"
      ]
     },
     "execution_count": 490,
     "metadata": {},
     "output_type": "execute_result"
    }
   ],
   "source": [
    "np.random.normal(size = 5)"
   ]
  },
  {
   "cell_type": "code",
   "execution_count": 524,
   "metadata": {},
   "outputs": [
    {
     "data": {
      "text/plain": [
       "0.8159398746532405"
      ]
     },
     "execution_count": 524,
     "metadata": {},
     "output_type": "execute_result"
    }
   ],
   "source": [
    "norm.cdf(0.9)"
   ]
  },
  {
   "cell_type": "code",
   "execution_count": null,
   "metadata": {},
   "outputs": [],
   "source": [
    "def initial_values(rawmom, Cmix):\n",
    "    if (Cmix==1):\n",
    "        m1  = rawmom[0]\n",
    "        q2  = rawmom[1]/rawmom[0]\n",
    "        res = np.linalg.solve(np.column_stack((np.array([m1 - 1, q2 - 1]),np.array([m1, q2]))),np.array([0,1-q2]))\n",
    "        if (np.sum(res > 0) == 2):\n",
    "            return res\n",
    "        if (np.sum(res > 0) == 0):\n",
    "            return -res\n",
    "        if (np.sum(res > 0) == 1):\n",
    "            return m1/(1 - m1)\n",
    "  \n",
    "  \n",
    "    if (Cmix>=2):\n",
    "        K = 3 * Cmix - 1\n",
    "        empmom = rawmom[0:K]\n",
    "        init = [np.log([1, \n",
    "                        0.2, \n",
    "                        np.exp(np.random.normal(size = Cmix-1) + 0), # Changed the original code here which was: Cmix - 2\n",
    "                        1,\n",
    "                        5,\n",
    "                        np.exp(np.random.normal(size = Cmix-1))]), # Changed the original code here which was: Cmix - 2\n",
    "                [norm.ppf(1/Cmix)] * (Cmix-1)]\n",
    "\n",
    "        #Reparameterized\n",
    "        def fnmin(x):\n",
    "            value = np.sum((moments_beta(np.exp(x[0:Cmix]),\n",
    "                                 np.exp(x[(Cmix):(2*Cmix)]),\n",
    "                                 np.array(pnorm(x[(2*Cmix):K]),1-np.sum(norm.cdf(x[(2*Cmix):K]))),\n",
    "                                 K)\n",
    "                        -empmom)**2)\n",
    "            return value\n",
    "\n",
    "        def grmin(x):\n",
    "            a   = np.exp(x[0:Cmix]) #x[1:Cmix]\n",
    "            b   = np.exp(x[(Cmix):(2*Cmix)]) #x[(Cmix+1):(2*Cmix)]\n",
    "            lam = np.array(norm.cdf(x[(2*Cmix):(3*Cmix-1)]),1-sum(norm.cdf(x[(2*Cmix):(3*Cmix-1)])))\n",
    "            #c(x[(2*Cmix+1):(3*Cmix-1)],1-sum(x[(2*Cmix+1):(3*Cmix-1)]))\n",
    "            A = np.tile(a, K).reshape(K, len(a))\n",
    "            B = np.tile(b, K).reshape(K, len(b))\n",
    "            Kmat = np.repeat(range(1, K+1), Cmix).reshape(K, Cmix)\n",
    "            mm = f_beta(A+Kmat,B)/f_beta(A,B)\n",
    "            diga = digamma(A+Kmat)-digamma(A+B+Kmat)+digamma(A+B)-digamma(A)\n",
    "            digb = digamma(B)-digamma(A+B+Kmat)+digamma(A+B)-digamma(B)\n",
    "            L = np.tile(lam, K).reshape((K, len(lam)))\n",
    "\n",
    "            deralpha = A*L*mm*diga #L*mm*diga\n",
    "            derbeta  = B*L*mm*digb #L*mm*digb\n",
    "            derlam   = np.delete(norm.pdf(norm.ppf(L)), mm.shape[1] + 1, axis = 1)*(mm[,-ncol(mm)]-mm[,ncol(mm)]%x%t(rep(1,ncol(mm)-1)))\n",
    "            return( as.numeric(2*(moments_beta(a,b,lam,K)-empmom)%*%cbind(deralpha,derbeta,derlam)) )\n",
    "                             \n",
    "\n",
    "        res=optim(init,fn=fnmin,gr=grmin,method=\"BFGS\",\n",
    "        control=list(maxit=1000,trace=0))\n",
    "\n",
    "        return(c(exp(res$par[1:(2*Cmix)]),pnorm(res$par[(2*Cmix+1):(length(res$par))])))\n",
    "  \n"
   ]
  },
  {
   "cell_type": "code",
   "execution_count": 587,
   "metadata": {},
   "outputs": [
    {
     "data": {
      "text/plain": [
       "2"
      ]
     },
     "execution_count": 587,
     "metadata": {},
     "output_type": "execute_result"
    }
   ],
   "source": [
    "mm.shape[1]"
   ]
  },
  {
   "cell_type": "code",
   "execution_count": 586,
   "metadata": {},
   "outputs": [
    {
     "data": {
      "text/plain": [
       "array([[0.],\n",
       "       [0.],\n",
       "       [0.],\n",
       "       [0.],\n",
       "       [0.]])"
      ]
     },
     "execution_count": 586,
     "metadata": {},
     "output_type": "execute_result"
    }
   ],
   "source": [
    "norm.pdf(norm.ppf(L))"
   ]
  },
  {
   "cell_type": "code",
   "execution_count": null,
   "metadata": {},
   "outputs": [],
   "source": []
  },
  {
   "cell_type": "code",
   "execution_count": 581,
   "metadata": {},
   "outputs": [
    {
     "name": "stderr",
     "output_type": "stream",
     "text": [
      "C:\\Users\\renan\\AppData\\Local\\Continuum\\anaconda3\\lib\\site-packages\\ipykernel_launcher.py:8: RuntimeWarning: invalid value encountered in true_divide\n",
      "  \n"
     ]
    }
   ],
   "source": [
    "            a   = np.exp(x[0:Cmix]) #x[1:Cmix]\n",
    "            b   = np.exp(x[(Cmix):(2*Cmix)]) #x[(Cmix+1):(2*Cmix)]\n",
    "            lam = np.array(norm.cdf(x[(2*Cmix):(3*Cmix-1)]),1-sum(norm.cdf(x[(2*Cmix):(3*Cmix-1)])))\n",
    "            #c(x[(2*Cmix+1):(3*Cmix-1)],1-sum(x[(2*Cmix+1):(3*Cmix-1)]))\n",
    "            A = np.tile(a, K).reshape(K, len(a))\n",
    "            B = np.tile(b, K).reshape(K, len(b))\n",
    "            Kmat = np.repeat(range(1, K+1), Cmix).reshape(K, Cmix)\n",
    "            mm = f_beta(A+Kmat,B)/f_beta(A,B)\n",
    "            diga = digamma(A+Kmat)-digamma(A+B+Kmat)+digamma(A+B)-digamma(A)\n",
    "            digb = digamma(B)-digamma(A+B+Kmat)+digamma(A+B)-digamma(B)\n",
    "            L = np.tile(lam, K).reshape((K, len(lam)))\n",
    "\n",
    "            deralpha = A*L*mm*diga #L*mm*diga\n",
    "            derbeta  = B*L*mm*digb #L*mm*digb"
   ]
  },
  {
   "cell_type": "code",
   "execution_count": 583,
   "metadata": {},
   "outputs": [
    {
     "data": {
      "text/plain": [
       "array([[-0.10499359,         nan],\n",
       "       [-0.02604522,         nan],\n",
       "       [-0.00504579,         nan],\n",
       "       [-0.00090298,         nan],\n",
       "       [-0.00015714,         nan]])"
      ]
     },
     "execution_count": 583,
     "metadata": {},
     "output_type": "execute_result"
    }
   ],
   "source": [
    "derbeta"
   ]
  },
  {
   "cell_type": "code",
   "execution_count": 563,
   "metadata": {},
   "outputs": [
    {
     "data": {
      "text/plain": [
       "array([[0.45, 0.55],\n",
       "       [0.45, 0.55],\n",
       "       [0.45, 0.55],\n",
       "       [0.45, 0.55],\n",
       "       [0.45, 0.55]])"
      ]
     },
     "execution_count": 563,
     "metadata": {},
     "output_type": "execute_result"
    }
   ],
   "source": [
    "np.tile(lam, K).reshape((K, len(lam)))"
   ]
  },
  {
   "cell_type": "code",
   "execution_count": 557,
   "metadata": {},
   "outputs": [
    {
     "data": {
      "text/plain": [
       "array([[-0.00593476, -0.00029547],\n",
       "       [-0.01183451, -0.00059086],\n",
       "       [-0.01769966, -0.00088616],\n",
       "       [-0.02353061, -0.00118137],\n",
       "       [-0.02932776, -0.0014765 ]])"
      ]
     },
     "execution_count": 557,
     "metadata": {},
     "output_type": "execute_result"
    }
   ],
   "source": [
    "digb"
   ]
  },
  {
   "cell_type": "code",
   "execution_count": 554,
   "metadata": {},
   "outputs": [
    {
     "data": {
      "text/plain": [
       "array([[ 21.08553692, 404.42879349],\n",
       "       [ 22.08553692, 405.42879349],\n",
       "       [ 23.08553692, 406.42879349],\n",
       "       [ 24.08553692, 407.42879349],\n",
       "       [ 25.08553692, 408.42879349]])"
      ]
     },
     "execution_count": 554,
     "metadata": {},
     "output_type": "execute_result"
    }
   ],
   "source": [
    "A+Kmat"
   ]
  },
  {
   "cell_type": "code",
   "execution_count": 535,
   "metadata": {},
   "outputs": [
    {
     "ename": "ValueError",
     "evalue": "shapes (5,1) and (2,1) not aligned: 1 (dim 1) != 2 (dim 0)",
     "output_type": "error",
     "traceback": [
      "\u001b[1;31m---------------------------------------------------------------------------\u001b[0m",
      "\u001b[1;31mValueError\u001b[0m                                Traceback (most recent call last)",
      "\u001b[1;32m<ipython-input-535-ef47212de305>\u001b[0m in \u001b[0;36m<module>\u001b[1;34m()\u001b[0m\n\u001b[1;32m----> 1\u001b[1;33m \u001b[0mA\u001b[0m \u001b[1;33m=\u001b[0m \u001b[0mnp\u001b[0m\u001b[1;33m.\u001b[0m\u001b[0mmatmul\u001b[0m\u001b[1;33m(\u001b[0m\u001b[0mnp\u001b[0m\u001b[1;33m.\u001b[0m\u001b[0marray\u001b[0m\u001b[1;33m(\u001b[0m\u001b[1;33m[\u001b[0m\u001b[1;36m1\u001b[0m\u001b[1;33m]\u001b[0m \u001b[1;33m*\u001b[0m \u001b[0mK\u001b[0m\u001b[1;33m)\u001b[0m\u001b[1;33m.\u001b[0m\u001b[0mreshape\u001b[0m\u001b[1;33m(\u001b[0m\u001b[1;33m(\u001b[0m\u001b[0mK\u001b[0m\u001b[1;33m,\u001b[0m \u001b[1;36m1\u001b[0m\u001b[1;33m)\u001b[0m\u001b[1;33m)\u001b[0m\u001b[1;33m,\u001b[0m \u001b[0mnp\u001b[0m\u001b[1;33m.\u001b[0m\u001b[0marray\u001b[0m\u001b[1;33m(\u001b[0m\u001b[0ma\u001b[0m\u001b[1;33m)\u001b[0m\u001b[1;33m.\u001b[0m\u001b[0mreshape\u001b[0m\u001b[1;33m(\u001b[0m\u001b[1;33m(\u001b[0m\u001b[0mlen\u001b[0m\u001b[1;33m(\u001b[0m\u001b[0ma\u001b[0m\u001b[1;33m)\u001b[0m\u001b[1;33m,\u001b[0m \u001b[1;36m1\u001b[0m\u001b[1;33m)\u001b[0m\u001b[1;33m)\u001b[0m\u001b[1;33m)\u001b[0m\u001b[1;33m\u001b[0m\u001b[0m\n\u001b[0m",
      "\u001b[1;31mValueError\u001b[0m: shapes (5,1) and (2,1) not aligned: 1 (dim 1) != 2 (dim 0)"
     ]
    }
   ],
   "source": [
    "A = np.matmul(np.array([1] * K).reshape((K, 1)), np.array(a).reshape((len(a), 1)))"
   ]
  },
  {
   "cell_type": "code",
   "execution_count": 536,
   "metadata": {},
   "outputs": [
    {
     "data": {
      "text/plain": [
       "array([[1],\n",
       "       [1],\n",
       "       [1],\n",
       "       [1],\n",
       "       [1]])"
      ]
     },
     "execution_count": 536,
     "metadata": {},
     "output_type": "execute_result"
    }
   ],
   "source": [
    "np.array([1] * K).reshape((K, 1))"
   ]
  },
  {
   "cell_type": "code",
   "execution_count": 537,
   "metadata": {},
   "outputs": [
    {
     "data": {
      "text/plain": [
       "array([[ 20.08553692],\n",
       "       [403.42879349]])"
      ]
     },
     "execution_count": 537,
     "metadata": {},
     "output_type": "execute_result"
    }
   ],
   "source": [
    "np.array(a).reshape((len(a), 1))"
   ]
  },
  {
   "cell_type": "code",
   "execution_count": 526,
   "metadata": {},
   "outputs": [
    {
     "ename": "ValueError",
     "evalue": "setting an array element with a sequence.",
     "output_type": "error",
     "traceback": [
      "\u001b[1;31m---------------------------------------------------------------------------\u001b[0m",
      "\u001b[1;31mValueError\u001b[0m                                Traceback (most recent call last)",
      "\u001b[1;32m<ipython-input-526-7e186be5ae9c>\u001b[0m in \u001b[0;36m<module>\u001b[1;34m()\u001b[0m\n\u001b[0;32m      4\u001b[0m                 \u001b[1;36m1\u001b[0m\u001b[1;33m,\u001b[0m\u001b[1;33m\u001b[0m\u001b[0m\n\u001b[0;32m      5\u001b[0m                 \u001b[1;36m5\u001b[0m\u001b[1;33m,\u001b[0m\u001b[1;33m\u001b[0m\u001b[0m\n\u001b[1;32m----> 6\u001b[1;33m                 np.exp(np.random.normal(size = Cmix-2))]), # Changed the original code here which was: Cmix - 2\n\u001b[0m\u001b[0;32m      7\u001b[0m         [norm.ppf(1/Cmix)] * (Cmix-1)]\n",
      "\u001b[1;31mValueError\u001b[0m: setting an array element with a sequence."
     ]
    }
   ],
   "source": [
    "        init = [np.log([1, \n",
    "                        0.2, \n",
    "                        np.exp(np.random.normal(size = Cmix-2) + 0), # Changed the original code here which was: Cmix - 2\n",
    "                        1,\n",
    "                        5,\n",
    "                        np.exp(np.random.normal(size = Cmix-2))]), # Changed the original code here which was: Cmix - 2\n",
    "                [norm.ppf(1/Cmix)] * (Cmix-1)]"
   ]
  },
  {
   "cell_type": "markdown",
   "metadata": {},
   "source": [
    "# Main Function"
   ]
  },
  {
   "cell_type": "code",
   "execution_count": 519,
   "metadata": {},
   "outputs": [
    {
     "ename": "SyntaxError",
     "evalue": "invalid syntax (<ipython-input-519-958f99a1c2b9>, line 5)",
     "output_type": "error",
     "traceback": [
      "\u001b[1;36m  File \u001b[1;32m\"<ipython-input-519-958f99a1c2b9>\"\u001b[1;36m, line \u001b[1;32m5\u001b[0m\n\u001b[1;33m    if (!is.matrix(Xmat)):\u001b[0m\n\u001b[1;37m        ^\u001b[0m\n\u001b[1;31mSyntaxError\u001b[0m\u001b[1;31m:\u001b[0m invalid syntax\n"
     ]
    }
   ],
   "source": [
    "def betamix_estim(Xmat, Kvec, Cmax, initval = NULL):\n",
    "  \n",
    "    ## Xmat is the count matrix\n",
    "    ## Make it a matrix, even if one column only\n",
    "    if (type(Xmat) is not np.ndarray): \n",
    "        Xmat = np.array(Xmat).reshape((len(Xmat), 1))\n",
    "    \n",
    "\n",
    "    ## In the standard case, length(Kvec) = ncol(Xmat)\n",
    "    ## This script also supports the case in which length(Kvec)<ncol(Xmat),\n",
    "    ##   that is, when you want to restrict the estimation to a subset of the Ks\n",
    "    ## number of rows >= max(Kvec)+2\n",
    "    ## number of cols >= length(Kvec)\n",
    "    ## each column has K+1 meaningful elements, other elements are negative\n",
    "    ## for j=1...K+1, value(j) = nb of obs such that (X_K = j-1)\n",
    "\n",
    "    ## Find K for each column\n",
    "    whichK=apply(Xmat,2,function(v){min(which(v<0))})-2\n",
    "    goodcol = which(whichK %in% Kvec)\n",
    "    resm=matrix(0,nrow=max(Kvec)+1,ncol=length(goodcol))\n",
    "    \n",
    "    for (jj in 1:length(goodcol)):\n",
    "        resm[1:sum(Xmat[,goodcol[jj]]>=0),jj]=Xmat[Xmat[,goodcol[jj]]>=0,goodcol[jj]]\n",
    "    \n",
    "    Xmat=resm\n",
    "    \n",
    "    if (length(Kvec)==1):\n",
    "        Xmat=matrix(Xmat,ncol=1)\n",
    "    \n",
    "\n",
    "    ## Estimate moments from observed proportions \n",
    "    mm = synthesis.moments(Xmat,Kvec)\n",
    "\n",
    "    reslist = list()\n",
    "\n",
    "    ## 1 component\n",
    "    # Compute good initial values for the likelihood\n",
    "    Cmix=1\n",
    "    if (is.null(initval[[1]])):\n",
    "        init = initial.values(mm,Cmix)\n",
    "        init = log(init)\n",
    "\n",
    "    else:\n",
    "        init = log(initval[[1]])\n",
    "        \n",
    "    # Max likelihood\n",
    "    def aux_fun(x):\n",
    "        return llik.Kvec(exp(x[1:Cmix]),exp(x[(Cmix+1):2*Cmix]),1,Xmat,Kvec)\n",
    "    \n",
    "    prem = optim(init,\n",
    "                 fn = aux_fun,\n",
    "                 method=\"BFGS\",\n",
    "                 hessian=FALSE)\n",
    "\n",
    "    def fn2(x):\n",
    "        llik.Kvec(x[1:Cmix],x[(Cmix+1):2*Cmix],1,Xmat,Kvec)\n",
    "\n",
    "    reslist[[Cmix]]= optim(exp(prem$par),fn2,method=\"Nelder-Mead\",hessian=FALSE)\n",
    "    reslist[[Cmix]]$hessian = numDeriv::hessian(fn2,reslist[[Cmix]]$par)\n",
    "\n",
    "    if (Cmax==1):\n",
    "        return(reslist)\n",
    "\n",
    "    ## 2 components and more\n",
    "    ## For the moment, initial.values() goes up to Cmax=2\n",
    "    for (Cmix in 2:Cmax):\n",
    "\n",
    "        if (is.null(initval[[Cmix]])):\n",
    "            init = initial.values(mm,Cmix)\n",
    "        \n",
    "        else:\n",
    "            init = initval[[Cmix]]\n",
    "        \n",
    "        init = c(log(init[1:(2*Cmix)]),init[(2*Cmix+1):(3*Cmix-1)])\n",
    "        \n",
    "        def aux_fun2(x):\n",
    "            return llik.Kvec(exp(x[1:Cmix]),exp(x[(Cmix+1):(2*Cmix)]),c(pnorm(x[(2*Cmix+1):(3*Cmix-1)]),1-sum(pnorm(x[(2*Cmix+1):(3*Cmix-1)]))),Xmat,Kvec)\n",
    "        \n",
    "        prem = optim(init,\n",
    "                     fn = aux_fun2,\n",
    "                     method=\"BFGS\",\n",
    "                     hessian=FALSE)\n",
    "\n",
    "        init=c(exp(prem$par[1:(2*Cmix)]),pnorm(prem$par[(2*Cmix+1):(3*Cmix-1)]))\n",
    "\n",
    "        def aux_fun3(x):\n",
    "            return llik.Kvec(x[1:Cmix],x[(Cmix+1):(2*Cmix)],c(x[(2*Cmix+1):(3*Cmix-1)],1-sum(x[(2*Cmix+1):(3*Cmix-1)])),Xmat,Kvec)\n",
    "\n",
    "        reslist[[Cmix]] = optim(init,\n",
    "                                aux_fun3,\n",
    "                                method=\"Nelder-Mead\",\n",
    "                                hessian=FALSE,\n",
    "                                control=list(maxit=2))\n",
    "        reslist[[Cmix]]$hessian = numDeriv::hessian(fn2,reslist[[Cmix]]$par)\n",
    "        reslist[[Cmix]]$lr.pval = 1-pchisq(2*(reslist[[Cmix-1]]$value-reslist[[Cmix]]$value),3)\n",
    "\n",
    "\n",
    "    return(reslist)\n"
   ]
  },
  {
   "cell_type": "code",
   "execution_count": 591,
   "metadata": {},
   "outputs": [],
   "source": [
    "os.chdir('C:\\\\Users\\\\renan\\\\Desktop\\\\RIDIR project\\\\Non_Parametric_Binomial_Rathelot_2017\\\\beta_mixture_approach_2012\\\\Archive')"
   ]
  },
  {
   "cell_type": "code",
   "execution_count": 593,
   "metadata": {},
   "outputs": [
    {
     "data": {
      "text/html": [
       "<div>\n",
       "<style scoped>\n",
       "    .dataframe tbody tr th:only-of-type {\n",
       "        vertical-align: middle;\n",
       "    }\n",
       "\n",
       "    .dataframe tbody tr th {\n",
       "        vertical-align: top;\n",
       "    }\n",
       "\n",
       "    .dataframe thead th {\n",
       "        text-align: right;\n",
       "    }\n",
       "</style>\n",
       "<table border=\"1\" class=\"dataframe\">\n",
       "  <thead>\n",
       "    <tr style=\"text-align: right;\">\n",
       "      <th></th>\n",
       "      <th>X</th>\n",
       "      <th>K</th>\n",
       "    </tr>\n",
       "  </thead>\n",
       "  <tbody>\n",
       "    <tr>\n",
       "      <th>0</th>\n",
       "      <td>0</td>\n",
       "      <td>13</td>\n",
       "    </tr>\n",
       "    <tr>\n",
       "      <th>1</th>\n",
       "      <td>1</td>\n",
       "      <td>41</td>\n",
       "    </tr>\n",
       "    <tr>\n",
       "      <th>2</th>\n",
       "      <td>0</td>\n",
       "      <td>43</td>\n",
       "    </tr>\n",
       "    <tr>\n",
       "      <th>3</th>\n",
       "      <td>3</td>\n",
       "      <td>41</td>\n",
       "    </tr>\n",
       "    <tr>\n",
       "      <th>4</th>\n",
       "      <td>0</td>\n",
       "      <td>60</td>\n",
       "    </tr>\n",
       "  </tbody>\n",
       "</table>\n",
       "</div>"
      ],
      "text/plain": [
       "   X   K\n",
       "0  0  13\n",
       "1  1  41\n",
       "2  0  43\n",
       "3  3  41\n",
       "4  0  60"
      ]
     },
     "execution_count": 593,
     "metadata": {},
     "output_type": "execute_result"
    }
   ],
   "source": [
    "data = pd.read_csv('simple.csv')\n",
    "data.head()"
   ]
  },
  {
   "cell_type": "code",
   "execution_count": 682,
   "metadata": {},
   "outputs": [],
   "source": [
    "def vector_to_count(data, rangeK = None):\n",
    "    \n",
    "    # data is a pandas dataframe with columns X and K\n",
    "    \n",
    "    X = data['X']\n",
    "    K = data['K']\n",
    "    \n",
    "    if (rangeK is None):\n",
    "        rangeK = list(set(K.values))\n",
    "    \n",
    "    else:\n",
    "        X = X[K.isin(rangeK)]\n",
    "        K = K[K.isin(rangeK)]\n",
    "    \n",
    "    Pmat = np.full(shape = (max(K)+2, len(rangeK)), fill_value = -99)\n",
    "\n",
    "    for j in range(len(rangeK)):\n",
    "        Kj = rangeK[j]\n",
    "        Xj = X[K == Kj]\n",
    "        aux = Xj+1\n",
    "        Pmat[0:(Kj+1),j] = np.bincount(aux, minlength=Kj+2)[1:] # tabulate(Xj+1,nbins=Kj+1)\n",
    "    \n",
    "    return {'Xmat': Pmat,\n",
    "            'Kvec': rangeK}"
   ]
  },
  {
   "cell_type": "code",
   "execution_count": 681,
   "metadata": {},
   "outputs": [
    {
     "data": {
      "text/plain": [
       "array([187,  20,   7,   2,   0], dtype=int64)"
      ]
     },
     "execution_count": 681,
     "metadata": {},
     "output_type": "execute_result"
    }
   ],
   "source": [
    "aux = Xj+1\n",
    "np.bincount(aux, minlength=Kj+2)[1:]"
   ]
  },
  {
   "cell_type": "code",
   "execution_count": 666,
   "metadata": {},
   "outputs": [
    {
     "data": {
      "text/plain": [
       "array([-99, -99, -99, -99, -99])"
      ]
     },
     "execution_count": 666,
     "metadata": {},
     "output_type": "execute_result"
    }
   ],
   "source": [
    "Pmat[0:(Kj+1),j]"
   ]
  },
  {
   "cell_type": "code",
   "execution_count": 667,
   "metadata": {},
   "outputs": [],
   "source": [
    "l = [187, 20, 7, 2]"
   ]
  },
  {
   "cell_type": "code",
   "execution_count": 671,
   "metadata": {},
   "outputs": [
    {
     "data": {
      "text/plain": [
       "array([0, 1, 0, 0, 0, 0, 1, 0, 0, 0, 0, 0, 0, 0, 0, 0, 0, 0, 0, 1, 0, 0,\n",
       "       0, 0, 0, 0, 0, 0, 0, 0, 0, 0, 0, 0, 0, 0, 0, 0, 0, 0, 0, 0, 0, 0,\n",
       "       0, 0, 0, 0, 0, 0, 0, 0, 0, 0, 0, 0, 0, 0, 0, 0, 0, 0, 0, 0, 0, 0,\n",
       "       0, 0, 0, 0, 0, 0, 0, 0, 0, 0, 0, 0, 0, 0, 0, 0, 0, 0, 0, 0, 0, 0,\n",
       "       0, 0, 0, 0, 0, 0, 0, 0, 0, 0, 0, 0, 0, 0, 0, 0, 0, 0, 0, 0, 0, 0,\n",
       "       0, 0, 0, 0, 0, 0, 0, 0, 0, 0, 0, 0, 0, 0, 0, 0, 0, 0, 0, 0, 0, 0,\n",
       "       0, 0, 0, 0, 0, 0, 0, 0, 0, 0, 0, 0, 0, 0, 0, 0, 0, 0, 0, 0, 0, 0,\n",
       "       0, 0, 0, 0, 0, 0, 0, 0, 0, 0, 0, 0, 0, 0, 0, 0, 0, 0, 0, 0, 0, 0,\n",
       "       0, 0, 0, 0, 0, 0, 0, 0, 0, 0, 1], dtype=int64)"
      ]
     },
     "execution_count": 671,
     "metadata": {},
     "output_type": "execute_result"
    }
   ],
   "source": [
    "np.bincount(l)[1:]"
   ]
  },
  {
   "cell_type": "code",
   "execution_count": 664,
   "metadata": {},
   "outputs": [
    {
     "data": {
      "text/plain": [
       "[187, 20, 7, 2]"
      ]
     },
     "execution_count": 664,
     "metadata": {},
     "output_type": "execute_result"
    }
   ],
   "source": [
    "j = 3\n",
    "Kj = rangeK[j]\n",
    "Xj = X[K == Kj]\n",
    "list(Counter(Xj+1).values())#[0:(Kj+1)]"
   ]
  },
  {
   "cell_type": "code",
   "execution_count": 665,
   "metadata": {},
   "outputs": [
    {
     "data": {
      "text/plain": [
       "[187, 20, 7, 2]"
      ]
     },
     "execution_count": 665,
     "metadata": {},
     "output_type": "execute_result"
    }
   ],
   "source": [
    "list(Counter(Xj+1).values())"
   ]
  },
  {
   "cell_type": "code",
   "execution_count": 683,
   "metadata": {},
   "outputs": [
    {
     "data": {
      "text/plain": [
       "{'Xmat': array([[224, 296, 207, ...,   1,   0,   0],\n",
       "        [ 15,  16,  17, ...,   0,   0,   1],\n",
       "        [-99,   9,   7, ...,   0,   0,   0],\n",
       "        ...,\n",
       "        [-99, -99, -99, ..., -99, -99,   0],\n",
       "        [-99, -99, -99, ..., -99, -99,   0],\n",
       "        [-99, -99, -99, ..., -99, -99, -99]]),\n",
       " 'Kvec': [1,\n",
       "  2,\n",
       "  3,\n",
       "  4,\n",
       "  5,\n",
       "  6,\n",
       "  7,\n",
       "  8,\n",
       "  9,\n",
       "  10,\n",
       "  11,\n",
       "  12,\n",
       "  13,\n",
       "  14,\n",
       "  15,\n",
       "  16,\n",
       "  17,\n",
       "  18,\n",
       "  19,\n",
       "  20,\n",
       "  21,\n",
       "  22,\n",
       "  23,\n",
       "  24,\n",
       "  25,\n",
       "  26,\n",
       "  27,\n",
       "  28,\n",
       "  29,\n",
       "  30,\n",
       "  31,\n",
       "  32,\n",
       "  33,\n",
       "  34,\n",
       "  35,\n",
       "  36,\n",
       "  37,\n",
       "  38,\n",
       "  39,\n",
       "  40,\n",
       "  41,\n",
       "  42,\n",
       "  43,\n",
       "  44,\n",
       "  45,\n",
       "  46,\n",
       "  47,\n",
       "  48,\n",
       "  49,\n",
       "  50,\n",
       "  51,\n",
       "  52,\n",
       "  53,\n",
       "  54,\n",
       "  55,\n",
       "  56,\n",
       "  57,\n",
       "  58,\n",
       "  59,\n",
       "  60,\n",
       "  61,\n",
       "  62,\n",
       "  63,\n",
       "  64,\n",
       "  65,\n",
       "  66,\n",
       "  67,\n",
       "  68,\n",
       "  69,\n",
       "  70,\n",
       "  71,\n",
       "  72,\n",
       "  73,\n",
       "  74,\n",
       "  75,\n",
       "  76,\n",
       "  77,\n",
       "  78,\n",
       "  79,\n",
       "  80,\n",
       "  81,\n",
       "  82,\n",
       "  83,\n",
       "  84,\n",
       "  85,\n",
       "  86,\n",
       "  87,\n",
       "  88,\n",
       "  92,\n",
       "  100,\n",
       "  102,\n",
       "  104,\n",
       "  106,\n",
       "  109,\n",
       "  113,\n",
       "  125,\n",
       "  132,\n",
       "  147]}"
      ]
     },
     "execution_count": 683,
     "metadata": {},
     "output_type": "execute_result"
    }
   ],
   "source": [
    "vector_to_count(data, rangeK = None)"
   ]
  },
  {
   "cell_type": "code",
   "execution_count": 641,
   "metadata": {},
   "outputs": [
    {
     "data": {
      "text/plain": [
       "[224, 15]"
      ]
     },
     "execution_count": 641,
     "metadata": {},
     "output_type": "execute_result"
    }
   ],
   "source": [
    "list(Counter(Xj+1).values())"
   ]
  },
  {
   "cell_type": "code",
   "execution_count": 632,
   "metadata": {},
   "outputs": [
    {
     "data": {
      "text/plain": [
       "82       1\n",
       "85       1\n",
       "103      1\n",
       "122      1\n",
       "163      1\n",
       "167      1\n",
       "195      1\n",
       "252      1\n",
       "300      1\n",
       "353      1\n",
       "373      1\n",
       "406      1\n",
       "427      1\n",
       "431      1\n",
       "448      1\n",
       "488      2\n",
       "505      2\n",
       "512      2\n",
       "541      1\n",
       "574      1\n",
       "597      1\n",
       "679      1\n",
       "692      1\n",
       "876      1\n",
       "904      1\n",
       "956      1\n",
       "964      1\n",
       "973      1\n",
       "981      1\n",
       "1002     1\n",
       "        ..\n",
       "9706     1\n",
       "9745     1\n",
       "9759     1\n",
       "9782     1\n",
       "9829     1\n",
       "9862     1\n",
       "9922     1\n",
       "9939     1\n",
       "9944     1\n",
       "10028    1\n",
       "10062    1\n",
       "10070    1\n",
       "10090    1\n",
       "10116    1\n",
       "10168    1\n",
       "10173    1\n",
       "10181    1\n",
       "10185    1\n",
       "10298    1\n",
       "10337    1\n",
       "10370    1\n",
       "10384    1\n",
       "10438    1\n",
       "10450    1\n",
       "10458    1\n",
       "10483    1\n",
       "10490    1\n",
       "10532    1\n",
       "10541    1\n",
       "10554    1\n",
       "Name: X, Length: 239, dtype: int64"
      ]
     },
     "execution_count": 632,
     "metadata": {},
     "output_type": "execute_result"
    }
   ],
   "source": [
    "Xj = X[K == Kj]\n",
    "Xj+1"
   ]
  },
  {
   "cell_type": "code",
   "execution_count": 621,
   "metadata": {},
   "outputs": [
    {
     "data": {
      "text/plain": [
       "(149, 98)"
      ]
     },
     "execution_count": 621,
     "metadata": {},
     "output_type": "execute_result"
    }
   ],
   "source": [
    "Pmat = np.full(shape = (max(K)+2, len(rangeK)), fill_value = -99)\n",
    "Pmat.shape"
   ]
  },
  {
   "cell_type": "code",
   "execution_count": 623,
   "metadata": {},
   "outputs": [
    {
     "data": {
      "text/plain": [
       "Counter({1: 3, 2: 1, 3: 1})"
      ]
     },
     "execution_count": 623,
     "metadata": {},
     "output_type": "execute_result"
    }
   ],
   "source": [
    "from collections import Counter\n",
    "Counter([1,1,1,2,3])"
   ]
  },
  {
   "cell_type": "code",
   "execution_count": 624,
   "metadata": {},
   "outputs": [],
   "source": [
    "?Counter"
   ]
  },
  {
   "cell_type": "code",
   "execution_count": 193,
   "metadata": {},
   "outputs": [],
   "source": [
    "a = [0.3, 0.6]\n",
    "b = [0.44, 0.9]\n",
    "lam = [0.45, 0.55]\n",
    "K = 5\n",
    "X = [6, 9, 10, 4, 8, 7]\n",
    "\n",
    "L = np.array(np.repeat(lam, K+1)) # Repeat each element of the list K+1 times, since Python fills rowwisely\n",
    "L.shape = (len(lam), (K+1))\n",
    "A = np.array(np.repeat(a, K+1)) # Repeat each element of the list K+1 times, since Python fills rowwisely\n",
    "A.shape = (len(lam), (K+1))\n",
    "B = np.array(np.repeat(a, K+1)) # Repeat each element of the list K+1 times, since Python fills rowwisely\n",
    "B.shape = (len(lam), (K+1))\n",
    "Kmat = np.array(list(range(K + 1)) * len(lam))\n",
    "Kmat.shape = (len(lam), (K + 1))"
   ]
  },
  {
   "cell_type": "code",
   "execution_count": 194,
   "metadata": {},
   "outputs": [
    {
     "data": {
      "text/plain": [
       "array([[0, 1, 2, 3, 4, 5],\n",
       "       [0, 1, 2, 3, 4, 5]])"
      ]
     },
     "execution_count": 194,
     "metadata": {},
     "output_type": "execute_result"
    }
   ],
   "source": [
    "Kmat"
   ]
  },
  {
   "cell_type": "code",
   "execution_count": 195,
   "metadata": {},
   "outputs": [
    {
     "data": {
      "text/plain": [
       "array([[0.30794271, 0.02148438, 0.00846354, 0.00846354, 0.02148438,\n",
       "        0.30794271],\n",
       "       [0.22402597, 0.02922078, 0.01298701, 0.01298701, 0.02922078,\n",
       "        0.22402597]])"
      ]
     },
     "execution_count": 195,
     "metadata": {},
     "output_type": "execute_result"
    }
   ],
   "source": [
    "fmn(A, B, K, Kmat)"
   ]
  },
  {
   "cell_type": "code",
   "execution_count": 115,
   "metadata": {},
   "outputs": [
    {
     "data": {
      "text/plain": [
       "matrix([[1., 2., 3., 4., 5.],\n",
       "        [1., 2., 3., 4., 5.],\n",
       "        [1., 2., 3., 4., 5.],\n",
       "        [1., 2., 3., 4., 5.],\n",
       "        [1., 2., 3., 4., 5.]])"
      ]
     },
     "execution_count": 115,
     "metadata": {},
     "output_type": "execute_result"
    }
   ],
   "source": [
    "K = 5\n",
    "mat1K = np.matmul(np.matrix([[1]] * K), np.matrix(np.linspace(1, K, K)))\n",
    "mat1K.T"
   ]
  },
  {
   "cell_type": "code",
   "execution_count": 121,
   "metadata": {},
   "outputs": [
    {
     "ename": "TypeError",
     "evalue": "unsupported operand type(s) for ** or pow(): 'int' and 'matrix'",
     "output_type": "error",
     "traceback": [
      "\u001b[1;31m---------------------------------------------------------------------------\u001b[0m",
      "\u001b[1;31mTypeError\u001b[0m                                 Traceback (most recent call last)",
      "\u001b[1;32m<ipython-input-121-26a9b34a4953>\u001b[0m in \u001b[0;36m<module>\u001b[1;34m()\u001b[0m\n\u001b[1;32m----> 1\u001b[1;33m \u001b[1;33m(\u001b[0m\u001b[1;33m-\u001b[0m\u001b[1;36m1\u001b[0m\u001b[1;33m)\u001b[0m\u001b[1;33m**\u001b[0m\u001b[1;33m(\u001b[0m\u001b[0mmat1K\u001b[0m \u001b[1;33m-\u001b[0m \u001b[0mmat1K\u001b[0m\u001b[1;33m.\u001b[0m\u001b[0mT\u001b[0m\u001b[1;33m)\u001b[0m\u001b[1;33m\u001b[0m\u001b[0m\n\u001b[0m",
      "\u001b[1;31mTypeError\u001b[0m: unsupported operand type(s) for ** or pow(): 'int' and 'matrix'"
     ]
    }
   ],
   "source": [
    "(-1)**(mat1K - mat1K.T)"
   ]
  },
  {
   "cell_type": "code",
   "execution_count": 111,
   "metadata": {},
   "outputs": [
    {
     "data": {
      "text/plain": [
       "matrix([[1],\n",
       "        [1],\n",
       "        [1],\n",
       "        [1],\n",
       "        [1]])"
      ]
     },
     "execution_count": 111,
     "metadata": {},
     "output_type": "execute_result"
    }
   ],
   "source": [
    "np.matrix([[1], [1], [1], [1], [1]])"
   ]
  },
  {
   "cell_type": "code",
   "execution_count": 92,
   "metadata": {},
   "outputs": [
    {
     "ename": "SyntaxError",
     "evalue": "unexpected EOF while parsing (<ipython-input-92-5cc9727b2c4a>, line 1)",
     "output_type": "error",
     "traceback": [
      "\u001b[1;36m  File \u001b[1;32m\"<ipython-input-92-5cc9727b2c4a>\"\u001b[1;36m, line \u001b[1;32m1\u001b[0m\n\u001b[1;33m    (np.array([1] * K).T\u001b[0m\n\u001b[1;37m                        ^\u001b[0m\n\u001b[1;31mSyntaxError\u001b[0m\u001b[1;31m:\u001b[0m unexpected EOF while parsing\n"
     ]
    }
   ],
   "source": [
    "(np.array([1] * K).T"
   ]
  },
  {
   "cell_type": "code",
   "execution_count": 93,
   "metadata": {},
   "outputs": [
    {
     "data": {
      "text/plain": [
       "array([1, 1])"
      ]
     },
     "execution_count": 93,
     "metadata": {},
     "output_type": "execute_result"
    }
   ],
   "source": [
    "np.array([1] * K).T"
   ]
  },
  {
   "cell_type": "code",
   "execution_count": 90,
   "metadata": {},
   "outputs": [
    {
     "data": {
      "text/plain": [
       "array([1., 2.])"
      ]
     },
     "execution_count": 90,
     "metadata": {},
     "output_type": "execute_result"
    }
   ],
   "source": [
    "np.transpose(np.linspace(1, K, K))"
   ]
  },
  {
   "cell_type": "code",
   "execution_count": null,
   "metadata": {},
   "outputs": [],
   "source": []
  }
 ],
 "metadata": {
  "kernelspec": {
   "display_name": "Python 3",
   "language": "python",
   "name": "python3"
  },
  "language_info": {
   "codemirror_mode": {
    "name": "ipython",
    "version": 3
   },
   "file_extension": ".py",
   "mimetype": "text/x-python",
   "name": "python",
   "nbconvert_exporter": "python",
   "pygments_lexer": "ipython3",
   "version": "3.6.5"
  }
 },
 "nbformat": 4,
 "nbformat_minor": 2
}
