{
 "cells": [
  {
   "cell_type": "markdown",
   "metadata": {},
   "source": [
    "# Constructing scenarios according to the guidelines described in Allen (2014)"
   ]
  },
  {
   "cell_type": "code",
   "execution_count": 449,
   "metadata": {},
   "outputs": [],
   "source": [
    "import numpy as np\n",
    "import pandas as pd\n",
    "import os\n",
    "\n",
    "os.chdir('C:\\\\Users\\\\renan\\\\Desktop\\\\inequality\\\\segregation')\n",
    "from dissimilarity import Dissim"
   ]
  },
  {
   "cell_type": "code",
   "execution_count": 450,
   "metadata": {},
   "outputs": [],
   "source": [
    "J = 50\n",
    "a =  0.6 # 1, 0.8, 0.6, 0.4, 0.2, 0.05  # (1 - D) ** 2 / (1 + D) ** 2\n",
    "q = 1 - a\n",
    "D = (1 - np.sqrt(a))/(1 + np.sqrt(a))"
   ]
  },
  {
   "cell_type": "code",
   "execution_count": 451,
   "metadata": {},
   "outputs": [
    {
     "data": {
      "text/plain": [
       "0.1270166537925831"
      ]
     },
     "execution_count": 451,
     "metadata": {},
     "output_type": "execute_result"
    }
   ],
   "source": [
    "D"
   ]
  },
  {
   "cell_type": "code",
   "execution_count": 452,
   "metadata": {},
   "outputs": [],
   "source": [
    "def relation_formula(cum_c1, q):\n",
    "    cum_c0 = cum_c1 / (1 - q + q * cum_c1)\n",
    "    return cum_c0"
   ]
  },
  {
   "cell_type": "code",
   "execution_count": 453,
   "metadata": {},
   "outputs": [],
   "source": [
    "# Building point estimations\n",
    "init_1 = 1/J\n",
    "\n",
    "cum_1 = np.zeros(J)\n",
    "cum_0 = np.zeros(J)"
   ]
  },
  {
   "cell_type": "code",
   "execution_count": 454,
   "metadata": {},
   "outputs": [],
   "source": [
    "cum_1[0] = init_1\n",
    "cum_0[0] = relation_formula(cum_1[0], q)\n",
    "\n",
    "for i in list(range(1,J)):\n",
    "    cum_1[i] = init_1 * (i+1)\n",
    "    cum_0[i] = relation_formula(cum_1[i], q)"
   ]
  },
  {
   "cell_type": "code",
   "execution_count": 455,
   "metadata": {},
   "outputs": [],
   "source": [
    "point_prob_1 = np.concatenate((cum_1[0], np.diff(cum_1)), axis = None)\n",
    "point_prob_0 = np.concatenate((cum_0[0], np.diff(cum_0)), axis = None)"
   ]
  },
  {
   "cell_type": "code",
   "execution_count": 456,
   "metadata": {},
   "outputs": [
    {
     "data": {
      "text/plain": [
       "array([0.02, 0.02, 0.02, 0.02, 0.02, 0.02, 0.02, 0.02, 0.02, 0.02, 0.02,\n",
       "       0.02, 0.02, 0.02, 0.02, 0.02, 0.02, 0.02, 0.02, 0.02, 0.02, 0.02,\n",
       "       0.02, 0.02, 0.02, 0.02, 0.02, 0.02, 0.02, 0.02, 0.02, 0.02, 0.02,\n",
       "       0.02, 0.02, 0.02, 0.02, 0.02, 0.02, 0.02, 0.02, 0.02, 0.02, 0.02,\n",
       "       0.02, 0.02, 0.02, 0.02, 0.02, 0.02])"
      ]
     },
     "execution_count": 456,
     "metadata": {},
     "output_type": "execute_result"
    }
   ],
   "source": [
    "point_prob_1"
   ]
  },
  {
   "cell_type": "code",
   "execution_count": 457,
   "metadata": {},
   "outputs": [
    {
     "data": {
      "text/plain": [
       "array([0.03289474, 0.03204033, 0.03121878, 0.03042843, 0.02966772,\n",
       "       0.02893519, 0.02822945, 0.02754922, 0.02689329, 0.0262605 ,\n",
       "       0.02564979, 0.02506014, 0.0244906 , 0.02394025, 0.02340824,\n",
       "       0.02289377, 0.02239608, 0.02191445, 0.02144818, 0.02099664,\n",
       "       0.02055921, 0.02013531, 0.01972438, 0.01932591, 0.01893939,\n",
       "       0.01856436, 0.01820035, 0.01784694, 0.01750373, 0.01717033,\n",
       "       0.01684636, 0.01653148, 0.01622534, 0.01592762, 0.01563803,\n",
       "       0.01535627, 0.01508205, 0.01481511, 0.01455519, 0.01430206,\n",
       "       0.01405547, 0.01381521, 0.01358105, 0.0133528 , 0.01313025,\n",
       "       0.01291322, 0.01270153, 0.012495  , 0.01229347, 0.01209677])"
      ]
     },
     "execution_count": 457,
     "metadata": {},
     "output_type": "execute_result"
    }
   ],
   "source": [
    "point_prob_0"
   ]
  },
  {
   "cell_type": "code",
   "execution_count": 483,
   "metadata": {},
   "outputs": [],
   "source": [
    "E_nj = 10\n",
    "p = 0.20 # Global minority proportion\n",
    "\n",
    "n = J * E_nj\n",
    "n1 = n * p\n",
    "n0 = n* (1 - p)"
   ]
  },
  {
   "cell_type": "code",
   "execution_count": 500,
   "metadata": {},
   "outputs": [],
   "source": [
    "sim1 = np.random.multinomial(n1, point_prob_1, size = 1)\n",
    "sim0 = np.random.multinomial(n0, point_prob_0, size = 1)"
   ]
  },
  {
   "cell_type": "code",
   "execution_count": 501,
   "metadata": {},
   "outputs": [
    {
     "data": {
      "text/plain": [
       "array([[1, 1, 1, 2, 0, 1, 4, 0, 0, 4, 4, 3, 1, 2, 1, 2, 1, 2, 1, 4, 3, 2,\n",
       "        1, 0, 2, 1, 2, 3, 3, 0, 3, 4, 2, 2, 2, 1, 0, 3, 1, 5, 2, 1, 2, 2,\n",
       "        4, 1, 4, 2, 3, 4]])"
      ]
     },
     "execution_count": 501,
     "metadata": {},
     "output_type": "execute_result"
    }
   ],
   "source": [
    "sim1"
   ]
  },
  {
   "cell_type": "code",
   "execution_count": 502,
   "metadata": {},
   "outputs": [
    {
     "data": {
      "text/plain": [
       "array([[13,  8, 12, 15, 12,  9, 13, 13, 11,  7, 16, 10,  9,  3,  7,  8,\n",
       "        11, 10,  8,  5, 11,  6,  6,  8,  7,  6,  7,  3,  8,  6, 10,  1,\n",
       "         9, 10,  5,  6,  7,  6,  8,  8,  7,  6,  4,  8,  7,  8,  4,  7,\n",
       "         5,  6]])"
      ]
     },
     "execution_count": 502,
     "metadata": {},
     "output_type": "execute_result"
    }
   ],
   "source": [
    "sim0"
   ]
  },
  {
   "cell_type": "code",
   "execution_count": 503,
   "metadata": {},
   "outputs": [
    {
     "data": {
      "text/plain": [
       "array([14,  9, 13, 17, 12, 10, 17, 13, 11, 11, 20, 13, 10,  5,  8, 10, 12,\n",
       "       12,  9,  9, 14,  8,  7,  8,  9,  7,  9,  6, 11,  6, 13,  5, 11, 12,\n",
       "        7,  7,  7,  9,  9, 13,  9,  7,  6, 10, 11,  9,  8,  9,  8, 10])"
      ]
     },
     "execution_count": 503,
     "metadata": {},
     "output_type": "execute_result"
    }
   ],
   "source": [
    "sim1[0] + sim0[0]"
   ]
  },
  {
   "cell_type": "code",
   "execution_count": 504,
   "metadata": {},
   "outputs": [],
   "source": [
    "df = pd.DataFrame({'group_pop_var': sim1[0], 'total_pop_var': sim1[0] + sim0[0]})"
   ]
  },
  {
   "cell_type": "code",
   "execution_count": 505,
   "metadata": {},
   "outputs": [],
   "source": [
    "index = Dissim(df, 'group_pop_var', 'total_pop_var')"
   ]
  },
  {
   "cell_type": "code",
   "execution_count": 506,
   "metadata": {},
   "outputs": [
    {
     "data": {
      "text/plain": [
       "0.325"
      ]
     },
     "execution_count": 506,
     "metadata": {},
     "output_type": "execute_result"
    }
   ],
   "source": [
    "index.statistic"
   ]
  },
  {
   "cell_type": "code",
   "execution_count": 507,
   "metadata": {},
   "outputs": [
    {
     "data": {
      "text/plain": [
       "0.19798334620741692"
      ]
     },
     "execution_count": 507,
     "metadata": {},
     "output_type": "execute_result"
    }
   ],
   "source": [
    "index.statistic - D"
   ]
  },
  {
   "cell_type": "code",
   "execution_count": null,
   "metadata": {},
   "outputs": [],
   "source": []
  }
 ],
 "metadata": {
  "kernelspec": {
   "display_name": "Python 3",
   "language": "python",
   "name": "python3"
  },
  "language_info": {
   "codemirror_mode": {
    "name": "ipython",
    "version": 3
   },
   "file_extension": ".py",
   "mimetype": "text/x-python",
   "name": "python",
   "nbconvert_exporter": "python",
   "pygments_lexer": "ipython3",
   "version": "3.6.5"
  }
 },
 "nbformat": 4,
 "nbformat_minor": 2
}
