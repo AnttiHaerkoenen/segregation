{
 "cells": [
  {
   "cell_type": "markdown",
   "metadata": {},
   "source": [
    "# Constructing scenarios according to the guidelines described in Allen (2014)"
   ]
  },
  {
   "cell_type": "code",
   "execution_count": 1,
   "metadata": {},
   "outputs": [],
   "source": [
    "import numpy as np\n",
    "import pandas as pd\n",
    "import os\n",
    "\n",
    "os.chdir('C:\\\\Users\\\\renan\\\\Desktop\\\\inequality')\n",
    "from segregation.dissimilarity import Dissim\n",
    "from segregation.spatial_dissimilarity import Spatial_Dissim\n",
    "from segregation.entropy import Entropy\n",
    "from segregation.perimeter_area_ratio_spatial_dissimilarity import Perimeter_Area_Ratio_Spatial_Dissim\n",
    "from segregation.absolute_centralization import Absolute_Centralization\n",
    "from segregation.absolute_concentration import Absolute_Concentration\n",
    "from segregation.atkinson import Atkinson\n",
    "from segregation.bias_corrected_dissimilarity import Bias_Corrected_Dissim\n",
    "from segregation.boundary_spatial_dissimilarity import Boundary_Spatial_Dissim\n",
    "from segregation.conprof import Con_Prof\n",
    "from segregation.correlationr import Correlation_R\n",
    "from segregation.delta import Delta\n",
    "from segregation.density_corrected_dissimilarity import Density_Corrected_Dissim\n",
    "from segregation.exposure import Exposure\n",
    "from segregation.gini_seg import Gini_Seg\n",
    "from segregation.isolation import Isolation\n",
    "from segregation.modified_dissimilarity import Modified_Dissim\n",
    "from segregation.modified_gini_seg import Modified_Gini_Seg\n",
    "from segregation.relative_centralization import Relative_Centralization\n",
    "from segregation.relative_clustering import Relative_Clustering\n",
    "from segregation.relative_concentration import Relative_Concentration\n",
    "from segregation.spatial_exposure import Spatial_Exposure\n",
    "from segregation.spatial_isolation import Spatial_Isolation\n",
    "from segregation.spatial_prox_profile import Spatial_Prox_Prof\n",
    "from segregation.spatial_proximity import Spatial_Proximity\n",
    "\n",
    "from segregation.infer_segregation import Infer_Segregation"
   ]
  },
  {
   "cell_type": "code",
   "execution_count": 2,
   "metadata": {},
   "outputs": [],
   "source": [
    "J = 50\n",
    "a =  0.6 # 1, 0.8, 0.6, 0.4, 0.2, 0.05  # (1 - D) ** 2 / (1 + D) ** 2\n",
    "q = 1 - a\n",
    "D = (1 - np.sqrt(a))/(1 + np.sqrt(a))"
   ]
  },
  {
   "cell_type": "code",
   "execution_count": 3,
   "metadata": {},
   "outputs": [
    {
     "data": {
      "text/plain": [
       "0.1270166537925831"
      ]
     },
     "execution_count": 3,
     "metadata": {},
     "output_type": "execute_result"
    }
   ],
   "source": [
    "D"
   ]
  },
  {
   "cell_type": "code",
   "execution_count": 4,
   "metadata": {},
   "outputs": [],
   "source": [
    "def relation_formula(cum_c1, q):\n",
    "    cum_c0 = cum_c1 / (1 - q + q * cum_c1)\n",
    "    return cum_c0"
   ]
  },
  {
   "cell_type": "code",
   "execution_count": 5,
   "metadata": {},
   "outputs": [],
   "source": [
    "# Building point estimations\n",
    "init_1 = 1/J\n",
    "\n",
    "cum_1 = np.zeros(J)\n",
    "cum_0 = np.zeros(J)"
   ]
  },
  {
   "cell_type": "code",
   "execution_count": 6,
   "metadata": {},
   "outputs": [],
   "source": [
    "cum_1[0] = init_1\n",
    "cum_0[0] = relation_formula(cum_1[0], q)\n",
    "\n",
    "for i in list(range(1,J)):\n",
    "    cum_1[i] = init_1 * (i+1)\n",
    "    cum_0[i] = relation_formula(cum_1[i], q)"
   ]
  },
  {
   "cell_type": "code",
   "execution_count": 7,
   "metadata": {},
   "outputs": [],
   "source": [
    "point_prob_1 = np.concatenate((cum_1[0], np.diff(cum_1)), axis = None)\n",
    "point_prob_0 = np.concatenate((cum_0[0], np.diff(cum_0)), axis = None)"
   ]
  },
  {
   "cell_type": "code",
   "execution_count": 8,
   "metadata": {},
   "outputs": [
    {
     "data": {
      "text/plain": [
       "array([0.02, 0.02, 0.02, 0.02, 0.02, 0.02, 0.02, 0.02, 0.02, 0.02, 0.02,\n",
       "       0.02, 0.02, 0.02, 0.02, 0.02, 0.02, 0.02, 0.02, 0.02, 0.02, 0.02,\n",
       "       0.02, 0.02, 0.02, 0.02, 0.02, 0.02, 0.02, 0.02, 0.02, 0.02, 0.02,\n",
       "       0.02, 0.02, 0.02, 0.02, 0.02, 0.02, 0.02, 0.02, 0.02, 0.02, 0.02,\n",
       "       0.02, 0.02, 0.02, 0.02, 0.02, 0.02])"
      ]
     },
     "execution_count": 8,
     "metadata": {},
     "output_type": "execute_result"
    }
   ],
   "source": [
    "point_prob_1"
   ]
  },
  {
   "cell_type": "code",
   "execution_count": 9,
   "metadata": {},
   "outputs": [
    {
     "data": {
      "text/plain": [
       "array([0.03289474, 0.03204033, 0.03121878, 0.03042843, 0.02966772,\n",
       "       0.02893519, 0.02822945, 0.02754922, 0.02689329, 0.0262605 ,\n",
       "       0.02564979, 0.02506014, 0.0244906 , 0.02394025, 0.02340824,\n",
       "       0.02289377, 0.02239608, 0.02191445, 0.02144818, 0.02099664,\n",
       "       0.02055921, 0.02013531, 0.01972438, 0.01932591, 0.01893939,\n",
       "       0.01856436, 0.01820035, 0.01784694, 0.01750373, 0.01717033,\n",
       "       0.01684636, 0.01653148, 0.01622534, 0.01592762, 0.01563803,\n",
       "       0.01535627, 0.01508205, 0.01481511, 0.01455519, 0.01430206,\n",
       "       0.01405547, 0.01381521, 0.01358105, 0.0133528 , 0.01313025,\n",
       "       0.01291322, 0.01270153, 0.012495  , 0.01229347, 0.01209677])"
      ]
     },
     "execution_count": 9,
     "metadata": {},
     "output_type": "execute_result"
    }
   ],
   "source": [
    "point_prob_0"
   ]
  },
  {
   "cell_type": "code",
   "execution_count": 10,
   "metadata": {},
   "outputs": [],
   "source": [
    "E_nj = 10\n",
    "p = 0.20 # Global minority proportion\n",
    "\n",
    "n = J * E_nj\n",
    "n1 = n * p\n",
    "n0 = n* (1 - p)"
   ]
  },
  {
   "cell_type": "code",
   "execution_count": 11,
   "metadata": {},
   "outputs": [],
   "source": [
    "sim1 = np.random.multinomial(n1, point_prob_1, size = 1)\n",
    "sim0 = np.random.multinomial(n0, point_prob_0, size = 1)"
   ]
  },
  {
   "cell_type": "code",
   "execution_count": 12,
   "metadata": {},
   "outputs": [
    {
     "data": {
      "text/plain": [
       "array([[0, 1, 0, 2, 3, 2, 4, 2, 1, 3, 3, 1, 0, 1, 3, 2, 2, 0, 1, 1, 1, 5,\n",
       "        4, 2, 1, 4, 2, 2, 0, 1, 2, 2, 2, 2, 1, 1, 4, 3, 2, 2, 4, 3, 4, 1,\n",
       "        2, 4, 2, 2, 1, 2]])"
      ]
     },
     "execution_count": 12,
     "metadata": {},
     "output_type": "execute_result"
    }
   ],
   "source": [
    "sim1"
   ]
  },
  {
   "cell_type": "code",
   "execution_count": 13,
   "metadata": {},
   "outputs": [
    {
     "data": {
      "text/plain": [
       "array([[13, 12, 13, 13, 14, 15,  8, 15,  8, 14, 11, 12,  8,  8, 11,  4,\n",
       "        11,  4,  7,  7,  5, 11,  5,  6,  5,  8,  9,  4, 10,  7,  6,  6,\n",
       "         4,  4,  7,  7,  3,  7, 13,  8,  5,  6,  6,  5,  6,  5,  3,  9,\n",
       "         4,  8]])"
      ]
     },
     "execution_count": 13,
     "metadata": {},
     "output_type": "execute_result"
    }
   ],
   "source": [
    "sim0"
   ]
  },
  {
   "cell_type": "code",
   "execution_count": 14,
   "metadata": {},
   "outputs": [
    {
     "data": {
      "text/plain": [
       "array([13, 13, 13, 15, 17, 17, 12, 17,  9, 17, 14, 13,  8,  9, 14,  6, 13,\n",
       "        4,  8,  8,  6, 16,  9,  8,  6, 12, 11,  6, 10,  8,  8,  8,  6,  6,\n",
       "        8,  8,  7, 10, 15, 10,  9,  9, 10,  6,  8,  9,  5, 11,  5, 10])"
      ]
     },
     "execution_count": 14,
     "metadata": {},
     "output_type": "execute_result"
    }
   ],
   "source": [
    "sim1[0] + sim0[0]"
   ]
  },
  {
   "cell_type": "code",
   "execution_count": 15,
   "metadata": {},
   "outputs": [],
   "source": [
    "df = pd.DataFrame({'group_pop_var': sim1[0], 'total_pop_var': sim1[0] + sim0[0]})"
   ]
  },
  {
   "cell_type": "code",
   "execution_count": 16,
   "metadata": {},
   "outputs": [],
   "source": [
    "index = Dissim(df, 'group_pop_var', 'total_pop_var')"
   ]
  },
  {
   "cell_type": "code",
   "execution_count": 17,
   "metadata": {},
   "outputs": [
    {
     "data": {
      "text/plain": [
       "0.3075"
      ]
     },
     "execution_count": 17,
     "metadata": {},
     "output_type": "execute_result"
    }
   ],
   "source": [
    "index.statistic"
   ]
  },
  {
   "cell_type": "code",
   "execution_count": 18,
   "metadata": {},
   "outputs": [
    {
     "data": {
      "text/plain": [
       "0.1804833462074169"
      ]
     },
     "execution_count": 18,
     "metadata": {},
     "output_type": "execute_result"
    }
   ],
   "source": [
    "index.statistic - D # Bias"
   ]
  },
  {
   "cell_type": "markdown",
   "metadata": {},
   "source": [
    "# Building generic function that builds data frame according to different hyperparameters"
   ]
  },
  {
   "cell_type": "code",
   "execution_count": 153,
   "metadata": {},
   "outputs": [],
   "source": [
    "def create_data_frame(q, J, E_nj, p):\n",
    "    \n",
    "    def relation_formula(cum_c1, q):\n",
    "        cum_c0 = cum_c1 / (1 - q + q * cum_c1)\n",
    "        return cum_c0\n",
    "    \n",
    "    # Building point estimations\n",
    "    init_1 = 1/J\n",
    "\n",
    "    cum_1 = np.zeros(J)\n",
    "    cum_0 = np.zeros(J)\n",
    "    \n",
    "    cum_1[0] = init_1\n",
    "    cum_0[0] = relation_formula(cum_1[0], q)\n",
    "\n",
    "    for i in list(range(1,J)):\n",
    "        cum_1[i] = init_1 * (i+1)\n",
    "        cum_0[i] = relation_formula(cum_1[i], q)\n",
    "    \n",
    "    point_prob_1 = np.concatenate((cum_1[0], np.diff(cum_1)), axis = None)\n",
    "    point_prob_0 = np.concatenate((cum_0[0], np.diff(cum_0)), axis = None)\n",
    "    \n",
    "    n1 = n * p\n",
    "    n0 = n* (1 - p)\n",
    "    \n",
    "    sim1 = np.random.multinomial(n1, point_prob_1, size = 1)\n",
    "    sim0 = np.random.multinomial(n0, point_prob_0, size = 1)\n",
    "    \n",
    "    df = pd.DataFrame({'group_pop_var': sim1[0], 'total_pop_var': sim1[0] + sim0[0]})\n",
    "    \n",
    "    return df"
   ]
  },
  {
   "cell_type": "code",
   "execution_count": 210,
   "metadata": {},
   "outputs": [],
   "source": [
    "# q = 0, 0.2, 0.4, 0.6, 0.8, 0.95"
   ]
  },
  {
   "cell_type": "code",
   "execution_count": 220,
   "metadata": {},
   "outputs": [],
   "source": [
    "q = 0.4"
   ]
  },
  {
   "cell_type": "code",
   "execution_count": 221,
   "metadata": {},
   "outputs": [],
   "source": [
    "df = create_data_frame(q = q, J = 50, E_nj = 10, p = 0.35)"
   ]
  },
  {
   "cell_type": "code",
   "execution_count": 222,
   "metadata": {},
   "outputs": [],
   "source": [
    "a = 1 - q\n",
    "D = (1 - np.sqrt(a))/(1 + np.sqrt(a))"
   ]
  },
  {
   "cell_type": "code",
   "execution_count": 223,
   "metadata": {},
   "outputs": [
    {
     "data": {
      "text/plain": [
       "0.1270166537925831"
      ]
     },
     "execution_count": 223,
     "metadata": {},
     "output_type": "execute_result"
    }
   ],
   "source": [
    "D"
   ]
  },
  {
   "cell_type": "code",
   "execution_count": 224,
   "metadata": {},
   "outputs": [],
   "source": [
    "index_D = Dissim(df, 'group_pop_var', 'total_pop_var')\n",
    "index_BC = Bias_Corrected_Dissim(df, 'group_pop_var', 'total_pop_var', B = 250)\n",
    "index_DC = Density_Corrected_Dissim(df, 'group_pop_var', 'total_pop_var')"
   ]
  },
  {
   "cell_type": "code",
   "execution_count": 225,
   "metadata": {},
   "outputs": [],
   "source": [
    "#index.statistic"
   ]
  },
  {
   "cell_type": "code",
   "execution_count": 226,
   "metadata": {},
   "outputs": [
    {
     "data": {
      "text/plain": [
       "0.12177455499862572"
      ]
     },
     "execution_count": 226,
     "metadata": {},
     "output_type": "execute_result"
    }
   ],
   "source": [
    "index_D.statistic - D"
   ]
  },
  {
   "cell_type": "code",
   "execution_count": 227,
   "metadata": {},
   "outputs": [
    {
     "data": {
      "text/plain": [
       "0.019648840712911397"
      ]
     },
     "execution_count": 227,
     "metadata": {},
     "output_type": "execute_result"
    }
   ],
   "source": [
    "index_BC.statistic - D"
   ]
  },
  {
   "cell_type": "code",
   "execution_count": 228,
   "metadata": {},
   "outputs": [
    {
     "data": {
      "text/plain": [
       "0.0111905803718379"
      ]
     },
     "execution_count": 228,
     "metadata": {},
     "output_type": "execute_result"
    }
   ],
   "source": [
    "index_DC.statistic - D"
   ]
  },
  {
   "cell_type": "code",
   "execution_count": 230,
   "metadata": {},
   "outputs": [],
   "source": [
    "import libpysal\n",
    "import geopandas as gpd\n",
    "s_map = gpd.read_file(libpysal.examples.get_path(\"sacramentot2.shp\"))\n",
    "df = s_map[['geometry', 'HISP_', 'TOT_POP']]\n",
    "index = Density_Corrected_Dissim(df, 'HISP_', 'TOT_POP')"
   ]
  },
  {
   "cell_type": "code",
   "execution_count": 231,
   "metadata": {},
   "outputs": [
    {
     "data": {
      "text/plain": [
       "0.2952051469981647"
      ]
     },
     "execution_count": 231,
     "metadata": {},
     "output_type": "execute_result"
    }
   ],
   "source": [
    "index.statistic"
   ]
  },
  {
   "cell_type": "code",
   "execution_count": null,
   "metadata": {},
   "outputs": [],
   "source": []
  }
 ],
 "metadata": {
  "kernelspec": {
   "display_name": "Python 3",
   "language": "python",
   "name": "python3"
  },
  "language_info": {
   "codemirror_mode": {
    "name": "ipython",
    "version": 3
   },
   "file_extension": ".py",
   "mimetype": "text/x-python",
   "name": "python",
   "nbconvert_exporter": "python",
   "pygments_lexer": "ipython3",
   "version": "3.6.5"
  }
 },
 "nbformat": 4,
 "nbformat_minor": 2
}
